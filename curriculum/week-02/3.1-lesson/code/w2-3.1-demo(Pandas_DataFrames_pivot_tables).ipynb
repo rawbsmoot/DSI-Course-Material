{
 "cells": [
  {
   "cell_type": "code",
   "execution_count": 2,
   "metadata": {
    "collapsed": true
   },
   "outputs": [],
   "source": [
    "import pandas as pd\n",
    "import numpy as np"
   ]
  },
  {
   "cell_type": "code",
<<<<<<< HEAD:curriculum/week-02/3.1-lesson/code/w2-3.1-demo(Pandas_DataFrames_pivot_tables).ipynb
   "execution_count": 8,
=======
   "execution_count": 14,
>>>>>>> fd16d3cc24f4596ee39659f4aaf66e21099dcdc4:curriculum/week-02/3.1-lesson/code/w2-3.1-demo.ipynb
   "metadata": {
    "collapsed": false
   },
   "outputs": [
    {
     "data": {
      "text/html": [
       "<div>\n",
       "<table border=\"1\" class=\"dataframe\">\n",
       "  <thead>\n",
       "    <tr style=\"text-align: right;\">\n",
       "      <th></th>\n",
       "      <th>Account</th>\n",
       "      <th>Name</th>\n",
       "      <th>Rep</th>\n",
       "      <th>Manager</th>\n",
       "      <th>Product</th>\n",
       "      <th>Quantity</th>\n",
       "      <th>Price</th>\n",
       "      <th>Status</th>\n",
       "    </tr>\n",
       "  </thead>\n",
       "  <tbody>\n",
       "    <tr>\n",
       "      <th>0</th>\n",
       "      <td>714466</td>\n",
       "      <td>Trantow-Barrows</td>\n",
       "      <td>Craig Booker</td>\n",
       "      <td>Debra Henley</td>\n",
       "      <td>CPU</td>\n",
       "      <td>1</td>\n",
       "      <td>30000</td>\n",
       "      <td>presented</td>\n",
       "    </tr>\n",
       "    <tr>\n",
       "      <th>1</th>\n",
       "      <td>714466</td>\n",
       "      <td>Trantow-Barrows</td>\n",
       "      <td>Craig Booker</td>\n",
       "      <td>Debra Henley</td>\n",
       "      <td>Software</td>\n",
       "      <td>1</td>\n",
       "      <td>10000</td>\n",
       "      <td>presented</td>\n",
       "    </tr>\n",
       "    <tr>\n",
       "      <th>2</th>\n",
       "      <td>714466</td>\n",
       "      <td>Trantow-Barrows</td>\n",
       "      <td>Craig Booker</td>\n",
       "      <td>Debra Henley</td>\n",
       "      <td>Maintenance</td>\n",
       "      <td>2</td>\n",
       "      <td>5000</td>\n",
       "      <td>pending</td>\n",
       "    </tr>\n",
       "    <tr>\n",
       "      <th>3</th>\n",
       "      <td>737550</td>\n",
       "      <td>Fritsch, Russel and Anderson</td>\n",
       "      <td>Craig Booker</td>\n",
       "      <td>Debra Henley</td>\n",
       "      <td>CPU</td>\n",
       "      <td>1</td>\n",
       "      <td>35000</td>\n",
       "      <td>declined</td>\n",
       "    </tr>\n",
       "    <tr>\n",
       "      <th>4</th>\n",
       "      <td>146832</td>\n",
       "      <td>Kiehn-Spinka</td>\n",
       "      <td>Daniel Hilton</td>\n",
       "      <td>Debra Henley</td>\n",
       "      <td>CPU</td>\n",
       "      <td>2</td>\n",
       "      <td>65000</td>\n",
       "      <td>won</td>\n",
       "    </tr>\n",
       "  </tbody>\n",
       "</table>\n",
       "</div>"
      ],
      "text/plain": [
       "   Account                          Name            Rep       Manager  \\\n",
       "0   714466               Trantow-Barrows   Craig Booker  Debra Henley   \n",
       "1   714466               Trantow-Barrows   Craig Booker  Debra Henley   \n",
       "2   714466               Trantow-Barrows   Craig Booker  Debra Henley   \n",
       "3   737550  Fritsch, Russel and Anderson   Craig Booker  Debra Henley   \n",
       "4   146832                  Kiehn-Spinka  Daniel Hilton  Debra Henley   \n",
       "\n",
       "       Product  Quantity  Price     Status  \n",
       "0          CPU         1  30000  presented  \n",
       "1     Software         1  10000  presented  \n",
       "2  Maintenance         2   5000    pending  \n",
       "3          CPU         1  35000   declined  \n",
       "4          CPU         2  65000        won  "
      ]
     },
     "execution_count": 8,
     "metadata": {},
     "output_type": "execute_result"
    }
   ],
   "source": [
    "# Read in sales.csv as a data frame\n",
    "\n",
    "df = pd.read_csv('/Users/smoot/Desktop/ga/data sets/sales.csv')\n",
    "df.head()"
   ]
  },
  {
   "cell_type": "code",
   "execution_count": 7,
   "metadata": {
    "collapsed": false
   },
   "outputs": [
    {
     "data": {
      "text/html": [
       "<div>\n",
       "<table border=\"1\" class=\"dataframe\">\n",
       "  <thead>\n",
       "    <tr>\n",
       "      <th></th>\n",
       "      <th></th>\n",
       "      <th colspan=\"5\" halign=\"left\">Account</th>\n",
       "      <th colspan=\"5\" halign=\"left\">Quantity</th>\n",
       "      <th colspan=\"5\" halign=\"left\">Price</th>\n",
       "    </tr>\n",
       "    <tr>\n",
       "      <th></th>\n",
       "      <th>Status</th>\n",
       "      <th>declined</th>\n",
       "      <th>pending</th>\n",
       "      <th>presented</th>\n",
       "      <th>won</th>\n",
       "      <th>All</th>\n",
       "      <th>declined</th>\n",
       "      <th>pending</th>\n",
       "      <th>presented</th>\n",
       "      <th>won</th>\n",
       "      <th>All</th>\n",
       "      <th>declined</th>\n",
       "      <th>pending</th>\n",
       "      <th>presented</th>\n",
       "      <th>won</th>\n",
       "      <th>All</th>\n",
       "    </tr>\n",
       "    <tr>\n",
       "      <th>Manager</th>\n",
       "      <th>Rep</th>\n",
       "      <th></th>\n",
       "      <th></th>\n",
       "      <th></th>\n",
       "      <th></th>\n",
       "      <th></th>\n",
       "      <th></th>\n",
       "      <th></th>\n",
       "      <th></th>\n",
       "      <th></th>\n",
       "      <th></th>\n",
       "      <th></th>\n",
       "      <th></th>\n",
       "      <th></th>\n",
       "      <th></th>\n",
       "      <th></th>\n",
       "    </tr>\n",
       "  </thead>\n",
       "  <tbody>\n",
       "    <tr>\n",
       "      <th rowspan=\"3\" valign=\"top\">Debra Henley</th>\n",
       "      <th>Craig Booker</th>\n",
       "      <td>NaN</td>\n",
       "      <td>NaN</td>\n",
       "      <td>0.0</td>\n",
       "      <td>NaN</td>\n",
       "      <td>1.332178e+08</td>\n",
       "      <td>NaN</td>\n",
       "      <td>NaN</td>\n",
       "      <td>0.0</td>\n",
       "      <td>NaN</td>\n",
       "      <td>0.250000</td>\n",
       "      <td>NaN</td>\n",
       "      <td>NaN</td>\n",
       "      <td>200000000.0</td>\n",
       "      <td>NaN</td>\n",
       "      <td>2.166667e+08</td>\n",
       "    </tr>\n",
       "    <tr>\n",
       "      <th>Daniel Hilton</th>\n",
       "      <td>NaN</td>\n",
       "      <td>NaN</td>\n",
       "      <td>NaN</td>\n",
       "      <td>NaN</td>\n",
       "      <td>1.731025e+09</td>\n",
       "      <td>NaN</td>\n",
       "      <td>NaN</td>\n",
       "      <td>NaN</td>\n",
       "      <td>NaN</td>\n",
       "      <td>0.333333</td>\n",
       "      <td>NaN</td>\n",
       "      <td>NaN</td>\n",
       "      <td>NaN</td>\n",
       "      <td>NaN</td>\n",
       "      <td>7.583333e+08</td>\n",
       "    </tr>\n",
       "    <tr>\n",
       "      <th>John Smith</th>\n",
       "      <td>NaN</td>\n",
       "      <td>NaN</td>\n",
       "      <td>NaN</td>\n",
       "      <td>NaN</td>\n",
       "      <td>5.374609e+10</td>\n",
       "      <td>NaN</td>\n",
       "      <td>NaN</td>\n",
       "      <td>NaN</td>\n",
       "      <td>NaN</td>\n",
       "      <td>0.500000</td>\n",
       "      <td>NaN</td>\n",
       "      <td>NaN</td>\n",
       "      <td>NaN</td>\n",
       "      <td>NaN</td>\n",
       "      <td>4.500000e+08</td>\n",
       "    </tr>\n",
       "  </tbody>\n",
       "</table>\n",
       "</div>"
      ],
      "text/plain": [
       "                            Account                                      \\\n",
       "Status                     declined pending presented won           All   \n",
       "Manager      Rep                                                          \n",
       "Debra Henley Craig Booker       NaN     NaN       0.0 NaN  1.332178e+08   \n",
       "             Daniel Hilton      NaN     NaN       NaN NaN  1.731025e+09   \n",
       "             John Smith         NaN     NaN       NaN NaN  5.374609e+10   \n",
       "\n",
       "                           Quantity                                    Price  \\\n",
       "Status                     declined pending presented won       All declined   \n",
       "Manager      Rep                                                               \n",
       "Debra Henley Craig Booker       NaN     NaN       0.0 NaN  0.250000      NaN   \n",
       "             Daniel Hilton      NaN     NaN       NaN NaN  0.333333      NaN   \n",
       "             John Smith         NaN     NaN       NaN NaN  0.500000      NaN   \n",
       "\n",
       "                                                                   \n",
       "Status                     pending    presented won           All  \n",
       "Manager      Rep                                                   \n",
       "Debra Henley Craig Booker      NaN  200000000.0 NaN  2.166667e+08  \n",
       "             Daniel Hilton     NaN          NaN NaN  7.583333e+08  \n",
       "             John Smith        NaN          NaN NaN  4.500000e+08  "
      ]
     },
<<<<<<< HEAD:curriculum/week-02/3.1-lesson/code/w2-3.1-demo(Pandas_DataFrames_pivot_tables).ipynb
     "execution_count": 7,
=======
     "execution_count": 14,
>>>>>>> fd16d3cc24f4596ee39659f4aaf66e21099dcdc4:curriculum/week-02/3.1-lesson/code/w2-3.1-demo.ipynb
     "metadata": {},
     "output_type": "execute_result"
    }
   ],
   "source": [
    "# The simplest pivot table must have a dataframe and an \n",
    "# index . Let’s use the Name as our index.\n",
    "\n",
<<<<<<< HEAD:curriculum/week-02/3.1-lesson/code/w2-3.1-demo(Pandas_DataFrames_pivot_tables).ipynb
    "pd.pivot_table(df,index=[\"Manager\", 'Rep'], columns='Status', margins = True, aggfunc = np.var).head(3)"
=======
    "df = pd.read_csv('sales_right.csv')\n",
    "df_wrong = pd.read_csv('sales.csv')\n",
    "df\n",
    "#print df_wrong"
>>>>>>> fd16d3cc24f4596ee39659f4aaf66e21099dcdc4:curriculum/week-02/3.1-lesson/code/w2-3.1-demo.ipynb
   ]
  },
  {
   "cell_type": "code",
<<<<<<< HEAD:curriculum/week-02/3.1-lesson/code/w2-3.1-demo(Pandas_DataFrames_pivot_tables).ipynb
   "execution_count": 87,
=======
   "execution_count": 10,
>>>>>>> fd16d3cc24f4596ee39659f4aaf66e21099dcdc4:curriculum/week-02/3.1-lesson/code/w2-3.1-demo.ipynb
   "metadata": {
    "collapsed": false
   },
   "outputs": [
    {
     "data": {
      "text/html": [
       "<div>\n",
       "<table border=\"1\" class=\"dataframe\">\n",
       "  <thead>\n",
       "    <tr style=\"text-align: right;\">\n",
       "      <th></th>\n",
       "      <th>Status</th>\n",
       "      <th>declined</th>\n",
       "      <th>pending</th>\n",
       "      <th>presented</th>\n",
       "      <th>won</th>\n",
       "      <th>All</th>\n",
       "    </tr>\n",
       "    <tr>\n",
       "      <th>Manager</th>\n",
       "      <th>Rep</th>\n",
       "      <th></th>\n",
       "      <th></th>\n",
       "      <th></th>\n",
       "      <th></th>\n",
       "      <th></th>\n",
       "    </tr>\n",
       "  </thead>\n",
       "  <tbody>\n",
       "    <tr>\n",
       "      <th rowspan=\"3\" valign=\"top\">Debra Henley</th>\n",
       "      <th>Craig Booker</th>\n",
       "      <td>1.0</td>\n",
       "      <td>2.0</td>\n",
       "      <td>2.0</td>\n",
       "      <td>NaN</td>\n",
       "      <td>5.0</td>\n",
       "    </tr>\n",
       "    <tr>\n",
       "      <th>Daniel Hilton</th>\n",
       "      <td>NaN</td>\n",
       "      <td>2.0</td>\n",
       "      <td>1.0</td>\n",
       "      <td>2.0</td>\n",
       "      <td>5.0</td>\n",
       "    </tr>\n",
       "    <tr>\n",
       "      <th>John Smith</th>\n",
       "      <td>1.0</td>\n",
       "      <td>2.0</td>\n",
       "      <td>NaN</td>\n",
       "      <td>NaN</td>\n",
       "      <td>3.0</td>\n",
       "    </tr>\n",
       "  </tbody>\n",
       "</table>\n",
       "</div>"
      ],
      "text/plain": [
       "Status                      declined  pending  presented  won  All\n",
       "Manager      Rep                                                  \n",
       "Debra Henley Craig Booker        1.0      2.0        2.0  NaN  5.0\n",
       "             Daniel Hilton       NaN      2.0        1.0  2.0  5.0\n",
       "             John Smith          1.0      2.0        NaN  NaN  3.0"
      ]
     },
<<<<<<< HEAD:curriculum/week-02/3.1-lesson/code/w2-3.1-demo(Pandas_DataFrames_pivot_tables).ipynb
     "execution_count": 87,
=======
     "execution_count": 10,
>>>>>>> fd16d3cc24f4596ee39659f4aaf66e21099dcdc4:curriculum/week-02/3.1-lesson/code/w2-3.1-demo.ipynb
     "metadata": {},
     "output_type": "execute_result"
    }
   ],
   "source": [
<<<<<<< HEAD:curriculum/week-02/3.1-lesson/code/w2-3.1-demo(Pandas_DataFrames_pivot_tables).ipynb
    "pd.pivot_table(df,index=[\"Manager\", 'Rep'], values = 'Quantity', columns='Status', aggfunc = np.sum,  margins = True).head(3)"
=======
    "# The simplest pivot table must have a dataframe and an \n",
    "# index . Let’s use the Name as our index.\n",
    "\n",
    "pd.pivot_table(df,index=[\"Name\"])\n",
    "#pd.pivot_table(df_wrong,index=[\"City\"])"
>>>>>>> fd16d3cc24f4596ee39659f4aaf66e21099dcdc4:curriculum/week-02/3.1-lesson/code/w2-3.1-demo.ipynb
   ]
  },
  {
   "cell_type": "code",
<<<<<<< HEAD:curriculum/week-02/3.1-lesson/code/w2-3.1-demo(Pandas_DataFrames_pivot_tables).ipynb
   "execution_count": 88,
   "metadata": {
    "collapsed": false
   },
   "outputs": [
    {
     "data": {
      "text/html": [
       "<div>\n",
       "<table border=\"1\" class=\"dataframe\">\n",
       "  <thead>\n",
       "    <tr style=\"text-align: right;\">\n",
       "      <th></th>\n",
       "      <th></th>\n",
       "      <th>Account</th>\n",
       "      <th>Price</th>\n",
       "      <th>Quantity</th>\n",
       "    </tr>\n",
       "    <tr>\n",
       "      <th>Manager</th>\n",
       "      <th>Rep</th>\n",
       "      <th></th>\n",
       "      <th></th>\n",
       "      <th></th>\n",
       "    </tr>\n",
       "  </thead>\n",
       "  <tbody>\n",
       "    <tr>\n",
       "      <th rowspan=\"3\" valign=\"top\">Debra Henley</th>\n",
       "      <th>Craig Booker</th>\n",
       "      <td>720237.0</td>\n",
       "      <td>20000.000000</td>\n",
       "      <td>1.250000</td>\n",
       "    </tr>\n",
       "    <tr>\n",
       "      <th>Daniel Hilton</th>\n",
       "      <td>194874.0</td>\n",
       "      <td>38333.333333</td>\n",
       "      <td>1.666667</td>\n",
       "    </tr>\n",
       "    <tr>\n",
       "      <th>John Smith</th>\n",
       "      <td>576220.0</td>\n",
       "      <td>20000.000000</td>\n",
       "      <td>1.500000</td>\n",
       "    </tr>\n",
       "    <tr>\n",
       "      <th rowspan=\"2\" valign=\"top\">Fred Anderson</th>\n",
       "      <th>Cedric Moss</th>\n",
       "      <td>196016.5</td>\n",
       "      <td>27500.000000</td>\n",
       "      <td>1.250000</td>\n",
       "    </tr>\n",
       "    <tr>\n",
       "      <th>Wendy Yule</th>\n",
       "      <td>614061.5</td>\n",
       "      <td>44250.000000</td>\n",
       "      <td>3.000000</td>\n",
       "    </tr>\n",
       "  </tbody>\n",
       "</table>\n",
       "</div>"
      ],
      "text/plain": [
       "                              Account         Price  Quantity\n",
       "Manager       Rep                                            \n",
       "Debra Henley  Craig Booker   720237.0  20000.000000  1.250000\n",
       "              Daniel Hilton  194874.0  38333.333333  1.666667\n",
       "              John Smith     576220.0  20000.000000  1.500000\n",
       "Fred Anderson Cedric Moss    196016.5  27500.000000  1.250000\n",
       "              Wendy Yule     614061.5  44250.000000  3.000000"
      ]
     },
     "execution_count": 88,
     "metadata": {},
     "output_type": "execute_result"
    }
   ],
=======
   "execution_count": 15,
   "metadata": {
    "collapsed": false
   },
   "outputs": [],
>>>>>>> fd16d3cc24f4596ee39659f4aaf66e21099dcdc4:curriculum/week-02/3.1-lesson/code/w2-3.1-demo.ipynb
   "source": [
    "# How about indexing on multiple values. Let's look at the \n",
    "# data by Manager and Rep next. \n",
    "\n",
    "tmp = pd.pivot_table(df,index=[\"Rep\", \"Manager\"])\n",
    "#pd.pivot_table(df,index=\"Manager\")"
   ]
  },
  {
   "cell_type": "code",
<<<<<<< HEAD:curriculum/week-02/3.1-lesson/code/w2-3.1-demo(Pandas_DataFrames_pivot_tables).ipynb
   "execution_count": 95,
=======
   "execution_count": 17,
   "metadata": {
    "collapsed": false
   },
   "outputs": [],
   "source": [
    "#tmp"
   ]
  },
  {
   "cell_type": "code",
   "execution_count": 25,
>>>>>>> fd16d3cc24f4596ee39659f4aaf66e21099dcdc4:curriculum/week-02/3.1-lesson/code/w2-3.1-demo.ipynb
   "metadata": {
    "collapsed": false
   },
   "outputs": [
    {
     "data": {
      "text/html": [
       "<div>\n",
       "<table border=\"1\" class=\"dataframe\">\n",
       "  <thead>\n",
       "    <tr style=\"text-align: right;\">\n",
       "      <th></th>\n",
       "      <th></th>\n",
       "      <th>Account</th>\n",
       "      <th>Price</th>\n",
       "    </tr>\n",
       "    <tr>\n",
       "      <th>Manager</th>\n",
       "      <th>Rep</th>\n",
       "      <th></th>\n",
       "      <th></th>\n",
       "    </tr>\n",
       "  </thead>\n",
       "  <tbody>\n",
       "    <tr>\n",
       "      <th rowspan=\"3\" valign=\"top\">Debra Henley</th>\n",
       "      <th>Craig Booker</th>\n",
<<<<<<< HEAD:curriculum/week-02/3.1-lesson/code/w2-3.1-demo(Pandas_DataFrames_pivot_tables).ipynb
       "      <td>216666666</td>\n",
       "    </tr>\n",
       "    <tr>\n",
       "      <th>Daniel Hilton</th>\n",
       "      <td>758333333</td>\n",
       "    </tr>\n",
       "    <tr>\n",
       "      <th>John Smith</th>\n",
       "      <td>450000000</td>\n",
=======
       "      <td>720237</td>\n",
       "      <td>20000</td>\n",
       "    </tr>\n",
       "    <tr>\n",
       "      <th>Daniel Hilton</th>\n",
       "      <td>194874</td>\n",
       "      <td>38333</td>\n",
       "    </tr>\n",
       "    <tr>\n",
       "      <th>John Smith</th>\n",
       "      <td>576220</td>\n",
       "      <td>20000</td>\n",
>>>>>>> fd16d3cc24f4596ee39659f4aaf66e21099dcdc4:curriculum/week-02/3.1-lesson/code/w2-3.1-demo.ipynb
       "    </tr>\n",
       "    <tr>\n",
       "      <th rowspan=\"2\" valign=\"top\">Fred Anderson</th>\n",
       "      <th>Cedric Moss</th>\n",
<<<<<<< HEAD:curriculum/week-02/3.1-lesson/code/w2-3.1-demo(Pandas_DataFrames_pivot_tables).ipynb
       "      <td>741666666</td>\n",
       "    </tr>\n",
       "    <tr>\n",
       "      <th>Wendy Yule</th>\n",
       "      <td>2155583333</td>\n",
=======
       "      <td>196016</td>\n",
       "      <td>27500</td>\n",
       "    </tr>\n",
       "    <tr>\n",
       "      <th>Wendy Yule</th>\n",
       "      <td>614061</td>\n",
       "      <td>44250</td>\n",
>>>>>>> fd16d3cc24f4596ee39659f4aaf66e21099dcdc4:curriculum/week-02/3.1-lesson/code/w2-3.1-demo.ipynb
       "    </tr>\n",
       "  </tbody>\n",
       "</table>\n",
       "</div>"
      ],
      "text/plain": [
<<<<<<< HEAD:curriculum/week-02/3.1-lesson/code/w2-3.1-demo(Pandas_DataFrames_pivot_tables).ipynb
       "                                  Price\n",
       "Manager       Rep                      \n",
       "Debra Henley  Craig Booker    216666666\n",
       "              Daniel Hilton   758333333\n",
       "              John Smith      450000000\n",
       "Fred Anderson Cedric Moss     741666666\n",
       "              Wendy Yule     2155583333"
      ]
     },
     "execution_count": 95,
=======
       "                             Account  Price\n",
       "Manager       Rep                          \n",
       "Debra Henley  Craig Booker    720237  20000\n",
       "              Daniel Hilton   194874  38333\n",
       "              John Smith      576220  20000\n",
       "Fred Anderson Cedric Moss     196016  27500\n",
       "              Wendy Yule      614061  44250"
      ]
     },
     "execution_count": 25,
>>>>>>> fd16d3cc24f4596ee39659f4aaf66e21099dcdc4:curriculum/week-02/3.1-lesson/code/w2-3.1-demo.ipynb
     "metadata": {},
     "output_type": "execute_result"
    }
   ],
   "source": [
    "# What we really want to take a look at next is Price. So, \n",
    "# the Account and Quantity columns aren’t useful. Let’s \n",
    "# remove them and explicitly define the 'Price' column by \n",
    "# using the values field.\n",
    "\n",
<<<<<<< HEAD:curriculum/week-02/3.1-lesson/code/w2-3.1-demo(Pandas_DataFrames_pivot_tables).ipynb
    "pd.pivot_table(df,index=[\"Manager\",\"Rep\"],values=[\"Price\"], aggfunc=np.var)"
=======
    "pd.pivot_table(df,index=[\"Manager\",\"Rep\"], values=[\"Price\", \"Account\"])"
>>>>>>> fd16d3cc24f4596ee39659f4aaf66e21099dcdc4:curriculum/week-02/3.1-lesson/code/w2-3.1-demo.ipynb
   ]
  },
  {
   "cell_type": "code",
<<<<<<< HEAD:curriculum/week-02/3.1-lesson/code/w2-3.1-demo(Pandas_DataFrames_pivot_tables).ipynb
   "execution_count": 54,
=======
   "execution_count": 28,
>>>>>>> fd16d3cc24f4596ee39659f4aaf66e21099dcdc4:curriculum/week-02/3.1-lesson/code/w2-3.1-demo.ipynb
   "metadata": {
    "collapsed": false
   },
   "outputs": [
    {
     "data": {
      "text/html": [
       "<div>\n",
       "<table border=\"1\" class=\"dataframe\">\n",
       "  <thead>\n",
       "    <tr style=\"text-align: right;\">\n",
       "      <th></th>\n",
       "      <th></th>\n",
       "      <th>Price</th>\n",
       "    </tr>\n",
       "    <tr>\n",
       "      <th>Manager</th>\n",
       "      <th>Rep</th>\n",
       "      <th></th>\n",
       "    </tr>\n",
       "  </thead>\n",
       "  <tbody>\n",
       "    <tr>\n",
       "      <th rowspan=\"3\" valign=\"top\">Debra Henley</th>\n",
       "      <th>Craig Booker</th>\n",
       "      <td>80000</td>\n",
       "    </tr>\n",
       "    <tr>\n",
       "      <th>Daniel Hilton</th>\n",
       "      <td>115000</td>\n",
       "    </tr>\n",
       "    <tr>\n",
       "      <th>John Smith</th>\n",
       "      <td>40000</td>\n",
       "    </tr>\n",
       "    <tr>\n",
       "      <th rowspan=\"2\" valign=\"top\">Fred Anderson</th>\n",
       "      <th>Cedric Moss</th>\n",
       "      <td>110000</td>\n",
       "    </tr>\n",
       "    <tr>\n",
       "      <th>Wendy Yule</th>\n",
       "      <td>177000</td>\n",
       "    </tr>\n",
       "  </tbody>\n",
       "</table>\n",
       "</div>"
      ],
      "text/plain": [
       "                              Price\n",
       "Manager       Rep                  \n",
       "Debra Henley  Craig Booker    80000\n",
       "              Daniel Hilton  115000\n",
       "              John Smith      40000\n",
       "Fred Anderson Cedric Moss    110000\n",
       "              Wendy Yule     177000"
      ]
     },
<<<<<<< HEAD:curriculum/week-02/3.1-lesson/code/w2-3.1-demo(Pandas_DataFrames_pivot_tables).ipynb
     "execution_count": 54,
=======
     "execution_count": 28,
>>>>>>> fd16d3cc24f4596ee39659f4aaf66e21099dcdc4:curriculum/week-02/3.1-lesson/code/w2-3.1-demo.ipynb
     "metadata": {},
     "output_type": "execute_result"
    }
   ],
   "source": [
    "# The 'Price' column automatically averages the data.  \n",
    "# We can do a count or a sum by using aggfunc and np.sum.\n",
    "\n",
    "pd.pivot_table(df,index=[\"Manager\",\"Rep\"],values=[\"Price\"],aggfunc=np.sum)"
   ]
  },
  {
   "cell_type": "code",
<<<<<<< HEAD:curriculum/week-02/3.1-lesson/code/w2-3.1-demo(Pandas_DataFrames_pivot_tables).ipynb
   "execution_count": 55,
=======
   "execution_count": 35,
   "metadata": {
    "collapsed": false
   },
   "outputs": [
    {
     "data": {
      "text/plain": [
       "2"
      ]
     },
     "execution_count": 35,
     "metadata": {},
     "output_type": "execute_result"
    }
   ],
   "source": [
    "len(['apple', 'orange'])"
   ]
  },
  {
   "cell_type": "code",
   "execution_count": 36,
>>>>>>> fd16d3cc24f4596ee39659f4aaf66e21099dcdc4:curriculum/week-02/3.1-lesson/code/w2-3.1-demo.ipynb
   "metadata": {
    "collapsed": false
   },
   "outputs": [
    {
     "data": {
      "text/html": [
       "<div>\n",
       "<table border=\"1\" class=\"dataframe\">\n",
       "  <thead>\n",
       "    <tr>\n",
       "      <th></th>\n",
       "      <th></th>\n",
       "      <th colspan=\"4\" halign=\"left\">sum</th>\n",
       "    </tr>\n",
       "    <tr>\n",
       "      <th></th>\n",
       "      <th></th>\n",
       "      <th colspan=\"4\" halign=\"left\">Price</th>\n",
       "    </tr>\n",
       "    <tr>\n",
       "      <th></th>\n",
       "      <th>Product</th>\n",
       "      <th>CPU</th>\n",
       "      <th>Maintenance</th>\n",
       "      <th>Monitor</th>\n",
       "      <th>Software</th>\n",
       "    </tr>\n",
       "    <tr>\n",
       "      <th>Manager</th>\n",
       "      <th>Rep</th>\n",
       "      <th></th>\n",
       "      <th></th>\n",
       "      <th></th>\n",
       "      <th></th>\n",
       "    </tr>\n",
       "  </thead>\n",
       "  <tbody>\n",
       "    <tr>\n",
       "      <th rowspan=\"3\" valign=\"top\">Debra Henley</th>\n",
       "      <th>Craig Booker</th>\n",
       "      <td>65000.0</td>\n",
       "      <td>5000.0</td>\n",
       "      <td>NaN</td>\n",
       "      <td>10000.0</td>\n",
       "    </tr>\n",
       "    <tr>\n",
       "      <th>Daniel Hilton</th>\n",
       "      <td>105000.0</td>\n",
       "      <td>NaN</td>\n",
       "      <td>NaN</td>\n",
       "      <td>10000.0</td>\n",
       "    </tr>\n",
       "    <tr>\n",
       "      <th>John Smith</th>\n",
       "      <td>35000.0</td>\n",
       "      <td>5000.0</td>\n",
       "      <td>NaN</td>\n",
       "      <td>NaN</td>\n",
       "    </tr>\n",
       "    <tr>\n",
       "      <th rowspan=\"2\" valign=\"top\">Fred Anderson</th>\n",
       "      <th>Cedric Moss</th>\n",
       "      <td>95000.0</td>\n",
       "      <td>5000.0</td>\n",
       "      <td>NaN</td>\n",
       "      <td>10000.0</td>\n",
       "    </tr>\n",
       "    <tr>\n",
       "      <th>Wendy Yule</th>\n",
       "      <td>165000.0</td>\n",
       "      <td>7000.0</td>\n",
       "      <td>5000.0</td>\n",
       "      <td>NaN</td>\n",
       "    </tr>\n",
       "  </tbody>\n",
       "</table>\n",
       "</div>"
      ],
      "text/plain": [
       "                                  sum                             \n",
       "                                Price                             \n",
       "Product                           CPU Maintenance Monitor Software\n",
       "Manager       Rep                                                 \n",
       "Debra Henley  Craig Booker    65000.0      5000.0     NaN  10000.0\n",
       "              Daniel Hilton  105000.0         NaN     NaN  10000.0\n",
       "              John Smith      35000.0      5000.0     NaN      NaN\n",
       "Fred Anderson Cedric Moss     95000.0      5000.0     NaN  10000.0\n",
       "              Wendy Yule     165000.0      7000.0  5000.0      NaN"
      ]
     },
<<<<<<< HEAD:curriculum/week-02/3.1-lesson/code/w2-3.1-demo(Pandas_DataFrames_pivot_tables).ipynb
     "execution_count": 55,
=======
     "execution_count": 36,
>>>>>>> fd16d3cc24f4596ee39659f4aaf66e21099dcdc4:curriculum/week-02/3.1-lesson/code/w2-3.1-demo.ipynb
     "metadata": {},
     "output_type": "execute_result"
    }
   ],
   "source": [
    "# Columns are optional. They are an additional way to segment the \n",
    "# values you care about. But remember, the aggregation functions \n",
    "# are applied to the values you list.\n",
    "\n",
    "\n",
    "pd.pivot_table(df,index=[\"Manager\",\"Rep\"],values=[\"Price\"],\n",
    "               columns=[\"Product\"],aggfunc=[np.sum])"
   ]
  },
  {
   "cell_type": "code",
<<<<<<< HEAD:curriculum/week-02/3.1-lesson/code/w2-3.1-demo(Pandas_DataFrames_pivot_tables).ipynb
   "execution_count": 56,
=======
   "execution_count": 41,
>>>>>>> fd16d3cc24f4596ee39659f4aaf66e21099dcdc4:curriculum/week-02/3.1-lesson/code/w2-3.1-demo.ipynb
   "metadata": {
    "collapsed": false
   },
   "outputs": [
    {
     "data": {
      "text/html": [
       "<div>\n",
       "<table border=\"1\" class=\"dataframe\">\n",
       "  <thead>\n",
       "    <tr>\n",
       "      <th></th>\n",
       "      <th></th>\n",
       "      <th colspan=\"10\" halign=\"left\">sum</th>\n",
       "    </tr>\n",
       "    <tr>\n",
       "      <th></th>\n",
       "      <th></th>\n",
       "      <th colspan=\"5\" halign=\"left\">Price</th>\n",
       "      <th colspan=\"5\" halign=\"left\">Quantity</th>\n",
       "    </tr>\n",
       "    <tr>\n",
       "      <th></th>\n",
       "      <th>Product</th>\n",
       "      <th>CPU</th>\n",
       "      <th>Maintenance</th>\n",
       "      <th>Monitor</th>\n",
       "      <th>Software</th>\n",
       "      <th>All</th>\n",
       "      <th>CPU</th>\n",
       "      <th>Maintenance</th>\n",
       "      <th>Monitor</th>\n",
       "      <th>Software</th>\n",
       "      <th>All</th>\n",
       "    </tr>\n",
       "    <tr>\n",
       "      <th>Manager</th>\n",
       "      <th>Rep</th>\n",
       "      <th></th>\n",
       "      <th></th>\n",
       "      <th></th>\n",
       "      <th></th>\n",
       "      <th></th>\n",
       "      <th></th>\n",
       "      <th></th>\n",
       "      <th></th>\n",
       "      <th></th>\n",
       "      <th></th>\n",
       "    </tr>\n",
       "  </thead>\n",
       "  <tbody>\n",
       "    <tr>\n",
       "      <th rowspan=\"3\" valign=\"top\">Debra Henley</th>\n",
       "      <th>Craig Booker</th>\n",
       "      <td>65000.0</td>\n",
       "      <td>5000.0</td>\n",
       "      <td>NaN</td>\n",
<<<<<<< HEAD:curriculum/week-02/3.1-lesson/code/w2-3.1-demo(Pandas_DataFrames_pivot_tables).ipynb
       "      <td>10000.0</td>\n",
       "      <td>2.0</td>\n",
       "      <td>2.0</td>\n",
       "      <td>NaN</td>\n",
       "      <td>1.0</td>\n",
=======
       "      <td>10000</td>\n",
       "      <td>80000</td>\n",
       "      <td>2</td>\n",
       "      <td>2</td>\n",
       "      <td>NaN</td>\n",
       "      <td>1</td>\n",
       "      <td>5</td>\n",
>>>>>>> fd16d3cc24f4596ee39659f4aaf66e21099dcdc4:curriculum/week-02/3.1-lesson/code/w2-3.1-demo.ipynb
       "    </tr>\n",
       "    <tr>\n",
       "      <th>Daniel Hilton</th>\n",
       "      <td>105000.0</td>\n",
       "      <td>NaN</td>\n",
       "      <td>NaN</td>\n",
<<<<<<< HEAD:curriculum/week-02/3.1-lesson/code/w2-3.1-demo(Pandas_DataFrames_pivot_tables).ipynb
       "      <td>10000.0</td>\n",
       "      <td>4.0</td>\n",
       "      <td>NaN</td>\n",
       "      <td>NaN</td>\n",
       "      <td>1.0</td>\n",
=======
       "      <td>10000</td>\n",
       "      <td>115000</td>\n",
       "      <td>4</td>\n",
       "      <td>NaN</td>\n",
       "      <td>NaN</td>\n",
       "      <td>1</td>\n",
       "      <td>5</td>\n",
>>>>>>> fd16d3cc24f4596ee39659f4aaf66e21099dcdc4:curriculum/week-02/3.1-lesson/code/w2-3.1-demo.ipynb
       "    </tr>\n",
       "    <tr>\n",
       "      <th>John Smith</th>\n",
       "      <td>35000.0</td>\n",
       "      <td>5000.0</td>\n",
       "      <td>NaN</td>\n",
       "      <td>NaN</td>\n",
<<<<<<< HEAD:curriculum/week-02/3.1-lesson/code/w2-3.1-demo(Pandas_DataFrames_pivot_tables).ipynb
       "      <td>1.0</td>\n",
       "      <td>2.0</td>\n",
=======
       "      <td>40000</td>\n",
       "      <td>1</td>\n",
       "      <td>2</td>\n",
>>>>>>> fd16d3cc24f4596ee39659f4aaf66e21099dcdc4:curriculum/week-02/3.1-lesson/code/w2-3.1-demo.ipynb
       "      <td>NaN</td>\n",
       "      <td>NaN</td>\n",
       "      <td>3</td>\n",
       "    </tr>\n",
       "    <tr>\n",
       "      <th rowspan=\"2\" valign=\"top\">Fred Anderson</th>\n",
       "      <th>Cedric Moss</th>\n",
       "      <td>95000.0</td>\n",
       "      <td>5000.0</td>\n",
       "      <td>NaN</td>\n",
<<<<<<< HEAD:curriculum/week-02/3.1-lesson/code/w2-3.1-demo(Pandas_DataFrames_pivot_tables).ipynb
       "      <td>10000.0</td>\n",
       "      <td>3.0</td>\n",
       "      <td>1.0</td>\n",
       "      <td>NaN</td>\n",
       "      <td>1.0</td>\n",
=======
       "      <td>10000</td>\n",
       "      <td>110000</td>\n",
       "      <td>3</td>\n",
       "      <td>1</td>\n",
       "      <td>NaN</td>\n",
       "      <td>1</td>\n",
       "      <td>5</td>\n",
>>>>>>> fd16d3cc24f4596ee39659f4aaf66e21099dcdc4:curriculum/week-02/3.1-lesson/code/w2-3.1-demo.ipynb
       "    </tr>\n",
       "    <tr>\n",
       "      <th>Wendy Yule</th>\n",
       "      <td>165000.0</td>\n",
       "      <td>7000.0</td>\n",
       "      <td>5000.0</td>\n",
       "      <td>NaN</td>\n",
<<<<<<< HEAD:curriculum/week-02/3.1-lesson/code/w2-3.1-demo(Pandas_DataFrames_pivot_tables).ipynb
       "      <td>7.0</td>\n",
       "      <td>3.0</td>\n",
       "      <td>2.0</td>\n",
=======
       "      <td>177000</td>\n",
       "      <td>7</td>\n",
       "      <td>3</td>\n",
       "      <td>2</td>\n",
>>>>>>> fd16d3cc24f4596ee39659f4aaf66e21099dcdc4:curriculum/week-02/3.1-lesson/code/w2-3.1-demo.ipynb
       "      <td>NaN</td>\n",
       "      <td>12</td>\n",
       "    </tr>\n",
       "    <tr>\n",
       "      <th>All</th>\n",
       "      <th></th>\n",
       "      <td>465000</td>\n",
       "      <td>22000</td>\n",
       "      <td>5000</td>\n",
       "      <td>30000</td>\n",
       "      <td>522000</td>\n",
       "      <td>17</td>\n",
       "      <td>8</td>\n",
       "      <td>2</td>\n",
       "      <td>3</td>\n",
       "      <td>30</td>\n",
       "    </tr>\n",
       "  </tbody>\n",
       "</table>\n",
       "</div>"
      ],
      "text/plain": [
<<<<<<< HEAD:curriculum/week-02/3.1-lesson/code/w2-3.1-demo(Pandas_DataFrames_pivot_tables).ipynb
       "                                  sum                                        \\\n",
       "                                Price                              Quantity   \n",
       "Product                           CPU Maintenance Monitor Software      CPU   \n",
       "Manager       Rep                                                             \n",
       "Debra Henley  Craig Booker    65000.0      5000.0     NaN  10000.0      2.0   \n",
       "              Daniel Hilton  105000.0         NaN     NaN  10000.0      4.0   \n",
       "              John Smith      35000.0      5000.0     NaN      NaN      1.0   \n",
       "Fred Anderson Cedric Moss     95000.0      5000.0     NaN  10000.0      3.0   \n",
       "              Wendy Yule     165000.0      7000.0  5000.0      NaN      7.0   \n",
       "\n",
       "                                                          \n",
       "                                                          \n",
       "Product                     Maintenance Monitor Software  \n",
       "Manager       Rep                                         \n",
       "Debra Henley  Craig Booker          2.0     NaN      1.0  \n",
       "              Daniel Hilton         NaN     NaN      1.0  \n",
       "              John Smith            2.0     NaN      NaN  \n",
       "Fred Anderson Cedric Moss           1.0     NaN      1.0  \n",
       "              Wendy Yule            3.0     2.0      NaN  "
      ]
     },
     "execution_count": 56,
=======
       "                                sum                                       \\\n",
       "                              Price                                        \n",
       "Product                         CPU Maintenance Monitor Software     All   \n",
       "Manager       Rep                                                          \n",
       "Debra Henley  Craig Booker    65000        5000     NaN    10000   80000   \n",
       "              Daniel Hilton  105000         NaN     NaN    10000  115000   \n",
       "              John Smith      35000        5000     NaN      NaN   40000   \n",
       "Fred Anderson Cedric Moss     95000        5000     NaN    10000  110000   \n",
       "              Wendy Yule     165000        7000    5000      NaN  177000   \n",
       "All                          465000       22000    5000    30000  522000   \n",
       "\n",
       "                                                                       \n",
       "                            Quantity                                   \n",
       "Product                          CPU Maintenance Monitor Software All  \n",
       "Manager       Rep                                                      \n",
       "Debra Henley  Craig Booker         2           2     NaN        1   5  \n",
       "              Daniel Hilton        4         NaN     NaN        1   5  \n",
       "              John Smith           1           2     NaN      NaN   3  \n",
       "Fred Anderson Cedric Moss          3           1     NaN        1   5  \n",
       "              Wendy Yule           7           3       2      NaN  12  \n",
       "All                               17           8       2        3  30  "
      ]
     },
     "execution_count": 41,
>>>>>>> fd16d3cc24f4596ee39659f4aaf66e21099dcdc4:curriculum/week-02/3.1-lesson/code/w2-3.1-demo.ipynb
     "metadata": {},
     "output_type": "execute_result"
    }
   ],
   "source": [
    "# Quantity might be useful, let's add it to the values list. \n",
    "\n",
    "pd.pivot_table(df,index=[\"Manager\",\"Rep\"],values=[\"Price\",\"Quantity\"],\n",
    "               columns=[\"Product\"],aggfunc=[np.sum], margins=True)"
   ]
  },
  {
   "cell_type": "code",
<<<<<<< HEAD:curriculum/week-02/3.1-lesson/code/w2-3.1-demo(Pandas_DataFrames_pivot_tables).ipynb
   "execution_count": 57,
=======
   "execution_count": 37,
>>>>>>> fd16d3cc24f4596ee39659f4aaf66e21099dcdc4:curriculum/week-02/3.1-lesson/code/w2-3.1-demo.ipynb
   "metadata": {
    "collapsed": false
   },
   "outputs": [
    {
     "data": {
      "text/html": [
       "<div>\n",
       "<table border=\"1\" class=\"dataframe\">\n",
       "  <thead>\n",
       "    <tr>\n",
       "      <th></th>\n",
       "      <th></th>\n",
       "      <th></th>\n",
       "      <th colspan=\"2\" halign=\"left\">sum</th>\n",
       "    </tr>\n",
       "    <tr>\n",
       "      <th></th>\n",
       "      <th></th>\n",
       "      <th></th>\n",
       "      <th>Price</th>\n",
       "      <th>Quantity</th>\n",
       "    </tr>\n",
       "    <tr>\n",
       "      <th>Manager</th>\n",
       "      <th>Rep</th>\n",
       "      <th>Product</th>\n",
       "      <th></th>\n",
       "      <th></th>\n",
       "    </tr>\n",
       "  </thead>\n",
       "  <tbody>\n",
       "    <tr>\n",
       "      <th rowspan=\"7\" valign=\"top\">Debra Henley</th>\n",
       "      <th rowspan=\"3\" valign=\"top\">Craig Booker</th>\n",
       "      <th>CPU</th>\n",
       "      <td>65000</td>\n",
       "      <td>2</td>\n",
       "    </tr>\n",
       "    <tr>\n",
       "      <th>Maintenance</th>\n",
       "      <td>5000</td>\n",
       "      <td>2</td>\n",
       "    </tr>\n",
       "    <tr>\n",
       "      <th>Software</th>\n",
       "      <td>10000</td>\n",
       "      <td>1</td>\n",
       "    </tr>\n",
       "    <tr>\n",
       "      <th rowspan=\"2\" valign=\"top\">Daniel Hilton</th>\n",
       "      <th>CPU</th>\n",
       "      <td>105000</td>\n",
       "      <td>4</td>\n",
       "    </tr>\n",
       "    <tr>\n",
       "      <th>Software</th>\n",
       "      <td>10000</td>\n",
       "      <td>1</td>\n",
       "    </tr>\n",
       "    <tr>\n",
       "      <th rowspan=\"2\" valign=\"top\">John Smith</th>\n",
       "      <th>CPU</th>\n",
       "      <td>35000</td>\n",
       "      <td>1</td>\n",
       "    </tr>\n",
       "    <tr>\n",
       "      <th>Maintenance</th>\n",
       "      <td>5000</td>\n",
       "      <td>2</td>\n",
       "    </tr>\n",
       "    <tr>\n",
       "      <th rowspan=\"6\" valign=\"top\">Fred Anderson</th>\n",
       "      <th rowspan=\"3\" valign=\"top\">Cedric Moss</th>\n",
       "      <th>CPU</th>\n",
       "      <td>95000</td>\n",
       "      <td>3</td>\n",
       "    </tr>\n",
       "    <tr>\n",
       "      <th>Maintenance</th>\n",
       "      <td>5000</td>\n",
       "      <td>1</td>\n",
       "    </tr>\n",
       "    <tr>\n",
       "      <th>Software</th>\n",
       "      <td>10000</td>\n",
       "      <td>1</td>\n",
       "    </tr>\n",
       "    <tr>\n",
       "      <th rowspan=\"3\" valign=\"top\">Wendy Yule</th>\n",
       "      <th>CPU</th>\n",
       "      <td>165000</td>\n",
       "      <td>7</td>\n",
       "    </tr>\n",
       "    <tr>\n",
       "      <th>Maintenance</th>\n",
       "      <td>7000</td>\n",
       "      <td>3</td>\n",
       "    </tr>\n",
       "    <tr>\n",
       "      <th>Monitor</th>\n",
       "      <td>5000</td>\n",
       "      <td>2</td>\n",
       "    </tr>\n",
       "  </tbody>\n",
       "</table>\n",
       "</div>"
      ],
      "text/plain": [
       "                                            sum         \n",
       "                                          Price Quantity\n",
       "Manager       Rep           Product                     \n",
       "Debra Henley  Craig Booker  CPU           65000        2\n",
       "                            Maintenance    5000        2\n",
       "                            Software      10000        1\n",
       "              Daniel Hilton CPU          105000        4\n",
       "                            Software      10000        1\n",
       "              John Smith    CPU           35000        1\n",
       "                            Maintenance    5000        2\n",
       "Fred Anderson Cedric Moss   CPU           95000        3\n",
       "                            Maintenance    5000        1\n",
       "                            Software      10000        1\n",
       "              Wendy Yule    CPU          165000        7\n",
       "                            Maintenance    7000        3\n",
       "                            Monitor        5000        2"
      ]
     },
<<<<<<< HEAD:curriculum/week-02/3.1-lesson/code/w2-3.1-demo(Pandas_DataFrames_pivot_tables).ipynb
     "execution_count": 57,
=======
     "execution_count": 37,
>>>>>>> fd16d3cc24f4596ee39659f4aaf66e21099dcdc4:curriculum/week-02/3.1-lesson/code/w2-3.1-demo.ipynb
     "metadata": {},
     "output_type": "execute_result"
    }
   ],
   "source": [
    "# To get a different take on things, let's remove Product \n",
    "# from the columns and add it to the index. \n",
    "\n",
    "pd.pivot_table(df,index=[\"Manager\",\"Rep\",\"Product\"],\n",
    "               values=[\"Price\",\"Quantity\"],aggfunc=[np.sum])"
   ]
  },
  {
   "cell_type": "code",
<<<<<<< HEAD:curriculum/week-02/3.1-lesson/code/w2-3.1-demo(Pandas_DataFrames_pivot_tables).ipynb
   "execution_count": 58,
=======
   "execution_count": 38,
>>>>>>> fd16d3cc24f4596ee39659f4aaf66e21099dcdc4:curriculum/week-02/3.1-lesson/code/w2-3.1-demo.ipynb
   "metadata": {
    "collapsed": false
   },
   "outputs": [
    {
     "data": {
      "text/html": [
       "<div>\n",
       "<table border=\"1\" class=\"dataframe\">\n",
       "  <thead>\n",
       "    <tr>\n",
       "      <th></th>\n",
       "      <th></th>\n",
       "      <th></th>\n",
       "      <th colspan=\"2\" halign=\"left\">sum</th>\n",
       "      <th colspan=\"2\" halign=\"left\">mean</th>\n",
       "    </tr>\n",
       "    <tr>\n",
       "      <th></th>\n",
       "      <th></th>\n",
       "      <th></th>\n",
       "      <th>Price</th>\n",
       "      <th>Quantity</th>\n",
       "      <th>Price</th>\n",
       "      <th>Quantity</th>\n",
       "    </tr>\n",
       "    <tr>\n",
       "      <th>Manager</th>\n",
       "      <th>Rep</th>\n",
       "      <th>Product</th>\n",
       "      <th></th>\n",
       "      <th></th>\n",
       "      <th></th>\n",
       "      <th></th>\n",
       "    </tr>\n",
       "  </thead>\n",
       "  <tbody>\n",
       "    <tr>\n",
       "      <th rowspan=\"7\" valign=\"top\">Debra Henley</th>\n",
       "      <th rowspan=\"3\" valign=\"top\">Craig Booker</th>\n",
       "      <th>CPU</th>\n",
       "      <td>65000.0</td>\n",
       "      <td>2.0</td>\n",
       "      <td>32500.000000</td>\n",
       "      <td>1.000000</td>\n",
       "    </tr>\n",
       "    <tr>\n",
       "      <th>Maintenance</th>\n",
       "      <td>5000.0</td>\n",
       "      <td>2.0</td>\n",
       "      <td>5000.000000</td>\n",
       "      <td>2.000000</td>\n",
       "    </tr>\n",
       "    <tr>\n",
       "      <th>Software</th>\n",
       "      <td>10000.0</td>\n",
       "      <td>1.0</td>\n",
       "      <td>10000.000000</td>\n",
       "      <td>1.000000</td>\n",
       "    </tr>\n",
       "    <tr>\n",
       "      <th rowspan=\"2\" valign=\"top\">Daniel Hilton</th>\n",
       "      <th>CPU</th>\n",
       "      <td>105000.0</td>\n",
       "      <td>4.0</td>\n",
       "      <td>52500.000000</td>\n",
       "      <td>2.000000</td>\n",
       "    </tr>\n",
       "    <tr>\n",
       "      <th>Software</th>\n",
       "      <td>10000.0</td>\n",
       "      <td>1.0</td>\n",
       "      <td>10000.000000</td>\n",
       "      <td>1.000000</td>\n",
       "    </tr>\n",
       "    <tr>\n",
       "      <th rowspan=\"2\" valign=\"top\">John Smith</th>\n",
       "      <th>CPU</th>\n",
       "      <td>35000.0</td>\n",
       "      <td>1.0</td>\n",
       "      <td>35000.000000</td>\n",
       "      <td>1.000000</td>\n",
       "    </tr>\n",
       "    <tr>\n",
       "      <th>Maintenance</th>\n",
       "      <td>5000.0</td>\n",
       "      <td>2.0</td>\n",
       "      <td>5000.000000</td>\n",
       "      <td>2.000000</td>\n",
       "    </tr>\n",
       "    <tr>\n",
       "      <th rowspan=\"6\" valign=\"top\">Fred Anderson</th>\n",
       "      <th rowspan=\"3\" valign=\"top\">Cedric Moss</th>\n",
       "      <th>CPU</th>\n",
       "      <td>95000.0</td>\n",
       "      <td>3.0</td>\n",
       "      <td>47500.000000</td>\n",
       "      <td>1.500000</td>\n",
       "    </tr>\n",
       "    <tr>\n",
       "      <th>Maintenance</th>\n",
       "      <td>5000.0</td>\n",
       "      <td>1.0</td>\n",
       "      <td>5000.000000</td>\n",
       "      <td>1.000000</td>\n",
       "    </tr>\n",
       "    <tr>\n",
       "      <th>Software</th>\n",
       "      <td>10000.0</td>\n",
       "      <td>1.0</td>\n",
       "      <td>10000.000000</td>\n",
       "      <td>1.000000</td>\n",
       "    </tr>\n",
       "    <tr>\n",
       "      <th rowspan=\"3\" valign=\"top\">Wendy Yule</th>\n",
       "      <th>CPU</th>\n",
       "      <td>165000.0</td>\n",
       "      <td>7.0</td>\n",
       "      <td>82500.000000</td>\n",
       "      <td>3.500000</td>\n",
       "    </tr>\n",
       "    <tr>\n",
       "      <th>Maintenance</th>\n",
       "      <td>7000.0</td>\n",
       "      <td>3.0</td>\n",
       "      <td>7000.000000</td>\n",
       "      <td>3.000000</td>\n",
       "    </tr>\n",
       "    <tr>\n",
       "      <th>Monitor</th>\n",
       "      <td>5000.0</td>\n",
       "      <td>2.0</td>\n",
       "      <td>5000.000000</td>\n",
       "      <td>2.000000</td>\n",
       "    </tr>\n",
       "    <tr>\n",
       "      <th>All</th>\n",
       "      <th></th>\n",
       "      <th></th>\n",
       "      <td>522000.0</td>\n",
       "      <td>30.0</td>\n",
       "      <td>30705.882353</td>\n",
       "      <td>1.764706</td>\n",
       "    </tr>\n",
       "  </tbody>\n",
       "</table>\n",
       "</div>"
      ],
      "text/plain": [
       "                                              sum                   mean  \\\n",
       "                                            Price Quantity         Price   \n",
       "Manager       Rep           Product                                        \n",
       "Debra Henley  Craig Booker  CPU           65000.0      2.0  32500.000000   \n",
       "                            Maintenance    5000.0      2.0   5000.000000   \n",
       "                            Software      10000.0      1.0  10000.000000   \n",
       "              Daniel Hilton CPU          105000.0      4.0  52500.000000   \n",
       "                            Software      10000.0      1.0  10000.000000   \n",
       "              John Smith    CPU           35000.0      1.0  35000.000000   \n",
       "                            Maintenance    5000.0      2.0   5000.000000   \n",
       "Fred Anderson Cedric Moss   CPU           95000.0      3.0  47500.000000   \n",
       "                            Maintenance    5000.0      1.0   5000.000000   \n",
       "                            Software      10000.0      1.0  10000.000000   \n",
       "              Wendy Yule    CPU          165000.0      7.0  82500.000000   \n",
       "                            Maintenance    7000.0      3.0   7000.000000   \n",
       "                            Monitor        5000.0      2.0   5000.000000   \n",
       "All                                      522000.0     30.0  30705.882353   \n",
       "\n",
       "                                                   \n",
       "                                         Quantity  \n",
       "Manager       Rep           Product                \n",
       "Debra Henley  Craig Booker  CPU          1.000000  \n",
       "                            Maintenance  2.000000  \n",
       "                            Software     1.000000  \n",
       "              Daniel Hilton CPU          2.000000  \n",
       "                            Software     1.000000  \n",
       "              John Smith    CPU          1.000000  \n",
       "                            Maintenance  2.000000  \n",
       "Fred Anderson Cedric Moss   CPU          1.500000  \n",
       "                            Maintenance  1.000000  \n",
       "                            Software     1.000000  \n",
       "              Wendy Yule    CPU          3.500000  \n",
       "                            Maintenance  3.000000  \n",
       "                            Monitor      2.000000  \n",
       "All                                      1.764706  "
      ]
     },
<<<<<<< HEAD:curriculum/week-02/3.1-lesson/code/w2-3.1-demo(Pandas_DataFrames_pivot_tables).ipynb
     "execution_count": 58,
=======
     "execution_count": 38,
>>>>>>> fd16d3cc24f4596ee39659f4aaf66e21099dcdc4:curriculum/week-02/3.1-lesson/code/w2-3.1-demo.ipynb
     "metadata": {},
     "output_type": "execute_result"
    }
   ],
   "source": [
    "# The margins argument let's us see totals if we set it to \n",
    "# 'margins=True'. \n",
    "\n",
    "pd.pivot_table(df,index=[\"Manager\",\"Rep\",\"Product\"],\n",
    "               values=[\"Price\",\"Quantity\"],\n",
    "               aggfunc=[np.sum,np.mean],margins=True)"
   ]
  },
  {
   "cell_type": "markdown",
   "metadata": {},
   "source": [
    "### Independent practice"
   ]
  },
  {
   "cell_type": "code",
   "execution_count": 63,
   "metadata": {
    "collapsed": true
   },
   "outputs": [],
   "source": [
    "# raw data\n",
    "import pandas as pd\n",
    "raw_data = {'regiment': ['Nighthawks', 'Nighthawks', 'Nighthawks', 'Nighthawks', 'Dragoons', 'Dragoons', 'Dragoons', 'Dragoons', 'Scouts', 'Scouts', 'Scouts', 'Scouts'], \n",
    "        'company': ['1st', '1st', '2nd', '2nd', '1st', '1st', '2nd', '2nd','1st', '1st', '2nd', '2nd'], \n",
    "        'name': ['Miller', 'Jacobson', 'Ali', 'Milner', 'Cooze', 'Jacon', 'Ryaner', 'Sone', 'Sloan', 'Piger', 'Riani', 'Ali'], \n",
    "        'preTestScore': [4, 24, 31, 2, 3, 4, 24, 31, 2, 3, 2, 3],\n",
    "        'postTestScore': [25, 94, 57, 62, 70, 25, 94, 57, 62, 70, 62, 70]}"
   ]
  },
  {
   "cell_type": "markdown",
   "metadata": {},
   "source": [
    "Questions listed below. Solutions are below those....so don't look! "
   ]
  },
  {
   "cell_type": "code",
   "execution_count": 66,
   "metadata": {
    "collapsed": false
   },
   "outputs": [
    {
     "data": {
      "text/html": [
       "<div>\n",
       "<table border=\"1\" class=\"dataframe\">\n",
       "  <thead>\n",
       "    <tr style=\"text-align: right;\">\n",
       "      <th></th>\n",
       "      <th>company</th>\n",
       "      <th>name</th>\n",
       "      <th>postTestScore</th>\n",
       "      <th>preTestScore</th>\n",
       "      <th>regiment</th>\n",
       "    </tr>\n",
       "  </thead>\n",
       "  <tbody>\n",
       "    <tr>\n",
       "      <th>0</th>\n",
       "      <td>1st</td>\n",
       "      <td>Miller</td>\n",
       "      <td>25</td>\n",
       "      <td>4</td>\n",
       "      <td>Nighthawks</td>\n",
       "    </tr>\n",
       "    <tr>\n",
       "      <th>1</th>\n",
       "      <td>1st</td>\n",
       "      <td>Jacobson</td>\n",
       "      <td>94</td>\n",
       "      <td>24</td>\n",
       "      <td>Nighthawks</td>\n",
       "    </tr>\n",
       "    <tr>\n",
       "      <th>2</th>\n",
       "      <td>2nd</td>\n",
       "      <td>Ali</td>\n",
       "      <td>57</td>\n",
       "      <td>31</td>\n",
       "      <td>Nighthawks</td>\n",
       "    </tr>\n",
       "  </tbody>\n",
       "</table>\n",
       "</div>"
      ],
      "text/plain": [
       "  company      name  postTestScore  preTestScore    regiment\n",
       "0     1st    Miller             25             4  Nighthawks\n",
       "1     1st  Jacobson             94            24  Nighthawks\n",
       "2     2nd       Ali             57            31  Nighthawks"
      ]
     },
     "execution_count": 66,
     "metadata": {},
     "output_type": "execute_result"
    }
   ],
   "source": [
    "# 1. Convert the raw data into a data frame\n",
    "df = pd.DataFrame(raw_data)\n",
    "df.head(3)"
   ]
  },
  {
   "cell_type": "code",
   "execution_count": 100,
   "metadata": {
    "collapsed": false
   },
   "outputs": [
    {
     "ename": "TypeError",
     "evalue": "pivot_table() got multiple values for keyword argument 'values'",
     "output_type": "error",
     "traceback": [
      "\u001b[0;31m---------------------------------------------------------------------------\u001b[0m",
      "\u001b[0;31mTypeError\u001b[0m                                 Traceback (most recent call last)",
      "\u001b[0;32m<ipython-input-100-80e8551f8a82>\u001b[0m in \u001b[0;36m<module>\u001b[0;34m()\u001b[0m\n\u001b[1;32m      1\u001b[0m \u001b[0;31m# 2. Convert the df into a pivot table, index on 'regiment' and\u001b[0m\u001b[0;34m\u001b[0m\u001b[0;34m\u001b[0m\u001b[0m\n\u001b[1;32m      2\u001b[0m \u001b[0;31m# 'company'\u001b[0m\u001b[0;34m\u001b[0m\u001b[0;34m\u001b[0m\u001b[0m\n\u001b[0;32m----> 3\u001b[0;31m \u001b[0mdf\u001b[0m\u001b[0;34m.\u001b[0m\u001b[0mpivot_table\u001b[0m\u001b[0;34m(\u001b[0m\u001b[0mdf\u001b[0m\u001b[0;34m,\u001b[0m \u001b[0mindex\u001b[0m \u001b[0;34m=\u001b[0m \u001b[0;34m[\u001b[0m\u001b[0;34m'regiment'\u001b[0m\u001b[0;34m,\u001b[0m \u001b[0;34m'company'\u001b[0m\u001b[0;34m]\u001b[0m\u001b[0;34m,\u001b[0m \u001b[0mvalues\u001b[0m \u001b[0;34m=\u001b[0m \u001b[0;34m[\u001b[0m\u001b[0;34m'preTestScore'\u001b[0m\u001b[0;34m,\u001b[0m \u001b[0;34m'postTestScore'\u001b[0m\u001b[0;34m]\u001b[0m\u001b[0;34m)\u001b[0m\u001b[0;34m\u001b[0m\u001b[0m\n\u001b[0m",
      "\u001b[0;31mTypeError\u001b[0m: pivot_table() got multiple values for keyword argument 'values'"
     ]
    }
   ],
   "source": [
    "# 2. Convert the df into a pivot table, index on 'regiment' and \n",
    "# 'company'\n",
    "df.pivot_table(df, index = ['regiment', 'company'], values = ['preTestScore', 'postTestScore'])"
   ]
  },
  {
   "cell_type": "code",
   "execution_count": 77,
   "metadata": {
    "collapsed": false
   },
   "outputs": [
    {
     "data": {
      "text/html": [
       "<div>\n",
       "<table border=\"1\" class=\"dataframe\">\n",
       "  <thead>\n",
       "    <tr style=\"text-align: right;\">\n",
       "      <th></th>\n",
       "      <th></th>\n",
       "      <th>postTestScore</th>\n",
       "      <th>preTestScore</th>\n",
       "    </tr>\n",
       "    <tr>\n",
       "      <th>regiment</th>\n",
       "      <th>company</th>\n",
       "      <th></th>\n",
       "      <th></th>\n",
       "    </tr>\n",
       "  </thead>\n",
       "  <tbody>\n",
       "    <tr>\n",
       "      <th rowspan=\"2\" valign=\"top\">Dragoons</th>\n",
       "      <th>1st</th>\n",
       "      <td>95.0</td>\n",
       "      <td>7.0</td>\n",
       "    </tr>\n",
       "    <tr>\n",
       "      <th>2nd</th>\n",
       "      <td>151.0</td>\n",
       "      <td>55.0</td>\n",
       "    </tr>\n",
       "    <tr>\n",
       "      <th rowspan=\"2\" valign=\"top\">Nighthawks</th>\n",
       "      <th>1st</th>\n",
       "      <td>119.0</td>\n",
       "      <td>28.0</td>\n",
       "    </tr>\n",
       "    <tr>\n",
       "      <th>2nd</th>\n",
       "      <td>119.0</td>\n",
       "      <td>33.0</td>\n",
       "    </tr>\n",
       "    <tr>\n",
       "      <th rowspan=\"2\" valign=\"top\">Scouts</th>\n",
       "      <th>1st</th>\n",
       "      <td>132.0</td>\n",
       "      <td>5.0</td>\n",
       "    </tr>\n",
       "    <tr>\n",
       "      <th>2nd</th>\n",
       "      <td>132.0</td>\n",
       "      <td>5.0</td>\n",
       "    </tr>\n",
       "    <tr>\n",
       "      <th>All</th>\n",
       "      <th></th>\n",
       "      <td>748.0</td>\n",
       "      <td>133.0</td>\n",
       "    </tr>\n",
       "  </tbody>\n",
       "</table>\n",
       "</div>"
      ],
      "text/plain": [
       "                    postTestScore  preTestScore\n",
       "regiment   company                             \n",
       "Dragoons   1st               95.0           7.0\n",
       "           2nd              151.0          55.0\n",
       "Nighthawks 1st              119.0          28.0\n",
       "           2nd              119.0          33.0\n",
       "Scouts     1st              132.0           5.0\n",
       "           2nd              132.0           5.0\n",
       "All                         748.0         133.0"
      ]
     },
     "execution_count": 77,
     "metadata": {},
     "output_type": "execute_result"
    }
   ],
   "source": [
    "# 3. Bonus: what are the totals of postTestScore and preTestScore?\n",
    "df.pivot_table(df, aggfunc = np.sum, margins = True, index = ['regiment', 'company'])"
   ]
  },
  {
   "cell_type": "code",
   "execution_count": 79,
   "metadata": {
    "collapsed": false
   },
   "outputs": [
    {
     "data": {
      "text/html": [
       "<div>\n",
       "<table border=\"1\" class=\"dataframe\">\n",
       "  <thead>\n",
       "    <tr style=\"text-align: right;\">\n",
       "      <th></th>\n",
       "      <th></th>\n",
       "      <th>postTestScore</th>\n",
       "      <th>preTestScore</th>\n",
       "    </tr>\n",
       "    <tr>\n",
       "      <th>regiment</th>\n",
       "      <th>company</th>\n",
       "      <th></th>\n",
       "      <th></th>\n",
       "    </tr>\n",
       "  </thead>\n",
       "  <tbody>\n",
       "    <tr>\n",
       "      <th rowspan=\"2\" valign=\"top\">Dragoons</th>\n",
       "      <th>1st</th>\n",
       "      <td>95.0</td>\n",
       "      <td>7.0</td>\n",
       "    </tr>\n",
       "    <tr>\n",
       "      <th>2nd</th>\n",
       "      <td>151.0</td>\n",
       "      <td>55.0</td>\n",
       "    </tr>\n",
       "    <tr>\n",
       "      <th rowspan=\"2\" valign=\"top\">Nighthawks</th>\n",
       "      <th>1st</th>\n",
       "      <td>119.0</td>\n",
       "      <td>28.0</td>\n",
       "    </tr>\n",
       "    <tr>\n",
       "      <th>2nd</th>\n",
       "      <td>119.0</td>\n",
       "      <td>33.0</td>\n",
       "    </tr>\n",
       "    <tr>\n",
       "      <th rowspan=\"2\" valign=\"top\">Scouts</th>\n",
       "      <th>1st</th>\n",
       "      <td>132.0</td>\n",
       "      <td>5.0</td>\n",
       "    </tr>\n",
       "    <tr>\n",
       "      <th>2nd</th>\n",
       "      <td>132.0</td>\n",
       "      <td>5.0</td>\n",
       "    </tr>\n",
       "    <tr>\n",
       "      <th>All</th>\n",
       "      <th></th>\n",
       "      <td>748.0</td>\n",
       "      <td>133.0</td>\n",
       "    </tr>\n",
       "  </tbody>\n",
       "</table>\n",
       "</div>"
      ],
      "text/plain": [
       "                    postTestScore  preTestScore\n",
       "regiment   company                             \n",
       "Dragoons   1st               95.0           7.0\n",
       "           2nd              151.0          55.0\n",
       "Nighthawks 1st              119.0          28.0\n",
       "           2nd              119.0          33.0\n",
       "Scouts     1st              132.0           5.0\n",
       "           2nd              132.0           5.0\n",
       "All                         748.0         133.0"
      ]
     },
     "execution_count": 79,
     "metadata": {},
     "output_type": "execute_result"
    }
   ],
   "source": [
    "pd.pivot_table(df, index=['regiment', 'company'],aggfunc=np.sum, margins=True)\n"
   ]
  },
  {
   "cell_type": "code",
   "execution_count": null,
   "metadata": {
    "collapsed": true
   },
   "outputs": [],
   "source": []
  },
  {
   "cell_type": "code",
   "execution_count": null,
   "metadata": {
    "collapsed": true
   },
   "outputs": [],
   "source": []
  },
  {
   "cell_type": "code",
   "execution_count": null,
   "metadata": {
    "collapsed": true
   },
   "outputs": [],
   "source": []
  },
  {
   "cell_type": "code",
   "execution_count": null,
   "metadata": {
    "collapsed": true
   },
   "outputs": [],
   "source": []
  },
  {
   "cell_type": "markdown",
   "metadata": {},
   "source": [
    "###WARNING! WARNING! Solutions below. Do not proceed unless you attempted the questions above in the independent practice. "
   ]
  },
  {
   "cell_type": "code",
   "execution_count": 96,
   "metadata": {
    "collapsed": false
   },
   "outputs": [
    {
     "data": {
      "text/html": [
       "<div>\n",
       "<table border=\"1\" class=\"dataframe\">\n",
       "  <thead>\n",
       "    <tr style=\"text-align: right;\">\n",
       "      <th></th>\n",
       "      <th>regiment</th>\n",
       "      <th>company</th>\n",
       "      <th>name</th>\n",
       "      <th>preTestScore</th>\n",
       "      <th>postTestScore</th>\n",
       "    </tr>\n",
       "  </thead>\n",
       "  <tbody>\n",
       "    <tr>\n",
       "      <th>0</th>\n",
       "      <td>Nighthawks</td>\n",
       "      <td>1st</td>\n",
       "      <td>Miller</td>\n",
       "      <td>4</td>\n",
       "      <td>25</td>\n",
       "    </tr>\n",
       "    <tr>\n",
       "      <th>1</th>\n",
       "      <td>Nighthawks</td>\n",
       "      <td>1st</td>\n",
       "      <td>Jacobson</td>\n",
       "      <td>24</td>\n",
       "      <td>94</td>\n",
       "    </tr>\n",
       "    <tr>\n",
       "      <th>2</th>\n",
       "      <td>Nighthawks</td>\n",
       "      <td>2nd</td>\n",
       "      <td>Ali</td>\n",
       "      <td>31</td>\n",
       "      <td>57</td>\n",
       "    </tr>\n",
       "    <tr>\n",
       "      <th>3</th>\n",
       "      <td>Nighthawks</td>\n",
       "      <td>2nd</td>\n",
       "      <td>Milner</td>\n",
       "      <td>2</td>\n",
       "      <td>62</td>\n",
       "    </tr>\n",
       "    <tr>\n",
       "      <th>4</th>\n",
       "      <td>Dragoons</td>\n",
       "      <td>1st</td>\n",
       "      <td>Cooze</td>\n",
       "      <td>3</td>\n",
       "      <td>70</td>\n",
       "    </tr>\n",
       "    <tr>\n",
       "      <th>5</th>\n",
       "      <td>Dragoons</td>\n",
       "      <td>1st</td>\n",
       "      <td>Jacon</td>\n",
       "      <td>4</td>\n",
       "      <td>25</td>\n",
       "    </tr>\n",
       "    <tr>\n",
       "      <th>6</th>\n",
       "      <td>Dragoons</td>\n",
       "      <td>2nd</td>\n",
       "      <td>Ryaner</td>\n",
       "      <td>24</td>\n",
       "      <td>94</td>\n",
       "    </tr>\n",
       "    <tr>\n",
       "      <th>7</th>\n",
       "      <td>Dragoons</td>\n",
       "      <td>2nd</td>\n",
       "      <td>Sone</td>\n",
       "      <td>31</td>\n",
       "      <td>57</td>\n",
       "    </tr>\n",
       "    <tr>\n",
       "      <th>8</th>\n",
       "      <td>Scouts</td>\n",
       "      <td>1st</td>\n",
       "      <td>Sloan</td>\n",
       "      <td>2</td>\n",
       "      <td>62</td>\n",
       "    </tr>\n",
       "    <tr>\n",
       "      <th>9</th>\n",
       "      <td>Scouts</td>\n",
       "      <td>1st</td>\n",
       "      <td>Piger</td>\n",
       "      <td>3</td>\n",
       "      <td>70</td>\n",
       "    </tr>\n",
       "    <tr>\n",
       "      <th>10</th>\n",
       "      <td>Scouts</td>\n",
       "      <td>2nd</td>\n",
       "      <td>Riani</td>\n",
       "      <td>2</td>\n",
       "      <td>62</td>\n",
       "    </tr>\n",
       "    <tr>\n",
       "      <th>11</th>\n",
       "      <td>Scouts</td>\n",
       "      <td>2nd</td>\n",
       "      <td>Ali</td>\n",
       "      <td>3</td>\n",
       "      <td>70</td>\n",
       "    </tr>\n",
       "  </tbody>\n",
       "</table>\n",
       "</div>"
      ],
      "text/plain": [
       "      regiment company      name  preTestScore  postTestScore\n",
       "0   Nighthawks     1st    Miller             4             25\n",
       "1   Nighthawks     1st  Jacobson            24             94\n",
       "2   Nighthawks     2nd       Ali            31             57\n",
       "3   Nighthawks     2nd    Milner             2             62\n",
       "4     Dragoons     1st     Cooze             3             70\n",
       "5     Dragoons     1st     Jacon             4             25\n",
       "6     Dragoons     2nd    Ryaner            24             94\n",
       "7     Dragoons     2nd      Sone            31             57\n",
       "8       Scouts     1st     Sloan             2             62\n",
       "9       Scouts     1st     Piger             3             70\n",
       "10      Scouts     2nd     Riani             2             62\n",
       "11      Scouts     2nd       Ali             3             70"
      ]
     },
     "execution_count": 96,
     "metadata": {},
     "output_type": "execute_result"
    }
   ],
   "source": [
    "# 1. Convert the raw data into a data frame\n",
    "\n",
    "df = pd.DataFrame(raw_data, columns = ['regiment', 'company', 'name', 'preTestScore', 'postTestScore'])\n",
    "df"
   ]
  },
  {
   "cell_type": "code",
   "execution_count": 97,
   "metadata": {
    "collapsed": false
   },
   "outputs": [
    {
     "data": {
      "text/html": [
       "<div>\n",
       "<table border=\"1\" class=\"dataframe\">\n",
       "  <thead>\n",
       "    <tr style=\"text-align: right;\">\n",
       "      <th></th>\n",
       "      <th></th>\n",
       "      <th>postTestScore</th>\n",
       "      <th>preTestScore</th>\n",
       "    </tr>\n",
       "    <tr>\n",
       "      <th>regiment</th>\n",
       "      <th>company</th>\n",
       "      <th></th>\n",
       "      <th></th>\n",
       "    </tr>\n",
       "  </thead>\n",
       "  <tbody>\n",
       "    <tr>\n",
       "      <th rowspan=\"2\" valign=\"top\">Dragoons</th>\n",
       "      <th>1st</th>\n",
       "      <td>47.5</td>\n",
       "      <td>3.5</td>\n",
       "    </tr>\n",
       "    <tr>\n",
       "      <th>2nd</th>\n",
       "      <td>75.5</td>\n",
       "      <td>27.5</td>\n",
       "    </tr>\n",
       "    <tr>\n",
       "      <th rowspan=\"2\" valign=\"top\">Nighthawks</th>\n",
       "      <th>1st</th>\n",
       "      <td>59.5</td>\n",
       "      <td>14.0</td>\n",
       "    </tr>\n",
       "    <tr>\n",
       "      <th>2nd</th>\n",
       "      <td>59.5</td>\n",
       "      <td>16.5</td>\n",
       "    </tr>\n",
       "    <tr>\n",
       "      <th rowspan=\"2\" valign=\"top\">Scouts</th>\n",
       "      <th>1st</th>\n",
       "      <td>66.0</td>\n",
       "      <td>2.5</td>\n",
       "    </tr>\n",
       "    <tr>\n",
       "      <th>2nd</th>\n",
       "      <td>66.0</td>\n",
       "      <td>2.5</td>\n",
       "    </tr>\n",
       "  </tbody>\n",
       "</table>\n",
       "</div>"
      ],
      "text/plain": [
       "                    postTestScore  preTestScore\n",
       "regiment   company                             \n",
       "Dragoons   1st               47.5           3.5\n",
       "           2nd               75.5          27.5\n",
       "Nighthawks 1st               59.5          14.0\n",
       "           2nd               59.5          16.5\n",
       "Scouts     1st               66.0           2.5\n",
       "           2nd               66.0           2.5"
      ]
     },
     "execution_count": 97,
     "metadata": {},
     "output_type": "execute_result"
    }
   ],
   "source": [
    "# 2. Convert the df into a pivot table, index on 'regiment' and \n",
    "# 'company'\n",
    "\n",
    "pd.pivot_table(df,index=[\"regiment\",\"company\"])"
   ]
  },
  {
   "cell_type": "code",
   "execution_count": 98,
   "metadata": {
    "collapsed": false
   },
   "outputs": [
    {
     "data": {
      "text/html": [
       "<div>\n",
       "<table border=\"1\" class=\"dataframe\">\n",
       "  <thead>\n",
       "    <tr>\n",
       "      <th></th>\n",
       "      <th></th>\n",
       "      <th colspan=\"2\" halign=\"left\">sum</th>\n",
       "    </tr>\n",
       "    <tr>\n",
       "      <th></th>\n",
       "      <th></th>\n",
       "      <th>postTestScore</th>\n",
       "      <th>preTestScore</th>\n",
       "    </tr>\n",
       "    <tr>\n",
       "      <th>regiment</th>\n",
       "      <th>company</th>\n",
       "      <th></th>\n",
       "      <th></th>\n",
       "    </tr>\n",
       "  </thead>\n",
       "  <tbody>\n",
       "    <tr>\n",
       "      <th rowspan=\"2\" valign=\"top\">Dragoons</th>\n",
       "      <th>1st</th>\n",
       "      <td>95.0</td>\n",
       "      <td>7.0</td>\n",
       "    </tr>\n",
       "    <tr>\n",
       "      <th>2nd</th>\n",
       "      <td>151.0</td>\n",
       "      <td>55.0</td>\n",
       "    </tr>\n",
       "    <tr>\n",
       "      <th rowspan=\"2\" valign=\"top\">Nighthawks</th>\n",
       "      <th>1st</th>\n",
       "      <td>119.0</td>\n",
       "      <td>28.0</td>\n",
       "    </tr>\n",
       "    <tr>\n",
       "      <th>2nd</th>\n",
       "      <td>119.0</td>\n",
       "      <td>33.0</td>\n",
       "    </tr>\n",
       "    <tr>\n",
       "      <th rowspan=\"2\" valign=\"top\">Scouts</th>\n",
       "      <th>1st</th>\n",
       "      <td>132.0</td>\n",
       "      <td>5.0</td>\n",
       "    </tr>\n",
       "    <tr>\n",
       "      <th>2nd</th>\n",
       "      <td>132.0</td>\n",
       "      <td>5.0</td>\n",
       "    </tr>\n",
       "    <tr>\n",
       "      <th>All</th>\n",
       "      <th></th>\n",
       "      <td>748.0</td>\n",
       "      <td>133.0</td>\n",
       "    </tr>\n",
       "  </tbody>\n",
       "</table>\n",
       "</div>"
      ],
      "text/plain": [
       "                             sum             \n",
       "                   postTestScore preTestScore\n",
       "regiment   company                           \n",
       "Dragoons   1st              95.0          7.0\n",
       "           2nd             151.0         55.0\n",
       "Nighthawks 1st             119.0         28.0\n",
       "           2nd             119.0         33.0\n",
       "Scouts     1st             132.0          5.0\n",
       "           2nd             132.0          5.0\n",
       "All                        748.0        133.0"
      ]
     },
     "execution_count": 98,
     "metadata": {},
     "output_type": "execute_result"
    }
   ],
   "source": [
    "# Bonus: what are the totals of postTestScore and preTestScore?\n",
    "\n",
    "df.pivot_table(index=['regiment','company'], \n",
    "               aggfunc=[np.sum],margins=True)"
   ]
  },
  {
   "cell_type": "code",
   "execution_count": null,
   "metadata": {
    "collapsed": true
   },
   "outputs": [],
   "source": []
  }
 ],
 "metadata": {
  "kernelspec": {
   "display_name": "Python 2",
   "language": "python",
   "name": "python2"
  },
  "language_info": {
   "codemirror_mode": {
    "name": "ipython",
    "version": 2
   },
   "file_extension": ".py",
   "mimetype": "text/x-python",
   "name": "python",
   "nbconvert_exporter": "python",
   "pygments_lexer": "ipython2",
   "version": "2.7.11"
  }
 },
 "nbformat": 4,
 "nbformat_minor": 0
}
