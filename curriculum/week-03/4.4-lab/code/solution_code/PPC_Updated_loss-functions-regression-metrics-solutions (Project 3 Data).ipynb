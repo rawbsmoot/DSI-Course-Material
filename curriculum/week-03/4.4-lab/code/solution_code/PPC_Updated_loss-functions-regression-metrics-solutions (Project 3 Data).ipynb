{
 "cells": [
  {
   "cell_type": "markdown",
   "metadata": {},
   "source": [
    "# Practicing loss functions and regression metrics\n",
    "\n",
    "Below you will practice looking at loss functions and look at regression metrics related to these loss functions."
   ]
  },
  {
   "cell_type": "markdown",
   "metadata": {},
   "source": [
    "## 1. Load packages"
   ]
  },
  {
   "cell_type": "code",
   "execution_count": 1,
   "metadata": {
    "collapsed": false
   },
   "outputs": [],
   "source": [
    "import numpy as np\n",
    "import pandas as pd\n",
    "import statsmodels.api as sm\n",
    "from statsmodels.regression.quantile_regression import QuantReg\n",
    "\n",
    "import matplotlib as mpl\n",
    "import matplotlib.pyplot as plt\n",
    "#plt.style.use('fivethirtyeight')\n",
    "\n",
    "%matplotlib inline"
   ]
  },
  {
   "cell_type": "markdown",
   "metadata": {},
   "source": [
    "## 2. Plotting functions\n",
    "\n",
    "Here are the functions from the presentation to make visualizing your regressions easier:"
   ]
  },
  {
   "cell_type": "code",
   "execution_count": 2,
   "metadata": {
    "collapsed": true
   },
   "outputs": [],
   "source": [
    "def plot_regression(x, y, model):\n",
    "    plt.figure(figsize=(10,8))\n",
    "    axes = plt.gca()\n",
    "    \n",
    "    intercept = model.params[0]\n",
    "    slope = model.params[1]\n",
    "\n",
    "    for x_, y_ in zip(x, y):    \n",
    "        plt.plot((x_, x_), (y_, x_*slope + intercept),\n",
    "                 'k-', ls='dashed', lw=1)\n",
    "        \n",
    "    plt.scatter(x, y, s=70, c='steelblue')\n",
    "    \n",
    "    x_points = np.linspace(axes.get_xlim()[0], axes.get_xlim()[1], 100)\n",
    "    \n",
    "    regline_x = x_points\n",
    "    regline_y = x_points*slope + intercept\n",
    "\n",
    "    plt.plot(regline_x, regline_y, c='darkred', lw=3.5)\n",
    "\n",
    "    plt.show()\n",
    "    \n",
    "    \n",
    "def plot_leastsq_loss(model):\n",
    "    plt.figure(figsize=(10,8))\n",
    "    \n",
    "    resids = model.resid\n",
    "    \n",
    "    resid_lim = np.max([abs(np.min(resids)), abs(np.max(resids))]) + 1\n",
    "    \n",
    "    resid_points = np.linspace(-1*resid_lim, resid_lim, 200)\n",
    "    \n",
    "    for r in resids:\n",
    "        plt.plot((r, r), (0, r**2), 'k-', ls='dashed', lw=2)\n",
    "        \n",
    "    plt.plot(resid_points, resid_points**2, c='gold', alpha=0.7)\n",
    "    \n",
    "\n",
    "def plot_residuals_ladloss(model):\n",
    "    \n",
    "    resids = model.resid\n",
    "    \n",
    "    resid_lim = np.max([abs(np.min(resids)), abs(np.max(resids))]) + 1\n",
    "    \n",
    "    resid_points = np.linspace(-1*resid_lim, resid_lim, 200)\n",
    "    \n",
    "    plt.figure(figsize=(10,8))\n",
    "    \n",
    "    for r in resids:\n",
    "        \n",
    "        plt.plot((r, r), (0, abs(r)), 'k-', ls='dashed', lw=1)\n",
    "        \n",
    "    plt.plot(resid_points, np.abs(resid_points), c='gold', alpha=0.7)\n",
    "    \n"
   ]
  },
  {
   "cell_type": "markdown",
   "metadata": {},
   "source": [
    "## 3. Load in the data from project 3\n",
    "\n",
    "Load your data from project 3"
   ]
  },
  {
   "cell_type": "code",
   "execution_count": 3,
   "metadata": {
    "collapsed": false
   },
   "outputs": [],
   "source": [
    "sales = pd.read_csv('Iowa_Liquor_sales_sample_10pct.csv')"
   ]
  },
  {
   "cell_type": "code",
   "execution_count": 4,
   "metadata": {
    "collapsed": false
   },
   "outputs": [],
   "source": [
    "sales_sample = sales.sample(frac=0.1)"
   ]
  },
  {
   "cell_type": "code",
   "execution_count": 5,
   "metadata": {
    "collapsed": false
   },
   "outputs": [
    {
     "data": {
      "text/plain": [
       "(27096, 18)"
      ]
     },
     "execution_count": 5,
     "metadata": {},
     "output_type": "execute_result"
    }
   ],
   "source": [
    "sales_sample.shape"
   ]
  },
  {
   "cell_type": "code",
   "execution_count": 6,
   "metadata": {
    "collapsed": true
   },
   "outputs": [],
   "source": [
    "sales_sample.to_csv('Iowa_Liquor_sales_small.csv', index=False)"
   ]
  },
  {
   "cell_type": "markdown",
   "metadata": {},
   "source": [
    "## 4. Choose a continuous response variable and predictor variable from the dataset\n",
    "\n",
    "If you choose columns with dollar amounts, you will need to remove the dollar signs!"
   ]
  },
  {
   "cell_type": "code",
   "execution_count": 11,
   "metadata": {
    "collapsed": false
   },
   "outputs": [
    {
     "name": "stdout",
     "output_type": "stream",
     "text": [
      "Index([u'Date', u'Store Number', u'City', u'Zip Code', u'County Number',\n",
      "       u'County', u'Category', u'Category Name', u'Vendor Number',\n",
      "       u'Item Number', u'Item Description', u'Bottle Volume (ml)',\n",
      "       u'State Bottle Cost', u'State Bottle Retail', u'Bottles Sold',\n",
      "       u'Sale (Dollars)', u'Volume Sold (Liters)', u'Volume Sold (Gallons)'],\n",
      "      dtype='object')\n",
      "Date                      object\n",
      "Store Number               int64\n",
      "City                      object\n",
      "Zip Code                  object\n",
      "County Number            float64\n",
      "County                    object\n",
      "Category                 float64\n",
      "Category Name             object\n",
      "Vendor Number              int64\n",
      "Item Number                int64\n",
      "Item Description          object\n",
      "Bottle Volume (ml)         int64\n",
      "State Bottle Cost         object\n",
      "State Bottle Retail       object\n",
      "Bottles Sold               int64\n",
      "Sale (Dollars)            object\n",
      "Volume Sold (Liters)     float64\n",
      "Volume Sold (Gallons)    float64\n",
      "dtype: object\n"
     ]
    }
   ],
   "source": [
    "print sales.columns\n",
    "print sales.dtypes"
   ]
  },
  {
   "cell_type": "code",
   "execution_count": 12,
   "metadata": {
    "collapsed": true
   },
   "outputs": [],
   "source": [
    "cost = sales['State Bottle Cost'].values\n",
    "cost_2 = sales['State Bottle Retail'].values\n",
    "sold = sales['Bottles Sold'].values"
   ]
  },
  {
   "cell_type": "code",
   "execution_count": 13,
   "metadata": {
    "collapsed": false
   },
   "outputs": [],
   "source": [
    "cost = np.array([float(x.replace('$','')) for x in cost])\n",
    "cost_2 = np.array([float(x.replace('$','')) for x in cost_2])"
   ]
  },
  {
   "cell_type": "markdown",
   "metadata": {},
   "source": [
    "## 5. Choose a small subset of the predictor and response variables you chose\n",
    "\n",
    "You can use the ```np.random.choice()``` function to get a random sample of indices. Look up how to use it!"
   ]
  },
  {
   "cell_type": "code",
   "execution_count": 30,
   "metadata": {
    "collapsed": true
   },
   "outputs": [],
   "source": [
    "indices_sample = np.random.choice(range(0,len(cost)), size=50, replace=False)\n",
    "\n",
    "cost_sample = cost[indices_sample]\n",
    "cost_2_sample = cost_2[indices_sample]\n",
    "sold_sample = sold[indices_sample]"
   ]
  },
  {
   "cell_type": "markdown",
   "metadata": {},
   "source": [
    "## 6. Build a least squares regression model predicting your response from your predictors\n",
    "\n",
    "Remember to use your sample so you can plot this later!\n",
    "\n",
    "I did not provide the code to create the regression. Either look it up in the statsmodels documentation or refer to the slides so you can practice doing this yourself."
   ]
  },
  {
   "cell_type": "code",
   "execution_count": 38,
   "metadata": {
    "collapsed": false
   },
   "outputs": [],
   "source": [
    "X = sm.add_constant(cost_sample)\n",
    "#print X"
   ]
  },
  {
   "cell_type": "code",
   "execution_count": 39,
   "metadata": {
    "collapsed": false
   },
   "outputs": [
    {
     "name": "stdout",
     "output_type": "stream",
     "text": [
      "                            OLS Regression Results                            \n",
      "==============================================================================\n",
      "Dep. Variable:                      y   R-squared:                       0.017\n",
      "Model:                            OLS   Adj. R-squared:                 -0.003\n",
      "Method:                 Least Squares   F-statistic:                    0.8491\n",
      "Date:                Thu, 23 Jun 2016   Prob (F-statistic):              0.361\n",
      "Time:                        16:40:35   Log-Likelihood:                -175.56\n",
      "No. Observations:                  50   AIC:                             355.1\n",
      "Df Residuals:                      48   BIC:                             358.9\n",
      "Df Model:                           1                                         \n",
      "Covariance Type:            nonrobust                                         \n",
      "==============================================================================\n",
      "                 coef    std err          t      P>|t|      [95.0% Conf. Int.]\n",
      "------------------------------------------------------------------------------\n",
      "const          9.4518      2.690      3.514      0.001         4.044    14.860\n",
      "x1            -0.2684      0.291     -0.921      0.361        -0.854     0.317\n",
      "==============================================================================\n",
      "Omnibus:                       49.963   Durbin-Watson:                   2.140\n",
      "Prob(Omnibus):                  0.000   Jarque-Bera (JB):              238.850\n",
      "Skew:                           2.611   Prob(JB):                     1.36e-52\n",
      "Kurtosis:                      12.348   Cond. No.                         21.4\n",
      "==============================================================================\n",
      "\n",
      "Warnings:\n",
      "[1] Standard Errors assume that the covariance matrix of the errors is correctly specified.\n"
     ]
    }
   ],
   "source": [
    "leastsq_reg = sm.OLS(sold_sample, sm.add_constant(cost_sample)).fit()\n",
    "print leastsq_reg.summary()"
   ]
  },
  {
   "cell_type": "code",
   "execution_count": 21,
   "metadata": {
    "collapsed": false
   },
   "outputs": [
    {
     "name": "stdout",
     "output_type": "stream",
     "text": [
      "coefficients: [ 17.11513651  -0.70802257]\n",
      "rsquared:  0.0471495737177\n",
      "standard error:  [ 4.69520704  0.45940949]\n"
     ]
    }
   ],
   "source": [
    "#How to access parts of your OLS regression\n",
    "print 'coefficients:', leastsq_reg.params \n",
    "print 'rsquared: ', leastsq_reg.rsquared\n",
    "print 'standard error: ', leastsq_reg.bse \n",
    "#print 'Predicted values: ', res.predict() #prints predicted values"
   ]
  },
  {
   "cell_type": "code",
   "execution_count": 32,
   "metadata": {
    "collapsed": false
   },
   "outputs": [
    {
     "name": "stdout",
     "output_type": "stream",
     "text": [
      "(50, 3)\n",
      "(50,)\n"
     ]
    }
   ],
   "source": [
    "df_2 = pd.DataFrame({'bottle_cost': cost_sample, 'bottle_retail': cost_2_sample})\n",
    "costs = sm.add_constant(df_2)\n",
    "print costs.shape\n",
    "print sold_sample.shape"
   ]
  },
  {
   "cell_type": "code",
   "execution_count": 36,
   "metadata": {
    "collapsed": false
   },
   "outputs": [
    {
     "data": {
      "text/html": [
       "<table class=\"simpletable\">\n",
       "<caption>OLS Regression Results</caption>\n",
       "<tr>\n",
       "  <th>Dep. Variable:</th>            <td>y</td>        <th>  R-squared:         </th> <td>   0.019</td>\n",
       "</tr>\n",
       "<tr>\n",
       "  <th>Model:</th>                   <td>OLS</td>       <th>  Adj. R-squared:    </th> <td>  -0.022</td>\n",
       "</tr>\n",
       "<tr>\n",
       "  <th>Method:</th>             <td>Least Squares</td>  <th>  F-statistic:       </th> <td>  0.4640</td>\n",
       "</tr>\n",
       "<tr>\n",
       "  <th>Date:</th>             <td>Thu, 23 Jun 2016</td> <th>  Prob (F-statistic):</th>  <td> 0.632</td> \n",
       "</tr>\n",
       "<tr>\n",
       "  <th>Time:</th>                 <td>15:51:04</td>     <th>  Log-Likelihood:    </th> <td> -175.50</td>\n",
       "</tr>\n",
       "<tr>\n",
       "  <th>No. Observations:</th>      <td>    50</td>      <th>  AIC:               </th> <td>   357.0</td>\n",
       "</tr>\n",
       "<tr>\n",
       "  <th>Df Residuals:</th>          <td>    47</td>      <th>  BIC:               </th> <td>   362.7</td>\n",
       "</tr>\n",
       "<tr>\n",
       "  <th>Df Model:</th>              <td>     2</td>      <th>                     </th>     <td> </td>   \n",
       "</tr>\n",
       "<tr>\n",
       "  <th>Covariance Type:</th>      <td>nonrobust</td>    <th>                     </th>     <td> </td>   \n",
       "</tr>\n",
       "</table>\n",
       "<table class=\"simpletable\">\n",
       "<tr>\n",
       "        <td></td>           <th>coef</th>     <th>std err</th>      <th>t</th>      <th>P>|t|</th> <th>[95.0% Conf. Int.]</th> \n",
       "</tr>\n",
       "<tr>\n",
       "  <th>const</th>         <td>    9.5752</td> <td>    2.745</td> <td>    3.489</td> <td> 0.001</td> <td>    4.054    15.097</td>\n",
       "</tr>\n",
       "<tr>\n",
       "  <th>bottle_cost</th>   <td>   15.4627</td> <td>   51.031</td> <td>    0.303</td> <td> 0.763</td> <td>  -87.199   118.125</td>\n",
       "</tr>\n",
       "<tr>\n",
       "  <th>bottle_retail</th> <td>  -10.4912</td> <td>   34.033</td> <td>   -0.308</td> <td> 0.759</td> <td>  -78.956    57.974</td>\n",
       "</tr>\n",
       "</table>\n",
       "<table class=\"simpletable\">\n",
       "<tr>\n",
       "  <th>Omnibus:</th>       <td>49.590</td> <th>  Durbin-Watson:     </th> <td>   2.141</td>\n",
       "</tr>\n",
       "<tr>\n",
       "  <th>Prob(Omnibus):</th> <td> 0.000</td> <th>  Jarque-Bera (JB):  </th> <td> 234.901</td>\n",
       "</tr>\n",
       "<tr>\n",
       "  <th>Skew:</th>          <td> 2.589</td> <th>  Prob(JB):          </th> <td>9.81e-52</td>\n",
       "</tr>\n",
       "<tr>\n",
       "  <th>Kurtosis:</th>      <td>12.270</td> <th>  Cond. No.          </th> <td>    866.</td>\n",
       "</tr>\n",
       "</table>"
      ],
      "text/plain": [
       "<class 'statsmodels.iolib.summary.Summary'>\n",
       "\"\"\"\n",
       "                            OLS Regression Results                            \n",
       "==============================================================================\n",
       "Dep. Variable:                      y   R-squared:                       0.019\n",
       "Model:                            OLS   Adj. R-squared:                 -0.022\n",
       "Method:                 Least Squares   F-statistic:                    0.4640\n",
       "Date:                Thu, 23 Jun 2016   Prob (F-statistic):              0.632\n",
       "Time:                        15:51:04   Log-Likelihood:                -175.50\n",
       "No. Observations:                  50   AIC:                             357.0\n",
       "Df Residuals:                      47   BIC:                             362.7\n",
       "Df Model:                           2                                         \n",
       "Covariance Type:            nonrobust                                         \n",
       "=================================================================================\n",
       "                    coef    std err          t      P>|t|      [95.0% Conf. Int.]\n",
       "---------------------------------------------------------------------------------\n",
       "const             9.5752      2.745      3.489      0.001         4.054    15.097\n",
       "bottle_cost      15.4627     51.031      0.303      0.763       -87.199   118.125\n",
       "bottle_retail   -10.4912     34.033     -0.308      0.759       -78.956    57.974\n",
       "==============================================================================\n",
       "Omnibus:                       49.590   Durbin-Watson:                   2.141\n",
       "Prob(Omnibus):                  0.000   Jarque-Bera (JB):              234.901\n",
       "Skew:                           2.589   Prob(JB):                     9.81e-52\n",
       "Kurtosis:                      12.270   Cond. No.                         866.\n",
       "==============================================================================\n",
       "\n",
       "Warnings:\n",
       "[1] Standard Errors assume that the covariance matrix of the errors is correctly specified.\n",
       "\"\"\""
      ]
     },
     "execution_count": 36,
     "metadata": {},
     "output_type": "execute_result"
    }
   ],
   "source": [
    "est = sm.OLS(sold_sample, costs).fit()\n",
    "est.summary()"
   ]
  },
  {
   "cell_type": "code",
   "execution_count": null,
   "metadata": {
    "collapsed": true
   },
   "outputs": [],
   "source": [
    "# import formula api as alias smf\n",
    "# import statsmodels.formula.api as smf\n",
    "\n",
    "# formula: response ~ predictor + predictor\n",
    "# est_2 = smf.ols(formula='Sales ~ TV + Radio', data=df_adv).fit()"
   ]
  },
  {
   "cell_type": "markdown",
   "metadata": {},
   "source": [
    "## 7. Plot the least squares regression\n",
    "\n",
    "You can use the ```plot_regression(x, y, model)``` function provided."
   ]
  },
  {
   "cell_type": "code",
   "execution_count": 13,
   "metadata": {
    "collapsed": false
   },
   "outputs": [
    {
     "data": {
      "image/png": "[encoded data removed]",
      "text/plain": [
       "<matplotlib.figure.Figure at 0x115a2c450>"
      ]
     },
     "metadata": {},
     "output_type": "display_data"
    }
   ],
   "source": [
    "plot_regression(cost_sample, sold_sample, leastsq_reg)"
   ]
  },
  {
   "cell_type": "markdown",
   "metadata": {},
   "source": [
    "## 8. Build a least absolute deviation quantreg model on the same sample"
   ]
  },
  {
   "cell_type": "code",
   "execution_count": 14,
   "metadata": {
    "collapsed": false
   },
   "outputs": [
    {
     "name": "stdout",
     "output_type": "stream",
     "text": [
      "                         QuantReg Regression Results                          \n",
      "==============================================================================\n",
      "Dep. Variable:                      y   Pseudo R-squared:           -2.661e-08\n",
      "Model:                       QuantReg   Bandwidth:                       10.72\n",
      "Method:                 Least Squares   Sparsity:                        19.11\n",
      "Date:                Wed, 22 Jun 2016   No. Observations:                   50\n",
      "Time:                        23:12:46   Df Residuals:                       48\n",
      "                                        Df Model:                            1\n",
      "==============================================================================\n",
      "                 coef    std err          t      P>|t|      [95.0% Conf. Int.]\n",
      "------------------------------------------------------------------------------\n",
      "const          6.0000      2.330      2.575      0.013         1.315    10.685\n",
      "x1         -4.259e-07      0.182  -2.34e-06      1.000        -0.366     0.366\n",
      "==============================================================================\n"
     ]
    }
   ],
   "source": [
    "lad_reg = QuantReg(sold_sample, sm.add_constant(cost_sample)).fit(q=0.5)\n",
    "print lad_reg.summary()"
   ]
  },
  {
   "cell_type": "markdown",
   "metadata": {},
   "source": [
    "## 9. Plot the LAD regression"
   ]
  },
  {
   "cell_type": "code",
   "execution_count": 15,
   "metadata": {
    "collapsed": false
   },
   "outputs": [
    {
     "data": {
      "image/png": "[encoded data removed]",
      "text/plain": [
       "<matplotlib.figure.Figure at 0x10f41b790>"
      ]
     },
     "metadata": {},
     "output_type": "display_data"
    }
   ],
   "source": [
    "plot_regression(cost_sample, sold_sample, lad_reg)"
   ]
  },
  {
   "cell_type": "markdown",
   "metadata": {},
   "source": [
    "## 10. Calculate the RMSE and the MAE between you response and predicted response\n",
    "\n",
    "**RMSE** is the **root mean squared error**. It is a metric for the performance of your regression related to the least squared loss. \n",
    "\n",
    "$$\\text{RMSE} = \\sqrt{\\frac{\\sum_{i}{\\left(\\hat{y}_i - y_i \\right)^2}}{n}}$$\n",
    "\n",
    "https://en.wikipedia.org/wiki/Root-mean-square_deviation\n",
    "\n",
    "**MAE** is the **mean absolute error**. It is a metric for regression performace when the loss function is the least absolute deviation.\n",
    "\n",
    "$$\\text{MAE} = \\frac{\\sum_{i}{|\\hat{y}_i - y_i |}}{n}$$\n",
    "\n",
    "https://en.wikipedia.org/wiki/Average_absolute_deviation"
   ]
  },
  {
   "cell_type": "code",
   "execution_count": 16,
   "metadata": {
    "collapsed": true
   },
   "outputs": [],
   "source": [
    "from sklearn.metrics import mean_squared_error, mean_absolute_error"
   ]
  },
  {
   "cell_type": "code",
   "execution_count": 17,
   "metadata": {
    "collapsed": false
   },
   "outputs": [],
   "source": [
    "leastsq_predictions = leastsq_reg.predict()\n",
    "lad_predictions = lad_reg.predict()"
   ]
  },
  {
   "cell_type": "code",
   "execution_count": 18,
   "metadata": {
    "collapsed": false
   },
   "outputs": [
    {
     "name": "stdout",
     "output_type": "stream",
     "text": [
      "9.21162178081\n"
     ]
    }
   ],
   "source": [
    "print np.sqrt(mean_squared_error(sold_sample, leastsq_predictions))"
   ]
  },
  {
   "cell_type": "code",
   "execution_count": 19,
   "metadata": {
    "collapsed": false
   },
   "outputs": [
    {
     "name": "stdout",
     "output_type": "stream",
     "text": [
      "5.98000015915\n"
     ]
    }
   ],
   "source": [
    "print mean_absolute_error(sold_sample, lad_predictions)"
   ]
  },
  {
   "cell_type": "markdown",
   "metadata": {},
   "source": [
    "## 11. [BONUS] What would be the loss function to find the _mode_ and why?\n",
    "\n",
    "Remember that the least squares loss minimizes:\n",
    "\n",
    "### $$\\sum_{i}{\\left(\\hat{y}_i - y_i \\right)^2}$$\n",
    "\n",
    "And the least absolute deviation loss minimizes:\n",
    "\n",
    "### $$y = \\sum_{i}{|\\hat{y}_i - y_i |^1}$$\n",
    "\n",
    "**Do you see a pattern here?**\n"
   ]
  },
  {
   "cell_type": "markdown",
   "metadata": {},
   "source": [
    "The loss function to find the mode of a response variable with predictors minimizes the sum:\n",
    "\n",
    "$$\\frac{\\sum_{i}{|\\hat{y}_i - y_i |^{0}}}{n}$$\n",
    "\n",
    "This is because $0^0=0$ and $x^0=1$ otherwise.\n",
    "\n",
    "**The minimum is where the predicted responses are equal to the most common response**. This is because there will be the most 0 values where the predicted response matches the most true responses. Any other predicted response becomes 1!"
   ]
  },
  {
   "cell_type": "markdown",
   "metadata": {},
   "source": [
    "## 12. [BONUS] Create a quantile regression with q = 0.25 and plot it. What exactly is this regression predicting?"
   ]
  },
  {
   "cell_type": "code",
   "execution_count": 20,
   "metadata": {
    "collapsed": false
   },
   "outputs": [
    {
     "name": "stdout",
     "output_type": "stream",
     "text": [
      "                         QuantReg Regression Results                          \n",
      "==============================================================================\n",
      "Dep. Variable:                      y   Pseudo R-squared:             0.004612\n",
      "Model:                       QuantReg   Bandwidth:                       9.771\n",
      "Method:                 Least Squares   Sparsity:                        21.37\n",
      "Date:                Wed, 22 Jun 2016   No. Observations:                   50\n",
      "Time:                        23:13:41   Df Residuals:                       48\n",
      "                                        Df Model:                            1\n",
      "==============================================================================\n",
      "                 coef    std err          t      P>|t|      [95.0% Conf. Int.]\n",
      "------------------------------------------------------------------------------\n",
      "const          2.4290      2.223      1.093      0.280        -2.041     6.899\n",
      "x1            -0.0477      0.178     -0.267      0.790        -0.406     0.311\n",
      "==============================================================================\n"
     ]
    }
   ],
   "source": [
    "q25_reg = QuantReg(sold_sample, sm.add_constant(cost_sample)).fit(q=0.25)\n",
    "print q25_reg.summary()"
   ]
  },
  {
   "cell_type": "code",
   "execution_count": 21,
   "metadata": {
    "collapsed": false
   },
   "outputs": [
    {
     "data": {
      "image/png": "[encoded data removed]",
      "text/plain": [
       "<matplotlib.figure.Figure at 0x10f7bf610>"
      ]
     },
     "metadata": {},
     "output_type": "display_data"
    }
   ],
   "source": [
    "plot_regression(cost_sample, sold_sample, q25_reg)"
   ]
  },
  {
   "cell_type": "markdown",
   "metadata": {},
   "source": [
    "When q=0.25, the quantile regression is **predicting the 25th percentile of the response variable given the predictors**."
   ]
  }
 ],
 "metadata": {
  "kernelspec": {
   "display_name": "Python 2",
   "language": "python",
   "name": "python2"
  },
  "language_info": {
   "codemirror_mode": {
    "name": "ipython",
    "version": 2
   },
   "file_extension": ".py",
   "mimetype": "text/x-python",
   "name": "python",
   "nbconvert_exporter": "python",
   "pygments_lexer": "ipython2",
   "version": "2.7.5"
  }
 },
 "nbformat": 4,
 "nbformat_minor": 0
}
