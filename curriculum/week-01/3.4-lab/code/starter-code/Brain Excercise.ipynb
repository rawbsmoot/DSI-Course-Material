{
 "cells": [
  {
   "cell_type": "code",
   "execution_count": 19,
   "metadata": {
    "collapsed": true
   },
   "outputs": [],
   "source": [
    "# which 3 numbers will produce the biggest product\n",
    "s = 83434341740393418284939321212590394832425\n"
   ]
  },
  {
   "cell_type": "code",
   "execution_count": 20,
   "metadata": {
    "collapsed": false
   },
   "outputs": [],
   "source": [
    "s = str(s)\n"
   ]
  },
  {
   "cell_type": "code",
   "execution_count": 21,
   "metadata": {
    "collapsed": false
   },
   "outputs": [],
   "source": [
    "subset_digits = [ s[i:i+3] for i in range(0, len(s)-3) ]\n",
    "import math\n",
    "def product_digits(number):\n",
    "    return math.factorial(int(number))\n"
   ]
  },
  {
   "cell_type": "code",
   "execution_count": 22,
   "metadata": {
    "collapsed": false
   },
   "outputs": [
    {
     "data": {
      "text/plain": [
       "['834',\n",
       " '343',\n",
       " '434',\n",
       " '343',\n",
       " '434',\n",
       " '341',\n",
       " '417',\n",
       " '174',\n",
       " '740',\n",
       " '403',\n",
       " '039',\n",
       " '393',\n",
       " '934',\n",
       " '341',\n",
       " '418',\n",
       " '182',\n",
       " '828',\n",
       " '284',\n",
       " '849',\n",
       " '493',\n",
       " '939',\n",
       " '393',\n",
       " '932',\n",
       " '321',\n",
       " '212',\n",
       " '121',\n",
       " '212',\n",
       " '125',\n",
       " '259',\n",
       " '590',\n",
       " '903',\n",
       " '039',\n",
       " '394',\n",
       " '948',\n",
       " '483',\n",
       " '832',\n",
       " '324',\n",
       " '242']"
      ]
     },
     "execution_count": 22,
     "metadata": {},
     "output_type": "execute_result"
    }
   ],
   "source": [
    "[s[i:i+3] for i in range(0, len(s)-3)]"
   ]
  },
  {
   "cell_type": "code",
   "execution_count": 24,
   "metadata": {
    "collapsed": false
   },
   "outputs": [
    {
     "data": {
      "text/plain": [
       "33"
      ]
     },
     "execution_count": 24,
     "metadata": {},
     "output_type": "execute_result"
    }
   ],
   "source": [
    "import numpy as np\n",
    "np.argmax(map(product_digits, subset_digits))"
   ]
  },
  {
   "cell_type": "code",
   "execution_count": 25,
   "metadata": {
    "collapsed": false
   },
   "outputs": [
    {
     "data": {
      "text/plain": [
       "'948'"
      ]
     },
     "execution_count": 25,
     "metadata": {},
     "output_type": "execute_result"
    }
   ],
   "source": [
    "subset_digits[33]"
   ]
  },
  {
   "cell_type": "code",
   "execution_count": null,
   "metadata": {
    "collapsed": true
   },
   "outputs": [],
   "source": []
  }
 ],
 "metadata": {
  "kernelspec": {
   "display_name": "Python 2",
   "language": "python",
   "name": "python2"
  },
  "language_info": {
   "codemirror_mode": {
    "name": "ipython",
    "version": 2
   },
   "file_extension": ".py",
   "mimetype": "text/x-python",
   "name": "python",
   "nbconvert_exporter": "python",
   "pygments_lexer": "ipython2",
   "version": "2.7.11"
  }
 },
 "nbformat": 4,
 "nbformat_minor": 0
}
