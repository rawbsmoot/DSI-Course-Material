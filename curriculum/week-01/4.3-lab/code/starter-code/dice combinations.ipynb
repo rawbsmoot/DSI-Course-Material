{
 "cells": [
  {
   "cell_type": "code",
   "execution_count": null,
   "metadata": {
    "collapsed": true
   },
   "outputs": [],
   "source": [
    "Question:\n",
    "There are 36 possible combinations of two dice. \n",
    "A simple pair of loops over range(6)+1 will enumerate all combinations. \n",
    "The sum of the two dice is more interesting than the actual combination. \n",
    "Create a dict of all combinations, using the sum of the two dice as the key.\n",
    "\n",
    "Each value in the dict should be a list of tuples; each tuple has the value of two dice. \n",
    "The general outline is something like the following:\n",
    "\n",
    "PSEUDO CODE:\n",
    "dice_dict = {}\n",
    "\n",
    "Loop with d1 from 1 to 6\n",
    "\n",
    "    Loop with d2 from 1 to 6\n",
    "        newTuple ← ( d1, d2 ) # create the tuple\n",
    "        oldList ← dictionary entry for sum d1+d2\n",
    "        newList ← oldList + newTuple\n",
    "        replace entry in dictionary with newList\n",
    "\n",
    "Loop over all values in the dictionary\n",
    "    print the key and the length of the list\n",
    "\n",
    "SAMPLE OUTPUT \n",
    "\t#key: value == sum: [(1,2), (2,3)]\n",
    "\n",
    "A. Create the dictionary\n",
    "B. Print the dictionary\n",
    "\n",
    "\n"
   ]
  },
  {
   "cell_type": "code",
   "execution_count": 20,
   "metadata": {
    "collapsed": false
   },
   "outputs": [
    {
     "name": "stdout",
     "output_type": "stream",
     "text": [
      "2 [(1, 1)]\n",
      "3 [(1, 2), (2, 1)]\n",
      "4 [(1, 3), (2, 2), (3, 1)]\n",
      "5 [(1, 4), (2, 3), (3, 2), (4, 1)]\n",
      "6 [(1, 5), (2, 4), (3, 3), (4, 2), (5, 1)]\n",
      "7 [(1, 6), (2, 5), (3, 4), (4, 3), (5, 2), (6, 1)]\n",
      "8 [(2, 6), (3, 5), (4, 4), (5, 3), (6, 2)]\n",
      "9 [(3, 6), (4, 5), (5, 4), (6, 3)]\n",
      "10 [(4, 6), (5, 5), (6, 4)]\n",
      "11 [(5, 6), (6, 5)]\n",
      "12 [(6, 6)]\n"
     ]
    }
   ],
   "source": [
    "combinations = {} #creates an empty dictionary\n",
    "for x in range(1,7): #iterates through 1-6\n",
    "    for i in range(1,7): #this does the same but for dice 2\n",
    "        dice = (x, i) #creates a tuple for dice combinations\n",
    "        dice_sum = sum(dice) \n",
    "        if not dice_sum in combinations.keys(): #\n",
    "            combinations[dice_sum] = [dice]\n",
    "        else:\n",
    "            combinations[dice_sum].append(dice)\n",
    "\n",
    "            \n",
    "for i in combinations:\n",
    "    print i, combinations[i]\n",
    "\n",
    "            \n",
    "        #use this dictionary and create another dictionary with the probability of the sum of dice combinations.\n",
    "    "
   ]
  },
  {
   "cell_type": "code",
   "execution_count": null,
   "metadata": {
    "collapsed": true
   },
   "outputs": [],
   "source": []
  }
 ],
 "metadata": {
  "kernelspec": {
   "display_name": "Python 2",
   "language": "python",
   "name": "python2"
  },
  "language_info": {
   "codemirror_mode": {
    "name": "ipython",
    "version": 2
   },
   "file_extension": ".py",
   "mimetype": "text/x-python",
   "name": "python",
   "nbconvert_exporter": "python",
   "pygments_lexer": "ipython2",
   "version": "2.7.11"
  }
 },
 "nbformat": 4,
 "nbformat_minor": 0
}
