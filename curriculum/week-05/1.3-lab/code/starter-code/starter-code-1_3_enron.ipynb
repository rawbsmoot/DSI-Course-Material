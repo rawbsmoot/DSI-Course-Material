{
 "cells": [
  {
   "cell_type": "markdown",
   "metadata": {},
   "source": [
    "# Multi-table Datasets - ENRON Archive"
   ]
  },
  {
   "cell_type": "markdown",
   "metadata": {},
   "source": [
    "## 1. Data import\n",
    "\n",
    "Connect to the file 'assets/datasets/enron.db' using one of these methods:\n",
    "\n",
    "- sqlite3 python package\n",
    "- pandas.read_sql\n",
    "- SQLite Manager Firefox extension\n",
    "\n",
    "Take a look at the database and query the master table. How many Tables are there in the db?\n",
    "\n",
    "> Answer:\n",
    "There are 3 tables:\n",
    "- MessageBase\n",
    "- RecipientBase\n",
    "- EmployeeBase"
   ]
  },
  {
   "cell_type": "code",
<<<<<<< HEAD:curriculum/week-05/1.3-lab/code/starter-code/starter-code-1_3_enron.ipynb
   "execution_count": 8,
=======
   "execution_count": 7,
>>>>>>> 1f415a36aaa6b396550651f8a516487252dab542:curriculum/week-05/1.3-lab/code/starter-code/starter-code-1_3.ipynb
   "metadata": {
    "collapsed": true
   },
<<<<<<< HEAD:curriculum/week-05/1.3-lab/code/starter-code/starter-code-1_3_enron.ipynb
   "outputs": [],
   "source": [
    "import sqlite3\n",
    "import pandas as pd\n",
    "from pandas.io import sql"
   ]
  },
  {
   "cell_type": "code",
   "execution_count": 9,
   "metadata": {
    "collapsed": false
   },
=======
>>>>>>> 1f415a36aaa6b396550651f8a516487252dab542:curriculum/week-05/1.3-lab/code/starter-code/starter-code-1_3.ipynb
   "outputs": [
    {
     "data": {
      "text/plain": [
<<<<<<< HEAD:curriculum/week-05/1.3-lab/code/starter-code/starter-code-1_3_enron.ipynb
       "[(u'MessageBase',), (u'RecipientBase',), (u'EmployeeBase',)]"
      ]
     },
     "execution_count": 9,
=======
       "[(u'view',\n",
       "  u'Employee',\n",
       "  u'Employee',\n",
       "  0,\n",
       "  u\"CREATE VIEW Employee AS\\nSELECT\\n    eid,\\n    name,\\n    longdepartment,\\n    title,\\n\\n    gender,\\n    CASE gender\\n        WHEN 'Female' THEN 1\\n        ELSE 0\\n    END AS genF,\\n\\n    seniority,\\n    CASE seniority\\n        WHEN 'Junior' THEN 1\\n        ELSE 0\\n    END AS senJ,\\n\\n    department,\\n    CASE department\\n        WHEN 'Legal' THEN 1\\n        ELSE 0\\n    END AS depL,\\n    CASE department\\n        WHEN 'Trading' THEN 1\\n        ELSE 0\\n    END AS depT\\nFROM\\n    EmployeeBase\"),\n",
       " (u'view',\n",
       "  u'EmployeeWithVars',\n",
       "  u'EmployeeWithVars',\n",
       "  0,\n",
       "  u'CREATE VIEW EmployeeWithVars AS\\nSELECT\\n    eid,\\n    1 AS intercept,\\n    genF,\\n    senJ,\\n    depL,\\n    depT,\\n    genF * senJ AS genF_senJ,\\n    genF * depL AS genF_depL,\\n    genF * depT AS genF_depT,\\n    senJ * depL AS senJ_depL,\\n    senJ * depT AS senJ_depT,\\n    genF * senJ * depL AS genF_senJ_depL,\\n    genF * senJ * depT AS genF_senJ_depT\\nFROM\\n    Employee'),\n",
       " (u'table',\n",
       "  u'MessageBase',\n",
       "  u'MessageBase',\n",
       "  3,\n",
       "  u'CREATE TABLE MessageBase (\\n    mid INTEGER,\\n    filename TEXT,\\n    unix_time INTEGER,\\n    subject TEXT,\\n    from_eid INTEGER,\\n    \\n    PRIMARY KEY(mid ASC),\\n    FOREIGN KEY(from_eid) REFERENCES Employee(eid)\\n)'),\n",
       " (u'index',\n",
       "  u'IX_MessageBase_unix_time',\n",
       "  u'MessageBase',\n",
       "  4,\n",
       "  u'CREATE INDEX IX_MessageBase_unix_time ON MessageBase(unix_time ASC)'),\n",
       " (u'view',\n",
       "  u'Message',\n",
       "  u'Message',\n",
       "  0,\n",
       "  u\"CREATE VIEW Message AS\\nSELECT\\n    mid,\\n    filename,\\n    datetime(unix_time, 'unixepoch') AS time,\\n    unix_time,\\n    subject,\\n    from_eid\\nFROM\\n    MessageBase\"),\n",
       " (u'table',\n",
       "  u'RecipientBase',\n",
       "  u'RecipientBase',\n",
       "  5,\n",
       "  u'CREATE TABLE RecipientBase (\\n    mid INTEGER,\\n    rno INTEGER,\\n    to_eid INTEGER,\\n    \\n    PRIMARY KEY(mid ASC, rno ASC)\\n    FOREIGN KEY(mid) REFERENCES Message(mid)\\n    FOREIGN KEY(to_eid) REFERENCES Employee(eid)\\n)'),\n",
       " (u'index', u'sqlite_autoindex_RecipientBase_1', u'RecipientBase', 6, None),\n",
       " (u'view',\n",
       "  u'Recipient',\n",
       "  u'Recipient',\n",
       "  0,\n",
       "  u'CREATE VIEW Recipient AS\\nSELECT\\n    mid,\\n    rno,\\n    to_eid\\nFROM\\n    RecipientBase'),\n",
       " (u'table',\n",
       "  u'EmployeeBase',\n",
       "  u'EmployeeBase',\n",
       "  2,\n",
       "  u'CREATE TABLE EmployeeBase (\\n                  [eid] INTEGER,\\n  [name] TEXT,\\n  [department] TEXT,\\n  [longdepartment] TEXT,\\n  [title] TEXT,\\n  [gender] TEXT,\\n  [seniority] TEXT\\n                  \\n                  )')]"
      ]
     },
     "execution_count": 7,
>>>>>>> 1f415a36aaa6b396550651f8a516487252dab542:curriculum/week-05/1.3-lab/code/starter-code/starter-code-1_3.ipynb
     "metadata": {},
     "output_type": "execute_result"
    }
   ],
   "source": [
<<<<<<< HEAD:curriculum/week-05/1.3-lab/code/starter-code/starter-code-1_3_enron.ipynb
    "sqlite_db = '../../assets/datasets/enron.db'\n",
    "conn = sqlite3.connect(sqlite_db) \n",
    "c = conn.cursor()\n",
    "c.execute(\"SELECT name FROM sqlite_master WHERE type='table';\").fetchall()"
=======
    "import sqlite3\n",
    "conn = sqlite3.connect('../../assets/datasets/enron.db') \n",
    "c = conn.cursor()\n",
    "c.execute(\"SELECT * FROM sqlite_master;\").fetchall()"
>>>>>>> 1f415a36aaa6b396550651f8a516487252dab542:curriculum/week-05/1.3-lab/code/starter-code/starter-code-1_3.ipynb
   ]
  },
  {
   "cell_type": "code",
<<<<<<< HEAD:curriculum/week-05/1.3-lab/code/starter-code/starter-code-1_3_enron.ipynb
   "execution_count": 10,
   "metadata": {
    "collapsed": false
=======
   "execution_count": 4,
   "metadata": {
    "collapsed": false,
    "scrolled": true
>>>>>>> 1f415a36aaa6b396550651f8a516487252dab542:curriculum/week-05/1.3-lab/code/starter-code/starter-code-1_3.ipynb
   },
   "outputs": [
    {
     "data": {
      "text/plain": [
       "[(1, u'taylor-m/sent/11', 910930020, u'Cd$ CME letter', 138),\n",
       " (2, u'taylor-m/sent/17', 911459940, u'Indemnification', 138),\n",
       " (3, u'taylor-m/sent/18', 911463840, u'Re: Indemnification', 138),\n",
       " (4, u'taylor-m/sent/23', 911874180, u'Re: Coral Energy, L.P.', 138),\n",
       " (5, u'taylor-m/sent/27', 912396120, u'Bankruptcy Code revisions', 138),\n",
       " (6, u'taylor-m/sent/31', 912570420, u'Re: Position Description', 138),\n",
       " (7, u'taylor-m/sent/33', 912576240, u'Koch', 138),\n",
       " (8, u'taylor-m/sent/40', 912685080, u'Re: Time to Celebrate!', 138),\n",
       " (9, u'taylor-m/sent/41', 912734100, u'Re: Vacation Request', 138),\n",
       " (10, u'taylor-m/sent/44', 913166040, u'Re: Last Message', 138)]"
      ]
     },
<<<<<<< HEAD:curriculum/week-05/1.3-lab/code/starter-code/starter-code-1_3_enron.ipynb
     "execution_count": 10,
=======
     "execution_count": 4,
>>>>>>> 1f415a36aaa6b396550651f8a516487252dab542:curriculum/week-05/1.3-lab/code/starter-code/starter-code-1_3.ipynb
     "metadata": {},
     "output_type": "execute_result"
    }
   ],
   "source": [
<<<<<<< HEAD:curriculum/week-05/1.3-lab/code/starter-code/starter-code-1_3_enron.ipynb
    "c.execute('SELECT * FROM MessageBase LIMIT 10;').fetchall()"
=======
    "c.execute(\"SELECT * FROM MessageBase LIMIT 10;\").fetchall()"
>>>>>>> 1f415a36aaa6b396550651f8a516487252dab542:curriculum/week-05/1.3-lab/code/starter-code/starter-code-1_3.ipynb
   ]
  },
  {
   "cell_type": "markdown",
   "metadata": {},
   "source": [
    "Query the `sqlite_master` table to retrieve the schema of the `EmployeeBase` table.\n",
    "\n",
    "1. What fields are there?\n",
    "1. What's the type of each of them?"
   ]
  },
  {
   "cell_type": "code",
   "execution_count": null,
   "metadata": {
    "collapsed": false
   },
   "outputs": [],
   "source": [
    "df = pd.DataFrame(c.execute('SELECT * FROM EmployeeBase').fetchall())\n",
    "employee_base.head()"
   ]
  },
  {
   "cell_type": "markdown",
   "metadata": {},
   "source": [
    "1. Print the first 5 rows of EmployeeBase table\n",
    "1. Print the first 5 rows of MessageBase table\n",
    "1. Print the first 5 rows of RecipientBase table\n",
    "\n",
    "**Hint**  use `SELECT` and `LIMIT`."
   ]
  },
  {
   "cell_type": "code",
   "execution_count": null,
   "metadata": {
    "collapsed": false
   },
   "outputs": [],
   "source": []
  },
  {
   "cell_type": "markdown",
   "metadata": {},
   "source": [
    "Import each of the 3 tables to a Pandas Dataframes"
   ]
  },
  {
   "cell_type": "code",
   "execution_count": null,
   "metadata": {
    "collapsed": true
   },
   "outputs": [],
   "source": []
  },
  {
   "cell_type": "markdown",
   "metadata": {},
   "source": [
    "## 2. Data Exploration\n",
    "\n",
    "Use the 3 dataframes to answer the following questions:\n",
    "\n",
    "1. How many employees are there in the company?\n",
    "- How many messages are there in the database?\n",
    "- Convert the timestamp column in the messages. When was the oldest message sent? And the newest?\n",
    "- Some messages are sent to more than one recipient. Group the messages by message_id and count the number of recepients. Then look at the distribution of recepient numbers.\n",
    "    - How many messages have only one recepient?\n",
    "    - How many messages have >= 5 recepients?\n",
    "    - What's the highest number of recepients?\n",
    "    - Who sent the message with the highest number of recepients?\n",
    "- Plot the distribution of recepient numbers using Bokeh."
   ]
  },
  {
   "cell_type": "code",
   "execution_count": null,
   "metadata": {
    "collapsed": true
   },
   "outputs": [],
   "source": []
  },
  {
   "cell_type": "markdown",
   "metadata": {},
   "source": [
    "Rescale to investigate the tail of the curve"
   ]
  },
  {
   "cell_type": "code",
   "execution_count": null,
   "metadata": {
    "collapsed": false
   },
   "outputs": [],
   "source": []
  },
  {
   "cell_type": "markdown",
   "metadata": {},
   "source": [
    "## 3. Data Merging\n",
    "\n",
    "Use the pandas merge function to combine the information in the 3 dataframes to answer the following questions:\n",
    "\n",
    "1. Are there more Men or Women employees?\n",
    "- How is gender distributed across departments?\n",
    "- Who is sending more emails? Men or Women?\n",
    "- What's the average number of emails sent by each gender?\n",
    "- Are there more Juniors or Seniors?\n",
    "- Who is sending more emails? Juniors or Seniors?\n",
    "- Which department is sending more emails? How does that relate with the number of employees in the department?\n",
    "- Who are the top 3 senders of emails? (people who sent out the most emails)"
   ]
  },
  {
   "cell_type": "code",
   "execution_count": null,
   "metadata": {
    "collapsed": false
   },
   "outputs": [],
   "source": []
  },
  {
   "cell_type": "markdown",
   "metadata": {},
   "source": [
    "Answer the following questions regarding received messages:\n",
    "\n",
    "- Who is receiving more emails? Men or Women?\n",
    "- Who is receiving more emails? Juniors or Seniors?\n",
    "- Which department is receiving more emails? How does that relate with the number of employees in the department?\n",
    "- Who are the top 5 receivers of emails? (people who received the most emails)"
   ]
  },
  {
   "cell_type": "code",
   "execution_count": null,
   "metadata": {
    "collapsed": true
   },
   "outputs": [],
   "source": []
  },
  {
   "cell_type": "markdown",
   "metadata": {},
   "source": [
    "Which employees sent the most 'mass' emails?"
   ]
  },
  {
   "cell_type": "code",
   "execution_count": null,
   "metadata": {
    "collapsed": false
   },
   "outputs": [],
   "source": []
  },
  {
   "cell_type": "markdown",
   "metadata": {},
   "source": [
    "Keep exploring the dataset, which other questions would you ask?\n",
    "\n",
    "Work in pairs. Give each other a challenge and try to solve it."
   ]
  }
 ],
 "metadata": {
  "kernelspec": {
   "display_name": "Python 2",
   "language": "python",
   "name": "python2"
  },
  "language_info": {
   "codemirror_mode": {
    "name": "ipython",
    "version": 2
   },
   "file_extension": ".py",
   "mimetype": "text/x-python",
   "name": "python",
   "nbconvert_exporter": "python",
   "pygments_lexer": "ipython2",
   "version": "2.7.5"
  }
 },
 "nbformat": 4,
 "nbformat_minor": 0
}
