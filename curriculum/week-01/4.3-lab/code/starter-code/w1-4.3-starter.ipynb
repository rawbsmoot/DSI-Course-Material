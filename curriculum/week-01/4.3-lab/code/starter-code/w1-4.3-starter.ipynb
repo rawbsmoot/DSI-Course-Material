{
 "cells": [
  {
   "cell_type": "code",
   "execution_count": 26,
   "metadata": {
    "collapsed": false
   },
   "outputs": [
    {
     "name": "stdout",
     "output_type": "stream",
     "text": [
      "[ 0  1  2  3  4  5  6  7  8  9 10 11 12 13 14]\n",
      "7.0\n"
     ]
    }
   ],
   "source": [
    "import numpy as np \n",
    "import math \n",
    "\n",
    "# create an array\n",
    "my_array = np.arange(15)\n",
    "np.reshape(my_array, (5,3))\n",
    "avg= np.mean(my_array)\n",
    "total = len(my_array)\n",
    "print my_array \n",
    "print avg"
   ]
  },
  {
   "cell_type": "code",
   "execution_count": 37,
   "metadata": {
    "collapsed": false
   },
   "outputs": [
    {
     "name": "stdout",
     "output_type": "stream",
     "text": [
      "18.6666666667\n"
     ]
    },
    {
     "data": {
      "text/plain": [
       "18.666666666666668"
      ]
     },
     "execution_count": 37,
     "metadata": {},
     "output_type": "execute_result"
    }
   ],
   "source": [
    "# Write a function that computes the variance\n",
    "# Compare your function results with numpy results\n",
    "def compute_variance(x):\n",
    "        return sum([(i-avg)**2 for i in my_array])/total\n",
    "print compute_variance(my_array)     \n",
    "\n",
    "np.var(my_array)\n"
   ]
  },
  {
   "cell_type": "code",
   "execution_count": 4,
   "metadata": {
    "collapsed": false
   },
   "outputs": [],
   "source": [
    "# Write a function that computes the standard deviation and \n",
    "# compare your function results with numpy equivalents. \n"
   ]
  }
 ],
 "metadata": {
  "kernelspec": {
   "display_name": "Python 2",
   "language": "python",
   "name": "python2"
  },
  "language_info": {
   "codemirror_mode": {
    "name": "ipython",
    "version": 2
   },
   "file_extension": ".py",
   "mimetype": "text/x-python",
   "name": "python",
   "nbconvert_exporter": "python",
   "pygments_lexer": "ipython2",
   "version": "2.7.11"
  }
 },
 "nbformat": 4,
 "nbformat_minor": 0
}
