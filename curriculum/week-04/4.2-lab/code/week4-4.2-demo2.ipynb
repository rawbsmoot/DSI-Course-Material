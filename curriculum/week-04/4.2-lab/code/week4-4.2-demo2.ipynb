{
 "cells": [
  {
   "cell_type": "markdown",
   "metadata": {},
   "source": [
    "### Guided Practice: Logit Function and Odds"
   ]
  },
  {
   "cell_type": "code",
   "execution_count": 2,
   "metadata": {
    "collapsed": true
   },
   "outputs": [],
   "source": [
    "import pandas as pd\n",
    "import numpy as np\n",
<<<<<<< HEAD
    "import patsy\n",
    "from sklearn.linear_model import LogisticRegression\n",
    "from sklearn.cross_validation import train_test_split\n"
=======
    "from patsy import dmatrices, dmatrix, demo_data\n",
    "from sklearn.linear_model import LogisticRegression"
>>>>>>> 7a8583941d66f831e66e9233b456b8bf290e8e12
   ]
  },
  {
   "cell_type": "code",
<<<<<<< HEAD
   "execution_count": 2,
=======
   "execution_count": 3,
>>>>>>> 7a8583941d66f831e66e9233b456b8bf290e8e12
   "metadata": {
    "collapsed": false
   },
   "outputs": [],
   "source": [
    "# Upload the dataset\n",
    "df = pd.read_csv('../datasets/collegeadmissions.csv')"
   ]
  },
  {
   "cell_type": "markdown",
   "metadata": {},
   "source": [
    "Review the data and list some questions this dataset can help answer:\n",
    "\n"
   ]
  },
  {
   "cell_type": "code",
<<<<<<< HEAD
   "execution_count": 3,
   "metadata": {
    "collapsed": false
   },
   "outputs": [
    {
     "data": {
      "text/plain": [
       "array([3, 1, 4, 2])"
      ]
     },
     "execution_count": 3,
     "metadata": {},
     "output_type": "execute_result"
    }
   ],
   "source": [
    "df['rank'].unique()"
   ]
  },
  {
   "cell_type": "code",
=======
>>>>>>> 7a8583941d66f831e66e9233b456b8bf290e8e12
   "execution_count": 4,
   "metadata": {
    "collapsed": false
   },
   "outputs": [
    {
     "data": {
      "text/html": [
       "<div>\n",
       "<table border=\"1\" class=\"dataframe\">\n",
       "  <thead>\n",
       "    <tr style=\"text-align: right;\">\n",
       "      <th></th>\n",
       "      <th>admit</th>\n",
       "      <th>gre</th>\n",
       "      <th>gpa</th>\n",
       "      <th>rank</th>\n",
       "    </tr>\n",
       "  </thead>\n",
       "  <tbody>\n",
       "    <tr>\n",
       "      <th>0</th>\n",
       "      <td>0</td>\n",
       "      <td>380</td>\n",
       "      <td>3.61</td>\n",
       "      <td>3</td>\n",
       "    </tr>\n",
       "    <tr>\n",
       "      <th>1</th>\n",
       "      <td>1</td>\n",
       "      <td>660</td>\n",
       "      <td>3.67</td>\n",
       "      <td>3</td>\n",
<<<<<<< HEAD
=======
       "    </tr>\n",
       "    <tr>\n",
       "      <th>2</th>\n",
       "      <td>1</td>\n",
       "      <td>800</td>\n",
       "      <td>4.00</td>\n",
       "      <td>1</td>\n",
       "    </tr>\n",
       "    <tr>\n",
       "      <th>3</th>\n",
       "      <td>1</td>\n",
       "      <td>640</td>\n",
       "      <td>3.19</td>\n",
       "      <td>4</td>\n",
       "    </tr>\n",
       "    <tr>\n",
       "      <th>4</th>\n",
       "      <td>0</td>\n",
       "      <td>520</td>\n",
       "      <td>2.93</td>\n",
       "      <td>4</td>\n",
>>>>>>> 7a8583941d66f831e66e9233b456b8bf290e8e12
       "    </tr>\n",
       "  </tbody>\n",
       "</table>\n",
       "</div>"
      ],
      "text/plain": [
       "   admit  gre   gpa  rank\n",
       "0      0  380  3.61     3\n",
       "1      1  660  3.67     3"
      ]
     },
     "execution_count": 4,
     "metadata": {},
     "output_type": "execute_result"
    }
   ],
   "source": [
    "df.head(2)"
   ]
  },
  {
   "cell_type": "code",
   "execution_count": 124,
   "metadata": {
    "collapsed": false
   },
   "outputs": [],
   "source": [
    "X = patsy.dmatrix(' ~ (gre) + (gpa) + C(rank) -1', df) #this '-1' removes the y intercept.  You might need to do this \n",
    "# if you are using patsy and then using scikit learn.  \n",
    "y = df['admit']"
   ]
  },
  {
   "cell_type": "code",
   "execution_count": 125,
   "metadata": {
    "collapsed": false
   },
   "outputs": [],
   "source": [
    "# X_train, X_test, y_train, y_test = train_test_split(X, y, test_size=0.33, stratify=y, random_state=77)"
   ]
  },
  {
   "cell_type": "code",
   "execution_count": 126,
   "metadata": {
    "collapsed": false
   },
   "outputs": [
    {
     "data": {
      "text/plain": [
       "DesignMatrix with shape (400, 6)\n",
       "  C(rank)[1]  C(rank)[2]  C(rank)[3]  C(rank)[4]  gre   gpa\n",
       "           0           0           1           0  380  3.61\n",
       "           0           0           1           0  660  3.67\n",
       "           1           0           0           0  800  4.00\n",
       "           0           0           0           1  640  3.19\n",
       "           0           0           0           1  520  2.93\n",
       "           0           1           0           0  760  3.00\n",
       "           1           0           0           0  560  2.98\n",
       "           0           1           0           0  400  3.08\n",
       "           0           0           1           0  540  3.39\n",
       "           0           1           0           0  700  3.92\n",
       "           0           0           0           1  800  4.00\n",
       "           1           0           0           0  440  3.22\n",
       "           1           0           0           0  760  4.00\n",
       "           0           1           0           0  700  3.08\n",
       "           1           0           0           0  700  4.00\n",
       "           0           0           1           0  480  3.44\n",
       "           0           0           0           1  780  3.87\n",
       "           0           0           1           0  360  2.56\n",
       "           0           1           0           0  800  3.75\n",
       "           1           0           0           0  540  3.81\n",
       "           0           0           1           0  500  3.17\n",
       "           0           1           0           0  660  3.63\n",
       "           0           0           0           1  600  2.82\n",
       "           0           0           0           1  680  3.19\n",
       "           0           1           0           0  760  3.35\n",
       "           1           0           0           0  800  3.66\n",
       "           1           0           0           0  620  3.61\n",
       "           0           0           0           1  520  3.74\n",
       "           0           1           0           0  780  3.22\n",
       "           1           0           0           0  520  3.29\n",
       "  [370 rows omitted]\n",
       "  Terms:\n",
       "    'C(rank)' (columns 0:4)\n",
       "    'gre' (column 4)\n",
       "    'gpa' (column 5)\n",
       "  (to view full data, use np.asarray(this_obj))"
      ]
     },
     "execution_count": 126,
     "metadata": {},
     "output_type": "execute_result"
    }
   ],
   "source": [
    "# np.asarray(X)\n",
    "# y_train\n",
    "X"
   ]
  },
  {
   "cell_type": "code",
   "execution_count": 123,
   "metadata": {
    "collapsed": false
   },
   "outputs": [],
   "source": [
    "lm = LogisticRegression()\n",
    "logit = lm.fit(X, y)"
   ]
  },
  {
   "cell_type": "code",
   "execution_count": 80,
   "metadata": {
    "collapsed": false
   },
   "outputs": [
    {
     "data": {
      "text/plain": [
       "LogisticRegression(C=1.0, class_weight=None, dual=False, fit_intercept=True,\n",
       "          intercept_scaling=1, max_iter=100, multi_class='ovr', n_jobs=1,\n",
       "          penalty='l2', random_state=None, solver='liblinear', tol=0.0001,\n",
       "          verbose=0, warm_start=False)"
      ]
     },
     "execution_count": 80,
     "metadata": {},
     "output_type": "execute_result"
    }
   ],
   "source": [
    "logit.fit(X_train, y_train)"
   ]
  },
  {
   "cell_type": "code",
   "execution_count": 81,
   "metadata": {
    "collapsed": false
   },
   "outputs": [],
   "source": [
    "predictions = logit.predict(X_test)"
   ]
  },
  {
   "cell_type": "code",
   "execution_count": 82,
   "metadata": {
    "collapsed": false
   },
   "outputs": [
    {
     "name": "stdout",
     "output_type": "stream",
     "text": [
      "[0 0 0 1 1 0 0 0 1 0 0 1 0 1 0 0 0 0 0 1 0 0 0 0 0 0 0 0 0 0 0 0 0 0 0 0 0\n",
      " 0 0 0 0 0 1 0 1 0 0 0 1 0 0 0 0 0 0 0 0 0 0 0 0 1 0 0 0 1 0 0 0 0 0 0 0 0\n",
      " 1 1 0 0 0 0 0 0 0 0 0 0 0 0 1 0 0 0 0 0 0 0 0 0 1 0 0 0 0 0 0 0 0 0 0 1 1\n",
      " 1 0 1 0 0 0 0 0 0 0 0 0 0 0 0 0 0 0 0 0 0]\n"
     ]
    }
   ],
   "source": [
    "print predictions"
   ]
  },
  {
   "cell_type": "code",
<<<<<<< HEAD
   "execution_count": 83,
   "metadata": {
    "collapsed": false
   },
   "outputs": [
    {
     "name": "stdout",
     "output_type": "stream",
     "text": [
      "0.7025\n"
     ]
    }
   ],
   "source": [
    "print lm.score(X, df['admit'])"
   ]
  },
  {
   "cell_type": "code",
   "execution_count": null,
   "metadata": {
    "collapsed": true
   },
   "outputs": [],
   "source": []
  },
  {
   "cell_type": "code",
   "execution_count": null,
   "metadata": {
    "collapsed": true
   },
   "outputs": [],
   "source": []
  },
  {
   "cell_type": "code",
   "execution_count": null,
   "metadata": {
    "collapsed": true
   },
   "outputs": [],
   "source": []
  },
  {
   "cell_type": "code",
   "execution_count": null,
   "metadata": {
    "collapsed": true
   },
   "outputs": [],
   "source": []
  },
  {
   "cell_type": "code",
   "execution_count": null,
   "metadata": {
    "collapsed": true
   },
   "outputs": [],
   "source": []
  },
  {
   "cell_type": "code",
   "execution_count": null,
   "metadata": {
    "collapsed": true
   },
   "outputs": [],
   "source": []
  },
  {
   "cell_type": "code",
   "execution_count": null,
   "metadata": {
    "collapsed": true
   },
   "outputs": [],
   "source": []
  },
  {
   "cell_type": "code",
   "execution_count": null,
   "metadata": {
    "collapsed": true
   },
   "outputs": [],
   "source": []
  },
  {
   "cell_type": "code",
   "execution_count": 4,
=======
   "execution_count": 5,
>>>>>>> 7a8583941d66f831e66e9233b456b8bf290e8e12
   "metadata": {
    "collapsed": false
   },
   "outputs": [],
   "source": [
    "df = df.join(pd.get_dummies(df['rank']))"
   ]
  },
  {
   "cell_type": "code",
<<<<<<< HEAD
   "execution_count": 5,
=======
   "execution_count": 6,
   "metadata": {
    "collapsed": false
   },
   "outputs": [
    {
     "name": "stdout",
     "output_type": "stream",
     "text": [
      "   admit\n",
      "0      0\n",
      "1      1\n",
      "2      1\n",
      "3      1\n",
      "4      0\n",
      "   C(rank)[1]  C(rank)[2]  C(rank)[3]  C(rank)[4]  gre   gpa\n",
      "0           0           0           1           0  380  3.61\n",
      "1           0           0           1           0  660  3.67\n",
      "2           1           0           0           0  800  4.00\n",
      "3           0           0           0           1  640  3.19\n",
      "4           0           0           0           1  520  2.93\n"
     ]
    }
   ],
   "source": [
    "attributes = \"admit ~ C(rank) + gre + gpa -1\"\n",
    "y_patsy, X_patsy = dmatrices(attributes, df, return_type=\"dataframe\")\n",
    "print y_patsy.head()\n",
    "print X_patsy.head()"
   ]
  },
  {
   "cell_type": "code",
   "execution_count": 7,
>>>>>>> 7a8583941d66f831e66e9233b456b8bf290e8e12
   "metadata": {
    "collapsed": false
   },
   "outputs": [
    {
     "data": {
      "text/html": [
       "<div>\n",
       "<table border=\"1\" class=\"dataframe\">\n",
       "  <thead>\n",
       "    <tr style=\"text-align: right;\">\n",
       "      <th></th>\n",
       "      <th>admit</th>\n",
       "      <th>gre</th>\n",
       "      <th>gpa</th>\n",
       "      <th>rank</th>\n",
       "      <th>1</th>\n",
       "      <th>2</th>\n",
       "      <th>3</th>\n",
       "      <th>4</th>\n",
       "    </tr>\n",
       "  </thead>\n",
       "  <tbody>\n",
       "    <tr>\n",
       "      <th>0</th>\n",
       "      <td>0</td>\n",
       "      <td>380</td>\n",
       "      <td>3.61</td>\n",
       "      <td>3</td>\n",
<<<<<<< HEAD
       "      <td>0.0</td>\n",
       "      <td>0.0</td>\n",
       "      <td>1.0</td>\n",
       "      <td>0.0</td>\n",
=======
       "      <td>0</td>\n",
       "      <td>0</td>\n",
       "      <td>1</td>\n",
       "      <td>0</td>\n",
>>>>>>> 7a8583941d66f831e66e9233b456b8bf290e8e12
       "    </tr>\n",
       "    <tr>\n",
       "      <th>1</th>\n",
       "      <td>1</td>\n",
       "      <td>660</td>\n",
       "      <td>3.67</td>\n",
       "      <td>3</td>\n",
<<<<<<< HEAD
       "      <td>0.0</td>\n",
       "      <td>0.0</td>\n",
       "      <td>1.0</td>\n",
       "      <td>0.0</td>\n",
=======
       "      <td>0</td>\n",
       "      <td>0</td>\n",
       "      <td>1</td>\n",
       "      <td>0</td>\n",
>>>>>>> 7a8583941d66f831e66e9233b456b8bf290e8e12
       "    </tr>\n",
       "    <tr>\n",
       "      <th>2</th>\n",
       "      <td>1</td>\n",
       "      <td>800</td>\n",
       "      <td>4.00</td>\n",
       "      <td>1</td>\n",
<<<<<<< HEAD
       "      <td>1.0</td>\n",
       "      <td>0.0</td>\n",
       "      <td>0.0</td>\n",
       "      <td>0.0</td>\n",
=======
       "      <td>1</td>\n",
       "      <td>0</td>\n",
       "      <td>0</td>\n",
       "      <td>0</td>\n",
>>>>>>> 7a8583941d66f831e66e9233b456b8bf290e8e12
       "    </tr>\n",
       "    <tr>\n",
       "      <th>3</th>\n",
       "      <td>1</td>\n",
       "      <td>640</td>\n",
       "      <td>3.19</td>\n",
       "      <td>4</td>\n",
<<<<<<< HEAD
       "      <td>0.0</td>\n",
       "      <td>0.0</td>\n",
       "      <td>0.0</td>\n",
       "      <td>1.0</td>\n",
=======
       "      <td>0</td>\n",
       "      <td>0</td>\n",
       "      <td>0</td>\n",
       "      <td>1</td>\n",
>>>>>>> 7a8583941d66f831e66e9233b456b8bf290e8e12
       "    </tr>\n",
       "    <tr>\n",
       "      <th>4</th>\n",
       "      <td>0</td>\n",
       "      <td>520</td>\n",
       "      <td>2.93</td>\n",
       "      <td>4</td>\n",
<<<<<<< HEAD
       "      <td>0.0</td>\n",
       "      <td>0.0</td>\n",
       "      <td>0.0</td>\n",
       "      <td>1.0</td>\n",
=======
       "      <td>0</td>\n",
       "      <td>0</td>\n",
       "      <td>0</td>\n",
       "      <td>1</td>\n",
>>>>>>> 7a8583941d66f831e66e9233b456b8bf290e8e12
       "    </tr>\n",
       "  </tbody>\n",
       "</table>\n",
       "</div>"
      ],
      "text/plain": [
       "   admit  gre   gpa  rank    1    2    3    4\n",
       "0      0  380  3.61     3  0.0  0.0  1.0  0.0\n",
       "1      1  660  3.67     3  0.0  0.0  1.0  0.0\n",
       "2      1  800  4.00     1  1.0  0.0  0.0  0.0\n",
       "3      1  640  3.19     4  0.0  0.0  0.0  1.0\n",
       "4      0  520  2.93     4  0.0  0.0  0.0  1.0"
      ]
     },
<<<<<<< HEAD
     "execution_count": 5,
=======
     "execution_count": 7,
>>>>>>> 7a8583941d66f831e66e9233b456b8bf290e8e12
     "metadata": {},
     "output_type": "execute_result"
    }
   ],
   "source": [
    "df.head()"
   ]
  },
  {
   "cell_type": "code",
   "execution_count": 8,
   "metadata": {
    "collapsed": false
   },
   "outputs": [
    {
     "name": "stderr",
     "output_type": "stream",
     "text": [
      "/Users/powchow/.virtualenvs/gatech-ml/lib/python2.7/site-packages/sklearn/utils/validation.py:515: DataConversionWarning: A column-vector y was passed when a 1d array was expected. Please change the shape of y to (n_samples, ), for example using ravel().\n",
      "  y = column_or_1d(y, warn=True)\n"
     ]
    },
    {
     "data": {
      "text/plain": [
       "LogisticRegression(C=1.0, class_weight=None, dual=False, fit_intercept=True,\n",
       "          intercept_scaling=1, max_iter=100, multi_class='ovr', n_jobs=1,\n",
       "          penalty='l2', random_state=None, solver='liblinear', tol=0.0001,\n",
       "          verbose=0, warm_start=False)"
      ]
     },
     "execution_count": 8,
     "metadata": {},
     "output_type": "execute_result"
    }
   ],
   "source": [
    "lm_patsy = LogisticRegression()\n",
    "lm_patsy.fit(X_patsy, y_patsy)"
   ]
  },
  {
   "cell_type": "code",
   "execution_count": 10,
   "metadata": {
    "collapsed": false
   },
   "outputs": [],
   "source": [
    "# Coefficients represent the log-odds. This includes the y-intercept. \n",
    "# print lm_patsy.coef_\n",
    "# print lm_patsy.intercept_\n",
    "# print y_patsy.admit.mean()"
   ]
  },
  {
   "cell_type": "code",
   "execution_count": 21,
   "metadata": {
    "collapsed": false
   },
   "outputs": [
    {
     "data": {
      "text/plain": [
       "LogisticRegression(C=1.0, class_weight=None, dual=False, fit_intercept=True,\n",
       "          intercept_scaling=1, max_iter=100, multi_class='ovr', n_jobs=1,\n",
       "          penalty='l2', random_state=None, solver='liblinear', tol=0.0001,\n",
       "          verbose=0, warm_start=False)"
      ]
     },
     "execution_count": 21,
     "metadata": {},
     "output_type": "execute_result"
    }
   ],
   "source": [
    "lm = LogisticRegression()\n",
    "#lm = LogisticRegression(class_weight = {0: 10, 1: 1})\n",
    "lm.fit(df[['gre', 'gpa', 1, 2, 3, 4]], df['admit'])"
   ]
  },
  {
   "cell_type": "code",
   "execution_count": 22,
   "metadata": {
    "collapsed": false
   },
   "outputs": [
    {
     "name": "stdout",
     "output_type": "stream",
     "text": [
      "[[ 0.00201308  0.12469558  0.22189888]]\n",
      "[-2.4406413]\n",
      "0.3175\n"
     ]
    }
   ],
   "source": [
    "# Coefficients represent the log-odds. This includes the y-intercept. \n",
    "print lm.coef_\n",
    "print lm.intercept_\n",
    "print df.admit.mean()"
   ]
  },
  {
   "cell_type": "code",
   "execution_count": 12,
   "metadata": {
    "collapsed": false
   },
   "outputs": [
    {
     "name": "stdout",
     "output_type": "stream",
     "text": [
      "[[ 1.00181987  1.27575545  0.54561685  0.30884233  0.25198177]]\n",
      "[ 0.15369453]\n",
      "0.3175\n"
     ]
    }
   ],
   "source": [
    "# You can easily convert these into odds using numpy.exp()\n",
    "print np.exp(lm.coef_)\n",
    "print np.exp(lm.intercept_)\n",
    "print df.admit.mean()"
   ]
  },
  {
   "cell_type": "markdown",
   "metadata": {},
   "source": [
    "The above makes it more clear that a schools rank as it approaches 4 decreases the odds of getting admitted.\n",
    "The accuracy of the model with all features is ~71.25% (see score below)."
   ]
  },
  {
   "cell_type": "code",
   "execution_count": 13,
   "metadata": {
    "collapsed": false
   },
   "outputs": [
    {
     "name": "stdout",
     "output_type": "stream",
     "text": [
      "0.6425\n"
     ]
    }
   ],
   "source": [
    "feature_set = df[['gre', 'gpa', 1, 2, 3,]]\n",
    "print lm.score(feature_set, df['admit'])"
   ]
  },
  {
   "cell_type": "markdown",
   "metadata": {},
   "source": [
    "Below is some code to walk through confusion matrices. It'll be useful for working through the Titanic problem."
   ]
  },
  {
   "cell_type": "code",
<<<<<<< HEAD
   "execution_count": 84,
=======
   "execution_count": 14,
>>>>>>> 7a8583941d66f831e66e9233b456b8bf290e8e12
   "metadata": {
    "collapsed": false
   },
   "outputs": [],
   "source": [
    "%matplotlib inline\n",
    "import matplotlib.pyplot as plt\n",
    "from sklearn.metrics import roc_curve, roc_auc_score\n",
    "from sklearn.metrics import confusion_matrix"
   ]
  },
  {
   "cell_type": "code",
   "execution_count": null,
   "metadata": {
    "collapsed": true
   },
   "outputs": [],
   "source": []
  },
  {
   "cell_type": "code",
   "execution_count": null,
   "metadata": {
    "collapsed": true
   },
   "outputs": [],
   "source": []
  },
  {
   "cell_type": "code",
   "execution_count": null,
   "metadata": {
    "collapsed": true
   },
   "outputs": [],
   "source": []
  },
  {
   "cell_type": "code",
   "execution_count": null,
   "metadata": {
    "collapsed": true
   },
   "outputs": [],
   "source": []
  },
  {
   "cell_type": "code",
   "execution_count": null,
   "metadata": {
    "collapsed": true
   },
   "outputs": [],
   "source": []
  },
  {
   "cell_type": "code",
   "execution_count": null,
   "metadata": {
    "collapsed": true
   },
   "outputs": [],
   "source": []
  },
  {
   "cell_type": "code",
   "execution_count": null,
   "metadata": {
    "collapsed": true
   },
   "outputs": [],
   "source": []
  },
  {
   "cell_type": "code",
   "execution_count": null,
   "metadata": {
    "collapsed": true
   },
   "outputs": [],
   "source": []
  },
  {
   "cell_type": "code",
   "execution_count": null,
   "metadata": {
    "collapsed": true
   },
   "outputs": [],
   "source": []
  },
  {
   "cell_type": "code",
   "execution_count": null,
   "metadata": {
    "collapsed": true
   },
   "outputs": [],
   "source": []
  },
  {
   "cell_type": "markdown",
   "metadata": {},
   "source": [
    "Below the ROC curve is based on various thresholds: it shows with a false positive rate (x-axis) ~0, it also expects a true positive rate (y-axis) ~0 (the same, ish, for the top right hand of the figure).\n",
    "\n",
    "The second chart, which does not play with thesholds, shows the one true TPR and FPR point, joined to 0,0 and 1,1.\n",
    "\n",
    "The first chart will be more effective as you compare models and determine where the decision line should exist for the data. The second simplifies the first in case this idea of thresholds is confusing."
   ]
  },
  {
   "cell_type": "code",
   "execution_count": 15,
   "metadata": {
    "collapsed": false
   },
   "outputs": [
    {
     "data": {
      "text/plain": [
       "[<matplotlib.lines.Line2D at 0x106a57f10>]"
      ]
     },
     "execution_count": 15,
     "metadata": {},
     "output_type": "execute_result"
    },
    {
     "data": {
<<<<<<< HEAD
      "image/png": "iVBORw0KGgoAAAANSUhEUgAAAXcAAAD9CAYAAABHnDf0AAAABHNCSVQICAgIfAhkiAAAAAlwSFlz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\nRCLEcicle9WsAAAACUlEQVQiEqH/C7xZbvLdZV4jAAAAAElFTkSuQmCC\n",
=======
      "image/png": [
       "iVBORw0KGgoAAAANSUhEUgAAAXkAAAEACAYAAABWLgY0AAAABHNCSVQICAgIfAhkiAAAAAlwSFlz\n",
       "AAALEgAACxIB0t1+/AAAFo5JREFUeJzt3X+wZGV95/H3ZwbwJ4vFD3GdAaL8CAYBJQq4mjhgwCGa\n",
       "kDUahZSLrtayFTHZ3VRk3Y2BSmJ0rVStS1DiuBQhUYNZMQpGAeM6QYwIGn6pM/LLIAyIgsgGFB3w\n",
       "u3+cHui53Lm3773dfbpPv19VXXXPOU/3/cyZe7/zzHPO85xUFZKkblrVdgBJ0uhY5CWpwyzyktRh\n",
       "FnlJ6jCLvCR1mEVekjps0SKf5Nwkdye5foE2ZyW5Kcm1SZ433IiSpOUapCd/HvDyHR1McgKwf1Ud\n",
       "CJwK/PmQskmSVmjRIl9VVwD3LdDkROAve22/DOyWZO/hxJMkrcQwxuTXALf3bW/p7ZMktcwLr5LU\n",
       "YTsN4TO2APv0ba/t7XucJC6UI0nLUFVZzvsGLfLpveZzEfAW4KNJjgZ+UFV37+iDlhu0a5KcWVVn\n",
       "tp1jEnguHuO5eMw0nouEXwfOB74z4Fs+WsV/X/xzl99BXrTIJ/kIsA7YI8m3gTOAXYCqqg1V9ekk\n",
       "v5zkZuBB4I3LDSNJ0ybh1cBuvc2jgIurOKnFSNtZtMhX1ckDtDltOHEkaXokPAH4G5pbzbe5sKU4\n",
       "8xrGmLyWZ2PbASbIxrYDTJCNbQeYIBvb/OYJvwc8d5Fmq4GtVbxpDJGWJeN8aEiSckxe0jRI2EQz\n",
       "B+jORZreU8XfjTbL8munRV6SgIQ3An/Qt2st8LNV3NpSpEetpHY6XCNp5iSsBp45Z/cRwMeBs3vb\n",
       "W6u4Y6zBRsAiL2kWvRF4L49fsuW/VvGtFvKMjMM1kmZGwi/STN48HviXKqbizkCHayRpMOcD1wMP\n",
       "AJe2nGUsLPKSOi3h2cDbaGbt7wX8ThX/3GqoMXKBMklddwRwJPBPwGlsv2pu59mTlzQLbq3iA22H\n",
       "aIM9eUnqMIu8JHWYwzWSJlrCk4D1LL9TevQQ40wdi7ykSfdi4APAF1bwGSNdW2aSORlK0sRI2JXm\n",
       "mRU79+3eF3hqFce1k6p9ToaS1BU/A/wm8O6+fbcC17aSpgMs8pImzT1V/K+2Q3SFRV5S63qrQj4F\n",
       "eGrbWbrGWyglTYKzgO/SrCfz7ZazdIpFXlKrEp4PPAc4tYp/VcUr2s7UJRZ5SW27gGbxsOvbDtJF\n",
       "jslLGpuE1wI/P2f304FXVnFTC5E6z/vkJY1NwheAr8F2T1/6CfC+Kra2k2ry+SBvSRMrYR/gr2lG\n",
       "Dg4Bjq/iS+2mmi5OhpI0MRJ2YvvrffsBuwP/HniEZl13jYlFXtLQJOwFbJnn0CVVXDnuPLLIS1qh\n",
       "hJ+leTg2wN7AXVXs12Ik9bHIS1qpDwEF/L/e9kUtZtEcFnlJS5LwXOA3+natpbkF8qstRdICnAwl\n",
       "aal+FTgGeLj3+jPgm60m0g7Zk5e0HF+o4g/bDqHF2ZOXpA6zyEsaWML5wDuB77edRYNxuEaaYb2L\n",
       "qE9bwlsOBE4ELh5NIg2bRV6abV8GrgN+OmD7h4GbqxjfeihaEdeukWZYwkPA06p4qO0s2rGV1M6B\n",
       "xuSTrE+yOcmNSU6f5/geST6T5NokNyR5w3LCSJKGa9GefJJVwI3Ay4A7gauB11XV5r42ZwBPrKq3\n",
       "J9mT5p7Zvavq4TmfZU9eGpOEVwNvXqTZccCTq/jxGCJpmUa9CuWRwE1VdVvvm11Ac+Flc1+b7wCH\n",
       "9r7eFbh3boGXNHb/huZ5qR9foM0fWuC7bZAivwa4vW/7DprC3++DwOeS3EnztPXXDieepLkSTmDh\n",
       "wr3NzsB/rOKSEUfSBBvW3TVvB66rqmOS7A98NslhVfXA3IZJzuzb3FhVG4eUQeqshOfQdKCg6WR9\n",
       "gmZ99sV4QXUKJVkHrBvGZw1S5LcA+/Ztr+Xx60W/mGaCBFV1S5JvAQcDX5n7YVV15rKSSjMq4UnA\n",
       "DcA1fbs/VMWPWoqkEet1fjdu2+5d91yWQYr81cABSfYD7gJeB5w0p80m4JeALybZGzgIuHW5oSRt\n",
       "ZxXw4ype2HYQTZ9Fi3xVPZLkNOAymh+2c6tqU5JTm8O1AXgXcF6S64AAb6sqpz1LUsucDCVNoIS3\n",
       "0vzvGJrO2EurHh2T14xZSe20yEsTKOFS4Eoee+j1vVVc0WIktcgiL02phMtg3rH2XYF1FnbB6CdD\n",
       "SRqdZ9HMOr1lzv6fVnF/C3nUMRZ5qX33V3Ff2yHUTRZ5qQUJAd7A0tZyl5bMJ0NJ7dgTOAf4EI+f\n",
       "XCgNjRdepRYk7AV8o4q92s6iyTfy9eQlSdPJMXlphBL2p1mDZO7v2mpw7RmNnkVeGoGEXYFnAIcD\n",
       "9wInzNPswbGG0kyyyEujcQ7NsgT/Any+irtazqMZZZGXhiRhFXAy8ASapbZ/u4q/aTeVZp0XXqXh\n",
       "WQt8gOaxe9fy2LozUmvsyUvDdW8Vb2o7hLSNPXlJ6jCLvCR1mEVekjrMIi8Nz5HAPW2HkPp54VVa\n",
       "gYSjgQNoZrD+D+BV7SaStucCZdIKJFxN03u/l2bS07ktR1IH+WQoqT0B3lHFV9oOIs3HMXlJ6jCL\n",
       "vLQMCasTrgSeC/yk7TzSjjhcIy3P04GfB57D4x/CLU0Me/LSEiUcCXwb2FzFzVWM7+4FaYks8tLS\n",
       "PRn4YhWHth1EWoxFXpI6zDF5aR4JLwdesYPDa8eZRVoJi7w0v9cATwX+cZ5jNwPXjzeOtDwWeWmO\n",
       "hP9NszzBf67i/LbzSCthkdfM6z2276l9u34BeDPwqXYSScPjhVcJfg/4HnBH77UH8OUqJzlp+rlA\n",
       "mWZWwotoCvrrga9V8UctR5Lm5QJl0vL8PXA58AhwZctZpJGwJ6+ZlfAjYPcqftR2FmkhK6mdA43J\n",
       "J1mfZHOSG5OcvoM265Jck+RrST6/nDCSpOFatCefZBVwI/Ay4E7gauB1VbW5r81uNPcTH19VW5Ls\n",
       "WVWPewyaPXlNgoR/DXwMOAp4ShU/bjmStKBR9+SPBG6qqtuqaitwAXDinDYnAxdW1RaA+Qq8NEGe\n",
       "AewFHG6BV9cNUuTXALf3bd/R29fvIGD3JJ9PcnWS1w8roDQiD1bx9bZDSKM2rLtrdgKOAI4FngJ8\n",
       "KcmXqurmIX2+JGkZBinyW4B9+7bX9vb1uwO4p6oeAh5KcjlwOM0aH9tJcmbf5saq2riUwJLUdUnW\n",
       "AeuG8lkDXHhdDXyT5sLrXcBVwElVtamvzcHAnwHrgScAXwZeW1XfmPNZXnhVaxKOBY6hGZN/QRXP\n",
       "bzmSNJCRToaqqkeSnAZcRjOGf25VbUpyanO4NlTV5iSX0qzM9wiwYW6BlybAm2g6IdcBl7ScRRoL\n",
       "J0NpZiR8GPh0FR9uO4u0FCOfDCVJmk4WeU2khNMSapgvmvkc97X9Z5PGySKvSbU78Mc0P6NDe1Xx\n",
       "6bH+KaSWuQqlJllVMb6LRlIH2ZOXpA6zyEtShzlco9YlHA/87pzd+wMfaiGO1CneJ69W9Zb9vQY4\n",
       "HfjOnMNfrcIVTTXzfPyfJlrCbcDTd3B4J+CPqjh/jJGkmWGR18gkrKJZqG4t8DTg4fna+fg9aXQs\n",
       "8hql5wFfAP4vzfrtP205jzRzLPIaiYRnAW8Avl7FcS3HkWaWt1BqVE4EXgKc1XYQaZbZk9eKJTwX\n",
       "eCfQf/V/f+DSKm+DlNpkkdcwHALsAbxnzv5/aiGLpD4Wea1IwjnAKcBfV3FR23kkbc8ir2VJeDZw\n",
       "HM3D258F3NtuIknzschryRJ2Am6keYzeb1Zxd8uRJO2AyxpoyRJ2Bn5Yxc5tZ5FmgY//kyTNyyKv\n",
       "JUlYQ7M6pA/zkKaARV5LdQBwGHBC20EkLc4Lr1pUwhdpJjcB7AJcVcXnWowkaUAWeQ3iYOAXgO/3\n",
       "tu9vMYukJbDIa1B3V3kvvDRtHJOXpA6zyEtSh1nkJanDLPKS1GEWeUnqMO+u0aMSng48cZ5Dq8ed\n",
       "RdJwWOQFQMJTgC3AXfMcvgv44XgTSRoGi7y22YlmZcl92w4iaXgck5ekDrPIS1KHWeQlqcMGKvJJ\n",
       "1ifZnOTGJKcv0O6FSbYmedXwImrUEg4DrgJ+0nYWScO1aJFPsgo4G3g5cAhwUpKDd9Du3cClww6p\n",
       "kVsDfJdmnXhJHTJIT/5I4Kaquq2qtgIXACfO0+6twMdoioWmzwNV894+KWmKDVLk1wC3923f0dv3\n",
       "qCTPBH6tqs4BfFC3JE2IYV14fS/QP1ZvoZekCTDIZKgtsN0EmbW9ff1eAFyQJMCewAlJtlbVRXM/\n",
       "LMmZfZsbq2rjkhJraBJOBl4E/EzLUST1SbIOWDeUz6qqxb7ZauCbwMtoprdfBZxUVZt20P484OKq\n",
       "+vg8x6qq7OVPiITPAZto/n6vqeKKliNJmsdKaueiPfmqeiTJacBlNMM751bVpiSnNodrw9y3LCeI\n",
       "WvO3PpRb6q5Fe/JD/Wb25CdKryf/JxZ5abKtpHY641WSOsxVKGdMwk7AcTR/93u1HEfSiFnkZ88h\n",
       "wEeBfwBuBW5pN46kUbLIz55VwC1V/ErbQSSNnmPyktRhFvkZknAs8FfAw21nkTQeFvkZkbCKZpXJ\n",
       "zcCvtxxH0phY5GfH2cCfAjdU8e22w0gaDy+8zo7dgFOq+HDbQSSNjz15Seowi/wMSHgDcHjbOSSN\n",
       "n0V+NpwBXAJsbDmHpDFzgbIOSfgEsPs8h44CDvSCqzSdVlI7LfIdklDAS+c59GPgqiqXgZamkUVe\n",
       "QFPkq3z0otQ1LjUsSZqXRV6SOszJUFMu4SDgN9rOIWky2ZOffr8KvBJ4IvC7LWeRNGHsyU+xhNOA\n",
       "/wB8oorfbzuPpMljkZ9uxwIXAO9rO4ikyeRwzZRKuAY4Ebi8irvbziNpMtmTnzIJoVkXfj/g2VXc\n",
       "1nIkSRPMnvz02Qe4CrgB+F7LWSRNOHvy02cnYEvVvMsXSNJ27MlLUodZ5KdIwuHABuCnbWeRNB0s\n",
       "8tPlUGBn4LVtB5E0HSzyUyLhv9H04jdX8dW280iaDhb56bEW+APgLW0HkTQ9LPLT5YdVPNx2CEnT\n",
       "wyI/BRKOp5kAJUlLYpGfDu8B7gD+oe0gkqaLk6EmWMJqmoutzwJOqeLrLUeSNGV8xusES3gy8AOa\n",
       "h4J8yvF4aTb5IO8OSXgf8Optm8DqKvZoMZKklo38Qd5J1ifZnOTGJKfPc/zkJNf1XlckOXQ5YQTA\n",
       "/sB/ornQeijNUI0kLcuiY/JJVgFnAy8D7gSuTvLJqtrc1+xW4Ber6v4k64EPAkePIvCMuM814iUN\n",
       "wyA9+SOBm6rqtqraSvMkohP7G1TVlVV1f2/zSmDNcGNKkpZjkCK/Bri9b/sOFi7ibwY+s5JQkqTh\n",
       "GOotlEmOAd4IvGSBNmf2bW6sqo3DzCBJ0y7JOmDdMD5rkCK/Bdi3b3ttb9/cUIfR3NO9vqru29GH\n",
       "VdWZS8woSTOl1/nduG07yRnL/axBhmuuBg5Isl+SXYDXARf1N0iyL3Ah8PqqumW5YWZdwuU0/3r/\n",
       "uOUokjpi0Z58VT2S5DTgMpp/FM6tqk1JTm0O1wbgHcDuwPuTBNhaVUeOMnhX9Ga1ru1tHgE8H9i8\n",
       "43dI0uCcDNWyhFOA9wH3Ag8AR1TZk5f0mJFPhtJIPQH4SBX7VXGIBV7SMFnkJanDXIVyxBL+BNhr\n",
       "gSbPAb4xpjiSZoxj8iOWsBX4bVhwBcl/dBlhSTviKpQtSngRcB7NipHzeTbwJJcJlrRcK6mdDtes\n",
       "3L7At2hWjpzPgxZ4SW2xyK/cXsBdVXyz7SCSNJd316zca4BPth1CkubjmPwKJOwDXAs80/vbJY2K\n",
       "Y/IjlvAa4KXzHDoI+FsLvKRJZU9+AAkX0zwV64Z5Dl9YxV1jjiRphtiTH4GEPYFLgF1onrP6miou\n",
       "aTeVJC2NRX7H9qC5c+ZXgJ8Cm9qNI0lLZ5Ff2ENVXN92CElaLm+hlKQOs8hLUodZ5CWpwyzyktRh\n",
       "Fvl5JLwY+D8svDywJE08i/wcCauAnwNuB17RchxJWhGL/OO9BzgHuKGKf245iyStyMzeJ59wAM0D\n",
       "Peb6OeC3qtgw5kiSNHQzW+SB99PMar13nmNOgJLUCTNT5BMOBE7p23UQ8OYq/r6lSJI0crM0Jn8c\n",
       "cDzwUO/1AeCrrSaSpBGbmZ58z1eq+OO2Q0jSuHS+yCdsW4N56taxl6SVmoXhmqtplgo+m/kvskpS\n",
       "Z01tTz5hLbD/AE3XAPtXceuII0nSxJnaIg/8T+AQ4HuLtLsBe/CSZtQ0F/nVwO9X8fG2g0jSpJqF\n",
       "MXlJmlkT15NPOAH4LwM0PRz4yxHHkaSpNnFFHngB8F3gLxZpV8AXR55GkqbYJBZ5gFur+GzbISRp\n",
       "2g00Jp9kfZLNSW5McvoO2pyV5KYk1yZ53qABEpJwRMJRCUcB+wz6XknSwhYt8klW0UwkejnNLYsn\n",
       "JTl4TpsTgP2r6kDgVODPl5DhIJphl7N6r8OB65bw/qmUZF3bGSaF5+IxnovHeC6GY5DhmiOBm6rq\n",
       "NoAkFwAnApv72pxI7yJoVX05yW5J9q6qu+f7wIR/CxzQ23wGzfDMUcv8M0yrdcDGljNMinV4LrZZ\n",
       "h+dim3V4LlZskOGaNTSPwtvmjt6+hdpsmadNv3cDBwNPp1ly4E8HyCFJWqKxX3hNuBhYC7y7ipvG\n",
       "/f0laZYMUuS3APv2ba/t7ZvbZp9F2vTklb0vbsyMrwuZ5Iy2M0wKz8VjPBeP8Vys3CBF/mrggCT7\n",
       "AXcBrwNOmtPmIuAtwEeTHA38YL7x+Kqa8bIuSeO1aJGvqkeSnAZcRjOGf25VbUpyanO4NlTVp5P8\n",
       "cpKbgQeBN442tiRpEKmqtjNIkkZkJAuUjXLy1LRZ7FwkOTnJdb3XFUkObSPnOAzyc9Fr98IkW5O8\n",
       "apz5xmnA35F1Sa5J8rUknx93xnEZ4HdkjySf6dWKG5K8oYWYI5fk3CR3J7l+gTZLr5tVNdQXzT8c\n",
       "NwP7ATsD1wIHz2lzAvB3va+PAq4cdo5JeA14Lo4Gdut9vX6Wz0Vfu88BnwJe1XbuFn8udgO+Dqzp\n",
       "be/Zdu4Wz8UZwLu2nQea50Ps1Hb2EZyLlwDPA67fwfFl1c1R9OQfnTxVVVuBbZOn+m03eQrYLcne\n",
       "I8jStkXPRVVdWVX39zavZOH5BdNskJ8LgLcCH6NZpK6rBjkXJwMXVtUWgKq6Z8wZx2WQc/EdYNfe\n",
       "17sC91bVw2PMOBZVdQVw3wJNllU3R1HkRzF5aloNci76vRn4zEgTtWfRc5HkmcCvVdU5dPvB64P8\n",
       "XBwE7J7k80muTvL6saUbr0HOxQeBQ5LcSbPkye+MKdukWVbdnNRVKGdOkmNo7kp6SdtZWvReoH9M\n",
       "tsuFfjE7AUcAxwJPAb6U5EtVdXO7sVrxduC6qjomyf7AZ5McVlUPtB1sGoyiyA958tRUG+RckOQw\n",
       "YAOwvqoW+u/aNBvkXLwAuCBJaMZeT0iytaouGlPGcRnkXNwB3FNVDwEPJbmcZvG+rhX5Qc7Fi4F3\n",
       "AlTVLUm+RbMsylfGknByLKtujmK45tHJU0l2oZk8NfeX9CLg3wEsNHmqAxY9F0n2BS4EXl9Vt7SQ\n",
       "cVwWPRdV9eze61k04/K/1cECD4P9jnwSeEmS1UmeTHOhbdOYc47DIOdiE/BLAL0x6IOAW8eacnzC\n",
       "jv8Hu6y6OfSefDl56lGDnAvgHcDuwPt7PditVXVke6lHY8Bzsd1bxh5yTAb8Hdmc5FLgeuARYENV\n",
       "faPF2CMx4M/Fu4DzklxHUwDfVlXfby/1aCT5CM3Km3sk+TbNXUW7sMK66WQoSeqwkUyGkiRNBou8\n",
       "JHWYRV6SOswiL0kdZpGXpA6zyEtSh1nkJanDLPKS1GH/Hzzv+9t0GEcNAAAAAElFTkSuQmCC\n"
      ],
>>>>>>> 7a8583941d66f831e66e9233b456b8bf290e8e12
      "text/plain": [
       "<matplotlib.figure.Figure at 0x106a35d10>"
      ]
     },
     "metadata": {},
     "output_type": "display_data"
    }
   ],
   "source": [
    "actuals = lm.predict(feature_set) \n",
    "probas = lm.predict_proba(feature_set)\n",
    "plt.plot(roc_curve(df[['admit']], probas[:,1])[0], roc_curve(df[['admit']], probas[:,1])[1])"
   ]
  },
  {
   "cell_type": "code",
   "execution_count": 16,
   "metadata": {
    "collapsed": false
   },
   "outputs": [],
   "source": [
    "#cm = confusion_matrix(df[['gre', 'gpa', 2, 3,4]], probas)"
   ]
  },
  {
   "cell_type": "code",
   "execution_count": 17,
   "metadata": {
    "collapsed": false
   },
   "outputs": [
    {
     "name": "stdout",
     "output_type": "stream",
     "text": [
      "     admit\n",
      "0        0\n",
      "1        1\n",
      "2        1\n",
      "3        1\n",
      "4        0\n",
      "5        1\n",
      "6        1\n",
      "7        0\n",
      "8        1\n",
      "9        0\n",
      "10       0\n",
      "11       0\n",
      "12       1\n",
      "13       0\n",
      "14       1\n",
      "15       0\n",
      "16       0\n",
      "17       0\n",
      "18       0\n",
      "19       1\n",
      "20       0\n",
      "21       1\n",
      "22       0\n",
      "23       0\n",
      "24       1\n",
      "25       1\n",
      "26       1\n",
      "27       1\n",
      "28       1\n",
      "29       0\n",
      "..     ...\n",
      "370      1\n",
      "371      1\n",
      "372      1\n",
      "373      1\n",
      "374      0\n",
      "375      0\n",
      "376      0\n",
      "377      1\n",
      "378      0\n",
      "379      0\n",
      "380      0\n",
      "381      1\n",
      "382      0\n",
      "383      0\n",
      "384      1\n",
      "385      0\n",
      "386      1\n",
      "387      0\n",
      "388      0\n",
      "389      0\n",
      "390      1\n",
      "391      1\n",
      "392      1\n",
      "393      1\n",
      "394      1\n",
      "395      0\n",
      "396      0\n",
      "397      0\n",
      "398      0\n",
      "399      0\n",
      "\n",
      "[400 rows x 1 columns]\n",
      "[ 0.15695094  0.23914367  0.48752701  0.51693246  0.44676509  0.28185972\n",
      "  0.324168    0.17216951  0.19096433  0.30570152  0.63551168  0.29019876\n",
      "  0.46938066  0.26408082  0.44232694  0.17643758  0.61961436  0.12204864\n",
      "  0.33628964  0.36148839  0.17220736  0.27614851  0.47624739  0.53506341\n",
      "  0.2994293   0.46687225  0.38410498  0.4958792   0.30041705  0.32477481\n",
      "  0.50740501  0.25855528  0.20879103  0.30524118  0.25743197  0.17113068\n",
      "  0.34692962  0.16805787  0.20159895  0.16069946  0.19152207  0.23422586\n",
      "  0.23332356  0.17712218  0.25750815  0.17156147  0.24039667  0.44019456\n",
      "  0.38490051  0.15341712  0.24095114  0.42299292  0.57283172  0.26601087\n",
      "  0.22482827  0.28260928  0.18906458  0.13654793  0.19286321  0.47624739\n",
      "  0.24122627  0.48849172  0.23258994  0.25404026  0.22750218  0.25303666\n",
      "  0.58765958  0.36640804  0.37158899  0.47111776  0.24724192  0.35064803\n",
      "  0.45649763  0.26522317  0.56869598  0.27529537  0.19549408  0.30524118\n",
      "  0.32367113  0.40680708  0.52653064  0.23635691  0.18563642  0.38386615\n",
      "  0.18765168  0.20157215  0.24081123  0.24800683  0.39961457  0.29451861\n",
      "  0.30106928  0.4297103   0.34449141  0.21762149  0.26699556  0.2617855\n",
      "  0.53696331  0.21323445  0.25472423  0.15215615  0.13402286  0.2096244\n",
      "  0.4083274   0.21251861  0.29199487  0.27310497  0.41608143  0.19580934\n",
      "  0.14059778  0.20837266  0.52839317  0.43077925  0.13400354  0.35354224\n",
      "  0.26758976  0.24009181  0.19663007  0.29546233  0.46929771  0.12765408\n",
      "  0.23300722  0.17876713  0.16636224  0.16571085  0.26950328  0.48305819\n",
      "  0.37155011  0.59472257  0.21602383  0.43308777  0.24078078  0.23066075\n",
      "  0.23773851  0.16910526  0.21230703  0.18654048  0.48910026  0.2681\n",
      "  0.25116853  0.3738276   0.28354388  0.56395185  0.55330797  0.20284735\n",
      "  0.5024515   0.15123739  0.20637117  0.17178938  0.28962884  0.41896182\n",
      "  0.47172462  0.18283344  0.28403888  0.20522043  0.22701601  0.46961132\n",
      "  0.19532141  0.32431395  0.26938544  0.25958613  0.23245339  0.26276014\n",
      "  0.28741611  0.19195111  0.23335335  0.44232694  0.42954449  0.26426192\n",
      "  0.20295508  0.21778016  0.15854668  0.1700873   0.23734552  0.31912293\n",
      "  0.47402567  0.24979687  0.1878302   0.20796011  0.21200003  0.12210218\n",
      "  0.23088526  0.49531203  0.30985235  0.24403381  0.42942208  0.32818538\n",
      "  0.20524759  0.21555534  0.21723543  0.21036076  0.23720705  0.28201462\n",
      "  0.23652512  0.42370942  0.24755291  0.2395387   0.21357603  0.41123223\n",
      "  0.21819532  0.52495807  0.27081251  0.22902478  0.44232694  0.46145962\n",
      "  0.39166137  0.28750461  0.43265602  0.39390533  0.1824598   0.24218003\n",
      "  0.57104299  0.22137647  0.18058646  0.22022246  0.25165822  0.20710427\n",
      "  0.23972779  0.31956568  0.28567078  0.2395387   0.1868597   0.26055548\n",
      "  0.29517147  0.27857563  0.29175394  0.25167688  0.25950309  0.46121133\n",
      "  0.20757035  0.28788101  0.49575431  0.20400428  0.17746296  0.13737216\n",
      "  0.4590009   0.23547891  0.26938544  0.23133001  0.43360402  0.24264548\n",
      "  0.17142909  0.35313797  0.21518868  0.24301381  0.31942086  0.30061289\n",
      "  0.26935267  0.18608052  0.24447091  0.2352083   0.53328685  0.50906457\n",
      "  0.24451414  0.49340247  0.58174593  0.21897038  0.21440664  0.23831899\n",
      "  0.22314675  0.27764473  0.25847245  0.18534395  0.17816518  0.23831899\n",
      "  0.20490487  0.14844529  0.48362477  0.21861104  0.27514274  0.16006599\n",
      "  0.2845344   0.18871696  0.28545907  0.38460245  0.20711535  0.22599941\n",
      "  0.1829229   0.36535524  0.52353558  0.25294225  0.29149165  0.14181951\n",
      "  0.54176248  0.45701928  0.19433204  0.50606267  0.44032027  0.55683447\n",
      "  0.58635765  0.36383862  0.25346573  0.28575211  0.28695165  0.48570178\n",
      "  0.27192828  0.18031482  0.33384497  0.18790642  0.2290836   0.24711798\n",
      "  0.25343423  0.23605558  0.17461287  0.30110432  0.10321833  0.50610429\n",
      "  0.32634246  0.24262728  0.2135594   0.15117327  0.22117475  0.27809999\n",
      "  0.24360306  0.49040067  0.48792482  0.1405657   0.15460837  0.6057453\n",
      "  0.47588915  0.33225906  0.16109571  0.20759774  0.44259648  0.16397498\n",
      "  0.16135749  0.42740621  0.26791723  0.23469288  0.23510064  0.43779543\n",
      "  0.28260928  0.23561668  0.27010239  0.1981892   0.17823834  0.38988235\n",
      "  0.17674327  0.5017594   0.3279507   0.23039401  0.45585215  0.16972034\n",
      "  0.49957381  0.22306016  0.18394242  0.16740118  0.24214947  0.25584017\n",
      "  0.18210685  0.22682336  0.34178434  0.21609702  0.19204398  0.2854251\n",
      "  0.24134821  0.3983268   0.27317109  0.41013655  0.20844395  0.27238969\n",
      "  0.36377844  0.34370148  0.25987525  0.20204492  0.3447634   0.15428151\n",
      "  0.15430324  0.22446208  0.38938238  0.34394166  0.24090257  0.24990907\n",
      "  0.34234112  0.37037466  0.24806895  0.49884007  0.26184986  0.35001156\n",
      "  0.20954164  0.19649858  0.29192602  0.22865378  0.22951398  0.4244695\n",
      "  0.17698643  0.27299282  0.3181739   0.23597767  0.24749088  0.26323219\n",
      "  0.29935944  0.28848307  0.20798754  0.26753771  0.19106726  0.27963624\n",
      "  0.18352722  0.17209832  0.29192602  0.22918933]\n"
     ]
    }
   ],
   "source": [
    "print df[['admit']]\n",
    "print probas[:,1]"
   ]
  },
  {
   "cell_type": "code",
   "execution_count": 18,
   "metadata": {
    "collapsed": false
   },
   "outputs": [
    {
     "data": {
      "text/plain": [
       "[<matplotlib.lines.Line2D at 0x106aa0650>]"
      ]
     },
     "execution_count": 18,
     "metadata": {},
     "output_type": "execute_result"
    },
    {
     "data": {
<<<<<<< HEAD
      "image/png": "iVBORw0KGgoAAAANSUhEUgAAAXcAAAD9CAYAAABHnDf0AAAABHNCSVQICAgIfAhkiAAAAAlwSFlz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\nRKfIOFuw3PAAAAAASUVORK5CYII=\n",
=======
      "image/png": [
       "iVBORw0KGgoAAAANSUhEUgAAAXkAAAEACAYAAABWLgY0AAAABHNCSVQICAgIfAhkiAAAAAlwSFlz\n",
       "AAALEgAACxIB0t1+/AAAGhtJREFUeJzt3XuYXWV99vHvnYRwJhooKIHwIkijSBJCEoIEHQjKRIFw\n",
       "siR5C3KSoASpvXxFbC1pq9WqlapUIAgopRpbqQVbEFAIGA0QIAfBhISDkYSDgIf31ZY2xt/7x7MD\n",
       "k8kc9sysvZ+917o/1zXXlb1nzZo765r55Zdnred5FBGYmVk5DcsdwMzMGsdF3sysxFzkzcxKzEXe\n",
       "zKzEXOTNzErMRd7MrMT6LfKSrpX0vKRVfRzzRUnrJK2QNLHYiGZmNlj1dPLXA8f19klJM4EDIuKN\n",
       "wDzgqoKymZnZEPVb5CNiCfDLPg6ZBdxQO/Z+YJSkvYqJZ2ZmQ1HEmPwY4OkurzfW3jMzs8x849XM\n",
       "rMRGFHCOjcC+XV7vU3tvG5K8UI6Z2SBEhAbzdfUWedU+enILcCHwTUnTgF9FxPO9nWiwQctG0oKI\n",
       "WJA7RyvwtXiVr8WrqnotJHYBPgd0AmdFsHgoDXK/RV7S14EOYHdJPwMuA0YCERELI+JWSe+S9Djw\n",
       "W+DswYYxM6syiSOAfwSWABMi+PVQz9lvkY+IuXUcM3+oQczMqkpiJKmBPhd4fwTfLurcRYzJ2+As\n",
       "zh2ghSzOHaCFLM4doIUszh2gGSTeQurenyZ1770Odw/q/M3cNERSeEzezAwkhgEfAj5a+7gugh4L\n",
       "8lBqpzt5M7Mmk9gP+BowHDg8gicb9b38nLyZWZNISOIs4EHgVqCjkQUe3MmbmTWFxJ7A1cAbgBkR\n",
       "9LroY5HcyZuZNZjEicBK4DFgarMKPLiTNzNrGIndgMtJc43eE8GSZmdwJ29m1gASRwErgN8DE3MU\n",
       "eHAnb2ZWKIntgb8G/hiYF8F3cuZxkTczK4jEBNLEpnWkiU0vZI7k4Rozs6GSGC7xUeB7pMXFTmuF\n",
       "Ag/u5M3MhkTiDaTd8f4HmBzB+syRtuJO3sxsEGoTm94H3A/cBBzbagUe3MmbmQ2YxOuArwB7k2at\n",
       "Ppo5Uq/cyZuZDYDEqaRHI5cD01q5wIM7eTOzukiMAr4EHAGcFMF9mSPVxZ28mVk/JI4BVgG/IU1s\n",
       "aosCD+7kzcx6JbEj8DfAe4DzIvhu5kgD5k7ezKwHEpOAh0g3Vye0Y4EHd/JmZluRGEHaqemDwMUR\n",
       "fCNzpCFxkTczq5E4iDSx6f8CkyLYkDnSkHm4xswqrzax6QPAD4Ebgc4yFHhwJ29mFScxBrgWGA1M\n",
       "j+CxzJEK5U7ezCpL4nTgYWApcGTZCjy4kzezCpIYDVwBHAq8O4IHM0dqGHfyZlYpEu8k7bf6Aunm\n",
       "amkLPLiTN7OKkNgJ+AxwInB2BN/LHKkp3MmbWelJTCUtKDYKGF+VAg/u5M2sxCS2A/4cmAfMj+Bb\n",
       "mSM1nYu8mZWSxJtI+63+HDg0gmczR8rCwzVmVioSwyQuBu4FriE9PVPJAg/u5M2sRCT2Ba4HdgKO\n",
       "iODxzJGycydvZm2vtizBH5NWjbwLeJsLfOJO3szamsQewJXAm4DjIlieOVJLcSdvZm1L4l2kiU3r\n",
       "gcku8NtyJ29mbUdiF+DvgOOAuRHckzlSy6qrk5fUKWmNpLWSLunh87tLuk3SCkk/lnRW4UnNzACJ\n",
       "twIrgJGkiU0u8H1QRPR9gDQMWAvMAJ4BlgGzI2JNl2MuA3aIiEsl7QE8BuwVEb/rdq6ICBX8dzCz\n",
       "CpAYCSwAzgbeH8G/5U3UPEOpnfV08lOBdRGxPiI2AYuAWd2OeQ7YtfbnXYGXuhd4M7PBkngL8ADw\n",
       "FmBilQr8UNVT5McAT3d5vaH2XlfXAAdLeoZ0E+TiYuKZWZVJDJf4MHA38EVgVgTPZ47VVoq68Xop\n",
       "sDIijpZ0AHCnpPER8ZvuB0pa0OXl4ohYXFAGMysRif8FfA0QMDWCp/Imah5JHUBHEeeqp8hvBMZ2\n",
       "eb1P7b2ujgQ+CRART0h6ChgH267THBELBpXUzCpBQsBZpGWBPwN8PoLNWUM1Wa35Xbzlde2+56DU\n",
       "U+SXAQdK2g94FpgNzOl2zGrgWOCHkvYCDgKeHGwoM6smiT2BhcD+wIwIVmWO1Pb6HZOPiM3AfOAO\n",
       "4FFgUUSsljRP0vm1wz4FTJa0ErgT+EhE/KJRoc2sfCRmke7prSYNz7jAF6DfRygL/WZ+hNLMupHY\n",
       "DbicNAZ9ZgQ/zJuo9TT6EUozs4aQeBupe99MejTSBb5gXtbAzJpOYgfgr4H/DZwfwb9njlRaLvJm\n",
       "1lQSE0k7Nq0FJkTwQuZIpebhGjNritrEpktJD3F8BjjNBb7x3MmbWcNJHADcAPw3aUngn2WOVBnu\n",
       "5M2sYWo7Np0P3Af8C3CsC3xzuZM3s4aQeB3wFeD1wNsj+EnmSJXkTt7MCidxKmnN94dJG2q7wGfi\n",
       "Tt7MCiPxGtJqkdNIK0benzlS5bmTN7NCSBxDmtj0/4BDXeBbgzt5MxsSiR1J61edBpwbwe2ZI1kX\n",
       "7uTNbNAkDgMeAl5H2m/VBb7FuJM3swGTGEHaLOgi4OIIvpE5kvXCRd7MBkTiINKyBL8ijb1330TI\n",
       "WoiHa8ysLrWJTRcCPyLNXu10gW997uTNrF8SY4DrgNcAR0bwWOZIVid38mbWJ4nZpElNS3CBbzvu\n",
       "5M2sRxKjgX8AJgLvjuDBzJFsENzJm9k2JI4DVgHPA5Nc4NuXO3kze4XEzqS13k8A3hvB9zNHsiFy\n",
       "J29mAEgcDiwHdiNNbHKBLwF38mYVJ7Ed8HFgHnBhBN/KHMkK5CJvVmESbyZNbHoOmBjBs5kjWcE8\n",
       "XGNWQRLDJP4EuAe4GjjeBb6c3MmbVYzEWOB6YAfShh6PZ45kDeRO3qwiassSnAE8CHwPeJsLfPm5\n",
       "kzerAIk9gKuAccA7I1iROZI1iTt5s5KTeDdpx6angMku8NXiTt6spCR2AT4PvAOYG8E9mSNZBu7k\n",
       "zUpI4khS9z4CmOACX13u5M1KRGIk8JfAWcAFEdycN5Hl5iJvVhISh5AmNq0nde8/zxzJWoCHa8za\n",
       "nMRwiQ8DdwFfAE5ygbct3MmbtTGJ/YGv1l5OieCn+dJYK3Inb9aGahObzgEeAL4DHOMCbz2pq8hL\n",
       "6pS0RtJaSZf0ckyHpOWSHpF0d7ExzWwLiT2BbwMfJBX3z0WwOXMsa1H9FnlJw4ArgOOAg4E5ksZ1\n",
       "O2YUaZuw4yPiLcB7GpDVrPIkZpEejfwJcHgEP84cyVpcPWPyU4F1EbEeQNIiYBawpssxc4GbImIj\n",
       "QES8WHRQsyqT2I10U/Uo4LQIfpg5krWJeoZrxgBPd3m9ofZeVwcBoyXdLWmZpDOKCmhWdRJvJ3Xv\n",
       "/0Na890F3upW1NM1I4BJwDHAzsBSSUsjwivcmQ2SxA7AJ4A5wPkR/EfmSNaG6inyG4GxXV7vU3uv\n",
       "qw3AixHxMvCypHuBCbDtMqaSFnR5uTgiFg8ksFkVSEwkTWx6jDSxyUOgFSKpA+go5FwR0d83G076\n",
       "QZsBPEt6ZGtORKzucsw44EtAJ7A9cD9wekT8pNu5IiJURHCzMpIYDnwE+BDwp8A/RdD3L6mV3lBq\n",
       "Z7+dfERsljQfuIM0hn9tRKyWNC99OhZGxBpJtwOrgM3Awu4F3sz6JnEg8DXgZeCwiK3uhZkNSr+d\n",
       "fKHfzJ282TYkBJxPGn//BPClCH6fN5W1koZ28mbWOBKvB74C7EXajm91P19iNiBe1sAsE4nTgOXA\n",
       "Q6QNtV3grXDu5M2aTOI1pFnkU4FZEdyfOZKVmDt5syaSmEF6QOFXwKEu8NZo7uTNmkBiR+DTwKnA\n",
       "ORHckTmSVYQ7ebMGk5gMPAzsCYx3gbdmcidv1iASI4CPARcCF0ewKHMkqyAXebMGkPhD4AbS2Puk\n",
       "iG2WAjFrCg/XmBVIYpjEfGAJafZqpwu85eRO3qwgEmOA64FRwJERrM0cycydvFkRJOaQJjb9ABd4\n",
       "ayHu5M2GQGI08GXS0tozI3gocySzrbiTNxskiU7SxKZnSTdXXeCt5biTNxsgiZ2BzwLvBs6M4K7M\n",
       "kcx65U7ebAAkppHG3nch7djkAm8tzZ28WR0ktgP+AngfcGEEN2WOZFYXF3mzfki8mbTf6nPAxAie\n",
       "yxzJrG4erjHrRW1i04eAe4CrgONd4K3duJM364HEWOCrpI3pp0XwRN5EZoPjTt6sCwlJnAk8SNq8\n",
       "/m0u8NbO3Mmb1UjsAVwNHAS8M4IVmSOZDZk7eTNA4njSxKYngSku8FYW7uSt0iR2BT4PHAvMjuDe\n",
       "zJHMCuVO3ipLYjqwgvR7MMEF3srInbxVjsT2wF8C7wUuiODmzJHMGsZF3ipF4hDgRuApUvf+88yR\n",
       "zBrKwzVWCRLDJf4PcBdwOXCyC7xVgTt5Kz2J/Ulb8QXpyZmf5k1k1jzu5K20ahObzgUeAG4GjnaB\n",
       "t6pxJ2+lJLEXcA0wllTcH8kcySwLd/JWOhInkR6NfASY6gJvVeZO3kpDYjfgC8BRwKkR/ChzJLPs\n",
       "3MlbKUh0kJYl+G/Smu8u8Ga4k7c2J7ED8ElgNvC+CG7NHMmspbjIW9uSOJS0Y9Nq0sSmFzNHMms5\n",
       "Hq6xtiMxQuJjwO3Ap4E/coE361ldRV5Sp6Q1ktZKuqSP46ZI2iTplOIimr1K4kDgXmAGcFgEN0YQ\n",
       "mWOZtax+i7ykYcAVwHHAwcAcSeN6Oe7TpO7KrFC1iU0XAEuBRcA7Ing6cyyzllfPmPxUYF1ErAeQ\n",
       "tAiYBazpdtxFwLeAKYUmtMqTeD1wLbAnaTu+1ZkjmbWNeoZrxsBWHdOG2nuvkLQ3cFJEXAmouHhW\n",
       "dRLvIU1sWgYc4QJvNjBFPV3z90DXsXoXehsSideQhgmnACdE8EDmSGZtqZ4iv5G0/scW+9Te62oy\n",
       "sEiSgD2AmZI2RcQt3U8maUGXl4sjYvGAElvpSRwLXEdaVOzQCP4zcySzppLUAXQUcq6Ivh9MkDQc\n",
       "eIz0NMOzpBX95kREj/9tlnQ98J2I+NcePhcR4S7feiSxE+nm/cnAuRHckTmSWUsYSu3st5OPiM2S\n",
       "5gN3kMbwr42I1ZLmpU/Hwu5fMpggVm0SU0gTmx4Gxkfwy8yRzEqh306+0G/mTt66kdgO+BjwAeCD\n",
       "EXwzcySzltPQTt6sUST+kNS9/wKYFLHNvR4zGyIva2BNJzFMYj6wBLgemOkCb9YY7uStqST2IRX2\n",
       "XYG3RrAucySzUnMnb01RW5ZgLunG6j3AdBd4s8ZzJ28NJzEauBI4hDQ081DmSGaV4U7eGkqik7Rj\n",
       "00bSqpEu8GZN5E7eGkJiZ+BzwLuAMyK4O3Mks0pyJ2+Fk5hGWlRsJ9LEJhd4s0zcyVthJEYCfwGc\n",
       "B1wYwU2ZI5lVnou8FULizcCNwDPAxAieyxzJzPBwjQ1RbWLTh0iPRV5JWhbYBd6sRbiTt0GT2A/4\n",
       "KrAdMC2CJ/ImMrPu3MnbgNUmNr0XeBD4LvB2F3iz1uRO3gZE4g+Aq4EDgWMjWJk5kpn1wZ281U3i\n",
       "eGAl8DgwxQXerPW5k7d+SewKfJ60O9jpEfwgcyQzq5M7eeuTxHRS9y5gggu8WXtxJ289ktge+Cvg\n",
       "DOCCCLbZlN3MWp+LvG1DYjxpx6YnSd37C5kjmdkgebjGXiExXOIjwPeBy4FTXODN2ps7eQNAYn/g\n",
       "BmAz6cmZn+ZNZGZFcCdfcbWJTecCDwDfBo5xgTcrD3fyFSaxF3ANsC9wdASPZI5kZgVzJ19REieT\n",
       "Ho38MXC4C7xZObmTrxiJUcAXgOmkG6s/yhzJzBrInXyFSHSQuvf/Iq357gJvVnLu5CtAYgfgb4DT\n",
       "gfMiuC1zJDNrEnfyJSdxKPAQsA9pv1UXeLMKcZEvKYkREn8G3E6ti4/gpcyxzKzJPFxTQhIHkpYl\n",
       "+C1wWARPZ45kZpm4ky+R2sSmC4ClwDeAd7rAm1WbO/mSkNgbuBbYAzgqgjWZI5lZC3AnXwISfwQs\n",
       "B+4H3uoCb2ZbuJNvYxKvBa4ADgNOiOCBzJHMrMW4k29TEseSJjb9ApjkAm9mPXEn32YkdgI+DZwM\n",
       "nBPBnZkjmVkLq6uTl9QpaY2ktZIu6eHzcyWtrH0skXRI8VFNYgrwMLA7aWKTC7yZ9UkR0fcB0jBg\n",
       "LTADeAZYBsyOiDVdjpkGrI6IX0vqBBZExLQezhURoSL/AlUgsR3wZ8D7gYsi+OfMkcysiYZSO+sZ\n",
       "rpkKrIuI9bVvtgiYBa8+wRER93U5/j5gzGDC2LYkxpEmNr0EHBrBM5kjmVkbqWe4ZgxsNaFmA30X\n",
       "8fPA66MMlcQwiYuAHwDXATNd4M1soAq98SrpaOBs0lrlvR2zoMvLxRGxuMgMZSCxL6mw70J67n1d\n",
       "5khm1kSSOoCOIs5VT5HfCIzt8nqf2nvdQ40HFgKdEfHL3k4WEQsGmLEyJATMBS4nbezxtxH8Lm8q\n",
       "M2u2WvO7eMtrSZcN9lz1FPllwIGS9gOeBWYDc7oeIGkscBNwRkQ8MdgwVSaxO3AlcDDQGcHDmSOZ\n",
       "WQn0OyYfEZuB+cAdwKPAoohYLWmepPNrh30cGA18WdJySZ6YMwASM4FVpPsdh7nAm1lR+n2EstBv\n",
       "5kcotyKxC/BZYCZwdgR3Z45kZi1oKLXTyxpkInEEaVGxHYEJLvBm1ghe1qDJJEYClwHnAh+I4F8z\n",
       "RzKzEnORbyKJg0kTmzYCEyN4LnMkMys5D9c0QW1i05+SHon6MnCiC7yZNYM7+QaT2A/4GjAcODyC\n",
       "JzNHMrMKcSffILX9Vs8CHgRuBTpc4M2s2dzJN4DEHwBXAwcCMyJYlTmSmVWUO/mCSZxA2rFpHTDF\n",
       "Bd7McnInXxCJXUlrzhwDnB7BDzJHMjNzJ18EiaNI3TukiU0u8GbWEtzJD4HE9sBfAWcA8yL4TuZI\n",
       "ZmZbcZEfJInxwI3A46Tu/YXMkczMtuHhmgGSGC5xCfB94O+AU13gzaxVuZMfAIk3ADcAm4DJEazP\n",
       "HMnMrE/u5OtQm9j0PuB+0uYoM1zgzawduJPvh8TrgGtIm5d3RPBo5khmZnVzJ98HiVOAFaTHI6e5\n",
       "wJtZu3En3wOJUcAXgbcCJ0ewNHMkM7NBcSffjcTRpP1W/5O05rsLvJm1LXfyNRI7Ap8ETgfOi+C2\n",
       "zJHMzIbMnTwgMYm0JPAYYLwLvJmVRaWLvMQIiT8Hvkvq4mdH8FLmWGZmhanscI3EG0kTm34DTIpg\n",
       "Q+ZIZmaFq1wnX5vY9H5gKfB14DgXeDMrq0p18hJ7A9cBo4HpEazJHMnMrKEq08lLnA4sJ3XwR7rA\n",
       "m1kVlL6Tl3gt8A/AJOD4CJZljmRm1jSl7uQl3kGa2PQi6eaqC7yZVUopO/nasgSfAGYB50RwZ+ZI\n",
       "ZmZZlKaTrz01M13iq8B6YGfSjk0u8GZWWYqI5n0zKSJCxZ6TPYEzgfOAAL4C/GMEPy/y+5iZ5TKU\n",
       "2tmWwzUSw4F3kAr7scC3gXOBH0XQvH+1zMxaXFsVeYn9gLOBc4DnSV37uRH8OmswM7MW1fJFXmIk\n",
       "cCKpa59CmqV6YgQrsgYzM2sDLVvkJd5EGoI5E3iU1LWfHMF/ZQ1mZtZG6nq6RlKnpDWS1kq6pJdj\n",
       "vihpnaQVkiYOJozEzhJnSSwB7gI2kWanHh3BP7nAm5kNTL9FXtIw4ArgOOBgYI6kcd2OmQkcEBFv\n",
       "BOYBV9UboPbo42SJq4CngVOBzwJjI7g0gnV1/23aiKSO3Blaha/Fq3wtXuVrUYx6OvmpwLqIWB8R\n",
       "m4BFpElGXc0iLdtLRNwPjJK0V18nlXitxHzSejL/TCrwh0RwQgQ3R7BpgH+XdtORO0AL6cgdoIV0\n",
       "5A7QQjpyByiDesbkx5AK8BYbSIW/r2M21t57vvvJJDpIN1GPJ23W8WHgrgh+X3dqMzOrS44br1eQ\n",
       "bqL+SQQvZvj+ZmaV0e+MV0nTgAUR0Vl7/VEgIuJvuxxzFXB3RHyz9noN8PaIeL7buTxRycxsEBo5\n",
       "43UZcKCk/YBngdnAnG7H3AJcCHyz9o/Cr7oX+KGENDOzwem3yEfEZknzgTtIN2qvjYjVkualT8fC\n",
       "iLhV0rskPQ78ljQr1czMMmvqAmVmZtZcDVlquFmTp9pBf9dC0lxJK2sfSyQdkiNnM9Tzc1E7boqk\n",
       "TZJOaWa+Zqrzd6RD0nJJj0i6u9kZm6WO35HdJd1WqxU/lnRWhpgNJ+laSc9LWtXHMQOvmxFR6Afp\n",
       "H47Hgf2A7YAVwLhux8wE/qP258OB+4rO0QofdV6LacCo2p87q3wtuhz3feDfgVNy5874czGKtJzH\n",
       "mNrrPXLnzngtLgM+teU6AC8BI3Jnb8C1mA5MBFb18vlB1c1GdPINmTzVpvq9FhFxX0RsWUXzPtL8\n",
       "gjKq5+cC4CLgW1Dq/QDquRZzgZsiYiNARJT1ceN6rsVzwK61P+8KvBQRv2tixqaIiCXAL/s4ZFB1\n",
       "sxFFvqfJU90LV2+Tp8qmnmvR1XnAbQ1NlE+/10LS3sBJEXElUOYnser5uTgIGC3pbknLJJ3RtHTN\n",
       "Vc+1uAY4WNIzwErg4iZlazWDqpstuwpl1Ug6mvRU0vTcWTL6e6DrmGyZC31/RgCTgGNIW1kulbQ0\n",
       "Ih7PGyuLS4GVEXG0pAOAOyWNj4jf5A7WDhpR5DcCY7u83qf2Xvdj9u3nmDKo51ogaTywEOiMiL7+\n",
       "u9bO6rkWk4FFkkQae50paVNE3NKkjM1Sz7XYALwYES8DL0u6F5hAGr8uk3quxZHAJwEi4glJTwHj\n",
       "gAebkrB1DKpuNmK45pXJU5JGkiZPdf8lvYW0TvyWGbU9Tp4qgX6vhaSxwE3AGRHxRIaMzdLvtYiI\n",
       "N9Q+9ieNy3+ghAUe6vsduRmYLmm4pJ1IN9pWNzlnM9RzLVaTtvmkNgZ9EPBkU1M2j+j9f7CDqpuF\n",
       "d/LhyVOvqOdaAB8HRgNfrnWwmyKi+wJwba/Oa7HVlzQ9ZJPU+TuyRtLtwCpgM7AwIn6SMXZD1Plz\n",
       "8SngekkrSQXwIxHxi3ypG0PS10krb+4u6Wekp4pGMsS66clQZmYl1pDJUGZm1hpc5M3MSsxF3sys\n",
       "xFzkzcxKzEXezKzEXOTNzErMRd7MrMRc5M3MSuz/A1D1pDu6Z/T+AAAAAElFTkSuQmCC\n"
      ],
>>>>>>> 7a8583941d66f831e66e9233b456b8bf290e8e12
      "text/plain": [
       "<matplotlib.figure.Figure at 0x106a35a10>"
      ]
     },
     "metadata": {},
     "output_type": "display_data"
    }
   ],
   "source": [
    "plt.plot(roc_curve(df[['admit']], actuals)[0], roc_curve(df[['admit']], actuals)[1])"
   ]
  },
  {
   "cell_type": "markdown",
   "metadata": {},
   "source": [
    "Finally, you can use the `roc_auc_score` function to calculate the area under these curves (AUC)."
   ]
  },
  {
   "cell_type": "code",
   "execution_count": 19,
   "metadata": {
    "collapsed": false
   },
   "outputs": [
    {
     "data": {
      "text/plain": [
       "0.48332900695105413"
      ]
     },
     "execution_count": 19,
     "metadata": {},
     "output_type": "execute_result"
    }
   ],
   "source": [
    "roc_auc_score(df['admit'], lm.predict(feature_set))"
   ]
  },
  {
   "cell_type": "code",
   "execution_count": 20,
   "metadata": {
    "collapsed": false
   },
   "outputs": [
    {
     "ename": "NameError",
     "evalue": "name 'grid_search' is not defined",
     "output_type": "error",
     "traceback": [
      "\u001b[0;31m---------------------------------------------------------------------------\u001b[0m",
      "\u001b[0;31mNameError\u001b[0m                                 Traceback (most recent call last)",
      "\u001b[0;32m<ipython-input-20-98667cbf96ec>\u001b[0m in \u001b[0;36m<module>\u001b[0;34m()\u001b[0m\n\u001b[0;32m----> 1\u001b[0;31m gs = grid_search.GridSearchCV(\n\u001b[0m\u001b[1;32m      2\u001b[0m     \u001b[0mestimator\u001b[0m\u001b[0;34m=\u001b[0m\u001b[0mLogisticRegression\u001b[0m\u001b[0;34m(\u001b[0m\u001b[0;34m)\u001b[0m\u001b[0;34m,\u001b[0m\u001b[0;34m\u001b[0m\u001b[0m\n\u001b[1;32m      3\u001b[0m     \u001b[0mparam_grid\u001b[0m\u001b[0;34m=\u001b[0m\u001b[0;34m{\u001b[0m\u001b[0;34m'C'\u001b[0m\u001b[0;34m:\u001b[0m \u001b[0;34m[\u001b[0m\u001b[0;36m10\u001b[0m\u001b[0;34m**\u001b[0m\u001b[0;34m-\u001b[0m\u001b[0mi\u001b[0m \u001b[0;32mfor\u001b[0m \u001b[0mi\u001b[0m \u001b[0;32min\u001b[0m \u001b[0mrange\u001b[0m\u001b[0;34m(\u001b[0m\u001b[0;34m-\u001b[0m\u001b[0;36m5\u001b[0m\u001b[0;34m,\u001b[0m \u001b[0;36m5\u001b[0m\u001b[0;34m)\u001b[0m\u001b[0;34m]\u001b[0m\u001b[0;34m,\u001b[0m \u001b[0;34m'class_weight'\u001b[0m\u001b[0;34m:\u001b[0m \u001b[0;34m[\u001b[0m\u001b[0mNone\u001b[0m\u001b[0;34m,\u001b[0m \u001b[0;34m'auto'\u001b[0m\u001b[0;34m]\u001b[0m\u001b[0;34m}\u001b[0m\u001b[0;34m,\u001b[0m\u001b[0;34m\u001b[0m\u001b[0m\n\u001b[1;32m      4\u001b[0m     \u001b[0mcv\u001b[0m\u001b[0;34m=\u001b[0m\u001b[0mcross_validation\u001b[0m\u001b[0;34m.\u001b[0m\u001b[0mKFold\u001b[0m\u001b[0;34m(\u001b[0m\u001b[0mn\u001b[0m\u001b[0;34m=\u001b[0m\u001b[0mlen\u001b[0m\u001b[0;34m(\u001b[0m\u001b[0mtitanic\u001b[0m\u001b[0;34m)\u001b[0m\u001b[0;34m,\u001b[0m \u001b[0mn_folds\u001b[0m\u001b[0;34m=\u001b[0m\u001b[0;36m10\u001b[0m\u001b[0;34m)\u001b[0m\u001b[0;34m,\u001b[0m\u001b[0;34m\u001b[0m\u001b[0m\n\u001b[1;32m      5\u001b[0m     \u001b[0mscoring\u001b[0m\u001b[0;34m=\u001b[0m\u001b[0;34m'roc_auc'\u001b[0m\u001b[0;34m\u001b[0m\u001b[0m\n",
      "\u001b[0;31mNameError\u001b[0m: name 'grid_search' is not defined"
     ]
    }
   ],
   "source": [
    "gs = grid_search.GridSearchCV(\n",
    "    estimator=LogisticRegression(),\n",
    "    param_grid={'C': [10**-i for i in range(-5, 5)], 'class_weight': [None, 'auto']},\n",
    "    cv=cross_validation.KFold(n=len(titanic), n_folds=10),\n",
    "    scoring='roc_auc'\n",
    ")\n",
    "\n",
    "[10**-i for i in range(-5, 5)]"
   ]
  },
  {
   "cell_type": "markdown",
   "metadata": {},
   "source": [
    "### Titanic Problem"
   ]
  },
  {
   "cell_type": "markdown",
   "metadata": {},
   "source": [
    "** Goals **\n",
    "\n",
    "1. Spend a few minutes determining which data would be most important to use in the prediction problem. You may need to create new features based on the data available. Consider using a feature selection aide in sklearn. But a worst case scenario; identify one or two strong features that would be useful to include in the model.\n",
    "2. Spend 1-2 minutes considering which _metric_ makes the most sense to optimize. Accuracy? FPR or TPR? AUC? Given the business problem (understanding survival rate aboard the Titanic), why should you use this metric?\n",
    "3. Build a tuned Logistic model. Be prepared to explain your design (including regularization), metric, and feature set in predicting survival using the tools necessary (such as a fit chart)."
   ]
  },
  {
   "cell_type": "code",
<<<<<<< HEAD
   "execution_count": 3,
=======
   "execution_count": null,
>>>>>>> 7a8583941d66f831e66e9233b456b8bf290e8e12
   "metadata": {
    "collapsed": false
   },
   "outputs": [],
   "source": [
    "titanic = pd.read_csv('../datasets/titanic.csv')"
   ]
  },
  {
   "cell_type": "code",
<<<<<<< HEAD
   "execution_count": 4,
   "metadata": {
    "collapsed": false
   },
   "outputs": [
    {
     "data": {
      "text/html": [
       "<div>\n",
       "<table border=\"1\" class=\"dataframe\">\n",
       "  <thead>\n",
       "    <tr style=\"text-align: right;\">\n",
       "      <th></th>\n",
       "      <th>PassengerId</th>\n",
       "      <th>Survived</th>\n",
       "      <th>Pclass</th>\n",
       "      <th>Name</th>\n",
       "      <th>Sex</th>\n",
       "      <th>Age</th>\n",
       "      <th>SibSp</th>\n",
       "      <th>Parch</th>\n",
       "      <th>Ticket</th>\n",
       "      <th>Fare</th>\n",
       "      <th>Cabin</th>\n",
       "      <th>Embarked</th>\n",
       "    </tr>\n",
       "  </thead>\n",
       "  <tbody>\n",
       "    <tr>\n",
       "      <th>0</th>\n",
       "      <td>1</td>\n",
       "      <td>0</td>\n",
       "      <td>3</td>\n",
       "      <td>Braund, Mr. Owen Harris</td>\n",
       "      <td>male</td>\n",
       "      <td>22.0</td>\n",
       "      <td>1</td>\n",
       "      <td>0</td>\n",
       "      <td>A/5 21171</td>\n",
       "      <td>7.2500</td>\n",
       "      <td>NaN</td>\n",
       "      <td>S</td>\n",
       "    </tr>\n",
       "    <tr>\n",
       "      <th>1</th>\n",
       "      <td>2</td>\n",
       "      <td>1</td>\n",
       "      <td>1</td>\n",
       "      <td>Cumings, Mrs. John Bradley (Florence Briggs Th...</td>\n",
       "      <td>female</td>\n",
       "      <td>38.0</td>\n",
       "      <td>1</td>\n",
       "      <td>0</td>\n",
       "      <td>PC 17599</td>\n",
       "      <td>71.2833</td>\n",
       "      <td>C85</td>\n",
       "      <td>C</td>\n",
       "    </tr>\n",
       "    <tr>\n",
       "      <th>2</th>\n",
       "      <td>3</td>\n",
       "      <td>1</td>\n",
       "      <td>3</td>\n",
       "      <td>Heikkinen, Miss. Laina</td>\n",
       "      <td>female</td>\n",
       "      <td>26.0</td>\n",
       "      <td>0</td>\n",
       "      <td>0</td>\n",
       "      <td>STON/O2. 3101282</td>\n",
       "      <td>7.9250</td>\n",
       "      <td>NaN</td>\n",
       "      <td>S</td>\n",
       "    </tr>\n",
       "    <tr>\n",
       "      <th>3</th>\n",
       "      <td>4</td>\n",
       "      <td>1</td>\n",
       "      <td>1</td>\n",
       "      <td>Futrelle, Mrs. Jacques Heath (Lily May Peel)</td>\n",
       "      <td>female</td>\n",
       "      <td>35.0</td>\n",
       "      <td>1</td>\n",
       "      <td>0</td>\n",
       "      <td>113803</td>\n",
       "      <td>53.1000</td>\n",
       "      <td>C123</td>\n",
       "      <td>S</td>\n",
       "    </tr>\n",
       "    <tr>\n",
       "      <th>4</th>\n",
       "      <td>5</td>\n",
       "      <td>0</td>\n",
       "      <td>3</td>\n",
       "      <td>Allen, Mr. William Henry</td>\n",
       "      <td>male</td>\n",
       "      <td>35.0</td>\n",
       "      <td>0</td>\n",
       "      <td>0</td>\n",
       "      <td>373450</td>\n",
       "      <td>8.0500</td>\n",
       "      <td>NaN</td>\n",
       "      <td>S</td>\n",
       "    </tr>\n",
       "  </tbody>\n",
       "</table>\n",
       "</div>"
      ],
      "text/plain": [
       "   PassengerId  Survived  Pclass  \\\n",
       "0            1         0       3   \n",
       "1            2         1       1   \n",
       "2            3         1       3   \n",
       "3            4         1       1   \n",
       "4            5         0       3   \n",
       "\n",
       "                                                Name     Sex   Age  SibSp  \\\n",
       "0                            Braund, Mr. Owen Harris    male  22.0      1   \n",
       "1  Cumings, Mrs. John Bradley (Florence Briggs Th...  female  38.0      1   \n",
       "2                             Heikkinen, Miss. Laina  female  26.0      0   \n",
       "3       Futrelle, Mrs. Jacques Heath (Lily May Peel)  female  35.0      1   \n",
       "4                           Allen, Mr. William Henry    male  35.0      0   \n",
       "\n",
       "   Parch            Ticket     Fare Cabin Embarked  \n",
       "0      0         A/5 21171   7.2500   NaN        S  \n",
       "1      0          PC 17599  71.2833   C85        C  \n",
       "2      0  STON/O2. 3101282   7.9250   NaN        S  \n",
       "3      0            113803  53.1000  C123        S  \n",
       "4      0            373450   8.0500   NaN        S  "
      ]
     },
     "execution_count": 4,
     "metadata": {},
     "output_type": "execute_result"
    }
   ],
=======
   "execution_count": null,
   "metadata": {
    "collapsed": false
   },
   "outputs": [],
>>>>>>> 7a8583941d66f831e66e9233b456b8bf290e8e12
   "source": [
    "titanic.head()"
   ]
  },
  {
   "cell_type": "code",
<<<<<<< HEAD
   "execution_count": 16,
   "metadata": {
    "collapsed": false
   },
   "outputs": [
    {
     "data": {
      "text/html": [
       "<div>\n",
       "<table border=\"1\" class=\"dataframe\">\n",
       "  <thead>\n",
       "    <tr style=\"text-align: right;\">\n",
       "      <th></th>\n",
       "      <th></th>\n",
       "      <th>PassengerId</th>\n",
       "      <th>Name</th>\n",
       "      <th>Sex</th>\n",
       "      <th>Age</th>\n",
       "      <th>SibSp</th>\n",
       "      <th>Parch</th>\n",
       "      <th>Ticket</th>\n",
       "      <th>Fare</th>\n",
       "      <th>Cabin</th>\n",
       "      <th>Embarked</th>\n",
       "    </tr>\n",
       "    <tr>\n",
       "      <th>Survived</th>\n",
       "      <th>Pclass</th>\n",
       "      <th></th>\n",
       "      <th></th>\n",
       "      <th></th>\n",
       "      <th></th>\n",
       "      <th></th>\n",
       "      <th></th>\n",
       "      <th></th>\n",
       "      <th></th>\n",
       "      <th></th>\n",
       "      <th></th>\n",
       "    </tr>\n",
       "  </thead>\n",
       "  <tbody>\n",
       "    <tr>\n",
       "      <th rowspan=\"3\" valign=\"top\">0</th>\n",
       "      <th>1</th>\n",
       "      <td>80</td>\n",
       "      <td>80</td>\n",
       "      <td>80</td>\n",
       "      <td>64</td>\n",
       "      <td>80</td>\n",
       "      <td>80</td>\n",
       "      <td>80</td>\n",
       "      <td>80</td>\n",
       "      <td>59</td>\n",
       "      <td>80</td>\n",
       "    </tr>\n",
       "    <tr>\n",
       "      <th>2</th>\n",
       "      <td>97</td>\n",
       "      <td>97</td>\n",
       "      <td>97</td>\n",
       "      <td>90</td>\n",
       "      <td>97</td>\n",
       "      <td>97</td>\n",
       "      <td>97</td>\n",
       "      <td>97</td>\n",
       "      <td>3</td>\n",
       "      <td>97</td>\n",
       "    </tr>\n",
       "    <tr>\n",
       "      <th>3</th>\n",
       "      <td>372</td>\n",
       "      <td>372</td>\n",
       "      <td>372</td>\n",
       "      <td>270</td>\n",
       "      <td>372</td>\n",
       "      <td>372</td>\n",
       "      <td>372</td>\n",
       "      <td>372</td>\n",
       "      <td>6</td>\n",
       "      <td>372</td>\n",
       "    </tr>\n",
       "    <tr>\n",
       "      <th rowspan=\"3\" valign=\"top\">1</th>\n",
       "      <th>1</th>\n",
       "      <td>136</td>\n",
       "      <td>136</td>\n",
       "      <td>136</td>\n",
       "      <td>122</td>\n",
       "      <td>136</td>\n",
       "      <td>136</td>\n",
       "      <td>136</td>\n",
       "      <td>136</td>\n",
       "      <td>117</td>\n",
       "      <td>134</td>\n",
       "    </tr>\n",
       "    <tr>\n",
       "      <th>2</th>\n",
       "      <td>87</td>\n",
       "      <td>87</td>\n",
       "      <td>87</td>\n",
       "      <td>83</td>\n",
       "      <td>87</td>\n",
       "      <td>87</td>\n",
       "      <td>87</td>\n",
       "      <td>87</td>\n",
       "      <td>13</td>\n",
       "      <td>87</td>\n",
       "    </tr>\n",
       "    <tr>\n",
       "      <th>3</th>\n",
       "      <td>119</td>\n",
       "      <td>119</td>\n",
       "      <td>119</td>\n",
       "      <td>85</td>\n",
       "      <td>119</td>\n",
       "      <td>119</td>\n",
       "      <td>119</td>\n",
       "      <td>119</td>\n",
       "      <td>6</td>\n",
       "      <td>119</td>\n",
       "    </tr>\n",
       "  </tbody>\n",
       "</table>\n",
       "</div>"
      ],
      "text/plain": [
       "                 PassengerId  Name  Sex  Age  SibSp  Parch  Ticket  Fare  \\\n",
       "Survived Pclass                                                            \n",
       "0        1                80    80   80   64     80     80      80    80   \n",
       "         2                97    97   97   90     97     97      97    97   \n",
       "         3               372   372  372  270    372    372     372   372   \n",
       "1        1               136   136  136  122    136    136     136   136   \n",
       "         2                87    87   87   83     87     87      87    87   \n",
       "         3               119   119  119   85    119    119     119   119   \n",
       "\n",
       "                 Cabin  Embarked  \n",
       "Survived Pclass                   \n",
       "0        1          59        80  \n",
       "         2           3        97  \n",
       "         3           6       372  \n",
       "1        1         117       134  \n",
       "         2          13        87  \n",
       "         3           6       119  "
      ]
     },
     "execution_count": 16,
     "metadata": {},
     "output_type": "execute_result"
    }
   ],
=======
   "execution_count": null,
   "metadata": {
    "collapsed": false
   },
   "outputs": [],
   "source": [
    "titanic.set_index('PassengerId', inplace=True)\n",
    "titanic = titanic.join(pd.get_dummies(titanic.Pclass))\n",
    "titanic['is_male'] = titanic.Sex.apply(lambda x: 1 if x == 'male' else 0)"
   ]
  },
  {
   "cell_type": "code",
   "execution_count": null,
   "metadata": {
    "collapsed": false
   },
   "outputs": [],
   "source": [
    "%matplotlib inline\n",
    "titanic.groupby('Survived').Age.hist()"
   ]
  },
  {
   "cell_type": "code",
   "execution_count": null,
   "metadata": {
    "collapsed": false
   },
   "outputs": [],
>>>>>>> 7a8583941d66f831e66e9233b456b8bf290e8e12
   "source": [
    "survived = titanic.groupby((titanic['Survived'], titanic['Pclass']), axis = 0)\n",
    "survived.count()"
   ]
  },
  {
   "cell_type": "code",
<<<<<<< HEAD
   "execution_count": 129,
   "metadata": {
    "collapsed": false
   },
   "outputs": [],
   "source": [
    "titanic.set_index('PassengerId', inplace=True)\n",
    "titanic = titanic.join(pd.get_dummies(titanic.Pclass))\n",
    "titanic['is_male'] = titanic.Sex.apply(lambda x: 1 if x == 'male' else 0)"
   ]
  },
  {
   "cell_type": "code",
   "execution_count": 130,
   "metadata": {
    "collapsed": false
   },
   "outputs": [
    {
     "data": {
      "text/plain": [
       "Survived\n",
       "0    Axes(0.125,0.125;0.775x0.775)\n",
       "1    Axes(0.125,0.125;0.775x0.775)\n",
       "Name: Age, dtype: object"
      ]
     },
     "execution_count": 130,
     "metadata": {},
     "output_type": "execute_result"
    },
    {
     "data": {
      "image/png": "iVBORw0KGgoAAAANSUhEUgAAAXoAAAEACAYAAAC9Gb03AAAABHNCSVQICAgIfAhkiAAAAAlwSFlz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\ncBr0IiINp0EvItJw/w9qlRs3laRjmwAAAABJRU5ErkJggg==\n",
      "text/plain": [
       "<matplotlib.figure.Figure at 0x11707dc90>"
      ]
     },
     "metadata": {},
     "output_type": "display_data"
    }
   ],
   "source": [
    "%matplotlib inline\n",
    "titanic.groupby('Survived').Age.hist()"
   ]
  },
  {
   "cell_type": "code",
   "execution_count": 140,
   "metadata": {
    "collapsed": false
   },
   "outputs": [],
   "source": [
    "# titanic.head(10)"
   ]
  },
  {
   "cell_type": "code",
   "execution_count": 131,
=======
   "execution_count": null,
>>>>>>> 7a8583941d66f831e66e9233b456b8bf290e8e12
   "metadata": {
    "collapsed": false
   },
   "outputs": [],
   "source": [
    "titanic['Age'] = titanic.groupby([\"Sex\", 'Pclass']).Age.transform(lambda x: x.fillna(x.mean()))\n",
    "titanic['had_parents'] = titanic.Parch.apply(lambda x: 1 if x > 0 else 0)\n",
    "titanic['had_siblings'] = titanic.SibSp.apply(lambda x: 1 if x > 0 else 0)"
   ]
  },
  {
   "cell_type": "code",
<<<<<<< HEAD
   "execution_count": 144,
   "metadata": {
    "collapsed": false
   },
   "outputs": [
    {
     "data": {
      "text/plain": [
       "GridSearchCV(cv=sklearn.cross_validation.KFold(n=891, n_folds=10, shuffle=False, random_state=None),\n",
       "       error_score='raise',\n",
       "       estimator=LogisticRegression(C=1.0, class_weight=None, dual=False, fit_intercept=True,\n",
       "          intercept_scaling=1, max_iter=100, multi_class='ovr', n_jobs=1,\n",
       "          penalty='l2', random_state=None, solver='liblinear', tol=0.0001,\n",
       "          verbose=0, warm_start=False),\n",
       "       fit_params={}, iid=True, n_jobs=1,\n",
       "       param_grid={'C': [100000, 10000, 1000, 100, 10, 1, 0.1, 0.01, 0.001, 0.0001], 'class_weight': ['balanced']},\n",
       "       pre_dispatch='2*n_jobs', refit=True, scoring='roc_auc', verbose=0)"
      ]
     },
     "execution_count": 144,
     "metadata": {},
     "output_type": "execute_result"
    }
   ],
   "source": [
    "# titanic['Age']\n",
    "gs"
=======
   "execution_count": null,
   "metadata": {
    "collapsed": false
   },
   "outputs": [],
   "source": [
    "titanic.head()"
>>>>>>> 7a8583941d66f831e66e9233b456b8bf290e8e12
   ]
  },
  {
   "cell_type": "code",
<<<<<<< HEAD
   "execution_count": 142,
   "metadata": {
    "collapsed": false
   },
   "outputs": [
    {
     "data": {
      "text/plain": [
       "[mean: 0.83905, std: 0.02934, params: {'C': 100000, 'class_weight': 'balanced'},\n",
       " mean: 0.83905, std: 0.02934, params: {'C': 10000, 'class_weight': 'balanced'},\n",
       " mean: 0.83905, std: 0.02934, params: {'C': 1000, 'class_weight': 'balanced'},\n",
       " mean: 0.83910, std: 0.02936, params: {'C': 100, 'class_weight': 'balanced'},\n",
       " mean: 0.83906, std: 0.02946, params: {'C': 10, 'class_weight': 'balanced'},\n",
       " mean: 0.83890, std: 0.02989, params: {'C': 1, 'class_weight': 'balanced'},\n",
       " mean: 0.83560, std: 0.03130, params: {'C': 0.1, 'class_weight': 'balanced'},\n",
       " mean: 0.80081, std: 0.05313, params: {'C': 0.01, 'class_weight': 'balanced'},\n",
       " mean: 0.73558, std: 0.06662, params: {'C': 0.001, 'class_weight': 'balanced'},\n",
       " mean: 0.70236, std: 0.07329, params: {'C': 0.0001, 'class_weight': 'balanced'}]"
      ]
     },
     "execution_count": 142,
     "metadata": {},
     "output_type": "execute_result"
    }
   ],
=======
   "execution_count": null,
   "metadata": {
    "collapsed": false,
    "scrolled": true
   },
   "outputs": [],
>>>>>>> 7a8583941d66f831e66e9233b456b8bf290e8e12
   "source": [
    "from sklearn import grid_search, cross_validation\n",
    "\n",
    "feature_set = titanic[['is_male', 1, 2, 'Fare', 'Age', 'had_parents', 'had_siblings']]\n",
    "\n",
<<<<<<< HEAD
    "#C parameter takes a list comprhension..provides a list of values...this are similar to alphas..they are the \n",
    "# recipricol of lambda.\n",
    "gs = grid_search.GridSearchCV(\n",
    "    estimator=LogisticRegression(),\n",
    "    param_grid={'C': [10**-i for i in range(-5, 5)], 'class_weight': ['balanced']},\n",
    "    cv=cross_validation.KFold(n=len(titanic), n_folds=10),\n",
    "    scoring='roc_auc'\n",
=======
    "gs = grid_search.GridSearchCV(\n",
    "    estimator=LogisticRegression(),\n",
    "    param_grid={'C': [10**-i for i in range(-5, 5)], 'class_weight': [None, 'auto']},\n",
    "    cv=cross_validation.KFold(n=len(titanic), n_folds=10) #scoring='roc_auc'\n",
>>>>>>> 7a8583941d66f831e66e9233b456b8bf290e8e12
    ")\n",
    "\n",
    "\n",
    "gs.fit(feature_set, titanic.Survived)\n",
    "#print gs.grid_scores_\n"
   ]
  },
  {
   "cell_type": "code",
<<<<<<< HEAD
   "execution_count": 134,
   "metadata": {
    "collapsed": false
   },
   "outputs": [
    {
     "name": "stdout",
     "output_type": "stream",
     "text": [
      "LogisticRegression(C=100, class_weight='balanced', dual=False,\n",
      "          fit_intercept=True, intercept_scaling=1, max_iter=100,\n",
      "          multi_class='ovr', n_jobs=1, penalty='l2', random_state=None,\n",
      "          solver='liblinear', tol=0.0001, verbose=0, warm_start=False)\n"
     ]
    }
   ],
=======
   "execution_count": null,
   "metadata": {
    "collapsed": false
   },
   "outputs": [],
   "source": [
    "#[10**-i for i in range(-5, 5)]\n",
    "gs.grid_scores_"
   ]
  },
  {
   "cell_type": "code",
   "execution_count": null,
   "metadata": {
    "collapsed": false
   },
   "outputs": [],
>>>>>>> 7a8583941d66f831e66e9233b456b8bf290e8e12
   "source": [
    "print gs.best_estimator_"
   ]
  },
  {
   "cell_type": "code",
   "execution_count": null,
   "metadata": {
    "collapsed": true
   },
   "outputs": [],
   "source": []
  },
  {
   "cell_type": "code",
   "execution_count": null,
   "metadata": {
    "collapsed": true
   },
   "outputs": [],
   "source": []
  }
 ],
 "metadata": {
  "kernelspec": {
   "display_name": "Python 2",
   "language": "python",
   "name": "python2"
  },
  "language_info": {
   "codemirror_mode": {
    "name": "ipython",
    "version": 2
   },
   "file_extension": ".py",
   "mimetype": "text/x-python",
   "name": "python",
   "nbconvert_exporter": "python",
   "pygments_lexer": "ipython2",
   "version": "2.7.11"
  }
 },
 "nbformat": 4,
 "nbformat_minor": 0
}
