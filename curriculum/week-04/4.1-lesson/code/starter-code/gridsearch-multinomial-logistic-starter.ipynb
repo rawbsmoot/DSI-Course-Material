{
 "cells": [
  {
   "cell_type": "code",
   "execution_count": 45,
   "metadata": {
    "collapsed": true
   },
   "outputs": [],
   "source": [
    "import numpy as np\n",
    "import pandas as pd\n",
    "import patsy\n",
    "\n",
    "from sklearn.metrics import classification_report, confusion_matrix, accuracy_score\n",
    "from sklearn.cross_validation import train_test_split\n",
    "from sklearn.linear_model import LogisticRegression, LogisticRegressionCV\n",
    "from sklearn.grid_search import GridSearchCV"
   ]
  },
  {
   "cell_type": "code",
   "execution_count": 46,
   "metadata": {
    "collapsed": true
   },
   "outputs": [],
   "source": [
    "sf_crime = pd.read_csv('../../assets/datasets/sf_crime_train.csv')"
   ]
  },
  {
   "cell_type": "code",
   "execution_count": 47,
   "metadata": {
    "collapsed": false
   },
   "outputs": [
    {
     "data": {
      "text/html": [
       "<div>\n",
       "<table border=\"1\" class=\"dataframe\">\n",
       "  <thead>\n",
       "    <tr style=\"text-align: right;\">\n",
       "      <th></th>\n",
       "      <th>Dates</th>\n",
       "      <th>Category</th>\n",
       "      <th>Descript</th>\n",
       "      <th>DayOfWeek</th>\n",
       "      <th>PdDistrict</th>\n",
       "      <th>Resolution</th>\n",
       "      <th>Address</th>\n",
       "      <th>X</th>\n",
       "      <th>Y</th>\n",
       "    </tr>\n",
       "  </thead>\n",
       "  <tbody>\n",
       "    <tr>\n",
       "      <th>0</th>\n",
       "      <td>5/13/15 23:53</td>\n",
       "      <td>WARRANTS</td>\n",
       "      <td>WARRANT ARREST</td>\n",
       "      <td>Wednesday</td>\n",
       "      <td>NORTHERN</td>\n",
       "      <td>ARREST, BOOKED</td>\n",
       "      <td>OAK ST / LAGUNA ST</td>\n",
       "      <td>-122.425892</td>\n",
       "      <td>37.774599</td>\n",
       "    </tr>\n",
       "    <tr>\n",
       "      <th>1</th>\n",
       "      <td>5/13/15 23:53</td>\n",
       "      <td>OTHER OFFENSES</td>\n",
       "      <td>TRAFFIC VIOLATION ARREST</td>\n",
       "      <td>Wednesday</td>\n",
       "      <td>NORTHERN</td>\n",
       "      <td>ARREST, BOOKED</td>\n",
       "      <td>OAK ST / LAGUNA ST</td>\n",
       "      <td>-122.425892</td>\n",
       "      <td>37.774599</td>\n",
       "    </tr>\n",
       "    <tr>\n",
       "      <th>2</th>\n",
       "      <td>5/13/15 23:33</td>\n",
       "      <td>OTHER OFFENSES</td>\n",
       "      <td>TRAFFIC VIOLATION ARREST</td>\n",
       "      <td>Wednesday</td>\n",
       "      <td>NORTHERN</td>\n",
       "      <td>ARREST, BOOKED</td>\n",
       "      <td>VANNESS AV / GREENWICH ST</td>\n",
       "      <td>-122.424363</td>\n",
       "      <td>37.800414</td>\n",
       "    </tr>\n",
       "    <tr>\n",
       "      <th>3</th>\n",
       "      <td>5/13/15 23:30</td>\n",
       "      <td>LARCENY/THEFT</td>\n",
       "      <td>GRAND THEFT FROM LOCKED AUTO</td>\n",
       "      <td>Wednesday</td>\n",
       "      <td>NORTHERN</td>\n",
       "      <td>NONE</td>\n",
       "      <td>1500 Block of LOMBARD ST</td>\n",
       "      <td>-122.426995</td>\n",
       "      <td>37.800873</td>\n",
       "    </tr>\n",
       "    <tr>\n",
       "      <th>4</th>\n",
       "      <td>5/13/15 23:30</td>\n",
       "      <td>LARCENY/THEFT</td>\n",
       "      <td>GRAND THEFT FROM LOCKED AUTO</td>\n",
       "      <td>Wednesday</td>\n",
       "      <td>PARK</td>\n",
       "      <td>NONE</td>\n",
       "      <td>100 Block of BRODERICK ST</td>\n",
       "      <td>-122.438738</td>\n",
       "      <td>37.771541</td>\n",
       "    </tr>\n",
       "  </tbody>\n",
       "</table>\n",
       "</div>"
      ],
      "text/plain": [
       "           Dates        Category                      Descript  DayOfWeek  \\\n",
       "0  5/13/15 23:53        WARRANTS                WARRANT ARREST  Wednesday   \n",
       "1  5/13/15 23:53  OTHER OFFENSES      TRAFFIC VIOLATION ARREST  Wednesday   \n",
       "2  5/13/15 23:33  OTHER OFFENSES      TRAFFIC VIOLATION ARREST  Wednesday   \n",
       "3  5/13/15 23:30   LARCENY/THEFT  GRAND THEFT FROM LOCKED AUTO  Wednesday   \n",
       "4  5/13/15 23:30   LARCENY/THEFT  GRAND THEFT FROM LOCKED AUTO  Wednesday   \n",
       "\n",
       "  PdDistrict      Resolution                    Address           X          Y  \n",
       "0   NORTHERN  ARREST, BOOKED         OAK ST / LAGUNA ST -122.425892  37.774599  \n",
       "1   NORTHERN  ARREST, BOOKED         OAK ST / LAGUNA ST -122.425892  37.774599  \n",
       "2   NORTHERN  ARREST, BOOKED  VANNESS AV / GREENWICH ST -122.424363  37.800414  \n",
       "3   NORTHERN            NONE   1500 Block of LOMBARD ST -122.426995  37.800873  \n",
       "4       PARK            NONE  100 Block of BRODERICK ST -122.438738  37.771541  "
      ]
     },
     "execution_count": 47,
     "metadata": {},
     "output_type": "execute_result"
    }
   ],
   "source": [
    "sf_crime.head()"
   ]
  },
  {
   "cell_type": "code",
   "execution_count": 48,
   "metadata": {
    "collapsed": false
   },
   "outputs": [
    {
     "data": {
      "text/plain": [
       "(18000, 9)"
      ]
     },
     "execution_count": 48,
     "metadata": {},
     "output_type": "execute_result"
    }
   ],
   "source": [
    "sf_crime.shape"
   ]
  },
  {
   "cell_type": "code",
   "execution_count": null,
   "metadata": {
    "collapsed": true
   },
   "outputs": [],
   "source": []
  },
  {
   "cell_type": "code",
   "execution_count": 49,
   "metadata": {
    "collapsed": false
   },
   "outputs": [],
   "source": [
    "# prep data, covert date to datetime, split for train and test, and build model\n",
    "sf_crime = sf_crime.dropna()\n",
    "\n",
    "sf_crime['Dates'] = pd.to_datetime(sf_crime.Dates)\n",
    "sf_crime_dates = pd.DatetimeIndex(sf_crime.Dates.values, dtype='datetime64[ns]', freq=None)\n",
    "\n",
    "sf_crime['hour'] = sf_crime_dates.hour\n",
    "sf_crime['month'] = sf_crime_dates.month\n",
    "sf_crime['year'] = sf_crime_dates.year"
   ]
  },
  {
   "cell_type": "code",
   "execution_count": 50,
   "metadata": {
    "collapsed": false
   },
   "outputs": [
    {
     "data": {
      "text/plain": [
       "(18000, 12)"
      ]
     },
     "execution_count": 50,
     "metadata": {},
     "output_type": "execute_result"
    }
   ],
   "source": [
    "sf_crime.shape"
   ]
  },
  {
   "cell_type": "code",
   "execution_count": 83,
   "metadata": {
    "collapsed": false
   },
   "outputs": [],
   "source": [
    "# sf_crime.head(10)"
   ]
  },
  {
   "cell_type": "code",
   "execution_count": 85,
   "metadata": {
    "collapsed": false
   },
   "outputs": [
    {
     "data": {
      "text/html": [
       "<div>\n",
       "<table border=\"1\" class=\"dataframe\">\n",
       "  <thead>\n",
       "    <tr style=\"text-align: right;\">\n",
       "      <th></th>\n",
       "      <th>Dates</th>\n",
       "      <th>Category</th>\n",
       "      <th>Descript</th>\n",
       "      <th>DayOfWeek</th>\n",
       "      <th>PdDistrict</th>\n",
       "      <th>Resolution</th>\n",
       "      <th>Address</th>\n",
       "      <th>X</th>\n",
       "      <th>Y</th>\n",
       "      <th>hour</th>\n",
       "      <th>month</th>\n",
       "      <th>year</th>\n",
       "    </tr>\n",
       "  </thead>\n",
       "  <tbody>\n",
       "    <tr>\n",
       "      <th>6</th>\n",
       "      <td>2015-05-13 23:30:00</td>\n",
       "      <td>VEHICLE THEFT</td>\n",
       "      <td>STOLEN AUTOMOBILE</td>\n",
       "      <td>Wednesday</td>\n",
       "      <td>INGLESIDE</td>\n",
       "      <td>NONE</td>\n",
       "      <td>AVALON AV / PERU AV</td>\n",
       "      <td>-122.423327</td>\n",
       "      <td>37.725138</td>\n",
       "      <td>23</td>\n",
       "      <td>5</td>\n",
       "      <td>2015</td>\n",
       "    </tr>\n",
       "    <tr>\n",
       "      <th>7</th>\n",
       "      <td>2015-05-13 23:30:00</td>\n",
       "      <td>VEHICLE THEFT</td>\n",
       "      <td>STOLEN AUTOMOBILE</td>\n",
       "      <td>Wednesday</td>\n",
       "      <td>BAYVIEW</td>\n",
       "      <td>NONE</td>\n",
       "      <td>KIRKWOOD AV / DONAHUE ST</td>\n",
       "      <td>-122.371274</td>\n",
       "      <td>37.727564</td>\n",
       "      <td>23</td>\n",
       "      <td>5</td>\n",
       "      <td>2015</td>\n",
       "    </tr>\n",
       "  </tbody>\n",
       "</table>\n",
       "</div>"
      ],
      "text/plain": [
       "                Dates       Category           Descript  DayOfWeek PdDistrict  \\\n",
       "6 2015-05-13 23:30:00  VEHICLE THEFT  STOLEN AUTOMOBILE  Wednesday  INGLESIDE   \n",
       "7 2015-05-13 23:30:00  VEHICLE THEFT  STOLEN AUTOMOBILE  Wednesday    BAYVIEW   \n",
       "\n",
       "  Resolution                   Address           X          Y  hour  month  \\\n",
       "6       NONE       AVALON AV / PERU AV -122.423327  37.725138    23      5   \n",
       "7       NONE  KIRKWOOD AV / DONAHUE ST -122.371274  37.727564    23      5   \n",
       "\n",
       "   year  \n",
       "6  2015  \n",
       "7  2015  "
      ]
     },
     "execution_count": 85,
     "metadata": {},
     "output_type": "execute_result"
    }
   ],
   "source": [
    "subset = ['VEHICLE THEFT','BURGLARY','DRUG/NARCOTIC']\n",
    "sf_crime_sub = sf_crime[sf_crime['Category'].str.contains('|'.join(subset))]\n",
    "sf_crime_sub.head(2)"
   ]
  },
  {
   "cell_type": "code",
   "execution_count": 92,
   "metadata": {
    "collapsed": false
   },
   "outputs": [],
   "source": [
    "#sf_sample = sf_crime_sub.sample(frac=0.50)\n",
    "\n",
    "X = patsy.dmatrix('~ C(hour) + C(DayOfWeek) + C(PdDistrict)', sf_crime_sub)\n",
    "Y = sf_crime_sub.Category.values\n",
    "\n",
    "# split for train and test\n",
    "X_train, X_test, Y_train, Y_test = train_test_split(X, Y, test_size=0.33, stratify=Y, random_state=77)\n"
   ]
  },
  {
   "cell_type": "code",
   "execution_count": 93,
   "metadata": {
    "collapsed": false
   },
   "outputs": [
    {
     "data": {
      "text/plain": [
       "DesignMatrix with shape (2195, 39)\n",
       "  Columns:\n",
       "    ['C(hour)[0]',\n",
       "     'C(hour)[1]',\n",
       "     'C(hour)[2]',\n",
       "     'C(hour)[3]',\n",
       "     'C(hour)[4]',\n",
       "     'C(hour)[5]',\n",
       "     'C(hour)[6]',\n",
       "     'C(hour)[7]',\n",
       "     'C(hour)[8]',\n",
       "     'C(hour)[9]',\n",
       "     'C(hour)[10]',\n",
       "     'C(hour)[11]',\n",
       "     'C(hour)[12]',\n",
       "     'C(hour)[13]',\n",
       "     'C(hour)[14]',\n",
       "     'C(hour)[15]',\n",
       "     'C(hour)[16]',\n",
       "     'C(hour)[17]',\n",
       "     'C(hour)[18]',\n",
       "     'C(hour)[19]',\n",
       "     'C(hour)[20]',\n",
       "     'C(hour)[21]',\n",
       "     'C(hour)[22]',\n",
       "     'C(hour)[23]',\n",
       "     'C(DayOfWeek)[T.Monday]',\n",
       "     'C(DayOfWeek)[T.Saturday]',\n",
       "     'C(DayOfWeek)[T.Sunday]',\n",
       "     'C(DayOfWeek)[T.Thursday]',\n",
       "     'C(DayOfWeek)[T.Tuesday]',\n",
       "     'C(DayOfWeek)[T.Wednesday]',\n",
       "     'C(PdDistrict)[T.CENTRAL]',\n",
       "     'C(PdDistrict)[T.INGLESIDE]',\n",
       "     'C(PdDistrict)[T.MISSION]',\n",
       "     'C(PdDistrict)[T.NORTHERN]',\n",
       "     'C(PdDistrict)[T.PARK]',\n",
       "     'C(PdDistrict)[T.RICHMOND]',\n",
       "     'C(PdDistrict)[T.SOUTHERN]',\n",
       "     'C(PdDistrict)[T.TARAVAL]',\n",
       "     'C(PdDistrict)[T.TENDERLOIN]']\n",
       "  Terms:\n",
       "    'C(hour)' (columns 0:24)\n",
       "    'C(DayOfWeek)' (columns 24:30)\n",
       "    'C(PdDistrict)' (columns 30:39)\n",
       "  (to view full data, use np.asarray(this_obj))"
      ]
     },
     "execution_count": 93,
     "metadata": {},
     "output_type": "execute_result"
    }
   ],
   "source": [
    "X"
   ]
  },
  {
   "cell_type": "code",
   "execution_count": 94,
   "metadata": {
    "collapsed": false
   },
   "outputs": [
    {
     "data": {
      "text/plain": [
       "LogisticRegressionCV(Cs=15, class_weight=None, cv=5, dual=False,\n",
       "           fit_intercept=True, intercept_scaling=1.0, max_iter=100,\n",
       "           multi_class='ovr', n_jobs=1, penalty='l1', random_state=None,\n",
       "           refit=True, scoring='accuracy', solver='liblinear', tol=0.0001,\n",
       "           verbose=0)"
      ]
     },
     "execution_count": 94,
     "metadata": {},
     "output_type": "execute_result"
    }
   ],
   "source": [
    "# fit model with five folds and lasso regularization\n",
    "# use Cs=15 to test a grid of 15 distinct parameters\n",
    "# remeber: Cs describes the inverse of regularization strength\n",
    "logreg_cv = LogisticRegressionCV(solver='liblinear',Cs=15,cv=5,penalty='l1', scoring='accuracy') # update inputs here # update inputs here **You are substantiating a class here\n",
    "logreg_cv.fit(X_train, Y_train)"
   ]
  },
  {
   "cell_type": "code",
   "execution_count": 88,
   "metadata": {
    "collapsed": false
   },
   "outputs": [
    {
     "name": "stdout",
     "output_type": "stream",
     "text": [
      "best C for class:\n",
      "{'BURGLARY': 719.68567300115137, 'VEHICLE THEFT': 1.0, 'DRUG/NARCOTIC': 1.0}\n"
     ]
    }
   ],
   "source": [
    "# find best C per class\n",
    "print('best C for class:')\n",
    "best_C = {logreg_cv.classes_[i]:x for i, (x, c) in enumerate(zip(logreg_cv.C_, logreg_cv.classes_))}\n",
    "print(best_C)"
   ]
  },
  {
   "cell_type": "code",
   "execution_count": 80,
   "metadata": {
    "collapsed": false
   },
   "outputs": [
    {
     "ename": "AttributeError",
     "evalue": "'function' object has no attribute 'score'",
     "output_type": "error",
     "traceback": [
      "\u001b[0;31m---------------------------------------------------------------------------\u001b[0m",
      "\u001b[0;31mAttributeError\u001b[0m                            Traceback (most recent call last)",
      "\u001b[0;32m<ipython-input-80-db77f927ec5e>\u001b[0m in \u001b[0;36m<module>\u001b[0;34m()\u001b[0m\n\u001b[1;32m      9\u001b[0m \u001b[0;31m# mdl_fit = mdl.fit()\u001b[0m\u001b[0;34m\u001b[0m\u001b[0;34m\u001b[0m\u001b[0m\n\u001b[1;32m     10\u001b[0m \u001b[0;31m# mdl_fit.summary()\u001b[0m\u001b[0;34m\u001b[0m\u001b[0;34m\u001b[0m\u001b[0m\n\u001b[0;32m---> 11\u001b[0;31m \u001b[0mlogreg_1\u001b[0m\u001b[0;34m.\u001b[0m\u001b[0mfit\u001b[0m\u001b[0;34m.\u001b[0m\u001b[0mscore\u001b[0m\u001b[0;34m(\u001b[0m\u001b[0;34m)\u001b[0m\u001b[0;34m\u001b[0m\u001b[0m\n\u001b[0m",
      "\u001b[0;31mAttributeError\u001b[0m: 'function' object has no attribute 'score'"
     ]
    }
   ],
   "source": [
    "# fit regular logit model to 'DRUG/NARCOTIC' and 'BURGLARY' classes\n",
    "# use lasso penalty\n",
    "logreg_1 = LogisticRegression(C=best_C['DRUG/NARCOTIC'], solver='liblinear', penalty='l1')\n",
    "logreg_2 = LogisticRegression(C=best_C['BURGLARY'], solver='liblinear', penalty='l1')\n",
    "\n",
    "logreg_1.fit(X_train, Y_train)\n",
    "logreg_2.fit(X_train, Y_train)\n",
    "# mdl = sm.MNLogit(y, x)\n",
    "# mdl_fit = mdl.fit()\n",
    "# mdl_fit.summary()\n"
   ]
  },
  {
   "cell_type": "code",
   "execution_count": 81,
   "metadata": {
    "collapsed": false
   },
   "outputs": [],
   "source": [
    "# build confusion matrices for the models above\n",
    "Y_1_pred = logreg_1.predict(X_train)\n",
    "Y_2_pred = logreg_2.predict(X_train)\n",
    "\n",
    "conmat_1 = confusion_matrix(Y_train, Y_1_pred, labels=logreg_1.classes_)\n",
    "conmat_1 = pd.DataFrame(conmat_1, columns=logreg_1.classes_, index=logreg_1.classes_)\n",
    "\n",
    "conmat_2 = confusion_matrix(Y_train, Y_2_pred, labels=logreg_2.classes_)\n",
    "conmat_2 = pd.DataFrame(conmat_2, columns=logreg_2.classes_, index=logreg_2.classes_)\n"
   ]
  },
  {
   "cell_type": "code",
   "execution_count": null,
   "metadata": {
    "collapsed": false
   },
   "outputs": [],
   "source": [
    "# print classification reports\n"
   ]
  },
  {
   "cell_type": "code",
   "execution_count": null,
   "metadata": {
    "collapsed": false
   },
   "outputs": [],
   "source": [
    "# run gridsearch using GridSearchCV and 5 folds\n",
    "# score on f1_macro; what does this metric tell us?\n",
    "logreg = LogisticRegression()\n",
    "C_vals = [0.0001, 0.001, 0.01, 0.1, 0.5, 0.75, 1.0, 2.5, 5.0, 10.0, 100.0, 1000.0]\n",
    "penalties = ['l1','l2']\n"
   ]
  },
  {
   "cell_type": "code",
   "execution_count": null,
   "metadata": {
    "collapsed": false
   },
   "outputs": [],
   "source": [
    "# find the best parameter\n"
   ]
  },
  {
   "cell_type": "code",
   "execution_count": null,
   "metadata": {
    "collapsed": false
   },
   "outputs": [],
   "source": [
    "# use this parameter to .fit, .predict, and print a classification_report for our X and Y\n"
   ]
  },
  {
   "cell_type": "code",
   "execution_count": null,
   "metadata": {
    "collapsed": true
   },
   "outputs": [],
   "source": []
  }
 ],
 "metadata": {
  "kernelspec": {
   "display_name": "Python 2",
   "language": "python",
   "name": "python2"
  },
  "language_info": {
   "codemirror_mode": {
    "name": "ipython",
    "version": 2
   },
   "file_extension": ".py",
   "mimetype": "text/x-python",
   "name": "python",
   "nbconvert_exporter": "python",
   "pygments_lexer": "ipython2",
   "version": "2.7.11"
  }
 },
 "nbformat": 4,
 "nbformat_minor": 0
}
