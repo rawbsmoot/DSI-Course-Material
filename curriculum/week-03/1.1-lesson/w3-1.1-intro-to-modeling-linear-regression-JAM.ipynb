{
 "cells": [
  {
   "cell_type": "code",
   "execution_count": 1,
   "metadata": {
    "collapsed": false,
    "slideshow": {
     "slide_type": "skip"
    }
   },
   "outputs": [
    {
     "name": "stdout",
     "output_type": "stream",
     "text": [
      "/Users/smoot/Desktop/ga/DSI_SM_01/curriculum/week-03/1.1-lesson\r\n"
     ]
    }
   ],
   "source": [
    "from IPython.display import Image, display, HTML\n",
    "!pwd"
   ]
  },
  {
   "cell_type": "code",
   "execution_count": 2,
   "metadata": {
    "collapsed": false
   },
   "outputs": [],
   "source": [
    "import seaborn as sns"
   ]
  },
  {
   "cell_type": "markdown",
   "metadata": {
    "slideshow": {
     "slide_type": "slide"
    }
   },
   "source": [
    "<img src=\"https://ga-dash.s3.amazonaws.com/production/assets/logo-9f88ae6c9c3871690e33280fcf557f33.png\" style=\"float: left; margin: 15px\">\n",
    "# Intro to Modeling: Linear Regression\n",
    "***\n",
    "Week 3 | Lesson 1.1\n",
    "\n",
    "### LEARNING OBJECTIVES\n",
    "*After this lesson, you will be able to:*\n",
    "- Define the terms: modeling, prediction\n",
    "- Find the best fit line by hand\n",
    "- Explore linear relationships with plotting"
   ]
  },
  {
   "cell_type": "markdown",
   "metadata": {
    "slideshow": {
     "slide_type": "skip"
    }
   },
   "source": [
    "### LESSON GUIDE\n",
    "| TIMING  | TYPE  | TOPIC  |\n",
    "|:-:|---|---|\n",
    "| 5 min  | [Opening](#opening)  | Topic description  |\n",
    "| 10 min  | [Introduction](#introduction)   | Topic description  |\n",
    "| 15 min  | [Demo](#demo)  | Topic description  |\n",
    "| 25 min  | [Guided Practice](#guided-practice<a name=\"opening\"></a>)  | Topic description  |\n",
    "| 25 min  | [Independent Practice](#ind-practice)  | Topic description  |\n",
    "| 5 min  | [Conclusion](#conclusion)  | Topic description  |\n",
    "\n",
    "---"
   ]
  },
  {
   "cell_type": "markdown",
   "metadata": {
    "slideshow": {
     "slide_type": "slide"
    }
   },
   "source": [
    "> <span style=\"font-size: 24pt;\">\"It Is A Capital Mistake To Theorize Before One Has Data. Insensibly One Begins To Twist Facts To Suit Theories, Instead Of Theories To Suit Facts.\"</span>\n",
    "\n",
    ">     Arthur Conan Doyle, Sherlock Holmes"
   ]
  },
  {
   "cell_type": "markdown",
   "metadata": {
    "collapsed": true,
    "slideshow": {
     "slide_type": "slide"
    }
   },
   "source": [
    "# Preface!\n",
    "\n",
    "As data scientists:\n",
    "    \n",
    "- We find relationships between variables using statistical and mathmatical techniques\n",
    "- We use _modeling_ to explore these relationships\n",
    "- _linear regression_ is an extremely common technique for modeling relationships"
   ]
  },
  {
   "cell_type": "markdown",
   "metadata": {
    "slideshow": {
     "slide_type": "slide"
    }
   },
   "source": [
    "<span style=\"font-size: 45pt;\">\n",
    "$$ \n",
    "y_{i} = \\alpha + \\beta x_{i} + \\mu_{i}\n",
    "$$\n",
    "</span>\n"
   ]
  },
  {
   "cell_type": "raw",
   "metadata": {},
   "source": [
    "Slope formula"
   ]
  },
  {
   "cell_type": "markdown",
   "metadata": {
    "slideshow": {
     "slide_type": "fragment"
    }
   },
   "source": [
    "\n",
    "\n",
    "<span style=\"font-size: 40pt;\">\n",
    "$$ \n",
    "Q = \\sum^{n}_{i=1}\\left (  y_{i} - \\hat{\\alpha}\\ - \\hat{\\beta} x_{i} \\right )^{2}\n",
    "$$\n",
    "</span>"
   ]
  },
  {
   "cell_type": "code",
   "execution_count": null,
   "metadata": {
    "collapsed": true
   },
   "outputs": [],
   "source": []
  },
  {
   "cell_type": "markdown",
   "metadata": {
    "slideshow": {
     "slide_type": "slide"
    }
   },
   "source": [
    "## What are some ways we have broadly or specifically used linear regression?"
   ]
  },
  {
   "cell_type": "markdown",
   "metadata": {
    "slideshow": {
     "slide_type": "notes"
    }
   },
   "source": [
    "_Note:  List/explore/whiteboard examples from excited crowd_"
   ]
  },
  {
   "cell_type": "markdown",
   "metadata": {
    "slideshow": {
     "slide_type": "slide"
    }
   },
   "source": [
    "# Time/Direction Example\n",
    "\n",
    "When we drive a constant speed in a single direction, what happens?"
   ]
  },
  {
   "cell_type": "markdown",
   "metadata": {
    "slideshow": {
     "slide_type": "fragment"
    }
   },
   "source": [
    "\n",
    "**When you drive at a constant speed `s` for `t` hours, the distance you travel is**\n",
    "\n",
    "<span style=\"font-size: 50pt;\">\n",
    "$$ \n",
    "d = st \n",
    "$$\n",
    "</span>"
   ]
  },
  {
   "cell_type": "markdown",
   "metadata": {},
   "source": [
    "* The quantities of distance and time are in a **linear relationship**\n",
    "because the graph is a line with **slope (rate) `s`**.\n",
    "* This equation is a **model** between the **distance travelled** and the **time travelled**."
   ]
  },
  {
   "cell_type": "markdown",
   "metadata": {
    "slideshow": {
     "slide_type": "slide"
    }
   },
   "source": [
    "## The Mobile Developer Salary Example\n",
    "\n",
    "Do mobile developers get paid more, the more experience they have? Yes!  Let's assume a standard constant when we consdier the following:\n",
    "<br><br>\n",
    "<details> \n",
    "  <summary>Over `y` years, how much might a developers salary (`s`) increase? </summary>\n",
    "  <br><br><br>\n",
    "  <span style=\"font-size: 35pt\">\n",
    "  $$\n",
    "      y = sd\n",
    "  $$\n",
    "  </span>\n",
    "</details>\n"
   ]
  },
  {
   "cell_type": "code",
   "execution_count": 3,
   "metadata": {
    "collapsed": false
   },
   "outputs": [
    {
     "ename": "NameError",
     "evalue": "name 'sd' is not defined",
     "output_type": "error",
     "traceback": [
      "\u001b[0;31m---------------------------------------------------------------------------\u001b[0m",
      "\u001b[0;31mNameError\u001b[0m                                 Traceback (most recent call last)",
      "\u001b[0;32m<ipython-input-3-1cdc86207a07>\u001b[0m in \u001b[0;36m<module>\u001b[0;34m()\u001b[0m\n\u001b[0;32m----> 1\u001b[0;31m \u001b[0my\u001b[0m \u001b[0;34m=\u001b[0m \u001b[0msd\u001b[0m\u001b[0;34m\u001b[0m\u001b[0m\n\u001b[0m",
      "\u001b[0;31mNameError\u001b[0m: name 'sd' is not defined"
     ]
    }
   ],
   "source": [
    "y = sd"
   ]
  },
  {
   "cell_type": "markdown",
   "metadata": {
    "slideshow": {
     "slide_type": "slide"
    }
   },
   "source": [
    "## The Orange Juice Example\n",
    "\n",
    "We drink a glass of orange juice every day, from a bottle that holds 8 glasses.\n",
    "<br><br>\n",
    "<details> \n",
    "  <summary>In `d` days, how much of a bottle of juice (`j`) do we drink? </summary>\n",
    "  <br>\n",
    "  \n",
    "<span style=\"font-size: 35pt\">\n",
    "  $$\n",
    "      j = (1/8) * d\n",
    "  $$\n",
    "</span>\n",
    "</details>\n",
    "\n"
   ]
  },
  {
   "cell_type": "markdown",
   "metadata": {
    "slideshow": {
     "slide_type": "slide"
    }
   },
   "source": [
    "## Intro: Linear Relationships\n",
    "\n",
    "Because we use rates to commonly understand natural processes, linear\n",
    "relationships are ubiquitous in our lives and our data. We don't always know\n",
    "how two quantities are related. Linear regression is a way to determine the\n",
    "relationship from a set of data.\n",
    "\n",
    "* Models are relationships between quantities\n",
    "* Linear regression is a method to determine the coefficients of linear\n",
    "relationships\n",
    "\n",
    "![](http://www.comfsm.fm/~dleeling/statistics/relationships.gif)"
   ]
  },
  {
   "cell_type": "markdown",
   "metadata": {
    "slideshow": {
     "slide_type": "notes"
    }
   },
   "source": [
    "_note:  We might not always know the relationship, but we can use linear regression to measure our observations, as a basic construct._"
   ]
  },
  {
   "cell_type": "markdown",
   "metadata": {
    "slideshow": {
     "slide_type": "slide"
    }
   },
   "source": [
    "## Prediction\n",
    "\n",
    "**With a model we can make _predictions.**\n",
    "\n",
    "35 miles per hour for 2 hours then I predict that you will travel ?? miles.\n",
    "\n",
    "<br><br>\n",
    "\n",
    "<div style=\"font-size: 50pt;\">\n",
    "$$\n",
    "d=st\n",
    "$$\n",
    "</div>"
   ]
  },
  {
   "cell_type": "markdown",
   "metadata": {
    "slideshow": {
     "slide_type": "fragment"
    }
   },
   "source": [
    "<div style=\"font-size: 20pt;\">\n",
    "$$\n",
    "distance = 35 miles * 2 hours\n",
    "$$\n",
    "</div>"
   ]
  },
  {
   "cell_type": "markdown",
   "metadata": {
    "slideshow": {
     "slide_type": "fragment"
    }
   },
   "source": [
    "<div style=\"font-size: 20pt;\">\n",
    "$$\n",
    "mph 35 * 2 hours = 70 miles\n",
    "$$\n",
    "</div>"
   ]
  },
  {
   "cell_type": "markdown",
   "metadata": {
    "slideshow": {
     "slide_type": "slide"
    }
   },
   "source": [
    "> <span style=\"font-size: 30pt;\">Perfectly straight lines are 100% predictable.  Real-life isn't so black and white...<br><br></span> -Linear Regression of real life data\n",
    "\n"
   ]
  },
  {
   "cell_type": "markdown",
   "metadata": {
    "slideshow": {
     "slide_type": "notes"
    }
   },
   "source": [
    "_Imagine if you speed up or slow down several times when your driving?  What is the impact?  If we also want to consider direction, what if we're not driving in perfectly straight lines?_"
   ]
  },
  {
   "cell_type": "markdown",
   "metadata": {
    "slideshow": {
     "slide_type": "slide"
    }
   },
   "source": [
    "## Predictions Don't Have to Be Accurate to be Useful\n",
    "\n",
    "In general our models are not so precise if the relationship between our quantities are not perfect, but we can still make a reasonable guess using our models.\n",
    "\n",
    "* They have to generalize well to be useful\n",
    "* Real life data comes installed with lots of unexpected variation\n",
    "* Nothing in life is 100% certain, not even relationships (insert pun about human relationships)\n",
    "\n",
    "\n"
   ]
  },
  {
   "cell_type": "markdown",
   "metadata": {
    "slideshow": {
     "slide_type": "slide"
    }
   },
   "source": [
    "## Discussion:\n",
    "\n",
    "> Consider owning a movie theater and the problem of predicting how many employee's you may need to schedule.  What are some ways prediction could help for business?"
   ]
  },
  {
   "cell_type": "markdown",
   "metadata": {
    "slideshow": {
     "slide_type": "slide"
    }
   },
   "source": [
    "### Follow up\n",
    "\n",
    "For example, if you own a movie theatre, you need need to make sure you have enough\n",
    "staff on nights and weekends to handle the increased number of patrons. A model\n",
    "to **predict how many movie-goers will show up on a given night** will help you\n",
    "predict the amount of employees that you'll need -- enough to handle the customers\n",
    "but not too many so that you keep labor costs reasonable. \n",
    "\n",
    "\n",
    "\n"
   ]
  },
  {
   "cell_type": "markdown",
   "metadata": {
    "slideshow": {
     "slide_type": "fragment"
    }
   },
   "source": [
    "Too few employees and you won't be able to serve all the customers; too many and you've spent too much\n",
    "on labor. The better the estimate the better your business runs, and even if\n",
    "the estimate is off a bit you are still more prepared than if you had no\n",
    "model at all."
   ]
  },
  {
   "cell_type": "markdown",
   "metadata": {
    "slideshow": {
     "slide_type": "slide"
    }
   },
   "source": [
    "### Follow up...\n",
    "\n",
    "Similarly, other models might **predict**:\n",
    "- **How much** inventory to **stock**\n",
    "- **How much** a component or raw material will **cost** during **different times of year**\n",
    "- The **percentage of voters** that will show up in various **weather conditions** \n",
    "- and just about anything else\n",
    "\n",
    "With models we can make predictions.  Good predictions are extremely valuable for a wide variety of purposes"
   ]
  },
  {
   "cell_type": "markdown",
   "metadata": {
    "slideshow": {
     "slide_type": "slide"
    }
   },
   "source": [
    "# Linear Regression By Eye\n",
    "\n",
    "One way we can approximate a slope, is by drawing a line seperating a set of datapoints approximately, then calculating the intercept and slope using a simple equation:\n",
    "\n",
    "$$ y = mx + b $$\n",
    "\n",
    "The basic steps:\n",
    "\n",
    " - Split the data in half\n",
    " - Draw a line\n",
    " - Find the intercept \"b\"\n",
    " - Calculate the slope (the increase in y / increase in x)\n",
    "\n"
   ]
  },
  {
   "cell_type": "markdown",
   "metadata": {
    "slideshow": {
     "slide_type": "slide"
    }
   },
   "source": [
    "Let's consider the points (0,1) and (2,2). "
   ]
  },
  {
   "cell_type": "code",
   "execution_count": null,
   "metadata": {
    "collapsed": false
   },
   "outputs": [],
   "source": [
    "import matplotlib.pyplot as plt\n",
    "%matplotlib inline\n",
    "# (x0, x1), (y0, y1)\n",
    "data = [[0,2], [1, 2]]\n",
    "plt.plot(data[0], data[1], \"k-\")\n",
    "plt.plot(data[0], data[1], \"o\")"
   ]
  },
  {
   "cell_type": "markdown",
   "metadata": {
    "slideshow": {
     "slide_type": "slide"
    }
   },
   "source": [
    "We can find the slope by taking the difference of _x_ points / difference in _y_ points:\n",
    "\n",
    "$$ \\frac{y_0-y_1}{x_0-x_1} $$ \n",
    "\n",
    "With our points **[0,1] and [2,2]** respectively, we should have something that looks like this:\n",
    "\n",
    "$$ \\frac{1-2}{0-2} $$\n",
    "\n",
    "Our slope ends up being:\n",
    "\n",
    "$$ .5 $$\n",
    "\n",
    "Completing our equation _(intercept is 1, where the x crosses the y boundary)_:\n",
    "\n",
    "$$ y = .5x + 1 $$"
   ]
  },
  {
   "cell_type": "markdown",
   "metadata": {
    "slideshow": {
     "slide_type": "slide"
    }
   },
   "source": [
    "## With a partner, fit a line manually to the following dataset, and report back.\n",
    "\n",
    "Use this dataset:\n",
    "[1,2.5], [1.5,3.5], [2,3.0], [3,3], [4, 5.2], [5, 4.5], [6, 5.9]\n",
    "\n",
    "We will compare results."
   ]
  },
  {
   "cell_type": "code",
   "execution_count": null,
   "metadata": {
    "collapsed": false
   },
   "outputs": [],
   "source": [
    "import pandas as pd\n",
    "sample_data = [[1,2.5], [1.5,3.5], [2,3.0], [3,3], [4, 5.2], [5, 4.5], [6, 5.9]]\n",
    "pd.DataFrame(sample_data).plot(kind=\"scatter\", x=0, y=1, figsize=(10, 5))"
   ]
  },
  {
   "cell_type": "markdown",
   "metadata": {
    "slideshow": {
     "slide_type": "slide"
    }
   },
   "source": [
    "## Simple linear regression\n",
    "\n",
    "Simple linear regression is an approach for predicting a **continuous response** using a **single feature**. It takes the following form:\n",
    "\n",
    "$y = \\beta_0 + \\beta_1x$\n",
    "\n",
    "- $y$ is the response\n",
    "- $x$ is the feature\n",
    "- $\\beta_0$ is the intercept\n",
    "- $\\beta_1$ is the coefficient for x\n",
    "\n",
    "$\\beta_0$ and $\\beta_1$ are called the **model coefficients**:\n",
    "\n",
    "- We must \"learn\" the values of these coefficients to create our model.\n",
    "- And once we've learned these coefficients, we can use the model to predict **something**.\n"
   ]
  },
  {
   "cell_type": "markdown",
   "metadata": {
    "slideshow": {
     "slide_type": "slide"
    }
   },
   "source": [
    "[Wikipedia](https://en.wikipedia.org/wiki/Simple_linear_regression) has a great explanation about how to get the best fit line from the least squares method.  \n",
    "\n",
    "_In other words, α (the y-intercept) and β (the slope)._\n",
    "\n",
    "![Best fit coefficients](https://upload.wikimedia.org/math/e/e/d/eed68731d1230938d457c576deee1bcf.png)\n",
    "\n",
    "Looks messy.  This is the fun part of statistics.  Generally, you don't want to calculate these by hand.  [Check this out if you want to do that.  Highly recommended.](https://www.youtube.com/watch?v=1C3olrs1CUw)"
   ]
  },
  {
   "cell_type": "markdown",
   "metadata": {
    "slideshow": {
     "slide_type": "slide"
    }
   },
   "source": [
    "## Estimating (\"learning\") model coefficients\n",
    "- Coefficients are estimated during the model fitting process using the least squares criterion.\n",
    "- We are find the line (mathematically) which minimizes the sum of squared residuals (or \"sum of squared errors\").\n",
    "\n",
    "![](https://snag.gy/9R57Or.jpg)\n",
    "\n",
    "_Residuals: The difference between the observed value of the dependent variable (y) and the predicted value (ŷ) is called the residual (e). Each data point has one residual._"
   ]
  },
  {
   "cell_type": "markdown",
   "metadata": {
    "slideshow": {
     "slide_type": "slide"
    }
   },
   "source": [
    "![](https://snag.gy/Ymsu2T.jpg)\n",
    "\n",
    "**How do the model coefficients relate to the least squares line?**\n",
    " - β0 is the intercept (the value of y when x=0)\n",
    " - β1 is the slope (the change in y divided by change in x)"
   ]
  },
  {
   "cell_type": "markdown",
   "metadata": {
    "slideshow": {
     "slide_type": "slide"
    }
   },
   "source": [
    "# Regplots to Discover Linear Relationships\n",
    "\n",
    "Plotting variables against each other is an important step to consider when exploring relationships.  Pairplots are very useful for this reason, but to get better at plotting with Seaborn and matplotlib, it's good practice to get better at using these tools and extended visual elements.\n",
    "\n",
    "Here's a quick demo of Seaborn's regplot.\n"
   ]
  },
  {
   "cell_type": "markdown",
   "metadata": {
    "slideshow": {
     "slide_type": "notes"
    }
   },
   "source": [
    "_Note: It's important to review linear relationships as they help us determine common sense statistical power with regards to our repsonse prediction.  We will get into this as we dive deeper into linear regression in the near future._"
   ]
  },
  {
   "cell_type": "code",
   "execution_count": 11,
   "metadata": {
    "collapsed": false,
    "slideshow": {
     "slide_type": "slide"
    }
   },
   "outputs": [
    {
     "data": {
      "text/html": [
       "<div>\n",
       "<table border=\"1\" class=\"dataframe\">\n",
       "  <thead>\n",
       "    <tr style=\"text-align: right;\">\n",
       "      <th></th>\n",
       "      <th>total</th>\n",
       "      <th>speeding</th>\n",
       "      <th>alcohol</th>\n",
       "      <th>not_distracted</th>\n",
       "      <th>no_previous</th>\n",
       "      <th>ins_premium</th>\n",
       "      <th>ins_losses</th>\n",
       "      <th>abbrev</th>\n",
       "    </tr>\n",
       "  </thead>\n",
       "  <tbody>\n",
       "    <tr>\n",
       "      <th>0</th>\n",
       "      <td>18.8</td>\n",
       "      <td>7.332</td>\n",
       "      <td>5.640</td>\n",
       "      <td>18.048</td>\n",
       "      <td>15.040</td>\n",
       "      <td>784.55</td>\n",
       "      <td>145.08</td>\n",
       "      <td>AL</td>\n",
       "    </tr>\n",
       "    <tr>\n",
       "      <th>1</th>\n",
       "      <td>18.1</td>\n",
       "      <td>7.421</td>\n",
       "      <td>4.525</td>\n",
       "      <td>16.290</td>\n",
       "      <td>17.014</td>\n",
       "      <td>1053.48</td>\n",
       "      <td>133.93</td>\n",
       "      <td>AK</td>\n",
       "    </tr>\n",
       "    <tr>\n",
       "      <th>2</th>\n",
       "      <td>18.6</td>\n",
       "      <td>6.510</td>\n",
       "      <td>5.208</td>\n",
       "      <td>15.624</td>\n",
       "      <td>17.856</td>\n",
       "      <td>899.47</td>\n",
       "      <td>110.35</td>\n",
       "      <td>AZ</td>\n",
       "    </tr>\n",
       "    <tr>\n",
       "      <th>3</th>\n",
       "      <td>22.4</td>\n",
       "      <td>4.032</td>\n",
       "      <td>5.824</td>\n",
       "      <td>21.056</td>\n",
       "      <td>21.280</td>\n",
       "      <td>827.34</td>\n",
       "      <td>142.39</td>\n",
       "      <td>AR</td>\n",
       "    </tr>\n",
       "    <tr>\n",
       "      <th>4</th>\n",
       "      <td>12.0</td>\n",
       "      <td>4.200</td>\n",
       "      <td>3.360</td>\n",
       "      <td>10.920</td>\n",
       "      <td>10.680</td>\n",
       "      <td>878.41</td>\n",
       "      <td>165.63</td>\n",
       "      <td>CA</td>\n",
       "    </tr>\n",
       "  </tbody>\n",
       "</table>\n",
       "</div>"
      ],
      "text/plain": [
       "   total  speeding  alcohol  not_distracted  no_previous  ins_premium  \\\n",
       "0   18.8     7.332    5.640          18.048       15.040       784.55   \n",
       "1   18.1     7.421    4.525          16.290       17.014      1053.48   \n",
       "2   18.6     6.510    5.208          15.624       17.856       899.47   \n",
       "3   22.4     4.032    5.824          21.056       21.280       827.34   \n",
       "4   12.0     4.200    3.360          10.920       10.680       878.41   \n",
       "\n",
       "   ins_losses abbrev  \n",
       "0      145.08     AL  \n",
       "1      133.93     AK  \n",
       "2      110.35     AZ  \n",
       "3      142.39     AR  \n",
       "4      165.63     CA  "
      ]
     },
     "execution_count": 11,
     "metadata": {},
     "output_type": "execute_result"
    }
   ],
   "source": [
    "import pandas as pd, seaborn as sns\n",
    "%matplotlib inline\n",
    "car_crashes = sns.load_dataset('car_crashes')\n",
    "car_crashes.head()"
   ]
  },
  {
   "cell_type": "code",
   "execution_count": 13,
   "metadata": {
    "collapsed": false
   },
   "outputs": [
    {
     "data": {
      "text/plain": [
       "<matplotlib.axes._subplots.AxesSubplot at 0x11b6f2690>"
      ]
     },
     "execution_count": 13,
     "metadata": {},
     "output_type": "execute_result"
    },
    {
     "data": {
      "image/png": "[encoded data removed]",
      "text/plain": [
       "<matplotlib.figure.Figure at 0x11b6f2810>"
      ]
     },
     "metadata": {},
     "output_type": "display_data"
    }
   ],
   "source": [
    "sns.regplot('alcohol', 'speeding', data = car_crashes)"
   ]
  },
  {
   "cell_type": "code",
   "execution_count": 15,
   "metadata": {
    "collapsed": false
   },
   "outputs": [
    {
     "data": {
      "text/plain": [
       "<seaborn.axisgrid.JointGrid at 0x11c2399d0>"
      ]
     },
     "execution_count": 15,
     "metadata": {},
     "output_type": "execute_result"
    },
    {
     "data": {
      "image/png": "[encoded data removed]",
      "text/plain": [
       "<matplotlib.figure.Figure at 0x11c239950>"
      ]
     },
     "metadata": {},
     "output_type": "display_data"
    }
   ],
   "source": [
    "\n",
    "sns.jointplot(x = 'speeding', y = 'alcohol', data = car_crashes)"
   ]
  },
  {
   "cell_type": "code",
   "execution_count": null,
   "metadata": {
    "collapsed": false
   },
   "outputs": [],
   "source": [
    "sns.regplot(x=['alcohol'], y=['speeding'], data = 'car_crashes'"
   ]
  },
  {
   "cell_type": "code",
   "execution_count": 16,
   "metadata": {
    "collapsed": false
   },
   "outputs": [
    {
     "name": "stdout",
     "output_type": "stream",
     "text": [
      "Data:  [[ 60.    3.1]\n",
      " [ 61.    3.6]\n",
      " [ 62.    3.8]\n",
      " [ 63.    4. ]\n",
      " [ 65.    4.1]]\n",
      "Number of samples: 5\n"
     ]
    },
    {
     "data": {
      "image/png": "[encoded data removed]",
      "text/plain": [
       "<matplotlib.figure.Figure at 0x11c802450>"
      ]
     },
     "metadata": {},
     "output_type": "display_data"
    }
   ],
   "source": [
    "# Our sample data\n",
    "x = (60, 61, 62, 63, 65)\n",
    "y = (3.1, 3.6, 3.8, 4, 4.1)\n",
    "\n",
    "sample_data = zip(x, y)\n",
    "df = pd.DataFrame(sample_data, columns=[\"x\", \"y\"])\n",
    "\n",
    "my_plot = df.plot(kind=\"scatter\", x=\"x\", y=\"y\", title=\"Sample Data\", figsize=(10, 5))\n",
    "\n",
    "# Add value markers because it's nice to have a visual reference to data points\n",
    "for point in sample_data:\n",
    "    my_plot.text(point[0] + .2, point[1] - .02, str(point))\n",
    "\n",
    "sns.regplot(x=\"x\", y=\"y\", data=df)\n",
    "print \"Data: \", df.values\n",
    "print \"Number of samples:\", len(df)"
   ]
  },
  {
   "cell_type": "markdown",
   "metadata": {
    "slideshow": {
     "slide_type": "slide"
    }
   },
   "source": [
    "# (20 min) Independent Practice\n",
    "\n",
    "Working with Seaborns \"tips\" data, plot the relationships between\n",
    "\n",
    "Total_bill and:\n",
    " - tip\n",
    " - size\n",
    " \n",
    "**Also**\n",
    "\n",
    "Tip:\n",
    " - size\n",
    " \n",
    "### Bonus\n",
    "Is there a better linear relationship between male or female, smokers or non-smokers?  How would you find this?\n",
    " \n",
    "### Bonus Bonus\n",
    "\n",
    "Write a function that automatically plots a list parameter parameters against each other using seaborns regplot. \n",
    "\n",
    "_Yes pairplot does this for us, but please figure out how to do this without sns.pairplot!_"
   ]
  },
  {
   "cell_type": "code",
   "execution_count": 4,
   "metadata": {
    "collapsed": false,
    "slideshow": {
     "slide_type": "-"
    }
   },
   "outputs": [
    {
     "name": "stdout",
     "output_type": "stream",
     "text": [
      "Index([u'total_bill', u'tip', u'sex', u'smoker', u'day', u'time', u'size'], dtype='object')\n"
     ]
    }
   ],
   "source": [
    "tips = sns.load_dataset(\"tips\")\n",
    "tips.head(5)\n",
    "print tips.columns\n",
    "\n",
    "# x = (60, 61, 62, 63, 65)\n",
    "# y = (3.1, 3.6, 3.8, 4, 4.1)\n",
    "\n",
    "# sample_data = zip(x, y)\n",
    "# df = pd.DataFrame(sample_data, columns=[\"x\", \"y\"])\n",
    "\n",
    "# my_plot = df.plot(kind=\"scatter\", x=\"x\", y=\"y\", title=\"Sample Data\", figsize=(10, 5))\n",
    "\n",
    "# # Add value markers because it's nice to have a visual reference to data points\n",
    "# for point in sample_data:\n",
    "#     my_plot.text(point[0] + .2, point[1] - .02, str(point))\n",
    "\n",
    "# sns.regplot(x=\"x\", y=\"y\", data=df)\n",
    "# print \"Data: \", df.values\n",
    "# print \"Number of samples:\", len(df)\n",
    "\n",
    "sns.regplot(x=\"total_bill\", y=\"tip\", data=tips);\n"
   ]
  },
  {
   "cell_type": "markdown",
   "metadata": {
    "slideshow": {
     "slide_type": "slide"
    }
   },
   "source": [
    "### A quick reminder, that pairplot is a handy tool for doing this as well:"
   ]
  },
  {
   "cell_type": "code",
   "execution_count": 5,
   "metadata": {
    "collapsed": false
   },
   "outputs": [
    {
     "name": "stderr",
     "output_type": "stream",
     "text": [
      "/Users/smoot/anaconda/lib/python2.7/site-packages/matplotlib/tight_layout.py:222: UserWarning: tight_layout : falling back to Agg renderer\n",
      "  warnings.warn(\"tight_layout : falling back to Agg renderer\")\n"
     ]
    },
    {
     "data": {
      "text/plain": [
       "<seaborn.axisgrid.PairGrid at 0x116590b50>"
      ]
     },
     "execution_count": 5,
     "metadata": {},
     "output_type": "execute_result"
    }
   ],
   "source": [
    "sns.pairplot(tips, kind=\"reg\")  # using kind=\"reg\" we can get nice looking regressions"
   ]
  },
  {
   "cell_type": "markdown",
   "metadata": {
    "slideshow": {
     "slide_type": "slide"
    }
   },
   "source": [
    "Pairplot is great because:\n",
    "    \n",
    "- Automatically filters continious variables\n",
    "- Builds matrix of regression plots for you\n",
    "- Plots basic histogram when variables match itself (middle / identity)\n",
    "- You don't have to do anything -- don't be lazy though!"
   ]
  },
  {
   "cell_type": "code",
   "execution_count": 6,
   "metadata": {
    "collapsed": false,
    "scrolled": false,
    "slideshow": {
     "slide_type": "slide"
    }
   },
   "outputs": [
    {
     "ename": "NameError",
     "evalue": "name 'plt' is not defined",
     "output_type": "error",
     "traceback": [
      "\u001b[0;31m---------------------------------------------------------------------------\u001b[0m",
      "\u001b[0;31mNameError\u001b[0m                                 Traceback (most recent call last)",
      "\u001b[0;32m<ipython-input-6-d6d049060465>\u001b[0m in \u001b[0;36m<module>\u001b[0;34m()\u001b[0m\n\u001b[1;32m      1\u001b[0m \u001b[0mmy_plot\u001b[0m \u001b[0;34m=\u001b[0m \u001b[0msns\u001b[0m\u001b[0;34m.\u001b[0m\u001b[0mFacetGrid\u001b[0m\u001b[0;34m(\u001b[0m\u001b[0mtips\u001b[0m\u001b[0;34m,\u001b[0m \u001b[0mrow\u001b[0m\u001b[0;34m=\u001b[0m\u001b[0;34m\"sex\"\u001b[0m\u001b[0;34m,\u001b[0m \u001b[0mcol\u001b[0m\u001b[0;34m=\u001b[0m\u001b[0;34m\"smoker\"\u001b[0m\u001b[0;34m)\u001b[0m\u001b[0;34m\u001b[0m\u001b[0m\n\u001b[0;32m----> 2\u001b[0;31m \u001b[0mmy_plot\u001b[0m\u001b[0;34m.\u001b[0m\u001b[0mmap\u001b[0m\u001b[0;34m(\u001b[0m\u001b[0mplt\u001b[0m\u001b[0;34m.\u001b[0m\u001b[0mscatter\u001b[0m\u001b[0;34m,\u001b[0m \u001b[0;34m\"total_bill\"\u001b[0m\u001b[0;34m,\u001b[0m \u001b[0;34m\"tip\"\u001b[0m\u001b[0;34m)\u001b[0m\u001b[0;34m\u001b[0m\u001b[0m\n\u001b[0m",
      "\u001b[0;31mNameError\u001b[0m: name 'plt' is not defined"
     ]
    }
   ],
   "source": [
    "my_plot = sns.FacetGrid(tips, row=\"sex\", col=\"smoker\")\n",
    "my_plot.map(plt.scatter, \"total_bill\", \"tip\")"
   ]
  },
  {
   "cell_type": "markdown",
   "metadata": {},
   "source": [
    "## Conclusion\n",
    "\n",
    "- Define the terms: modeling, prediction\n",
    "- Find the best fit line by hand\n",
    "- Explore linear relationships with plotting"
   ]
  },
  {
   "cell_type": "code",
   "execution_count": null,
   "metadata": {
    "collapsed": true
   },
   "outputs": [],
   "source": []
  }
 ],
 "metadata": {
  "celltoolbar": "Slideshow",
  "kernelspec": {
   "display_name": "Python 2",
   "language": "python",
   "name": "python2"
  },
  "language_info": {
   "codemirror_mode": {
    "name": "ipython",
    "version": 2
   },
   "file_extension": ".py",
   "mimetype": "text/x-python",
   "name": "python",
   "nbconvert_exporter": "python",
   "pygments_lexer": "ipython2",
   "version": "2.7.11"
  },
  "widgets": {
   "state": {},
   "version": "1.1.2"
  }
 },
 "nbformat": 4,
 "nbformat_minor": 0
}
