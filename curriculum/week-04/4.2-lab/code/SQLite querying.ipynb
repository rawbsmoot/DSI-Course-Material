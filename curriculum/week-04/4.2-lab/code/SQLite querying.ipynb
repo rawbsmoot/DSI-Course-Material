{
 "cells": [
  {
   "cell_type": "code",
   "execution_count": 1,
   "metadata": {
    "collapsed": false
   },
   "outputs": [
    {
     "name": "stderr",
     "output_type": "stream",
     "text": [
      "/Users/smoot/anaconda/lib/python2.7/site-packages/IPython/core/magics/extension.py:47: UserWarning: %install_ext` is deprecated, please distribute your extension as a python package.\n",
      "  \"as a python package.\", UserWarning)\n"
     ]
    },
    {
     "name": "stdout",
     "output_type": "stream",
     "text": [
      "Installed sqlitemagic.py. To use it, type:\n",
      "  %load_ext sqlitemagic\n"
     ]
    }
   ],
   "source": [
    "%install_ext https://raw.github.com/tkf/ipython-sqlitemagic/master/sqlitemagic.py"
   ]
  },
  {
   "cell_type": "code",
   "execution_count": 2,
   "metadata": {
    "collapsed": true
   },
   "outputs": [],
   "source": [
    "%load_ext sqlitemagic"
   ]
  },
  {
   "cell_type": "code",
   "execution_count": 3,
   "metadata": {
    "collapsed": true
   },
   "outputs": [],
   "source": [
    "conn = %sqlite_create"
   ]
  },
  {
   "cell_type": "code",
   "execution_count": 4,
   "metadata": {
    "collapsed": false,
    "scrolled": true
   },
   "outputs": [],
   "source": [
    "%%sqlite_execute --commit conn\n",
    "CREATE TABLE recipe (name, ingredients)"
   ]
  },
  {
   "cell_type": "code",
   "execution_count": 14,
   "metadata": {
    "collapsed": false
   },
   "outputs": [
    {
     "name": "stderr",
     "output_type": "stream",
     "text": [
      "UsageError: %%sqlite_execute is a cell magic, but the cell body is empty."
     ]
    }
   ],
   "source": [
    "%%sqlite_execute --script --commit conn"
   ]
  },
  {
   "cell_type": "code",
   "execution_count": 15,
   "metadata": {
    "collapsed": false
   },
   "outputs": [
    {
     "name": "stdout",
     "output_type": "stream",
     "text": [
      "    name                  ingredients            \n",
      "================================================\n",
      "broccoli stew   broccoli peppers cheese tomatoes \n",
      "pumpkin stew    pumpking onions garlic celery    \n",
      "broccoli stew   broccoli peppers cheese tomatoes \n",
      "pumpkin stew    pumpking onions garlic celery    \n"
     ]
    }
   ],
   "source": [
    "%%sqlite_execute --commit conn\n",
    "SELECT * FROM recipe"
   ]
  },
  {
   "cell_type": "code",
   "execution_count": 16,
   "metadata": {
    "collapsed": true
   },
   "outputs": [],
   "source": [
    "%%sqlite_execute --commit conn\n",
    "CREATE TABLE store (ingredients, price)"
   ]
  },
  {
   "cell_type": "code",
   "execution_count": 19,
   "metadata": {
    "collapsed": true
   },
   "outputs": [],
   "source": [
    "%%sqlite_execute --script --commit conn\n",
    "\n",
    "INSERT INTO store (ingredients, price)\n",
    "VALUES ('broccoli peppers cheese tomatoes', 12);\n",
    "\n",
    "INSERT INTO store (ingredients, price)\n",
    "VALUES ('pumpkin onions garlic celery', 20);\n",
    "\n",
    "INSERT INTO store (ingredients, price)\n",
    "VALUES ('pumpkin sugar flour butter', 20);\n"
   ]
  },
  {
   "cell_type": "code",
   "execution_count": 20,
   "metadata": {
    "collapsed": false
   },
   "outputs": [
    {
     "name": "stdout",
     "output_type": "stream",
     "text": [
      "          ingredients              price \n",
      "========================================\n",
      "broccoli peppers cheese tomatoes   12    \n",
      "pumpkin onions garlic celery       20    \n",
      "pumpkin sugar flour butter         30    \n",
      "broccoli peppers cheese tomatoes   12    \n",
      "pumpkin onions garlic celery       20    \n",
      "pumpkin sugar flour butter         20    \n"
     ]
    }
   ],
   "source": [
    "%%sqlite_execute --commit conn\n",
    "SELECT * FROM store"
   ]
  },
  {
   "cell_type": "code",
   "execution_count": 39,
   "metadata": {
    "collapsed": false
   },
   "outputs": [
    {
     "name": "stdout",
     "output_type": "stream",
     "text": [
      "    name        price \n",
      "=====================\n",
      "broccoli stew   12    \n",
      "broccoli stew   12    \n",
      "broccoli stew   12    \n",
      "broccoli stew   12    \n"
     ]
    }
   ],
   "source": [
    "%%sqlite_execute --commit conn\n",
    "\n",
    "SELECT  FROM recipe\n",
    "\n",
    "INNER JOIN store \n",
    "\n",
    "ON recipe.ingredients = store.ingredients;\n",
    "\n"
   ]
  },
  {
   "cell_type": "code",
   "execution_count": 50,
   "metadata": {
    "collapsed": false
   },
   "outputs": [
    {
     "name": "stdout",
     "output_type": "stream",
     "text": [
      "      name           ingredients        ingredients           price       \n",
      "=========================================================================\n",
      "broccoli stew      broccoli peppers   broccoli peppers   12               \n",
      "                   cheese tomatoes    cheese tomatoes                     \n",
      "broccoli stew      broccoli peppers   pumpkin onions     20               \n",
      "                   cheese tomatoes    garlic celery                       \n",
      "broccoli stew      broccoli peppers   pumpkin sugar      30               \n",
      "                   cheese tomatoes    flour butter                        \n",
      "broccoli stew      broccoli peppers   broccoli peppers   12               \n",
      "                   cheese tomatoes    cheese tomatoes                     \n",
      "broccoli stew      broccoli peppers   pumpkin onions     20               \n",
      "                   cheese tomatoes    garlic celery                       \n",
      "broccoli stew      broccoli peppers   pumpkin sugar      20               \n",
      "                   cheese tomatoes    flour butter                        \n",
      "pumpkin stew       pumpking onions    broccoli peppers   12               \n",
      "                   garlic celery      cheese tomatoes                     \n",
      "pumpkin stew       pumpking onions    pumpkin onions     20               \n",
      "                   garlic celery      garlic celery                       \n",
      "pumpkin stew       pumpking onions    pumpkin sugar      30               \n",
      "                   garlic celery      flour butter                        \n",
      "pumpkin stew       pumpking onions    broccoli peppers   12               \n",
      "                   garlic celery      cheese tomatoes                     \n",
      "More than 10 rows found.  Use -l or --limit to change limit.\n"
     ]
    }
   ],
   "source": [
    "%%sqlite_execute --commit conn\n",
    "SELECT * FROM recipe\n",
    "LEFT JOIN store \n",
    "ON price"
   ]
  },
  {
   "cell_type": "code",
   "execution_count": 51,
   "metadata": {
    "collapsed": false
   },
   "outputs": [
    {
     "name": "stdout",
     "output_type": "stream",
     "text": [
      "    name                  ingredients              price \n",
      "========================================================\n",
      "broccoli stew   broccoli peppers cheese tomatoes   12    \n",
      "broccoli stew   broccoli peppers cheese tomatoes   12    \n",
      "broccoli stew   broccoli peppers cheese tomatoes   12    \n",
      "broccoli stew   broccoli peppers cheese tomatoes   12    \n"
     ]
    }
   ],
   "source": [
    "%%sqlite_execute --commit conn\n",
    "SELECT recipe.name, recipe.ingredients, store.price\n",
    "FROM recipe, store\n",
    "WHERE recipe.ingredients = store.ingredients;\n",
    "\n"
   ]
  },
  {
   "cell_type": "code",
   "execution_count": 52,
   "metadata": {
    "collapsed": false
   },
   "outputs": [
    {
     "name": "stdout",
     "output_type": "stream",
     "text": [
      "          ingredients              price \n",
      "========================================\n",
      "broccoli peppers cheese tomatoes   12    \n",
      "pumpkin onions garlic celery       20    \n",
      "pumpkin sugar flour butter         30    \n",
      "broccoli peppers cheese tomatoes   12    \n",
      "pumpkin onions garlic celery       20    \n",
      "pumpkin sugar flour butter         20    \n"
     ]
    }
   ],
   "source": [
    "%%sqlite_execute --commit conn\n",
    "\n",
    "SELECT * FROM store"
   ]
  },
  {
   "cell_type": "code",
   "execution_count": 53,
   "metadata": {
    "collapsed": false
   },
   "outputs": [
    {
     "name": "stdout",
     "output_type": "stream",
     "text": [
      "    name                  ingredients            \n",
      "================================================\n",
      "broccoli stew   broccoli peppers cheese tomatoes \n",
      "pumpkin stew    pumpking onions garlic celery    \n",
      "broccoli stew   broccoli peppers cheese tomatoes \n",
      "pumpkin stew    pumpking onions garlic celery    \n"
     ]
    }
   ],
   "source": [
    "%%sqlite_execute --commit conn\n",
    "SELECT * FROM recipe"
   ]
  },
  {
   "cell_type": "code",
   "execution_count": null,
   "metadata": {
    "collapsed": true
   },
   "outputs": [],
   "source": []
  }
 ],
 "metadata": {
  "kernelspec": {
   "display_name": "Python 2",
   "language": "python",
   "name": "python2"
  },
  "language_info": {
   "codemirror_mode": {
    "name": "ipython",
    "version": 2
   },
   "file_extension": ".py",
   "mimetype": "text/x-python",
   "name": "python",
   "nbconvert_exporter": "python",
   "pygments_lexer": "ipython2",
   "version": "2.7.11"
  }
 },
 "nbformat": 4,
 "nbformat_minor": 0
}
