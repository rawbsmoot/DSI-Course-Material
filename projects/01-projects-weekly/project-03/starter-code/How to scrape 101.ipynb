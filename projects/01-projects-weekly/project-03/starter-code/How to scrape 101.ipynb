{
 "cells": [
  {
   "cell_type": "code",
   "execution_count": 1,
   "metadata": {
    "collapsed": false
   },
   "outputs": [
    {
     "data": {
      "text/plain": [
       "{u'javascript-frameworks': [u'jQuery', u'Modernizr', u'jQuery UI'],\n",
       " u'programming-languages': [u'Python'],\n",
       " u'web-frameworks': [u'Web2py', u'Twitter Bootstrap'],\n",
       " u'web-servers': [u'Nginx']}"
      ]
     },
     "execution_count": 1,
     "metadata": {},
     "output_type": "execute_result"
    }
   ],
   "source": [
    "import whois\n",
    "import builtwith\n",
    "builtwith.parse('http://example.webscraping.com')"
   ]
  },
  {
   "cell_type": "code",
   "execution_count": 2,
   "metadata": {
    "collapsed": false
   },
   "outputs": [
    {
     "name": "stdout",
     "output_type": "stream",
     "text": [
      "Socket Error: [Errno 54] Connection reset by peer\n",
      "{\n",
      "  \"updated_date\": \"2013-08-20 00:00:00\", \n",
      "  \"status\": [\n",
      "    \"clientDeleteProhibited https://icann.org/epp#clientDeleteProhibited\", \n",
      "    \"clientRenewProhibited https://icann.org/epp#clientRenewProhibited\", \n",
      "    \"clientTransferProhibited https://icann.org/epp#clientTransferProhibited\", \n",
      "    \"clientUpdateProhibited https://icann.org/epp#clientUpdateProhibited\"\n",
      "  ], \n",
      "  \"name\": null, \n",
      "  \"dnssec\": null, \n",
      "  \"city\": null, \n",
      "  \"expiration_date\": \"2020-06-26 00:00:00\", \n",
      "  \"zipcode\": null, \n",
      "  \"domain_name\": \"WEBSCRAPING.COM\", \n",
      "  \"country\": null, \n",
      "  \"whois_server\": \"whois.godaddy.com\", \n",
      "  \"state\": null, \n",
      "  \"registrar\": \"GODADDY.COM, LLC\", \n",
      "  \"referral_url\": \"http://www.godaddy.com\", \n",
      "  \"address\": null, \n",
      "  \"name_servers\": [\n",
      "    \"NS1.WEBFACTION.COM\", \n",
      "    \"NS2.WEBFACTION.COM\", \n",
      "    \"NS3.WEBFACTION.COM\", \n",
      "    \"NS4.WEBFACTION.COM\"\n",
      "  ], \n",
      "  \"org\": null, \n",
      "  \"creation_date\": \"2004-06-26 00:00:00\", \n",
      "  \"emails\": null\n",
      "}\n"
     ]
    }
   ],
   "source": [
    "print whois.whois('http://example.webscraping.com')"
   ]
  },
  {
   "cell_type": "code",
   "execution_count": 3,
   "metadata": {
    "collapsed": false
   },
   "outputs": [],
   "source": [
    "import scrapy\n",
    "from scrapy.selector import Selector\n",
    "from scrapy.http import HtmlResponse\n",
    "import requests"
   ]
  },
  {
   "cell_type": "code",
   "execution_count": null,
   "metadata": {
    "collapsed": false
   },
   "outputs": [],
   "source": []
  },
  {
   "cell_type": "code",
   "execution_count": 4,
   "metadata": {
    "collapsed": true
   },
   "outputs": [],
   "source": [
    "import urllib2\n",
    "def download(url):\n",
    "    return urllib2.urlopen(url).read()"
   ]
  },
  {
   "cell_type": "code",
   "execution_count": 5,
   "metadata": {
    "collapsed": false
   },
   "outputs": [],
   "source": [
    "html = download('http://example.webscraping.com')"
   ]
  },
  {
   "cell_type": "code",
   "execution_count": 6,
   "metadata": {
    "collapsed": true
   },
   "outputs": [],
   "source": [
    "url = 'http://example.webscraping.com/view/UnitedKingdom-239'\n",
    "html = download(url)"
   ]
  },
  {
   "cell_type": "code",
   "execution_count": 7,
   "metadata": {
    "collapsed": false
   },
   "outputs": [
    {
     "data": {
      "text/plain": [
       "['<img src=\"/places/static/images/flags/gb.png\" />',\n",
       " '244,820 square kilometres',\n",
       " '62,348,447',\n",
       " 'GB',\n",
       " 'United Kingdom',\n",
       " 'London',\n",
       " '<a href=\"/continent/EU\">EU</a>',\n",
       " '.uk',\n",
       " 'GBP',\n",
       " 'Pound',\n",
       " '44',\n",
       " '@# #@@|@## #@@|@@# #@@|@@## #@@|@#@ #@@|@@#@ #@@|GIR0AA',\n",
       " '^(([A-Z]\\\\d{2}[A-Z]{2})|([A-Z]\\\\d{3}[A-Z]{2})|([A-Z]{2}\\\\d{2}[A-Z]{2})|([A-Z]{2}\\\\d{3}[A-Z]{2})|([A-Z]\\\\d[A-Z]\\\\d[A-Z]{2})|([A-Z]{2}\\\\d[A-Z]\\\\d[A-Z]{2})|(GIR0AA))$',\n",
       " 'en-GB,cy-GB,gd',\n",
       " '<div><a href=\"/iso/IE\">IE </a></div>']"
      ]
     },
     "execution_count": 7,
     "metadata": {},
     "output_type": "execute_result"
    }
   ],
   "source": [
    "import re\n",
    "re.findall('<td class=\"w2p_fw\">(.*?)</td>', html)"
   ]
  },
  {
   "cell_type": "code",
   "execution_count": 8,
   "metadata": {
    "collapsed": false
   },
   "outputs": [],
   "source": [
    "r = requests.get(\"https://losangeles.craigslist.org/search/rva\")\n",
    "HTML = r.text"
   ]
  },
  {
   "cell_type": "code",
   "execution_count": 9,
   "metadata": {
    "collapsed": false
   },
   "outputs": [],
   "source": [
    "prices  = (Selector(text=HTML).xpath('//p[@class=\"row\"]/*/span[@class=\"price\"]/text()').extract())\n",
    "# prices\n"
   ]
  },
  {
   "cell_type": "code",
   "execution_count": 10,
   "metadata": {
    "collapsed": false
   },
   "outputs": [],
   "source": [
    "import pandas as pd"
   ]
  },
  {
   "cell_type": "code",
   "execution_count": null,
   "metadata": {
    "collapsed": false
   },
   "outputs": [],
   "source": [
    "CL_URL = 'https://losangeles.craigslist.org/search/rva'\n"
   ]
  },
  {
   "cell_type": "code",
   "execution_count": null,
   "metadata": {
    "collapsed": false
   },
   "outputs": [],
   "source": []
  },
  {
   "cell_type": "code",
   "execution_count": null,
   "metadata": {
    "collapsed": true
   },
   "outputs": [],
   "source": []
  }
 ],
 "metadata": {
  "kernelspec": {
   "display_name": "Python 2",
   "language": "python",
   "name": "python2"
  },
  "language_info": {
   "codemirror_mode": {
    "name": "ipython",
    "version": 2
   },
   "file_extension": ".py",
   "mimetype": "text/x-python",
   "name": "python",
   "nbconvert_exporter": "python",
   "pygments_lexer": "ipython2",
   "version": "2.7.11"
  }
 },
 "nbformat": 4,
 "nbformat_minor": 0
}
