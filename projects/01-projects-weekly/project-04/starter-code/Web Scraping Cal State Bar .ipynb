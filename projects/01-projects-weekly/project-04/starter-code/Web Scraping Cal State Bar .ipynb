{
 "cells": [
  {
   "cell_type": "code",
   "execution_count": 1,
   "metadata": {
    "collapsed": true
   },
   "outputs": [],
   "source": [
    "import requests\n",
    "from bs4 import BeautifulSoup"
   ]
  },
  {
   "cell_type": "code",
   "execution_count": 2,
   "metadata": {
    "collapsed": true
   },
   "outputs": [],
   "source": [
    "URL = ('http://members.calbar.ca.gov/fal/Member/Detail/164164')\n",
    "r= requests.get(URL)"
   ]
  },
  {
   "cell_type": "code",
   "execution_count": 11,
   "metadata": {
    "collapsed": true
   },
   "outputs": [],
   "source": [
    "bs = BeautifulSoup(r.content, \"lxml\")"
   ]
  },
  {
   "cell_type": "code",
   "execution_count": 77,
   "metadata": {
    "collapsed": true
   },
   "outputs": [],
   "source": [
    "# table cellspacing=\"0\" class=\"tblMemberDetail\"\n",
    "df = bs.select('div[class=\"moduleMemberDetail\"]')"
   ]
  },
  {
   "cell_type": "code",
   "execution_count": null,
   "metadata": {
    "collapsed": true
   },
   "outputs": [],
   "source": [
    "for index, element in enumerate(df):\n",
    "    "
   ]
  },
  {
   "cell_type": "code",
   "execution_count": 78,
   "metadata": {
    "collapsed": false
   },
   "outputs": [
    {
     "data": {
      "text/plain": [
       "[<div class=\"moduleMemberDetail\">\n",
       " <h3>Current Status: \t\t\t\n",
       " \t\t\tActive\n",
       " \t\t\t</h3>\n",
       " <p>This member is active and may practice law in California.</p>\n",
       " <p>See below for more details.</p>\n",
       " </div>, <div class=\"moduleMemberDetail\">\n",
       " <h3>Profile Information</h3>\n",
       " <p><i>The following information is from the official records of The State Bar of California.</i></p>\n",
       " <table cellspacing=\"0\" class=\"tblMemberDetail\">\n",
       " <tr>\n",
       " <td><strong>Bar Number:</strong></td>\n",
       " <td>164164</td>\n",
       " <td> </td>\n",
       " <td> </td>\n",
       " </tr>\n",
       " <tr>\n",
       " <td rowspan=\"3\"><strong>Address:</strong></td>\n",
       " <td rowspan=\"3\">\n",
       " <span class=\"colWide\">\n",
       " \t\t\t\t\t\tLaw Ofc Keith J Staten &amp; Associates PC<br/>1023 H St #A<br/>Sacramento, CA 95814\t\t\t\t\t\t\n",
       "                         \n",
       " \t\t\t\t\t\t<br/>\n",
       " <a href=\"javascript:wo('http://maps.google.com/?q=1023 H St #A, Sacramento, CA 95814', 800, 800)\">Map it</a></span>\n",
       " </td>\n",
       " <td>\n",
       " <strong>Phone Number:</strong>\n",
       " </td>\n",
       " <td>(916) 443-5600</td>\n",
       " </tr>\n",
       " <tr>\n",
       " <td><strong>Fax Number:</strong></td>\n",
       " <td> (916) 443-5655</td>\n",
       " </tr>\n",
       " <tr>\n",
       " <td><strong>e-mail:</strong></td>\n",
       " <td><span href=\"mailto:osue@pwui.gov\" id=\"e0\">kogcgw@bjgowcqt<span>.</span>com</span><span href=\"mailto:scicygkjt@mpgjfc.net\" id=\"e1\">ywdglo@setmaw<span>.</span>net</span><span href=\"mailto:ojbhsgwkr@ogrmhj.com\" id=\"e2\">kybaqht@yoqwwd<span>.</span>com</span><span href=\"mailto:sldaj@jtjyopc.gov\" id=\"e3\">oyrab@hnublg<span>.</span>gov</span><span href=\"mailto:obgjiuy@eem.net\" id=\"e4\">rnpjqyb@qcpp<span>.</span>net</span><span href=\"mailto:stwutb@gagqq.gov\" id=\"e5\">phmwky@alin<span>.</span>net</span><span href=\"mailto:asou@hwiw.edu\" id=\"e6\">rfulhn@tdr<span>.</span>edu</span><span href=\"mailto:jqslnfkk@jqufpjr.edu\" id=\"e7\">pphsuihk@qph<span>.</span>org</span><span href=\"mailto:aejsnq@slbmboqi.com\" id=\"e8\">rucn@ebimjlnn<span>.</span>gov</span><span href=\"mailto:jiandt@acbot.org\" id=\"e9\">kjstaten@att<span>.</span>net</span><span href=\"mailto:ameqacu@cjoc.org\" id=\"e10\">tasqpys@nll<span>.</span>edu</span><span href=\"mailto:jafqr@lnmrm.gov\" id=\"e11\">nmopc@ntbppf<span>.</span>gov</span><span href=\"mailto:auyoklupp@qcgmskr.net\" id=\"e12\">tinociskd@nqyuuoq<span>.</span>com</span><span href=\"mailto:ftposr@sndlk.com\" id=\"e13\">nets@enjkhnf<span>.</span>com</span><span href=\"mailto:eprsys@bay.edu\" id=\"e14\">tqjm@rsuqdp<span>.</span>edu</span><span href=\"mailto:ffklfdif@lmly.com\" id=\"e15\">nsaufsny@ylefokph<span>.</span>net</span><span href=\"mailto:ehyu@jaokoo.org\" id=\"e16\">tcejwd@hhlrror<span>.</span>net</span><span href=\"mailto:fnfjplipr@olsjqdbs.edu\" id=\"e17\">bbtjgjgjf@lclrsgan<span>.</span>net</span><span href=\"mailto:eyeycbaeu@mjgm.gov\" id=\"e18\">ilnyldckj@ptme<span>.</span>edu</span><span href=\"mailto:fwahb@icheqmnt.gov\" id=\"e19\">bjphq@gtsgnch<span>.</span>com</span> </td>\n",
       " <!-- It is importatnt the \"&nbsp;\" is included after the block, so that email is obscured when the address is manually copied (issuing Ctrl-C) from the web page. -->\n",
       " </tr>\n",
       " <tr>\n",
       " <td><strong>County: </strong></td>\n",
       " <td><span class=\"colWide\">Sacramento<br/>\n",
       " </span></td>\n",
       " <td><strong>Undergraduate School:</strong>\n",
       " </td>\n",
       " <td>\n",
       " \t\t\t\t\t    San Francisco State Unv; San Francisco CA\n",
       " \t\t\t\t\t</td>\n",
       " </tr>\n",
       " <tr>\n",
       " <td><a href=\"http://www.calbar.ca.gov/AboutUs/BoardofTrustees/Districts.aspx\" target=\"_blank\"><strong>District</strong></a><strong>:</strong></td>\n",
       " <td> District 3</td>\n",
       " <td> </td>\n",
       " <td> </td>\n",
       " </tr>\n",
       " <tr>\n",
       " <td><a class=\"blue\" href=\"http://sections.calbar.ca.gov/Sections.aspx\" target=\"_blank\"><strong>Sections:</strong></a></td>\n",
       " <td>\t\t\t\t        \n",
       " \t\t\t\t\t\t None\n",
       " \t\t\t\t    </td>\n",
       " <td><strong>Law School:</strong></td>\n",
       " <td>McGeorge SOL Univ of the Pacific;  CA\t\t\t\t\t\t\n",
       " \t\t\t\t\t</td>\n",
       " </tr>\n",
       " </table>\n",
       " </div>, <div class=\"moduleMemberDetail\">\n",
       " <h3>Status History</h3>\n",
       " <table cellspacing=\"0\" class=\"tblMemberDetail\" id=\"attorneyDetails\">\n",
       " <tr>\n",
       " <td class=\"colWide\"><strong>Effective Date</strong></td>\n",
       " <td class=\"colWide\" colspan=\"2\"><strong>Status Change</strong></td>\n",
       " </tr>\n",
       " <tr>\n",
       " <td>Present</td>\n",
       " <td colspan=\"2\">Active</td>\n",
       " </tr>\n",
       " <!-- Condition if Record is Suppressed or not -->\n",
       " <tr id=\"tr1\">\n",
       " <td>6/1/1993</td>\n",
       " <td colspan=\"2\">Admitted to The State Bar of California</td>\n",
       " </tr>\n",
       " </table>\n",
       " <p><a href=\"javascript:wo('http://www.calbar.ca.gov/Portals/0/documents/members/Status.html', 490, 520)\">Explanation of member status</a></p>\n",
       " </div>, <div class=\"moduleMemberDetail\">\n",
       " <h3>Actions Affecting Eligibility to Practice Law</h3>\n",
       " <table cellspacing=\"0\" class=\"tblMemberDetail\">\n",
       " <tr><td colspan=\"4\">\n",
       " <a name=\"chargeslink\"></a>\n",
       " <p><strong>Disciplinary and Related Actions</strong></p>\n",
       " <p>\n",
       " <a href=\"http://calbar.ca.gov/Attorneys/LawyerRegulation.aspx\">Overview of the attorney discipline system.</a>\n",
       " </p></td></tr>\n",
       " <tr><td colspan=\"4\">This member has no public record of discipline.</td></tr>\n",
       " <tr><td colspan=\"4\"><br/><p><strong>Administrative Actions</strong></p></td></tr>\n",
       " <tr><td colspan=\"3\">This member has no public record of administrative actions.</td></tr>\n",
       " </table>\n",
       " <div>\n",
       " </div>\n",
       " </div>]"
      ]
     },
     "execution_count": 78,
     "metadata": {},
     "output_type": "execute_result"
    }
   ],
   "source": [
    "df"
   ]
  },
  {
   "cell_type": "code",
   "execution_count": null,
   "metadata": {
    "collapsed": true
   },
   "outputs": [],
   "source": [
    "scraped = []\n",
    "for i in attorney:\n",
    "    r = reguests.get(base + str(i))\n",
    "    scraped.append(r)"
   ]
  },
  {
   "cell_type": "code",
   "execution_count": 67,
   "metadata": {
    "collapsed": false
   },
   "outputs": [],
   "source": [
    "de = bs.find_all_next('div[class=\"moduleMemberDetail\"]')"
   ]
  },
  {
   "cell_type": "code",
   "execution_count": 68,
   "metadata": {
    "collapsed": false
   },
   "outputs": [
    {
     "data": {
      "text/plain": [
       "[]"
      ]
     },
     "execution_count": 68,
     "metadata": {},
     "output_type": "execute_result"
    }
   ],
   "source": []
  },
  {
   "cell_type": "code",
   "execution_count": null,
   "metadata": {
    "collapsed": true
   },
   "outputs": [],
   "source": [
    "dd = bs.find_next(td><strong>County: </strong></td>"
   ]
  },
  {
   "cell_type": "code",
   "execution_count": null,
   "metadata": {
    "collapsed": true
   },
   "outputs": [],
   "source": [
    "bs.select('class=\"tblMemberDetail\")"
   ]
  },
  {
   "cell_type": "code",
   "execution_count": 58,
   "metadata": {
    "collapsed": false
   },
   "outputs": [
    {
     "ename": "AttributeError",
     "evalue": "'unicode' object has no attribute 'text'",
     "output_type": "error",
     "traceback": [
      "\u001b[0;31m---------------------------------------------------------------------------\u001b[0m",
      "\u001b[0;31mAttributeError\u001b[0m                            Traceback (most recent call last)",
      "\u001b[0;32m<ipython-input-58-c60edee083c4>\u001b[0m in \u001b[0;36m<module>\u001b[0;34m()\u001b[0m\n\u001b[0;32m----> 1\u001b[0;31m \u001b[0mdf\u001b[0m \u001b[0;34m=\u001b[0m \u001b[0;34m[\u001b[0m\u001b[0mi\u001b[0m\u001b[0;34m.\u001b[0m\u001b[0mtext\u001b[0m\u001b[0;34m.\u001b[0m\u001b[0mstrip\u001b[0m\u001b[0;34m(\u001b[0m\u001b[0;34m)\u001b[0m \u001b[0;32mfor\u001b[0m \u001b[0mi\u001b[0m \u001b[0;32min\u001b[0m \u001b[0mdf\u001b[0m\u001b[0;34m]\u001b[0m\u001b[0;34m\u001b[0m\u001b[0m\n\u001b[0m\u001b[1;32m      2\u001b[0m \u001b[0mdf\u001b[0m\u001b[0;34m\u001b[0m\u001b[0m\n",
      "\u001b[0;31mAttributeError\u001b[0m: 'unicode' object has no attribute 'text'"
     ]
    }
   ],
   "source": [
    "df = [i.text.strip() for i in df]\n"
   ]
  },
  {
   "cell_type": "code",
   "execution_count": 60,
   "metadata": {
    "collapsed": false,
    "scrolled": true
   },
   "outputs": [
    {
     "data": {
      "text/plain": [
       "[u'Current Status:\\xa0\\t\\t\\t\\r\\n\\t\\t\\tActive\\r\\n\\t\\t\\t\\nThis member is active and may practice law in California.\\nSee below for more details.',\n",
       " u'Profile Information\\nThe following information is from the official records of The State Bar of California.\\n\\n\\nBar Number:\\n164164\\n\\xa0\\n\\xa0\\n\\n\\nAddress:\\n\\n\\r\\n\\t\\t\\t\\t\\t\\tLaw Ofc Keith J Staten & Associates PC1023 H St #ASacramento, CA 95814\\t\\t\\t\\t\\t\\t\\r\\n                        \\r\\n\\t\\t\\t\\t\\t\\t\\nMap it\\n\\n\\nPhone Number:\\n\\n(916) 443-5600\\n\\n\\nFax Number:\\n (916) 443-5655\\n\\n\\ne-mail:\\nkogcgw@bjgowcqt.comywdglo@setmaw.netkybaqht@yoqwwd.comoyrab@hnublg.govrnpjqyb@qcpp.netphmwky@alin.netrfulhn@tdr.edupphsuihk@qph.orgrucn@ebimjlnn.govkjstaten@att.nettasqpys@nll.edunmopc@ntbppf.govtinociskd@nqyuuoq.comnets@enjkhnf.comtqjm@rsuqdp.edunsaufsny@ylefokph.nettcejwd@hhlrror.netbbtjgjgjf@lclrsgan.netilnyldckj@ptme.edubjphq@gtsgnch.com\\xa0\\n\\n\\n\\nCounty: \\nSacramento\\n\\nUndergraduate School:\\n\\n\\r\\n\\t\\t\\t\\t\\t    San Francisco State Unv; San Francisco CA\\r\\n\\t\\t\\t\\t\\t\\n\\n\\nDistrict:\\n District 3\\n\\xa0\\n\\xa0\\n\\n\\nSections:\\n\\t\\t\\t\\t        \\r\\n\\t\\t\\t\\t\\t\\t None\\r\\n\\t\\t\\t\\t    \\nLaw School:\\nMcGeorge SOL Univ of the Pacific;  CA',\n",
       " u'Status History\\n\\n\\nEffective Date\\nStatus Change\\n\\n\\nPresent\\nActive\\n\\n\\n\\n6/1/1993\\nAdmitted to The State Bar of California\\n\\n\\nExplanation of member status',\n",
       " u'Actions Affecting Eligibility to Practice Law\\n\\n\\n\\nDisciplinary and Related Actions\\n\\nOverview of the attorney discipline system.\\n\\nThis member has no public record of discipline.\\nAdministrative Actions\\nThis member has no public record of administrative actions.']"
      ]
     },
     "execution_count": 60,
     "metadata": {},
     "output_type": "execute_result"
    }
   ],
   "source": [
    "df"
   ]
  },
  {
   "cell_type": "code",
   "execution_count": 61,
   "metadata": {
    "collapsed": false
   },
   "outputs": [
    {
     "data": {
      "text/plain": [
       "u'Number:\\n (916) 443-5655\\n'"
      ]
     },
     "execution_count": 61,
     "metadata": {},
     "output_type": "execute_result"
    }
   ],
   "source": [
    "df[1][308:332]"
   ]
  },
  {
   "cell_type": "code",
   "execution_count": 62,
   "metadata": {
    "collapsed": false
   },
   "outputs": [],
   "source": [
    "# lobbying = {}\n",
    "# for element in df:\n",
    "#     df[element.a.get_text()] = {}"
   ]
  },
  {
   "cell_type": "code",
   "execution_count": 69,
   "metadata": {
    "collapsed": true
   },
   "outputs": [],
   "source": [
    "phone = bs.select('.tblMemberDetail td')[7]"
   ]
  },
  {
   "cell_type": "code",
   "execution_count": 70,
   "metadata": {
    "collapsed": false
   },
   "outputs": [
    {
     "data": {
      "text/plain": [
       "<td>(916) 443-5600</td>"
      ]
     },
     "execution_count": 70,
     "metadata": {},
     "output_type": "execute_result"
    }
   ],
   "source": [
    "phone"
   ]
  },
  {
   "cell_type": "code",
   "execution_count": null,
   "metadata": {
    "collapsed": true
   },
   "outputs": [],
   "source": []
  }
 ],
 "metadata": {
  "kernelspec": {
   "display_name": "Python 2",
   "language": "python",
   "name": "python2"
  },
  "language_info": {
   "codemirror_mode": {
    "name": "ipython",
    "version": 2
   },
   "file_extension": ".py",
   "mimetype": "text/x-python",
   "name": "python",
   "nbconvert_exporter": "python",
   "pygments_lexer": "ipython2",
   "version": "2.7.11"
  }
 },
 "nbformat": 4,
 "nbformat_minor": 0
}
