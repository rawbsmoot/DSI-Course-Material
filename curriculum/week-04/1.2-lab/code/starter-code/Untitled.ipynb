{
 "cells": [
  {
   "cell_type": "code",
   "execution_count": 1,
   "metadata": {
    "collapsed": false
   },
   "outputs": [
    {
     "name": "stdout",
     "output_type": "stream",
     "text": [
      "<class 'bs4.BeautifulSoup'>\n"
     ]
    }
   ],
   "source": [
    "from bs4 import BeautifulSoup\n",
    "import urllib\n",
    "r = urllib.urlopen('http://www.aflcio.org/Legislation-and-Politics/Legislative-Alerts').read()\n",
    "soup = BeautifulSoup(r)\n",
    "print type(soup)"
   ]
  },
  {
   "cell_type": "code",
   "execution_count": 5,
   "metadata": {
    "collapsed": false
   },
   "outputs": [
    {
     "name": "stdout",
     "output_type": "stream",
     "text": [
      "<!DOCTYPE html>\n",
      "<html class=\"no-js\" lang=\"en-US\" xml:lang=\"en-US\" xmlns=\"http://www.w3.org/1999/xhtml\" xmlns:fb=\"http://ogp.me/ns/fb#\">\n",
      " <head>\n",
      "  <title>\n",
      "   Legislative Alerts\n",
      "  </title>\n",
      "  <meta content=\"text/html; charset=utf-8\" name=\"Content-Type\"/>\n",
      "  <meta content=\"en-US\" name=\"Content-language\"/>\n",
      "  <meta content=\"\" name=\"author\"/>\n",
      "  <meta content=\"\" name=\"copyright\"/>\n",
      "  <meta content=\"\" name=\"description\"/>\n",
      "  <meta content=\"\" name=\"keywords\"/>\n",
      "  <meta content=\"TRUE\" name=\"MSSmartTagsPreventParsing\"/>\n",
      "  <meta content=\"eZ Publish\" name=\"generator\"/>\n",
      "  <meta content=\"Legislative Alerts\" property=\"og:title\"/>\n",
      "  <meta content=\"http://www.aflcio.org/Legislation-and-Politics/Legislative-Alerts\" property=\"og:url\"/>\n",
      "  <meta content=\"AFL-CIO\" property=\"og:site_name\"/>\n",
      "  <meta content=\"http://www.aflcio.org/extension/aflcio/design/aflcio_user/images/facebook_aflcio_200x200.jpg\" property=\"og:image\"/>\n",
      "  <meta content=\"non_profit\" property=\"og:type\"/>\n",
      "  <meta content=\"288636237825618\" property=\"\n"
     ]
    }
   ],
   "source": [
    "# just showing the first 1000 characters\n",
    "print soup.prettify()[0:1000]"
   ]
  },
  {
   "cell_type": "code",
   "execution_count": 8,
   "metadata": {
    "collapsed": false
   },
   "outputs": [
    {
     "name": "stdout",
     "output_type": "stream",
     "text": [
      "-Alerts/\" id=\"siteSearch\" method=\"post\">\n",
      "        <label for=\"keyword\">\n",
      "         Search Legislative Alerts:\n",
      "        </label>\n",
      "        <input id=\"keyword\" name=\"SearchText\" size=\"10\" type=\"text\" value=\"\"/>\n",
      "        <input alt=\"search\" class=\"button\" src=\"/extension/aflcio/design/aflcio_user/images/btn-search-blog.png\" type=\"image\"/>\n",
      "        <span>\n",
      "        </span>\n",
      "       </form>\n",
      "      </div>\n",
      "      <div class=\"legisalerts_year_search\">\n",
      "       <!-- //navigation footer -->\n",
      "       <form>\n",
      "        <label for=\"children_years_EC\">\n",
      "         Browse by Year:\n",
      "        </label>\n",
      "        <select id=\"children_years\">\n",
      "         <option selected=\"selected\" value=\"2016\">\n",
      "          2016\n",
      "         </option>\n",
      "         <option value=\"2015\">\n",
      "          2015\n",
      "         </option>\n",
      "         <option value=\"2014\">\n",
      "          2014\n",
      "         </option>\n",
      "         <option value=\"2013\">\n",
      "          2013\n",
      "         </option>\n",
      "         <option value=\"2012\">\n",
      "          2012\n",
      "         </option>\n",
      "         <option value=\"2011\">\n",
      "          2011\n",
      "         </option>\n",
      "         <option value=\"2010\">\n",
      "          2010\n",
      "         </option>\n",
      "        </select>\n",
      "       </form>\n",
      "       <script type=\"text/javascript\">\n",
      "        $(document).ready(function(){\n",
      "\t\t\t\t\t$('#children_years').change(function(){\n",
      "\t\t\t\t\t\twindow.location = \"/Legislation-and-Politics/Legislative-Alerts/(y)/\"+$(this).val();\n",
      "\t\t\t\t\t});\n",
      "\t\t\t\t});\n",
      "       </script>\n",
      "      </div>\n",
      "     </div>\n",
      "     <div class=\"legisalerts_listing\">\n",
      "      <div class=\"ec_statements\">\n",
      "       <div id=\"legalert_title\">\n",
      "        <a href=\"/Legislation-and-Politics/Legislative-Alerts/Letter-in-Support-of-Barack-Obama-s-Veto-of-DOL-Retirement-Rule-Override\">\n",
      "         Letter in Support of Barack Obama's Veto of DOL Retirement Rule Override\n",
      "        </a>\n",
      "       </div>\n",
      "       <div id=\"legalert_date\">\n",
      "        June 21, 2016\n",
      "       </di\n"
     ]
    }
   ],
   "source": [
    "print soup.prettify()[28700:30500]"
   ]
  },
  {
   "cell_type": "raw",
   "metadata": {},
   "source": [
    "I can use the heirarchical nature of HTML structure to grab precisely the content that I am interested in. I will grab all of the elements that are within div tags and are also members of class \"ec_statements.\""
   ]
  },
  {
   "cell_type": "code",
   "execution_count": 12,
   "metadata": {
    "collapsed": false
   },
   "outputs": [
    {
     "name": "stdout",
     "output_type": "stream",
     "text": [
      "<class 'bs4.element.ResultSet'>\n"
     ]
    }
   ],
   "source": [
    "letters = soup.find_all(\"div\", class_=\"ec_statements\")\n",
    "# This returns a collection of tag objects. This is not one of the normal python collections covered in the other\n",
    "# tutorials, it is an object specific to the Beautiful Soup library. It can be iterated over, but most other standard \n",
    "# methods won't work on it. We'll have to do some preprocessing to get out the content that we want.\n",
    "print type(letters)"
   ]
  },
  {
   "cell_type": "raw",
   "metadata": {},
   "source": [
    "By examining one of the elements in this collection, we can see that the information we want inside these objects, \n",
    "but we'll need to use more of Beautiful Soup's functionality and know something about HTML strucure to access them."
   ]
  },
  {
   "cell_type": "code",
   "execution_count": 13,
   "metadata": {
    "collapsed": false
   },
   "outputs": [
    {
     "data": {
      "text/plain": [
       "<div class=\"ec_statements\">\n",
       "<div id=\"legalert_title\"><a href=\"/Legislation-and-Politics/Legislative-Alerts/Letter-in-Support-of-Barack-Obama-s-Veto-of-DOL-Retirement-Rule-Override\">Letter in Support of Barack Obama's Veto of DOL Retirement Rule Override</a></div>\n",
       "<div id=\"legalert_date\">June 21, 2016</div>\n",
       "</div>"
      ]
     },
     "execution_count": 13,
     "metadata": {},
     "output_type": "execute_result"
    }
   ],
   "source": [
    "letters[0]"
   ]
  },
  {
   "cell_type": "code",
   "execution_count": 14,
   "metadata": {
    "collapsed": true
   },
   "outputs": [],
   "source": [
    "lobbying = {}\n",
    "for element in letters:\n",
    "    lobbying[element.a.get_text()] = {}"
   ]
  },
  {
   "cell_type": "code",
   "execution_count": 16,
   "metadata": {
    "collapsed": false
   },
   "outputs": [],
   "source": [
    "letters[0].a[\"href\"]\n",
    "prefix = \"www.aflcio.org\""
   ]
  },
  {
   "cell_type": "code",
   "execution_count": 17,
   "metadata": {
    "collapsed": true
   },
   "outputs": [],
   "source": [
    "for element in letters:\n",
    "    lobbying[element.a.get_text()][\"link\"] = prefix + element.a[\"href\"]"
   ]
  },
  {
   "cell_type": "code",
   "execution_count": 19,
   "metadata": {
    "collapsed": false
   },
   "outputs": [
    {
     "data": {
      "text/plain": [
       "<div id=\"legalert_date\">June 21, 2016</div>"
      ]
     },
     "execution_count": 19,
     "metadata": {},
     "output_type": "execute_result"
    }
   ],
   "source": [
    "letters[0].find(id=\"legalert_date\")"
   ]
  },
  {
   "cell_type": "code",
   "execution_count": 23,
   "metadata": {
    "collapsed": false
   },
   "outputs": [
    {
     "data": {
      "text/plain": [
       "u'January 05, 2016'"
      ]
     },
     "execution_count": 23,
     "metadata": {},
     "output_type": "execute_result"
    }
   ],
   "source": [
    "for element in letters:\n",
    "    date = element.find(id=\"legalert_date\").get_text()\n",
    "    lobbying[element.a.get_text()][\"date\"] = date\n",
    "    \n",
    "date"
   ]
  },
  {
   "cell_type": "code",
   "execution_count": 24,
   "metadata": {
    "collapsed": false
   },
   "outputs": [
    {
     "name": "stdout",
     "output_type": "stream",
     "text": [
      "Letter to Senators urging them to oppose the conference report on the Customs Bill (H.R. 644): \n",
      "\tlink: www.aflcio.org/Legislation-and-Politics/Legislative-Alerts/Letter-to-Senators-urging-them-to-oppose-the-conference-report-on-the-Customs-Bill-H.R.-644\n",
      "\tdate: February 09, 2016\n",
      "\n",
      "\n",
      "Letter to Representatives opposing the \"Fairness in Class Action Litigation and Furthering Asbestos Claim Transparency Act\": \n",
      "\tlink: www.aflcio.org/Legislation-and-Politics/Legislative-Alerts/Letter-to-Representatives-opposing-the-Fairness-in-Class-Action-Litigation-and-Furthering-Asbestos-Claim-Transparency-Act\n",
      "\tdate: January 05, 2016\n",
      "\n",
      "\n",
      "AFL-CIO Opposes H-2B  Returning Worker Amendment: \n",
      "\tlink: www.aflcio.org/Legislation-and-Politics/Legislative-Alerts/AFL-CIO-Opposes-H-2B-Returning-Worker-Amendment\n",
      "\tdate: June 13, 2016\n",
      "\n",
      "\n",
      "Letter to Representatives in opposition to the Local Radio Freedom Act: \n",
      "\tlink: www.aflcio.org/Legislation-and-Politics/Legislative-Alerts/Letter-to-Representatives-in-opposition-to-the-Local-Radio-Freedom-Act\n",
      "\tdate: February 19, 2016\n",
      "\n",
      "\n",
      "Letter to Senators in support of the Workplace Action for a Growing Economy Act: \n",
      "\tlink: www.aflcio.org/Legislation-and-Politics/Legislative-Alerts/Letter-to-Senators-in-support-of-the-Workplace-Action-for-a-Growing-Economy-Act\n",
      "\tdate: January 07, 2016\n",
      "\n",
      "\n",
      "Letter to Representatives in support of The Workplace Action for a Growing Economy Act: \n",
      "\tlink: www.aflcio.org/Legislation-and-Politics/Legislative-Alerts/Letter-to-Representatives-in-support-of-The-Workplace-Action-for-a-Growing-Economy-Act\n",
      "\tdate: January 07, 2016\n",
      "\n",
      "\n",
      "Myths v Facts Response - ILRWG H-2B Approps FY 2017: \n",
      "\tlink: www.aflcio.org/Legislation-and-Politics/Legislative-Alerts/Myths-v-Facts-Response-ILRWG-H-2B-Approps-FY-2017\n",
      "\tdate: June 13, 2016\n",
      "\n",
      "\n",
      "Letter in Support of Barack Obama's Veto of DOL Retirement Rule Override: \n",
      "\tlink: www.aflcio.org/Legislation-and-Politics/Legislative-Alerts/Letter-in-Support-of-Barack-Obama-s-Veto-of-DOL-Retirement-Rule-Override\n",
      "\tdate: June 21, 2016\n",
      "\n",
      "\n",
      "Letter to Senators in opposition to the Local Radio Freedom Act: \n",
      "\tlink: www.aflcio.org/Legislation-and-Politics/Legislative-Alerts/Letter-to-Senators-in-opposition-to-the-Local-Radio-Freedom-Act\n",
      "\tdate: February 19, 2016\n",
      "\n",
      "\n",
      "Letter to House Education and the Workforce Committee Urging Them to Oppose the Resolution to Block the Dept. of Labor's Persuader Rule: \n",
      "\tlink: www.aflcio.org/Legislation-and-Politics/Legislative-Alerts/Letter-to-House-Education-and-the-Workforce-Committee-Urging-Them-to-Oppose-the-Resolution-to-Block-the-Dept.-of-Labor-s-Persuader-Rule\n",
      "\tdate: May 17, 2016\n",
      "\n",
      "\n"
     ]
    }
   ],
   "source": [
    "for item in lobbying.keys():\n",
    "    print item + \": \" + \"\\n\\t\" + \"link: \" + lobbying[item][\"link\"] + \"\\n\\t\" + \"date: \" + lobbying[item][\"date\"] + \"\\n\\n\""
   ]
  },
  {
   "cell_type": "code",
   "execution_count": 25,
   "metadata": {
    "collapsed": true
   },
   "outputs": [],
   "source": [
    "import json\n",
    "\n",
    "with open(\"lobbying.json\", \"w\") as writeJSON:\n",
    "    json.dump(lobbying, writeJSON)"
   ]
  },
  {
   "cell_type": "code",
   "execution_count": 27,
   "metadata": {
    "collapsed": false
   },
   "outputs": [
    {
     "data": {
      "text/plain": [
       "{u'AFL-CIO Opposes H-2B  Returning Worker Amendment': {'date': u'June 13, 2016',\n",
       "  'link': 'www.aflcio.org/Legislation-and-Politics/Legislative-Alerts/AFL-CIO-Opposes-H-2B-Returning-Worker-Amendment'},\n",
       " u\"Letter in Support of Barack Obama's Veto of DOL Retirement Rule Override\": {'date': u'June 21, 2016',\n",
       "  'link': 'www.aflcio.org/Legislation-and-Politics/Legislative-Alerts/Letter-in-Support-of-Barack-Obama-s-Veto-of-DOL-Retirement-Rule-Override'},\n",
       " u\"Letter to House Education and the Workforce Committee Urging Them to Oppose the Resolution to Block the Dept. of Labor's Persuader Rule\": {'date': u'May 17, 2016',\n",
       "  'link': 'www.aflcio.org/Legislation-and-Politics/Legislative-Alerts/Letter-to-House-Education-and-the-Workforce-Committee-Urging-Them-to-Oppose-the-Resolution-to-Block-the-Dept.-of-Labor-s-Persuader-Rule'},\n",
       " u'Letter to Representatives in opposition to the Local Radio Freedom Act': {'date': u'February 19, 2016',\n",
       "  'link': 'www.aflcio.org/Legislation-and-Politics/Legislative-Alerts/Letter-to-Representatives-in-opposition-to-the-Local-Radio-Freedom-Act'},\n",
       " u'Letter to Representatives in support of The Workplace Action for a Growing Economy Act': {'date': u'January 07, 2016',\n",
       "  'link': 'www.aflcio.org/Legislation-and-Politics/Legislative-Alerts/Letter-to-Representatives-in-support-of-The-Workplace-Action-for-a-Growing-Economy-Act'},\n",
       " u'Letter to Representatives opposing the \"Fairness in Class Action Litigation and Furthering Asbestos Claim Transparency Act\"': {'date': u'January 05, 2016',\n",
       "  'link': 'www.aflcio.org/Legislation-and-Politics/Legislative-Alerts/Letter-to-Representatives-opposing-the-Fairness-in-Class-Action-Litigation-and-Furthering-Asbestos-Claim-Transparency-Act'},\n",
       " u'Letter to Senators in opposition to the Local Radio Freedom Act': {'date': u'February 19, 2016',\n",
       "  'link': 'www.aflcio.org/Legislation-and-Politics/Legislative-Alerts/Letter-to-Senators-in-opposition-to-the-Local-Radio-Freedom-Act'},\n",
       " u'Letter to Senators in support of the Workplace Action for a Growing Economy Act': {'date': u'January 07, 2016',\n",
       "  'link': 'www.aflcio.org/Legislation-and-Politics/Legislative-Alerts/Letter-to-Senators-in-support-of-the-Workplace-Action-for-a-Growing-Economy-Act'},\n",
       " u'Letter to Senators urging them to oppose the conference report on the Customs Bill (H.R. 644)': {'date': u'February 09, 2016',\n",
       "  'link': 'www.aflcio.org/Legislation-and-Politics/Legislative-Alerts/Letter-to-Senators-urging-them-to-oppose-the-conference-report-on-the-Customs-Bill-H.R.-644'},\n",
       " u'Myths v Facts Response - ILRWG H-2B Approps FY 2017': {'date': u'June 13, 2016',\n",
       "  'link': 'www.aflcio.org/Legislation-and-Politics/Legislative-Alerts/Myths-v-Facts-Response-ILRWG-H-2B-Approps-FY-2017'}}"
      ]
     },
     "execution_count": 27,
     "metadata": {},
     "output_type": "execute_result"
    }
   ],
   "source": [
    "lobbying"
   ]
  },
  {
   "cell_type": "code",
   "execution_count": null,
   "metadata": {
    "collapsed": true
   },
   "outputs": [],
   "source": []
  }
 ],
 "metadata": {
  "kernelspec": {
   "display_name": "Python 2",
   "language": "python",
   "name": "python2"
  },
  "language_info": {
   "codemirror_mode": {
    "name": "ipython",
    "version": 2
   },
   "file_extension": ".py",
   "mimetype": "text/x-python",
   "name": "python",
   "nbconvert_exporter": "python",
   "pygments_lexer": "ipython2",
   "version": "2.7.11"
  }
 },
 "nbformat": 4,
 "nbformat_minor": 0
}
