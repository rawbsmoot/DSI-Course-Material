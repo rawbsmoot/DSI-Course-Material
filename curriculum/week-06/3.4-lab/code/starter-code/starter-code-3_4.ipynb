{
 "cells": [
  {
   "cell_type": "markdown",
   "metadata": {},
   "source": [
    "# Model Comparison Lab\n",
    "\n",
    "In this lab we will compare the performance of all the models we have learned about so far, using the car evaluation dataset."
   ]
  },
  {
   "cell_type": "markdown",
   "metadata": {},
   "source": [
    "## 1. Prepare the data\n",
    "\n",
    "The [car evaluation dataset](https://archive.ics.uci.edu/ml/machine-learning-databases/car/) is in the assets/datasets folder. By now you should be very familiar with this dataset.\n",
    "\n",
    "1. Load the data into a pandas dataframe\n",
    "- Encode the categorical features properly: define a map that preserves the scale (assigning smaller numbers to words indicating smaller quantities)\n",
    "- Separate features from target into X and y"
   ]
  },
  {
   "cell_type": "code",
   "execution_count": 95,
   "metadata": {
    "collapsed": false
   },
   "outputs": [],
   "source": [
    "from patsy import dmatrices\n",
    "from sklearn.linear_model import LogisticRegression, Ridge\n",
    "from sklearn.cross_validation import train_test_split, cross_val_score, KFold\n",
    "from sklearn.pipeline import Pipeline, make_pipeline, make_union\n",
    "from sklearn import metrics\n",
    "from sklearn.preprocessing import Imputer, StandardScaler, LabelEncoder, OneHotEncoder\n",
    "from sklearn.base import BaseEstimator, TransformerMixin\n",
    "from IPython.display import Image\n",
    "from sklearn.grid_search import GridSearchCV\n",
    "from sklearn.metrics import roc_auc_score, classification_report\n",
    "from sqlalchemy import create_engine\n",
    "import patsy\n",
    "from sklearn import neighbors, metrics\n",
    "import seaborn as sns\n",
    "sns.set(color_codes=True)\n",
    "import os\n",
    "from sklearn import svm\n",
    "from scrapy.selector import Selector\n",
    "from scrapy.http import HtmlResponse\n",
    "import selenium\n",
    "from selenium import webdriver\n",
    "from selenium.webdriver.common.keys import Keys\n",
    "from selenium.webdriver.common.by import By\n",
    "import subprocess\n",
    "import pandas as pd\n",
    "import numpy as np\n",
    "from sklearn.ensemble import RandomForestClassifier\n",
    "from sklearn.ensemble import RandomForestRegressor\n",
    "import scipy\n",
    "from imdbpie import Imdb\n",
    "from sklearn.neighbors import NearestNeighbors, KNeighborsClassifier\n",
    "import requests\n",
    "import nltk\n",
    "import matplotlib.pyplot as plt\n",
    "import urllib\n",
    "from bs4 import BeautifulSoup\n",
    "import nltk\n",
    "import collections\n",
    "import re\n",
    "from sklearn.cross_validation import train_test_split, cross_val_score\n",
    "from sklearn.externals.six import StringIO  \n",
    "from sklearn.tree import DecisionTreeRegressor, DecisionTreeClassifier, export_graphviz\n",
    "from sklearn.ensemble import BaggingClassifier, RandomForestClassifier, BaggingRegressor, RandomForestRegressor, GradientBoostingRegressor\n",
    "from sklearn.metrics import confusion_matrix, classification_report, mean_squared_error\n",
    "import pandas as pd\n",
    "import numpy as np\n",
    "from sklearn.cross_validation import cross_val_score, StratifiedKFold\n",
    "from sklearn.tree import DecisionTreeClassifier\n",
    "import matplotlib.pyplot as plt\n",
    "from sklearn.externals.six import StringIO\n",
    "from sklearn.tree import export_graphviz\n",
    "import pydot\n",
    "import patsy\n",
    "from IPython.display import Image\n",
    "from sklearn.ensemble import RandomForestClassifier, ExtraTreesClassifier\n",
    "from sklearn.preprocessing import LabelEncoder, OneHotEncoder\n",
    "%matplotlib inline"
   ]
  },
  {
   "cell_type": "code",
   "execution_count": 6,
   "metadata": {
    "collapsed": false
   },
   "outputs": [
    {
     "data": {
      "text/html": [
       "<div>\n",
       "<table border=\"1\" class=\"dataframe\">\n",
       "  <thead>\n",
       "    <tr style=\"text-align: right;\">\n",
       "      <th></th>\n",
       "      <th>buying</th>\n",
       "      <th>maint</th>\n",
       "      <th>doors</th>\n",
       "      <th>persons</th>\n",
       "      <th>lug_boot</th>\n",
       "      <th>safety</th>\n",
       "      <th>acceptability</th>\n",
       "    </tr>\n",
       "  </thead>\n",
       "  <tbody>\n",
       "    <tr>\n",
       "      <th>0</th>\n",
       "      <td>vhigh</td>\n",
       "      <td>vhigh</td>\n",
       "      <td>2</td>\n",
       "      <td>2</td>\n",
       "      <td>small</td>\n",
       "      <td>low</td>\n",
       "      <td>unacc</td>\n",
       "    </tr>\n",
       "    <tr>\n",
       "      <th>1</th>\n",
       "      <td>vhigh</td>\n",
       "      <td>vhigh</td>\n",
       "      <td>2</td>\n",
       "      <td>2</td>\n",
       "      <td>small</td>\n",
       "      <td>med</td>\n",
       "      <td>unacc</td>\n",
       "    </tr>\n",
       "    <tr>\n",
       "      <th>2</th>\n",
       "      <td>vhigh</td>\n",
       "      <td>vhigh</td>\n",
       "      <td>2</td>\n",
       "      <td>2</td>\n",
       "      <td>small</td>\n",
       "      <td>high</td>\n",
       "      <td>unacc</td>\n",
       "    </tr>\n",
       "    <tr>\n",
       "      <th>3</th>\n",
       "      <td>vhigh</td>\n",
       "      <td>vhigh</td>\n",
       "      <td>2</td>\n",
       "      <td>2</td>\n",
       "      <td>med</td>\n",
       "      <td>low</td>\n",
       "      <td>unacc</td>\n",
       "    </tr>\n",
       "    <tr>\n",
       "      <th>4</th>\n",
       "      <td>vhigh</td>\n",
       "      <td>vhigh</td>\n",
       "      <td>2</td>\n",
       "      <td>2</td>\n",
       "      <td>med</td>\n",
       "      <td>med</td>\n",
       "      <td>unacc</td>\n",
       "    </tr>\n",
       "  </tbody>\n",
       "</table>\n",
       "</div>"
      ],
      "text/plain": [
       "  buying  maint doors persons lug_boot safety acceptability\n",
       "0  vhigh  vhigh     2       2    small    low         unacc\n",
       "1  vhigh  vhigh     2       2    small    med         unacc\n",
       "2  vhigh  vhigh     2       2    small   high         unacc\n",
       "3  vhigh  vhigh     2       2      med    low         unacc\n",
       "4  vhigh  vhigh     2       2      med    med         unacc"
      ]
     },
     "execution_count": 6,
     "metadata": {},
     "output_type": "execute_result"
    }
   ],
   "source": [
    "df = pd.read_csv('/Users/smoot/Desktop/ga/DSI_SM_01/curriculum/week-06/3.3-lesson/assets/datasets/car.csv')\n",
    "df.head()"
   ]
  },
  {
   "cell_type": "code",
   "execution_count": 27,
   "metadata": {
    "collapsed": false
   },
   "outputs": [
    {
     "data": {
      "text/plain": [
       "array(['unacc', 'acc', 'vgood', 'good'], dtype=object)"
      ]
     },
     "execution_count": 27,
     "metadata": {},
     "output_type": "execute_result"
    }
   ],
   "source": [
    "df.acceptability.unique()"
   ]
  },
  {
   "cell_type": "code",
   "execution_count": 100,
   "metadata": {
    "collapsed": false
   },
   "outputs": [
    {
     "name": "stdout",
     "output_type": "stream",
     "text": [
      "      buying_high  buying_low  buying_med  buying_vhigh  maint_high  \\\n",
      "0             0.0         0.0         0.0           1.0         0.0   \n",
      "1             0.0         0.0         0.0           1.0         0.0   \n",
      "2             0.0         0.0         0.0           1.0         0.0   \n",
      "3             0.0         0.0         0.0           1.0         0.0   \n",
      "4             0.0         0.0         0.0           1.0         0.0   \n",
      "5             0.0         0.0         0.0           1.0         0.0   \n",
      "6             0.0         0.0         0.0           1.0         0.0   \n",
      "7             0.0         0.0         0.0           1.0         0.0   \n",
      "8             0.0         0.0         0.0           1.0         0.0   \n",
      "9             0.0         0.0         0.0           1.0         0.0   \n",
      "10            0.0         0.0         0.0           1.0         0.0   \n",
      "11            0.0         0.0         0.0           1.0         0.0   \n",
      "12            0.0         0.0         0.0           1.0         0.0   \n",
      "13            0.0         0.0         0.0           1.0         0.0   \n",
      "14            0.0         0.0         0.0           1.0         0.0   \n",
      "15            0.0         0.0         0.0           1.0         0.0   \n",
      "16            0.0         0.0         0.0           1.0         0.0   \n",
      "17            0.0         0.0         0.0           1.0         0.0   \n",
      "18            0.0         0.0         0.0           1.0         0.0   \n",
      "19            0.0         0.0         0.0           1.0         0.0   \n",
      "20            0.0         0.0         0.0           1.0         0.0   \n",
      "21            0.0         0.0         0.0           1.0         0.0   \n",
      "22            0.0         0.0         0.0           1.0         0.0   \n",
      "23            0.0         0.0         0.0           1.0         0.0   \n",
      "24            0.0         0.0         0.0           1.0         0.0   \n",
      "25            0.0         0.0         0.0           1.0         0.0   \n",
      "26            0.0         0.0         0.0           1.0         0.0   \n",
      "27            0.0         0.0         0.0           1.0         0.0   \n",
      "28            0.0         0.0         0.0           1.0         0.0   \n",
      "29            0.0         0.0         0.0           1.0         0.0   \n",
      "...           ...         ...         ...           ...         ...   \n",
      "1698          0.0         1.0         0.0           0.0         0.0   \n",
      "1699          0.0         1.0         0.0           0.0         0.0   \n",
      "1700          0.0         1.0         0.0           0.0         0.0   \n",
      "1701          0.0         1.0         0.0           0.0         0.0   \n",
      "1702          0.0         1.0         0.0           0.0         0.0   \n",
      "1703          0.0         1.0         0.0           0.0         0.0   \n",
      "1704          0.0         1.0         0.0           0.0         0.0   \n",
      "1705          0.0         1.0         0.0           0.0         0.0   \n",
      "1706          0.0         1.0         0.0           0.0         0.0   \n",
      "1707          0.0         1.0         0.0           0.0         0.0   \n",
      "1708          0.0         1.0         0.0           0.0         0.0   \n",
      "1709          0.0         1.0         0.0           0.0         0.0   \n",
      "1710          0.0         1.0         0.0           0.0         0.0   \n",
      "1711          0.0         1.0         0.0           0.0         0.0   \n",
      "1712          0.0         1.0         0.0           0.0         0.0   \n",
      "1713          0.0         1.0         0.0           0.0         0.0   \n",
      "1714          0.0         1.0         0.0           0.0         0.0   \n",
      "1715          0.0         1.0         0.0           0.0         0.0   \n",
      "1716          0.0         1.0         0.0           0.0         0.0   \n",
      "1717          0.0         1.0         0.0           0.0         0.0   \n",
      "1718          0.0         1.0         0.0           0.0         0.0   \n",
      "1719          0.0         1.0         0.0           0.0         0.0   \n",
      "1720          0.0         1.0         0.0           0.0         0.0   \n",
      "1721          0.0         1.0         0.0           0.0         0.0   \n",
      "1722          0.0         1.0         0.0           0.0         0.0   \n",
      "1723          0.0         1.0         0.0           0.0         0.0   \n",
      "1724          0.0         1.0         0.0           0.0         0.0   \n",
      "1725          0.0         1.0         0.0           0.0         0.0   \n",
      "1726          0.0         1.0         0.0           0.0         0.0   \n",
      "1727          0.0         1.0         0.0           0.0         0.0   \n",
      "\n",
      "      maint_low  maint_med  maint_vhigh  doors_2  doors_3     ...      \\\n",
      "0           0.0        0.0          1.0      1.0      0.0     ...       \n",
      "1           0.0        0.0          1.0      1.0      0.0     ...       \n",
      "2           0.0        0.0          1.0      1.0      0.0     ...       \n",
      "3           0.0        0.0          1.0      1.0      0.0     ...       \n",
      "4           0.0        0.0          1.0      1.0      0.0     ...       \n",
      "5           0.0        0.0          1.0      1.0      0.0     ...       \n",
      "6           0.0        0.0          1.0      1.0      0.0     ...       \n",
      "7           0.0        0.0          1.0      1.0      0.0     ...       \n",
      "8           0.0        0.0          1.0      1.0      0.0     ...       \n",
      "9           0.0        0.0          1.0      1.0      0.0     ...       \n",
      "10          0.0        0.0          1.0      1.0      0.0     ...       \n",
      "11          0.0        0.0          1.0      1.0      0.0     ...       \n",
      "12          0.0        0.0          1.0      1.0      0.0     ...       \n",
      "13          0.0        0.0          1.0      1.0      0.0     ...       \n",
      "14          0.0        0.0          1.0      1.0      0.0     ...       \n",
      "15          0.0        0.0          1.0      1.0      0.0     ...       \n",
      "16          0.0        0.0          1.0      1.0      0.0     ...       \n",
      "17          0.0        0.0          1.0      1.0      0.0     ...       \n",
      "18          0.0        0.0          1.0      1.0      0.0     ...       \n",
      "19          0.0        0.0          1.0      1.0      0.0     ...       \n",
      "20          0.0        0.0          1.0      1.0      0.0     ...       \n",
      "21          0.0        0.0          1.0      1.0      0.0     ...       \n",
      "22          0.0        0.0          1.0      1.0      0.0     ...       \n",
      "23          0.0        0.0          1.0      1.0      0.0     ...       \n",
      "24          0.0        0.0          1.0      1.0      0.0     ...       \n",
      "25          0.0        0.0          1.0      1.0      0.0     ...       \n",
      "26          0.0        0.0          1.0      1.0      0.0     ...       \n",
      "27          0.0        0.0          1.0      0.0      1.0     ...       \n",
      "28          0.0        0.0          1.0      0.0      1.0     ...       \n",
      "29          0.0        0.0          1.0      0.0      1.0     ...       \n",
      "...         ...        ...          ...      ...      ...     ...       \n",
      "1698        1.0        0.0          0.0      0.0      0.0     ...       \n",
      "1699        1.0        0.0          0.0      0.0      0.0     ...       \n",
      "1700        1.0        0.0          0.0      0.0      0.0     ...       \n",
      "1701        1.0        0.0          0.0      0.0      0.0     ...       \n",
      "1702        1.0        0.0          0.0      0.0      0.0     ...       \n",
      "1703        1.0        0.0          0.0      0.0      0.0     ...       \n",
      "1704        1.0        0.0          0.0      0.0      0.0     ...       \n",
      "1705        1.0        0.0          0.0      0.0      0.0     ...       \n",
      "1706        1.0        0.0          0.0      0.0      0.0     ...       \n",
      "1707        1.0        0.0          0.0      0.0      0.0     ...       \n",
      "1708        1.0        0.0          0.0      0.0      0.0     ...       \n",
      "1709        1.0        0.0          0.0      0.0      0.0     ...       \n",
      "1710        1.0        0.0          0.0      0.0      0.0     ...       \n",
      "1711        1.0        0.0          0.0      0.0      0.0     ...       \n",
      "1712        1.0        0.0          0.0      0.0      0.0     ...       \n",
      "1713        1.0        0.0          0.0      0.0      0.0     ...       \n",
      "1714        1.0        0.0          0.0      0.0      0.0     ...       \n",
      "1715        1.0        0.0          0.0      0.0      0.0     ...       \n",
      "1716        1.0        0.0          0.0      0.0      0.0     ...       \n",
      "1717        1.0        0.0          0.0      0.0      0.0     ...       \n",
      "1718        1.0        0.0          0.0      0.0      0.0     ...       \n",
      "1719        1.0        0.0          0.0      0.0      0.0     ...       \n",
      "1720        1.0        0.0          0.0      0.0      0.0     ...       \n",
      "1721        1.0        0.0          0.0      0.0      0.0     ...       \n",
      "1722        1.0        0.0          0.0      0.0      0.0     ...       \n",
      "1723        1.0        0.0          0.0      0.0      0.0     ...       \n",
      "1724        1.0        0.0          0.0      0.0      0.0     ...       \n",
      "1725        1.0        0.0          0.0      0.0      0.0     ...       \n",
      "1726        1.0        0.0          0.0      0.0      0.0     ...       \n",
      "1727        1.0        0.0          0.0      0.0      0.0     ...       \n",
      "\n",
      "      doors_5more  persons_2  persons_4  persons_more  lug_boot_big  \\\n",
      "0             0.0        1.0        0.0           0.0           0.0   \n",
      "1             0.0        1.0        0.0           0.0           0.0   \n",
      "2             0.0        1.0        0.0           0.0           0.0   \n",
      "3             0.0        1.0        0.0           0.0           0.0   \n",
      "4             0.0        1.0        0.0           0.0           0.0   \n",
      "5             0.0        1.0        0.0           0.0           0.0   \n",
      "6             0.0        1.0        0.0           0.0           1.0   \n",
      "7             0.0        1.0        0.0           0.0           1.0   \n",
      "8             0.0        1.0        0.0           0.0           1.0   \n",
      "9             0.0        0.0        1.0           0.0           0.0   \n",
      "10            0.0        0.0        1.0           0.0           0.0   \n",
      "11            0.0        0.0        1.0           0.0           0.0   \n",
      "12            0.0        0.0        1.0           0.0           0.0   \n",
      "13            0.0        0.0        1.0           0.0           0.0   \n",
      "14            0.0        0.0        1.0           0.0           0.0   \n",
      "15            0.0        0.0        1.0           0.0           1.0   \n",
      "16            0.0        0.0        1.0           0.0           1.0   \n",
      "17            0.0        0.0        1.0           0.0           1.0   \n",
      "18            0.0        0.0        0.0           1.0           0.0   \n",
      "19            0.0        0.0        0.0           1.0           0.0   \n",
      "20            0.0        0.0        0.0           1.0           0.0   \n",
      "21            0.0        0.0        0.0           1.0           0.0   \n",
      "22            0.0        0.0        0.0           1.0           0.0   \n",
      "23            0.0        0.0        0.0           1.0           0.0   \n",
      "24            0.0        0.0        0.0           1.0           1.0   \n",
      "25            0.0        0.0        0.0           1.0           1.0   \n",
      "26            0.0        0.0        0.0           1.0           1.0   \n",
      "27            0.0        1.0        0.0           0.0           0.0   \n",
      "28            0.0        1.0        0.0           0.0           0.0   \n",
      "29            0.0        1.0        0.0           0.0           0.0   \n",
      "...           ...        ...        ...           ...           ...   \n",
      "1698          0.0        0.0        0.0           1.0           1.0   \n",
      "1699          0.0        0.0        0.0           1.0           1.0   \n",
      "1700          0.0        0.0        0.0           1.0           1.0   \n",
      "1701          1.0        1.0        0.0           0.0           0.0   \n",
      "1702          1.0        1.0        0.0           0.0           0.0   \n",
      "1703          1.0        1.0        0.0           0.0           0.0   \n",
      "1704          1.0        1.0        0.0           0.0           0.0   \n",
      "1705          1.0        1.0        0.0           0.0           0.0   \n",
      "1706          1.0        1.0        0.0           0.0           0.0   \n",
      "1707          1.0        1.0        0.0           0.0           1.0   \n",
      "1708          1.0        1.0        0.0           0.0           1.0   \n",
      "1709          1.0        1.0        0.0           0.0           1.0   \n",
      "1710          1.0        0.0        1.0           0.0           0.0   \n",
      "1711          1.0        0.0        1.0           0.0           0.0   \n",
      "1712          1.0        0.0        1.0           0.0           0.0   \n",
      "1713          1.0        0.0        1.0           0.0           0.0   \n",
      "1714          1.0        0.0        1.0           0.0           0.0   \n",
      "1715          1.0        0.0        1.0           0.0           0.0   \n",
      "1716          1.0        0.0        1.0           0.0           1.0   \n",
      "1717          1.0        0.0        1.0           0.0           1.0   \n",
      "1718          1.0        0.0        1.0           0.0           1.0   \n",
      "1719          1.0        0.0        0.0           1.0           0.0   \n",
      "1720          1.0        0.0        0.0           1.0           0.0   \n",
      "1721          1.0        0.0        0.0           1.0           0.0   \n",
      "1722          1.0        0.0        0.0           1.0           0.0   \n",
      "1723          1.0        0.0        0.0           1.0           0.0   \n",
      "1724          1.0        0.0        0.0           1.0           0.0   \n",
      "1725          1.0        0.0        0.0           1.0           1.0   \n",
      "1726          1.0        0.0        0.0           1.0           1.0   \n",
      "1727          1.0        0.0        0.0           1.0           1.0   \n",
      "\n",
      "      lug_boot_med  lug_boot_small  safety_high  safety_low  safety_med  \n",
      "0              0.0             1.0          0.0         1.0         0.0  \n",
      "1              0.0             1.0          0.0         0.0         1.0  \n",
      "2              0.0             1.0          1.0         0.0         0.0  \n",
      "3              1.0             0.0          0.0         1.0         0.0  \n",
      "4              1.0             0.0          0.0         0.0         1.0  \n",
      "5              1.0             0.0          1.0         0.0         0.0  \n",
      "6              0.0             0.0          0.0         1.0         0.0  \n",
      "7              0.0             0.0          0.0         0.0         1.0  \n",
      "8              0.0             0.0          1.0         0.0         0.0  \n",
      "9              0.0             1.0          0.0         1.0         0.0  \n",
      "10             0.0             1.0          0.0         0.0         1.0  \n",
      "11             0.0             1.0          1.0         0.0         0.0  \n",
      "12             1.0             0.0          0.0         1.0         0.0  \n",
      "13             1.0             0.0          0.0         0.0         1.0  \n",
      "14             1.0             0.0          1.0         0.0         0.0  \n",
      "15             0.0             0.0          0.0         1.0         0.0  \n",
      "16             0.0             0.0          0.0         0.0         1.0  \n",
      "17             0.0             0.0          1.0         0.0         0.0  \n",
      "18             0.0             1.0          0.0         1.0         0.0  \n",
      "19             0.0             1.0          0.0         0.0         1.0  \n",
      "20             0.0             1.0          1.0         0.0         0.0  \n",
      "21             1.0             0.0          0.0         1.0         0.0  \n",
      "22             1.0             0.0          0.0         0.0         1.0  \n",
      "23             1.0             0.0          1.0         0.0         0.0  \n",
      "24             0.0             0.0          0.0         1.0         0.0  \n",
      "25             0.0             0.0          0.0         0.0         1.0  \n",
      "26             0.0             0.0          1.0         0.0         0.0  \n",
      "27             0.0             1.0          0.0         1.0         0.0  \n",
      "28             0.0             1.0          0.0         0.0         1.0  \n",
      "29             0.0             1.0          1.0         0.0         0.0  \n",
      "...            ...             ...          ...         ...         ...  \n",
      "1698           0.0             0.0          0.0         1.0         0.0  \n",
      "1699           0.0             0.0          0.0         0.0         1.0  \n",
      "1700           0.0             0.0          1.0         0.0         0.0  \n",
      "1701           0.0             1.0          0.0         1.0         0.0  \n",
      "1702           0.0             1.0          0.0         0.0         1.0  \n",
      "1703           0.0             1.0          1.0         0.0         0.0  \n",
      "1704           1.0             0.0          0.0         1.0         0.0  \n",
      "1705           1.0             0.0          0.0         0.0         1.0  \n",
      "1706           1.0             0.0          1.0         0.0         0.0  \n",
      "1707           0.0             0.0          0.0         1.0         0.0  \n",
      "1708           0.0             0.0          0.0         0.0         1.0  \n",
      "1709           0.0             0.0          1.0         0.0         0.0  \n",
      "1710           0.0             1.0          0.0         1.0         0.0  \n",
      "1711           0.0             1.0          0.0         0.0         1.0  \n",
      "1712           0.0             1.0          1.0         0.0         0.0  \n",
      "1713           1.0             0.0          0.0         1.0         0.0  \n",
      "1714           1.0             0.0          0.0         0.0         1.0  \n",
      "1715           1.0             0.0          1.0         0.0         0.0  \n",
      "1716           0.0             0.0          0.0         1.0         0.0  \n",
      "1717           0.0             0.0          0.0         0.0         1.0  \n",
      "1718           0.0             0.0          1.0         0.0         0.0  \n",
      "1719           0.0             1.0          0.0         1.0         0.0  \n",
      "1720           0.0             1.0          0.0         0.0         1.0  \n",
      "1721           0.0             1.0          1.0         0.0         0.0  \n",
      "1722           1.0             0.0          0.0         1.0         0.0  \n",
      "1723           1.0             0.0          0.0         0.0         1.0  \n",
      "1724           1.0             0.0          1.0         0.0         0.0  \n",
      "1725           0.0             0.0          0.0         1.0         0.0  \n",
      "1726           0.0             0.0          0.0         0.0         1.0  \n",
      "1727           0.0             0.0          1.0         0.0         0.0  \n",
      "\n",
      "[1728 rows x 21 columns]\n"
     ]
    }
   ],
   "source": [
    "le = LabelEncoder()\n",
    "y = le.fit_transform(df['acceptability'])\n",
    "# X = patsy.dmatrix('buying + maint + doors + persons + lug_boot + safety', df)\n",
    "features = [c for c in df.columns if c != 'acceptability']\n",
    "X_temp = df[features]\n",
    "X = pd.get_dummies(X_temp)\n",
    "X_test, X_train, y_test, y_train = train_test_split(X, y, train_size = .33, stratify = y, random_state = 42)\n",
    "print X"
   ]
  },
  {
   "cell_type": "code",
   "execution_count": 50,
   "metadata": {
    "collapsed": false
   },
   "outputs": [
    {
     "name": "stdout",
     "output_type": "stream",
     "text": [
      "[False False False False False False False False False False  True  True\n",
      " False False  True False]\n",
      "[ 2  5  6  8  9 10  3 14 13 12  1  1 11  7  1  4]\n"
     ]
    }
   ],
   "source": [
    "# Recursive Feature Elimination\n",
    "from sklearn.feature_selection import RFE\n",
    "from sklearn.linear_model import LogisticRegression\n",
    "# load the iris datasets\n",
    "# create a base classifier used to evaluate a subset of attributes\n",
    "model = LogisticRegression()\n",
    "# create the RFE model and select 3 attributes\n",
    "rfe = RFE(model, 3)\n",
    "rfe = rfe.fit(X, y)\n",
    "# summarize the selection of the attributes\n",
    "print(rfe.support_)\n",
    "print(rfe.ranking_)\n"
   ]
  },
  {
   "cell_type": "markdown",
   "metadata": {},
   "source": [
    "## 2. Useful preparation\n",
    "\n",
    "Since we will compare several models, let's write a couple of helper functions.\n",
    "\n",
    "1. Separate X and y between a train and test set, using 30% test set, random state = 42\n",
    "    - make sure that the data is shuffled and stratified\n",
    "2. Define a function called `evaluate_model`, that trains the model on the train set, tests it on the test, calculates:\n",
    "    - accuracy score\n",
    "    - confusion matrix\n",
    "    - classification report\n",
    "3. Initialize a global dictionary to store the various models for later retrieval\n"
   ]
  },
  {
   "cell_type": "code",
   "execution_count": null,
   "metadata": {
    "collapsed": false
   },
   "outputs": [],
   "source": []
  },
  {
   "cell_type": "markdown",
   "metadata": {},
   "source": [
    "## 3.a KNN\n",
    "\n",
    "Let's start with `KNeighborsClassifier`.\n",
    "\n",
    "1. Initialize a KNN model\n",
    "- Evaluate it's performance with the function you previously defined\n",
    "- Find the optimal value of K using grid search\n",
    "    - Be careful on how you perform the cross validation in the grid search"
   ]
  },
  {
   "cell_type": "code",
   "execution_count": 39,
   "metadata": {
    "collapsed": false
   },
   "outputs": [
    {
     "name": "stdout",
     "output_type": "stream",
     "text": [
      "0.861403508772\n"
     ]
    }
   ],
   "source": [
    "knn = KNeighborsClassifier()\n",
    "knn.fit(X_train, y_train)\n",
    "print knn.score(X_test, y_test)\n",
    "y_pred = knn.predict(X_test)"
   ]
  },
  {
   "cell_type": "code",
   "execution_count": 40,
   "metadata": {
    "collapsed": false
   },
   "outputs": [
    {
     "name": "stdout",
     "output_type": "stream",
     "text": [
      "             precision    recall  f1-score   support\n",
      "\n",
      "          0       0.73      0.75      0.74       127\n",
      "          1       0.33      0.17      0.23        23\n",
      "          2       0.92      0.96      0.94       399\n",
      "          3       0.64      0.33      0.44        21\n",
      "\n",
      "avg / total       0.85      0.86      0.85       570\n",
      "\n"
     ]
    }
   ],
   "source": [
    "print classification_report(y_test, y_pred)"
   ]
  },
  {
   "cell_type": "code",
   "execution_count": 43,
   "metadata": {
    "collapsed": false
   },
   "outputs": [
    {
     "name": "stdout",
     "output_type": "stream",
     "text": [
      "[[ 95   2  28   2]\n",
      " [ 15   4   2   2]\n",
      " [ 11   3 385   0]\n",
      " [  9   3   2   7]]\n"
     ]
    }
   ],
   "source": [
    "cm = confusion_matrix(y_test, y_pred)\n",
    "print cm"
   ]
  },
  {
   "cell_type": "code",
   "execution_count": 106,
   "metadata": {
    "collapsed": false
   },
   "outputs": [
    {
     "data": {
      "text/plain": [
       "0.89473684210526316"
      ]
     },
     "execution_count": 106,
     "metadata": {},
     "output_type": "execute_result"
    }
   ],
   "source": [
    "\n",
    "gs = GridSearchCV(knn, dict(n_neighbors=range(1,26)), cv = 5)\n",
    "gs.fit(X_train, y_train)\n",
    "gs.score(X_test, y_test)"
   ]
  },
  {
   "cell_type": "code",
   "execution_count": 107,
   "metadata": {
    "collapsed": false
   },
   "outputs": [
    {
     "data": {
      "text/plain": [
       "{'n_neighbors': 5}"
      ]
     },
     "execution_count": 107,
     "metadata": {},
     "output_type": "execute_result"
    }
   ],
   "source": [
    "gs.best_params_"
   ]
  },
  {
   "cell_type": "markdown",
   "metadata": {},
   "source": [
    "## 3.b Bagging + KNN\n",
    "\n",
    "Now that we have found the optimal K, let's wrap `KNeighborsClassifier` in a BaggingClassifier and see if the score improves.\n",
    "\n",
    "1. Wrap the KNN model in a Bagging Classifier\n",
    "- Evaluate performance\n",
    "- Do a grid search only on the bagging classifier params"
   ]
  },
  {
   "cell_type": "code",
   "execution_count": 108,
   "metadata": {
    "collapsed": false
   },
   "outputs": [
    {
     "data": {
      "text/plain": [
       "0.91929824561403506"
      ]
     },
     "execution_count": 108,
     "metadata": {},
     "output_type": "execute_result"
    }
   ],
   "source": [
    "knn_bag = BaggingClassifier(knn)\n",
    "knn_bag.fit(X_train, y_train)\n",
    "bag_p = knn_bag.predict(X_test)\n",
    "knn_bag.score(X_test, y_test)"
   ]
  },
  {
   "cell_type": "code",
   "execution_count": 109,
   "metadata": {
    "collapsed": false
   },
   "outputs": [
    {
     "ename": "JoblibIndexError",
     "evalue": "JoblibIndexError\n___________________________________________________________________________\nMultiprocessing exception:\n...........................................................................\n/Users/smoot/anaconda/lib/python2.7/runpy.py in _run_module_as_main(mod_name='ipykernel.__main__', alter_argv=1)\n    157     pkg_name = mod_name.rpartition('.')[0]\n    158     main_globals = sys.modules[\"__main__\"].__dict__\n    159     if alter_argv:\n    160         sys.argv[0] = fname\n    161     return _run_code(code, main_globals, None,\n--> 162                      \"__main__\", fname, loader, pkg_name)\n        fname = '/Users/smoot/anaconda/lib/python2.7/site-packages/ipykernel/__main__.py'\n        loader = <pkgutil.ImpLoader instance>\n        pkg_name = 'ipykernel'\n    163 \n    164 def run_module(mod_name, init_globals=None,\n    165                run_name=None, alter_sys=False):\n    166     \"\"\"Execute a module's code without importing it\n\n...........................................................................\n/Users/smoot/anaconda/lib/python2.7/runpy.py in _run_code(code=<code object <module> at 0x1018e0930, file \"/Use...2.7/site-packages/ipykernel/__main__.py\", line 1>, run_globals={'__builtins__': <module '__builtin__' (built-in)>, '__doc__': None, '__file__': '/Users/smoot/anaconda/lib/python2.7/site-packages/ipykernel/__main__.py', '__loader__': <pkgutil.ImpLoader instance>, '__name__': '__main__', '__package__': 'ipykernel', 'app': <module 'ipykernel.kernelapp' from '/Users/smoot...python2.7/site-packages/ipykernel/kernelapp.pyc'>}, init_globals=None, mod_name='__main__', mod_fname='/Users/smoot/anaconda/lib/python2.7/site-packages/ipykernel/__main__.py', mod_loader=<pkgutil.ImpLoader instance>, pkg_name='ipykernel')\n     67         run_globals.update(init_globals)\n     68     run_globals.update(__name__ = mod_name,\n     69                        __file__ = mod_fname,\n     70                        __loader__ = mod_loader,\n     71                        __package__ = pkg_name)\n---> 72     exec code in run_globals\n        code = <code object <module> at 0x1018e0930, file \"/Use...2.7/site-packages/ipykernel/__main__.py\", line 1>\n        run_globals = {'__builtins__': <module '__builtin__' (built-in)>, '__doc__': None, '__file__': '/Users/smoot/anaconda/lib/python2.7/site-packages/ipykernel/__main__.py', '__loader__': <pkgutil.ImpLoader instance>, '__name__': '__main__', '__package__': 'ipykernel', 'app': <module 'ipykernel.kernelapp' from '/Users/smoot...python2.7/site-packages/ipykernel/kernelapp.pyc'>}\n     73     return run_globals\n     74 \n     75 def _run_module_code(code, init_globals=None,\n     76                     mod_name=None, mod_fname=None,\n\n...........................................................................\n/Users/smoot/anaconda/lib/python2.7/site-packages/ipykernel/__main__.py in <module>()\n      1 \n      2 \n----> 3 \n      4 if __name__ == '__main__':\n      5     from ipykernel import kernelapp as app\n      6     app.launch_new_instance()\n      7 \n      8 \n      9 \n     10 \n\n...........................................................................\n/Users/smoot/anaconda/lib/python2.7/site-packages/traitlets/config/application.py in launch_instance(cls=<class 'ipykernel.kernelapp.IPKernelApp'>, argv=None, **kwargs={})\n    591         \n    592         If a global instance already exists, this reinitializes and starts it\n    593         \"\"\"\n    594         app = cls.instance(**kwargs)\n    595         app.initialize(argv)\n--> 596         app.start()\n        app.start = <bound method IPKernelApp.start of <ipykernel.kernelapp.IPKernelApp object>>\n    597 \n    598 #-----------------------------------------------------------------------------\n    599 # utility functions, for convenience\n    600 #-----------------------------------------------------------------------------\n\n...........................................................................\n/Users/smoot/anaconda/lib/python2.7/site-packages/ipykernel/kernelapp.py in start(self=<ipykernel.kernelapp.IPKernelApp object>)\n    437         \n    438         if self.poller is not None:\n    439             self.poller.start()\n    440         self.kernel.start()\n    441         try:\n--> 442             ioloop.IOLoop.instance().start()\n    443         except KeyboardInterrupt:\n    444             pass\n    445 \n    446 launch_new_instance = IPKernelApp.launch_instance\n\n...........................................................................\n/Users/smoot/anaconda/lib/python2.7/site-packages/zmq/eventloop/ioloop.py in start(self=<zmq.eventloop.ioloop.ZMQIOLoop object>)\n    157             PollIOLoop.configure(ZMQIOLoop)\n    158         return PollIOLoop.current(*args, **kwargs)\n    159     \n    160     def start(self):\n    161         try:\n--> 162             super(ZMQIOLoop, self).start()\n        self.start = <bound method ZMQIOLoop.start of <zmq.eventloop.ioloop.ZMQIOLoop object>>\n    163         except ZMQError as e:\n    164             if e.errno == ETERM:\n    165                 # quietly return on ETERM\n    166                 pass\n\n...........................................................................\n/Users/smoot/anaconda/lib/python2.7/site-packages/tornado/ioloop.py in start(self=<zmq.eventloop.ioloop.ZMQIOLoop object>)\n    878                 self._events.update(event_pairs)\n    879                 while self._events:\n    880                     fd, events = self._events.popitem()\n    881                     try:\n    882                         fd_obj, handler_func = self._handlers[fd]\n--> 883                         handler_func(fd_obj, events)\n        handler_func = <function null_wrapper>\n        fd_obj = <zmq.sugar.socket.Socket object>\n        events = 1\n    884                     except (OSError, IOError) as e:\n    885                         if errno_from_exception(e) == errno.EPIPE:\n    886                             # Happens when the client closes the connection\n    887                             pass\n\n...........................................................................\n/Users/smoot/anaconda/lib/python2.7/site-packages/tornado/stack_context.py in null_wrapper(*args=(<zmq.sugar.socket.Socket object>, 1), **kwargs={})\n    270         # Fast path when there are no active contexts.\n    271         def null_wrapper(*args, **kwargs):\n    272             try:\n    273                 current_state = _state.contexts\n    274                 _state.contexts = cap_contexts[0]\n--> 275                 return fn(*args, **kwargs)\n        args = (<zmq.sugar.socket.Socket object>, 1)\n        kwargs = {}\n    276             finally:\n    277                 _state.contexts = current_state\n    278         null_wrapper._wrapped = True\n    279         return null_wrapper\n\n...........................................................................\n/Users/smoot/anaconda/lib/python2.7/site-packages/zmq/eventloop/zmqstream.py in _handle_events(self=<zmq.eventloop.zmqstream.ZMQStream object>, fd=<zmq.sugar.socket.Socket object>, events=1)\n    435             # dispatch events:\n    436             if events & IOLoop.ERROR:\n    437                 gen_log.error(\"got POLLERR event on ZMQStream, which doesn't make sense\")\n    438                 return\n    439             if events & IOLoop.READ:\n--> 440                 self._handle_recv()\n        self._handle_recv = <bound method ZMQStream._handle_recv of <zmq.eventloop.zmqstream.ZMQStream object>>\n    441                 if not self.socket:\n    442                     return\n    443             if events & IOLoop.WRITE:\n    444                 self._handle_send()\n\n...........................................................................\n/Users/smoot/anaconda/lib/python2.7/site-packages/zmq/eventloop/zmqstream.py in _handle_recv(self=<zmq.eventloop.zmqstream.ZMQStream object>)\n    467                 gen_log.error(\"RECV Error: %s\"%zmq.strerror(e.errno))\n    468         else:\n    469             if self._recv_callback:\n    470                 callback = self._recv_callback\n    471                 # self._recv_callback = None\n--> 472                 self._run_callback(callback, msg)\n        self._run_callback = <bound method ZMQStream._run_callback of <zmq.eventloop.zmqstream.ZMQStream object>>\n        callback = <function null_wrapper>\n        msg = [<zmq.sugar.frame.Frame object>, <zmq.sugar.frame.Frame object>, <zmq.sugar.frame.Frame object>, <zmq.sugar.frame.Frame object>, <zmq.sugar.frame.Frame object>, <zmq.sugar.frame.Frame object>, <zmq.sugar.frame.Frame object>]\n    473                 \n    474         # self.update_state()\n    475         \n    476 \n\n...........................................................................\n/Users/smoot/anaconda/lib/python2.7/site-packages/zmq/eventloop/zmqstream.py in _run_callback(self=<zmq.eventloop.zmqstream.ZMQStream object>, callback=<function null_wrapper>, *args=([<zmq.sugar.frame.Frame object>, <zmq.sugar.frame.Frame object>, <zmq.sugar.frame.Frame object>, <zmq.sugar.frame.Frame object>, <zmq.sugar.frame.Frame object>, <zmq.sugar.frame.Frame object>, <zmq.sugar.frame.Frame object>],), **kwargs={})\n    409         close our socket.\"\"\"\n    410         try:\n    411             # Use a NullContext to ensure that all StackContexts are run\n    412             # inside our blanket exception handler rather than outside.\n    413             with stack_context.NullContext():\n--> 414                 callback(*args, **kwargs)\n        callback = <function null_wrapper>\n        args = ([<zmq.sugar.frame.Frame object>, <zmq.sugar.frame.Frame object>, <zmq.sugar.frame.Frame object>, <zmq.sugar.frame.Frame object>, <zmq.sugar.frame.Frame object>, <zmq.sugar.frame.Frame object>, <zmq.sugar.frame.Frame object>],)\n        kwargs = {}\n    415         except:\n    416             gen_log.error(\"Uncaught exception, closing connection.\",\n    417                           exc_info=True)\n    418             # Close the socket on an uncaught exception from a user callback\n\n...........................................................................\n/Users/smoot/anaconda/lib/python2.7/site-packages/tornado/stack_context.py in null_wrapper(*args=([<zmq.sugar.frame.Frame object>, <zmq.sugar.frame.Frame object>, <zmq.sugar.frame.Frame object>, <zmq.sugar.frame.Frame object>, <zmq.sugar.frame.Frame object>, <zmq.sugar.frame.Frame object>, <zmq.sugar.frame.Frame object>],), **kwargs={})\n    270         # Fast path when there are no active contexts.\n    271         def null_wrapper(*args, **kwargs):\n    272             try:\n    273                 current_state = _state.contexts\n    274                 _state.contexts = cap_contexts[0]\n--> 275                 return fn(*args, **kwargs)\n        args = ([<zmq.sugar.frame.Frame object>, <zmq.sugar.frame.Frame object>, <zmq.sugar.frame.Frame object>, <zmq.sugar.frame.Frame object>, <zmq.sugar.frame.Frame object>, <zmq.sugar.frame.Frame object>, <zmq.sugar.frame.Frame object>],)\n        kwargs = {}\n    276             finally:\n    277                 _state.contexts = current_state\n    278         null_wrapper._wrapped = True\n    279         return null_wrapper\n\n...........................................................................\n/Users/smoot/anaconda/lib/python2.7/site-packages/ipykernel/kernelbase.py in dispatcher(msg=[<zmq.sugar.frame.Frame object>, <zmq.sugar.frame.Frame object>, <zmq.sugar.frame.Frame object>, <zmq.sugar.frame.Frame object>, <zmq.sugar.frame.Frame object>, <zmq.sugar.frame.Frame object>, <zmq.sugar.frame.Frame object>])\n    271         if self.control_stream:\n    272             self.control_stream.on_recv(self.dispatch_control, copy=False)\n    273 \n    274         def make_dispatcher(stream):\n    275             def dispatcher(msg):\n--> 276                 return self.dispatch_shell(stream, msg)\n        msg = [<zmq.sugar.frame.Frame object>, <zmq.sugar.frame.Frame object>, <zmq.sugar.frame.Frame object>, <zmq.sugar.frame.Frame object>, <zmq.sugar.frame.Frame object>, <zmq.sugar.frame.Frame object>, <zmq.sugar.frame.Frame object>]\n    277             return dispatcher\n    278 \n    279         for s in self.shell_streams:\n    280             s.on_recv(make_dispatcher(s), copy=False)\n\n...........................................................................\n/Users/smoot/anaconda/lib/python2.7/site-packages/ipykernel/kernelbase.py in dispatch_shell(self=<ipykernel.ipkernel.IPythonKernel object>, stream=<zmq.eventloop.zmqstream.ZMQStream object>, msg={'buffers': [], 'content': {u'allow_stdin': True, u'code': u\"bagging_params = {\\n    'n_estimators': [10, 2...fit(X_train, y_train)\\ncsg.score(X_test, y_test)\", u'silent': False, u'stop_on_error': True, u'store_history': True, u'user_expressions': {}}, 'header': {'date': '2016-07-13T17:06:49.590980', u'msg_id': u'64D94238A6394EC89AAB267327E810CD', u'msg_type': u'execute_request', u'session': u'DFDDC2FCAF7A4FF3870CF115EBD76854', u'username': u'username', u'version': u'5.0'}, 'metadata': {}, 'msg_id': u'64D94238A6394EC89AAB267327E810CD', 'msg_type': u'execute_request', 'parent_header': {}})\n    223             self.log.error(\"UNKNOWN MESSAGE TYPE: %r\", msg_type)\n    224         else:\n    225             self.log.debug(\"%s: %s\", msg_type, msg)\n    226             self.pre_handler_hook()\n    227             try:\n--> 228                 handler(stream, idents, msg)\n        handler = <bound method IPythonKernel.execute_request of <ipykernel.ipkernel.IPythonKernel object>>\n        stream = <zmq.eventloop.zmqstream.ZMQStream object>\n        idents = ['DFDDC2FCAF7A4FF3870CF115EBD76854']\n        msg = {'buffers': [], 'content': {u'allow_stdin': True, u'code': u\"bagging_params = {\\n    'n_estimators': [10, 2...fit(X_train, y_train)\\ncsg.score(X_test, y_test)\", u'silent': False, u'stop_on_error': True, u'store_history': True, u'user_expressions': {}}, 'header': {'date': '2016-07-13T17:06:49.590980', u'msg_id': u'64D94238A6394EC89AAB267327E810CD', u'msg_type': u'execute_request', u'session': u'DFDDC2FCAF7A4FF3870CF115EBD76854', u'username': u'username', u'version': u'5.0'}, 'metadata': {}, 'msg_id': u'64D94238A6394EC89AAB267327E810CD', 'msg_type': u'execute_request', 'parent_header': {}}\n    229             except Exception:\n    230                 self.log.error(\"Exception in message handler:\", exc_info=True)\n    231             finally:\n    232                 self.post_handler_hook()\n\n...........................................................................\n/Users/smoot/anaconda/lib/python2.7/site-packages/ipykernel/kernelbase.py in execute_request(self=<ipykernel.ipkernel.IPythonKernel object>, stream=<zmq.eventloop.zmqstream.ZMQStream object>, ident=['DFDDC2FCAF7A4FF3870CF115EBD76854'], parent={'buffers': [], 'content': {u'allow_stdin': True, u'code': u\"bagging_params = {\\n    'n_estimators': [10, 2...fit(X_train, y_train)\\ncsg.score(X_test, y_test)\", u'silent': False, u'stop_on_error': True, u'store_history': True, u'user_expressions': {}}, 'header': {'date': '2016-07-13T17:06:49.590980', u'msg_id': u'64D94238A6394EC89AAB267327E810CD', u'msg_type': u'execute_request', u'session': u'DFDDC2FCAF7A4FF3870CF115EBD76854', u'username': u'username', u'version': u'5.0'}, 'metadata': {}, 'msg_id': u'64D94238A6394EC89AAB267327E810CD', 'msg_type': u'execute_request', 'parent_header': {}})\n    386         if not silent:\n    387             self.execution_count += 1\n    388             self._publish_execute_input(code, parent, self.execution_count)\n    389 \n    390         reply_content = self.do_execute(code, silent, store_history,\n--> 391                                         user_expressions, allow_stdin)\n        user_expressions = {}\n        allow_stdin = True\n    392 \n    393         # Flush output before sending the reply.\n    394         sys.stdout.flush()\n    395         sys.stderr.flush()\n\n...........................................................................\n/Users/smoot/anaconda/lib/python2.7/site-packages/ipykernel/ipkernel.py in do_execute(self=<ipykernel.ipkernel.IPythonKernel object>, code=u\"bagging_params = {\\n    'n_estimators': [10, 2...fit(X_train, y_train)\\ncsg.score(X_test, y_test)\", silent=False, store_history=True, user_expressions={}, allow_stdin=True)\n    194 \n    195         reply_content = {}\n    196         # FIXME: the shell calls the exception handler itself.\n    197         shell._reply_content = None\n    198         try:\n--> 199             shell.run_cell(code, store_history=store_history, silent=silent)\n        shell.run_cell = <bound method ZMQInteractiveShell.run_cell of <ipykernel.zmqshell.ZMQInteractiveShell object>>\n        code = u\"bagging_params = {\\n    'n_estimators': [10, 2...fit(X_train, y_train)\\ncsg.score(X_test, y_test)\"\n        store_history = True\n        silent = False\n    200         except:\n    201             status = u'error'\n    202             # FIXME: this code right now isn't being used yet by default,\n    203             # because the run_cell() call above directly fires off exception\n\n...........................................................................\n/Users/smoot/anaconda/lib/python2.7/site-packages/IPython/core/interactiveshell.py in run_cell(self=<ipykernel.zmqshell.ZMQInteractiveShell object>, raw_cell=u\"bagging_params = {\\n    'n_estimators': [10, 2...fit(X_train, y_train)\\ncsg.score(X_test, y_test)\", store_history=True, silent=False, shell_futures=True)\n   2718                 self.displayhook.exec_result = result\n   2719 \n   2720                 # Execute the user code\n   2721                 interactivity = \"none\" if silent else self.ast_node_interactivity\n   2722                 self.run_ast_nodes(code_ast.body, cell_name,\n-> 2723                    interactivity=interactivity, compiler=compiler, result=result)\n        interactivity = 'last_expr'\n        compiler = <IPython.core.compilerop.CachingCompiler instance>\n   2724 \n   2725                 # Reset this so later displayed values do not modify the\n   2726                 # ExecutionResult\n   2727                 self.displayhook.exec_result = None\n\n...........................................................................\n/Users/smoot/anaconda/lib/python2.7/site-packages/IPython/core/interactiveshell.py in run_ast_nodes(self=<ipykernel.zmqshell.ZMQInteractiveShell object>, nodelist=[<_ast.Assign object>, <_ast.Assign object>, <_ast.Expr object>, <_ast.Expr object>], cell_name='<ipython-input-109-eed6b82662c7>', interactivity='last', compiler=<IPython.core.compilerop.CachingCompiler instance>, result=<IPython.core.interactiveshell.ExecutionResult object>)\n   2820 \n   2821         try:\n   2822             for i, node in enumerate(to_run_exec):\n   2823                 mod = ast.Module([node])\n   2824                 code = compiler(mod, cell_name, \"exec\")\n-> 2825                 if self.run_code(code, result):\n        self.run_code = <bound method ZMQInteractiveShell.run_code of <ipykernel.zmqshell.ZMQInteractiveShell object>>\n        code = <code object <module> at 0x11bf4f730, file \"<ipython-input-109-eed6b82662c7>\", line 8>\n        result = <IPython.core.interactiveshell.ExecutionResult object>\n   2826                     return True\n   2827 \n   2828             for i, node in enumerate(to_run_interactive):\n   2829                 mod = ast.Interactive([node])\n\n...........................................................................\n/Users/smoot/anaconda/lib/python2.7/site-packages/IPython/core/interactiveshell.py in run_code(self=<ipykernel.zmqshell.ZMQInteractiveShell object>, code_obj=<code object <module> at 0x11bf4f730, file \"<ipython-input-109-eed6b82662c7>\", line 8>, result=<IPython.core.interactiveshell.ExecutionResult object>)\n   2880         outflag = 1  # happens in more places, so it's easier as default\n   2881         try:\n   2882             try:\n   2883                 self.hooks.pre_run_code_hook()\n   2884                 #rprint('Running code', repr(code_obj)) # dbg\n-> 2885                 exec(code_obj, self.user_global_ns, self.user_ns)\n        code_obj = <code object <module> at 0x11bf4f730, file \"<ipython-input-109-eed6b82662c7>\", line 8>\n        self.user_global_ns = {'BaggingClassifier': <class 'sklearn.ensemble.bagging.BaggingClassifier'>, 'BaggingRegressor': <class 'sklearn.ensemble.bagging.BaggingRegressor'>, 'BaseEstimator': <class 'sklearn.base.BaseEstimator'>, 'BeautifulSoup': <class 'bs4.BeautifulSoup'>, 'By': <class 'selenium.webdriver.common.by.By'>, 'DecisionTreeClassifier': <class 'sklearn.tree.tree.DecisionTreeClassifier'>, 'DecisionTreeRegressor': <class 'sklearn.tree.tree.DecisionTreeRegressor'>, 'ExtraTreesClassifier': <class 'sklearn.ensemble.forest.ExtraTreesClassifier'>, 'GradientBoostingRegressor': <class 'sklearn.ensemble.gradient_boosting.GradientBoostingRegressor'>, 'GridSearchCV': <class 'sklearn.grid_search.GridSearchCV'>, ...}\n        self.user_ns = {'BaggingClassifier': <class 'sklearn.ensemble.bagging.BaggingClassifier'>, 'BaggingRegressor': <class 'sklearn.ensemble.bagging.BaggingRegressor'>, 'BaseEstimator': <class 'sklearn.base.BaseEstimator'>, 'BeautifulSoup': <class 'bs4.BeautifulSoup'>, 'By': <class 'selenium.webdriver.common.by.By'>, 'DecisionTreeClassifier': <class 'sklearn.tree.tree.DecisionTreeClassifier'>, 'DecisionTreeRegressor': <class 'sklearn.tree.tree.DecisionTreeRegressor'>, 'ExtraTreesClassifier': <class 'sklearn.ensemble.forest.ExtraTreesClassifier'>, 'GradientBoostingRegressor': <class 'sklearn.ensemble.gradient_boosting.GradientBoostingRegressor'>, 'GridSearchCV': <class 'sklearn.grid_search.GridSearchCV'>, ...}\n   2886             finally:\n   2887                 # Reset our crash handler in place\n   2888                 sys.excepthook = old_excepthook\n   2889         except SystemExit as e:\n\n...........................................................................\n/Users/smoot/Desktop/ga/DSI_SM_01/curriculum/week-06/3.4-lab/code/starter-code/<ipython-input-109-eed6b82662c7> in <module>()\n      3     'max_samples' : [0.7, 1.0],\n      4     'max_features': [0.7, 1.0],\n      5     'bootstrap_features': [True, False]\n      6 }\n      7 csg = GridSearchCV(knn_bag, bagging_params, n_jobs = -1, cv=KFold(len(y), shuffle=True))\n----> 8 csg.fit(X_train, y_train)\n      9 csg.score(X_test, y_test)\n     10 \n     11 \n     12 \n\n...........................................................................\n/Users/smoot/anaconda/lib/python2.7/site-packages/sklearn/grid_search.py in fit(self=GridSearchCV(cv=sklearn.cross_validation.KFold(n...='2*n_jobs', refit=True, scoring=None, verbose=0), X=      buying_high  buying_low  buying_med  buyin...      0.0         0.0  \n\n[1158 rows x 21 columns], y=array([2, 2, 2, ..., 2, 2, 2]))\n    799         y : array-like, shape = [n_samples] or [n_samples, n_output], optional\n    800             Target relative to X for classification or regression;\n    801             None for unsupervised learning.\n    802 \n    803         \"\"\"\n--> 804         return self._fit(X, y, ParameterGrid(self.param_grid))\n        self._fit = <bound method GridSearchCV._fit of GridSearchCV(...'2*n_jobs', refit=True, scoring=None, verbose=0)>\n        X =       buying_high  buying_low  buying_med  buyin...      0.0         0.0  \n\n[1158 rows x 21 columns]\n        y = array([2, 2, 2, ..., 2, 2, 2])\n        self.param_grid = {'bootstrap_features': [True, False], 'max_features': [0.7, 1.0], 'max_samples': [0.7, 1.0], 'n_estimators': [10, 20]}\n    805 \n    806 \n    807 class RandomizedSearchCV(BaseSearchCV):\n    808     \"\"\"Randomized search on hyper parameters.\n\n...........................................................................\n/Users/smoot/anaconda/lib/python2.7/site-packages/sklearn/grid_search.py in _fit(self=GridSearchCV(cv=sklearn.cross_validation.KFold(n...='2*n_jobs', refit=True, scoring=None, verbose=0), X=      buying_high  buying_low  buying_med  buyin...      0.0         0.0  \n\n[1158 rows x 21 columns], y=array([2, 2, 2, ..., 2, 2, 2]), parameter_iterable=<sklearn.grid_search.ParameterGrid object>)\n    548         )(\n    549             delayed(_fit_and_score)(clone(base_estimator), X, y, self.scorer_,\n    550                                     train, test, self.verbose, parameters,\n    551                                     self.fit_params, return_parameters=True,\n    552                                     error_score=self.error_score)\n--> 553                 for parameters in parameter_iterable\n        parameters = undefined\n        parameter_iterable = <sklearn.grid_search.ParameterGrid object>\n    554                 for train, test in cv)\n    555 \n    556         # Out is a list of triplet: score, estimator, n_test_samples\n    557         n_fits = len(out)\n\n...........................................................................\n/Users/smoot/anaconda/lib/python2.7/site-packages/sklearn/externals/joblib/parallel.py in __call__(self=Parallel(n_jobs=-1), iterable=<generator object <genexpr>>)\n    805             if pre_dispatch == \"all\" or n_jobs == 1:\n    806                 # The iterable was consumed all at once by the above for loop.\n    807                 # No need to wait for async callbacks to trigger to\n    808                 # consumption.\n    809                 self._iterating = False\n--> 810             self.retrieve()\n        self.retrieve = <bound method Parallel.retrieve of Parallel(n_jobs=-1)>\n    811             # Make sure that we get a last message telling us we are done\n    812             elapsed_time = time.time() - self._start_time\n    813             self._print('Done %3i out of %3i | elapsed: %s finished',\n    814                         (len(self._output), len(self._output),\n\n---------------------------------------------------------------------------\nSub-process traceback:\n---------------------------------------------------------------------------\nIndexError                                         Wed Jul 13 17:06:49 2016\nPID: 95318                  Python 2.7.11: /Users/smoot/anaconda/bin/python\n...........................................................................\n/Users/smoot/anaconda/lib/python2.7/site-packages/sklearn/externals/joblib/parallel.py in __call__(self=<sklearn.externals.joblib.parallel.BatchedCalls object>)\n     67     def __init__(self, iterator_slice):\n     68         self.items = list(iterator_slice)\n     69         self._size = len(self.items)\n     70 \n     71     def __call__(self):\n---> 72         return [func(*args, **kwargs) for func, args, kwargs in self.items]\n        func = <function _fit_and_score>\n        args = (BaggingClassifier(base_estimator=KNeighborsClass...  random_state=None, verbose=0, warm_start=False),       buying_high  buying_low  buying_med  buyin...      0.0         0.0  \n\n[1158 rows x 21 columns], array([2, 2, 2, ..., 2, 2, 2]), <function _passthrough_scorer>, array([   0,    4,    5, ..., 1722, 1723, 1724]), array([   1,    2,    3,    7,    8,   10,   12,...1709, 1710, 1717,\n       1720, 1725, 1726, 1727]), 0, {'bootstrap_features': True, 'max_features': 0.7, 'max_samples': 0.7, 'n_estimators': 10}, {})\n        kwargs = {'error_score': 'raise', 'return_parameters': True}\n        self.items = [(<function _fit_and_score>, (BaggingClassifier(base_estimator=KNeighborsClass...  random_state=None, verbose=0, warm_start=False),       buying_high  buying_low  buying_med  buyin...      0.0         0.0  \n\n[1158 rows x 21 columns], array([2, 2, 2, ..., 2, 2, 2]), <function _passthrough_scorer>, array([   0,    4,    5, ..., 1722, 1723, 1724]), array([   1,    2,    3,    7,    8,   10,   12,...1709, 1710, 1717,\n       1720, 1725, 1726, 1727]), 0, {'bootstrap_features': True, 'max_features': 0.7, 'max_samples': 0.7, 'n_estimators': 10}, {}), {'error_score': 'raise', 'return_parameters': True})]\n     73 \n     74     def __len__(self):\n     75         return self._size\n     76 \n\n...........................................................................\n/Users/smoot/anaconda/lib/python2.7/site-packages/sklearn/cross_validation.py in _fit_and_score(estimator=BaggingClassifier(base_estimator=KNeighborsClass...  random_state=None, verbose=0, warm_start=False), X=      buying_high  buying_low  buying_med  buyin...      0.0         0.0  \n\n[1158 rows x 21 columns], y=array([2, 2, 2, ..., 2, 2, 2]), scorer=<function _passthrough_scorer>, train=array([   0,    4,    5, ..., 1722, 1723, 1724]), test=array([   1,    2,    3,    7,    8,   10,   12,...1709, 1710, 1717,\n       1720, 1725, 1726, 1727]), verbose=0, parameters={'bootstrap_features': True, 'max_features': 0.7, 'max_samples': 0.7, 'n_estimators': 10}, fit_params={}, return_train_score=False, return_parameters=True, error_score='raise')\n   1519     if parameters is not None:\n   1520         estimator.set_params(**parameters)\n   1521 \n   1522     start_time = time.time()\n   1523 \n-> 1524     X_train, y_train = _safe_split(estimator, X, y, train)\n        X_train = undefined\n        y_train = undefined\n        estimator = BaggingClassifier(base_estimator=KNeighborsClass...  random_state=None, verbose=0, warm_start=False)\n        X =       buying_high  buying_low  buying_med  buyin...      0.0         0.0  \n\n[1158 rows x 21 columns]\n        y = array([2, 2, 2, ..., 2, 2, 2])\n        train = array([   0,    4,    5, ..., 1722, 1723, 1724])\n   1525     X_test, y_test = _safe_split(estimator, X, y, test, train)\n   1526 \n   1527     try:\n   1528         if y_train is None:\n\n...........................................................................\n/Users/smoot/anaconda/lib/python2.7/site-packages/sklearn/cross_validation.py in _safe_split(estimator=BaggingClassifier(base_estimator=KNeighborsClass...  random_state=None, verbose=0, warm_start=False), X=      buying_high  buying_low  buying_med  buyin...      0.0         0.0  \n\n[1158 rows x 21 columns], y=array([2, 2, 2, ..., 2, 2, 2]), indices=array([   0,    4,    5, ..., 1722, 1723, 1724]), train_indices=None)\n   1586             if train_indices is None:\n   1587                 X_subset = X[np.ix_(indices, indices)]\n   1588             else:\n   1589                 X_subset = X[np.ix_(indices, train_indices)]\n   1590         else:\n-> 1591             X_subset = safe_indexing(X, indices)\n        X_subset = undefined\n        X =       buying_high  buying_low  buying_med  buyin...      0.0         0.0  \n\n[1158 rows x 21 columns]\n        indices = array([   0,    4,    5, ..., 1722, 1723, 1724])\n   1592 \n   1593     if y is not None:\n   1594         y_subset = safe_indexing(y, indices)\n   1595     else:\n\n...........................................................................\n/Users/smoot/anaconda/lib/python2.7/site-packages/sklearn/utils/__init__.py in safe_indexing(X=      buying_high  buying_low  buying_med  buyin...      0.0         0.0  \n\n[1158 rows x 21 columns], indices=array([   0,    4,    5, ..., 1722, 1723, 1724]))\n    147         Indices according to which X will be subsampled.\n    148     \"\"\"\n    149     if hasattr(X, \"iloc\"):\n    150         # Pandas Dataframes and Series\n    151         try:\n--> 152             return X.iloc[indices]\n        X.iloc = <pandas.core.indexing._iLocIndexer object>\n        indices = array([   0,    4,    5, ..., 1722, 1723, 1724])\n    153         except ValueError:\n    154             # Cython typed memoryviews internally used in pandas do not support\n    155             # readonly buffers.\n    156             warnings.warn(\"Copying input dataframe for slicing.\",\n\n...........................................................................\n/Users/smoot/anaconda/lib/python2.7/site-packages/pandas/core/indexing.py in __getitem__(self=<pandas.core.indexing._iLocIndexer object>, key=array([   0,    4,    5, ..., 1722, 1723, 1724]))\n   1281 \n   1282     def __getitem__(self, key):\n   1283         if type(key) is tuple:\n   1284             return self._getitem_tuple(key)\n   1285         else:\n-> 1286             return self._getitem_axis(key, axis=0)\n        self._getitem_axis = <bound method _iLocIndexer._getitem_axis of <pandas.core.indexing._iLocIndexer object>>\n        key = array([   0,    4,    5, ..., 1722, 1723, 1724])\n   1287 \n   1288     def _getitem_axis(self, key, axis=0):\n   1289         raise NotImplementedError()\n   1290 \n\n...........................................................................\n/Users/smoot/anaconda/lib/python2.7/site-packages/pandas/core/indexing.py in _getitem_axis(self=<pandas.core.indexing._iLocIndexer object>, key=array([   0,    4,    5, ..., 1722, 1723, 1724]), axis=0)\n   1555         else:\n   1556 \n   1557             if is_list_like_indexer(key):\n   1558 \n   1559                 # validate list bounds\n-> 1560                 self._is_valid_list_like(key, axis)\n        self._is_valid_list_like = <bound method _iLocIndexer._is_valid_list_like of <pandas.core.indexing._iLocIndexer object>>\n        key = array([   0,    4,    5, ..., 1722, 1723, 1724])\n        axis = 0\n   1561 \n   1562                 # force an actual list\n   1563                 key = list(key)\n   1564 \n\n...........................................................................\n/Users/smoot/anaconda/lib/python2.7/site-packages/pandas/core/indexing.py in _is_valid_list_like(self=<pandas.core.indexing._iLocIndexer object>, key=array([   0,    4,    5, ..., 1722, 1723, 1724]), axis=0)\n   1494         # coerce the key to not exceed the maximum size of the index\n   1495         arr = np.array(key)\n   1496         ax = self.obj._get_axis(axis)\n   1497         l = len(ax)\n   1498         if len(arr) and (arr.max() >= l or arr.min() < -l):\n-> 1499             raise IndexError(\"positional indexers are out-of-bounds\")\n   1500 \n   1501         return True\n   1502 \n   1503     def _getitem_tuple(self, tup):\n\nIndexError: positional indexers are out-of-bounds\n___________________________________________________________________________",
     "output_type": "error",
     "traceback": [
      "\u001b[0;31m---------------------------------------------------------------------------\u001b[0m",
      "\u001b[0;31mJoblibIndexError\u001b[0m                          Traceback (most recent call last)",
      "\u001b[0;32m<ipython-input-109-eed6b82662c7>\u001b[0m in \u001b[0;36m<module>\u001b[0;34m()\u001b[0m\n\u001b[1;32m      6\u001b[0m }\n\u001b[1;32m      7\u001b[0m \u001b[0mcsg\u001b[0m \u001b[0;34m=\u001b[0m \u001b[0mGridSearchCV\u001b[0m\u001b[0;34m(\u001b[0m\u001b[0mknn_bag\u001b[0m\u001b[0;34m,\u001b[0m \u001b[0mbagging_params\u001b[0m\u001b[0;34m,\u001b[0m \u001b[0mn_jobs\u001b[0m \u001b[0;34m=\u001b[0m \u001b[0;34m-\u001b[0m\u001b[0;36m1\u001b[0m\u001b[0;34m,\u001b[0m \u001b[0mcv\u001b[0m\u001b[0;34m=\u001b[0m\u001b[0mKFold\u001b[0m\u001b[0;34m(\u001b[0m\u001b[0mlen\u001b[0m\u001b[0;34m(\u001b[0m\u001b[0my\u001b[0m\u001b[0;34m)\u001b[0m\u001b[0;34m,\u001b[0m \u001b[0mshuffle\u001b[0m\u001b[0;34m=\u001b[0m\u001b[0mTrue\u001b[0m\u001b[0;34m)\u001b[0m\u001b[0;34m)\u001b[0m\u001b[0;34m\u001b[0m\u001b[0m\n\u001b[0;32m----> 8\u001b[0;31m \u001b[0mcsg\u001b[0m\u001b[0;34m.\u001b[0m\u001b[0mfit\u001b[0m\u001b[0;34m(\u001b[0m\u001b[0mX_train\u001b[0m\u001b[0;34m,\u001b[0m \u001b[0my_train\u001b[0m\u001b[0;34m)\u001b[0m\u001b[0;34m\u001b[0m\u001b[0m\n\u001b[0m\u001b[1;32m      9\u001b[0m \u001b[0mcsg\u001b[0m\u001b[0;34m.\u001b[0m\u001b[0mscore\u001b[0m\u001b[0;34m(\u001b[0m\u001b[0mX_test\u001b[0m\u001b[0;34m,\u001b[0m \u001b[0my_test\u001b[0m\u001b[0;34m)\u001b[0m\u001b[0;34m\u001b[0m\u001b[0m\n",
      "\u001b[0;32m/Users/smoot/anaconda/lib/python2.7/site-packages/sklearn/grid_search.pyc\u001b[0m in \u001b[0;36mfit\u001b[0;34m(self, X, y)\u001b[0m\n\u001b[1;32m    802\u001b[0m \u001b[0;34m\u001b[0m\u001b[0m\n\u001b[1;32m    803\u001b[0m         \"\"\"\n\u001b[0;32m--> 804\u001b[0;31m         \u001b[0;32mreturn\u001b[0m \u001b[0mself\u001b[0m\u001b[0;34m.\u001b[0m\u001b[0m_fit\u001b[0m\u001b[0;34m(\u001b[0m\u001b[0mX\u001b[0m\u001b[0;34m,\u001b[0m \u001b[0my\u001b[0m\u001b[0;34m,\u001b[0m \u001b[0mParameterGrid\u001b[0m\u001b[0;34m(\u001b[0m\u001b[0mself\u001b[0m\u001b[0;34m.\u001b[0m\u001b[0mparam_grid\u001b[0m\u001b[0;34m)\u001b[0m\u001b[0;34m)\u001b[0m\u001b[0;34m\u001b[0m\u001b[0m\n\u001b[0m\u001b[1;32m    805\u001b[0m \u001b[0;34m\u001b[0m\u001b[0m\n\u001b[1;32m    806\u001b[0m \u001b[0;34m\u001b[0m\u001b[0m\n",
      "\u001b[0;32m/Users/smoot/anaconda/lib/python2.7/site-packages/sklearn/grid_search.pyc\u001b[0m in \u001b[0;36m_fit\u001b[0;34m(self, X, y, parameter_iterable)\u001b[0m\n\u001b[1;32m    551\u001b[0m                                     \u001b[0mself\u001b[0m\u001b[0;34m.\u001b[0m\u001b[0mfit_params\u001b[0m\u001b[0;34m,\u001b[0m \u001b[0mreturn_parameters\u001b[0m\u001b[0;34m=\u001b[0m\u001b[0mTrue\u001b[0m\u001b[0;34m,\u001b[0m\u001b[0;34m\u001b[0m\u001b[0m\n\u001b[1;32m    552\u001b[0m                                     error_score=self.error_score)\n\u001b[0;32m--> 553\u001b[0;31m                 \u001b[0;32mfor\u001b[0m \u001b[0mparameters\u001b[0m \u001b[0;32min\u001b[0m \u001b[0mparameter_iterable\u001b[0m\u001b[0;34m\u001b[0m\u001b[0m\n\u001b[0m\u001b[1;32m    554\u001b[0m                 for train, test in cv)\n\u001b[1;32m    555\u001b[0m \u001b[0;34m\u001b[0m\u001b[0m\n",
      "\u001b[0;32m/Users/smoot/anaconda/lib/python2.7/site-packages/sklearn/externals/joblib/parallel.pyc\u001b[0m in \u001b[0;36m__call__\u001b[0;34m(self, iterable)\u001b[0m\n\u001b[1;32m    808\u001b[0m                 \u001b[0;31m# consumption.\u001b[0m\u001b[0;34m\u001b[0m\u001b[0;34m\u001b[0m\u001b[0m\n\u001b[1;32m    809\u001b[0m                 \u001b[0mself\u001b[0m\u001b[0;34m.\u001b[0m\u001b[0m_iterating\u001b[0m \u001b[0;34m=\u001b[0m \u001b[0mFalse\u001b[0m\u001b[0;34m\u001b[0m\u001b[0m\n\u001b[0;32m--> 810\u001b[0;31m             \u001b[0mself\u001b[0m\u001b[0;34m.\u001b[0m\u001b[0mretrieve\u001b[0m\u001b[0;34m(\u001b[0m\u001b[0;34m)\u001b[0m\u001b[0;34m\u001b[0m\u001b[0m\n\u001b[0m\u001b[1;32m    811\u001b[0m             \u001b[0;31m# Make sure that we get a last message telling us we are done\u001b[0m\u001b[0;34m\u001b[0m\u001b[0;34m\u001b[0m\u001b[0m\n\u001b[1;32m    812\u001b[0m             \u001b[0melapsed_time\u001b[0m \u001b[0;34m=\u001b[0m \u001b[0mtime\u001b[0m\u001b[0;34m.\u001b[0m\u001b[0mtime\u001b[0m\u001b[0;34m(\u001b[0m\u001b[0;34m)\u001b[0m \u001b[0;34m-\u001b[0m \u001b[0mself\u001b[0m\u001b[0;34m.\u001b[0m\u001b[0m_start_time\u001b[0m\u001b[0;34m\u001b[0m\u001b[0m\n",
      "\u001b[0;32m/Users/smoot/anaconda/lib/python2.7/site-packages/sklearn/externals/joblib/parallel.pyc\u001b[0m in \u001b[0;36mretrieve\u001b[0;34m(self)\u001b[0m\n\u001b[1;32m    755\u001b[0m                     \u001b[0;31m# a working pool as they expect.\u001b[0m\u001b[0;34m\u001b[0m\u001b[0;34m\u001b[0m\u001b[0m\n\u001b[1;32m    756\u001b[0m                     \u001b[0mself\u001b[0m\u001b[0;34m.\u001b[0m\u001b[0m_initialize_pool\u001b[0m\u001b[0;34m(\u001b[0m\u001b[0;34m)\u001b[0m\u001b[0;34m\u001b[0m\u001b[0m\n\u001b[0;32m--> 757\u001b[0;31m                 \u001b[0;32mraise\u001b[0m \u001b[0mexception\u001b[0m\u001b[0;34m\u001b[0m\u001b[0m\n\u001b[0m\u001b[1;32m    758\u001b[0m \u001b[0;34m\u001b[0m\u001b[0m\n\u001b[1;32m    759\u001b[0m     \u001b[0;32mdef\u001b[0m \u001b[0m__call__\u001b[0m\u001b[0;34m(\u001b[0m\u001b[0mself\u001b[0m\u001b[0;34m,\u001b[0m \u001b[0miterable\u001b[0m\u001b[0;34m)\u001b[0m\u001b[0;34m:\u001b[0m\u001b[0;34m\u001b[0m\u001b[0m\n",
      "\u001b[0;31mJoblibIndexError\u001b[0m: JoblibIndexError\n___________________________________________________________________________\nMultiprocessing exception:\n...........................................................................\n/Users/smoot/anaconda/lib/python2.7/runpy.py in _run_module_as_main(mod_name='ipykernel.__main__', alter_argv=1)\n    157     pkg_name = mod_name.rpartition('.')[0]\n    158     main_globals = sys.modules[\"__main__\"].__dict__\n    159     if alter_argv:\n    160         sys.argv[0] = fname\n    161     return _run_code(code, main_globals, None,\n--> 162                      \"__main__\", fname, loader, pkg_name)\n        fname = '/Users/smoot/anaconda/lib/python2.7/site-packages/ipykernel/__main__.py'\n        loader = <pkgutil.ImpLoader instance>\n        pkg_name = 'ipykernel'\n    163 \n    164 def run_module(mod_name, init_globals=None,\n    165                run_name=None, alter_sys=False):\n    166     \"\"\"Execute a module's code without importing it\n\n...........................................................................\n/Users/smoot/anaconda/lib/python2.7/runpy.py in _run_code(code=<code object <module> at 0x1018e0930, file \"/Use...2.7/site-packages/ipykernel/__main__.py\", line 1>, run_globals={'__builtins__': <module '__builtin__' (built-in)>, '__doc__': None, '__file__': '/Users/smoot/anaconda/lib/python2.7/site-packages/ipykernel/__main__.py', '__loader__': <pkgutil.ImpLoader instance>, '__name__': '__main__', '__package__': 'ipykernel', 'app': <module 'ipykernel.kernelapp' from '/Users/smoot...python2.7/site-packages/ipykernel/kernelapp.pyc'>}, init_globals=None, mod_name='__main__', mod_fname='/Users/smoot/anaconda/lib/python2.7/site-packages/ipykernel/__main__.py', mod_loader=<pkgutil.ImpLoader instance>, pkg_name='ipykernel')\n     67         run_globals.update(init_globals)\n     68     run_globals.update(__name__ = mod_name,\n     69                        __file__ = mod_fname,\n     70                        __loader__ = mod_loader,\n     71                        __package__ = pkg_name)\n---> 72     exec code in run_globals\n        code = <code object <module> at 0x1018e0930, file \"/Use...2.7/site-packages/ipykernel/__main__.py\", line 1>\n        run_globals = {'__builtins__': <module '__builtin__' (built-in)>, '__doc__': None, '__file__': '/Users/smoot/anaconda/lib/python2.7/site-packages/ipykernel/__main__.py', '__loader__': <pkgutil.ImpLoader instance>, '__name__': '__main__', '__package__': 'ipykernel', 'app': <module 'ipykernel.kernelapp' from '/Users/smoot...python2.7/site-packages/ipykernel/kernelapp.pyc'>}\n     73     return run_globals\n     74 \n     75 def _run_module_code(code, init_globals=None,\n     76                     mod_name=None, mod_fname=None,\n\n...........................................................................\n/Users/smoot/anaconda/lib/python2.7/site-packages/ipykernel/__main__.py in <module>()\n      1 \n      2 \n----> 3 \n      4 if __name__ == '__main__':\n      5     from ipykernel import kernelapp as app\n      6     app.launch_new_instance()\n      7 \n      8 \n      9 \n     10 \n\n...........................................................................\n/Users/smoot/anaconda/lib/python2.7/site-packages/traitlets/config/application.py in launch_instance(cls=<class 'ipykernel.kernelapp.IPKernelApp'>, argv=None, **kwargs={})\n    591         \n    592         If a global instance already exists, this reinitializes and starts it\n    593         \"\"\"\n    594         app = cls.instance(**kwargs)\n    595         app.initialize(argv)\n--> 596         app.start()\n        app.start = <bound method IPKernelApp.start of <ipykernel.kernelapp.IPKernelApp object>>\n    597 \n    598 #-----------------------------------------------------------------------------\n    599 # utility functions, for convenience\n    600 #-----------------------------------------------------------------------------\n\n...........................................................................\n/Users/smoot/anaconda/lib/python2.7/site-packages/ipykernel/kernelapp.py in start(self=<ipykernel.kernelapp.IPKernelApp object>)\n    437         \n    438         if self.poller is not None:\n    439             self.poller.start()\n    440         self.kernel.start()\n    441         try:\n--> 442             ioloop.IOLoop.instance().start()\n    443         except KeyboardInterrupt:\n    444             pass\n    445 \n    446 launch_new_instance = IPKernelApp.launch_instance\n\n...........................................................................\n/Users/smoot/anaconda/lib/python2.7/site-packages/zmq/eventloop/ioloop.py in start(self=<zmq.eventloop.ioloop.ZMQIOLoop object>)\n    157             PollIOLoop.configure(ZMQIOLoop)\n    158         return PollIOLoop.current(*args, **kwargs)\n    159     \n    160     def start(self):\n    161         try:\n--> 162             super(ZMQIOLoop, self).start()\n        self.start = <bound method ZMQIOLoop.start of <zmq.eventloop.ioloop.ZMQIOLoop object>>\n    163         except ZMQError as e:\n    164             if e.errno == ETERM:\n    165                 # quietly return on ETERM\n    166                 pass\n\n...........................................................................\n/Users/smoot/anaconda/lib/python2.7/site-packages/tornado/ioloop.py in start(self=<zmq.eventloop.ioloop.ZMQIOLoop object>)\n    878                 self._events.update(event_pairs)\n    879                 while self._events:\n    880                     fd, events = self._events.popitem()\n    881                     try:\n    882                         fd_obj, handler_func = self._handlers[fd]\n--> 883                         handler_func(fd_obj, events)\n        handler_func = <function null_wrapper>\n        fd_obj = <zmq.sugar.socket.Socket object>\n        events = 1\n    884                     except (OSError, IOError) as e:\n    885                         if errno_from_exception(e) == errno.EPIPE:\n    886                             # Happens when the client closes the connection\n    887                             pass\n\n...........................................................................\n/Users/smoot/anaconda/lib/python2.7/site-packages/tornado/stack_context.py in null_wrapper(*args=(<zmq.sugar.socket.Socket object>, 1), **kwargs={})\n    270         # Fast path when there are no active contexts.\n    271         def null_wrapper(*args, **kwargs):\n    272             try:\n    273                 current_state = _state.contexts\n    274                 _state.contexts = cap_contexts[0]\n--> 275                 return fn(*args, **kwargs)\n        args = (<zmq.sugar.socket.Socket object>, 1)\n        kwargs = {}\n    276             finally:\n    277                 _state.contexts = current_state\n    278         null_wrapper._wrapped = True\n    279         return null_wrapper\n\n...........................................................................\n/Users/smoot/anaconda/lib/python2.7/site-packages/zmq/eventloop/zmqstream.py in _handle_events(self=<zmq.eventloop.zmqstream.ZMQStream object>, fd=<zmq.sugar.socket.Socket object>, events=1)\n    435             # dispatch events:\n    436             if events & IOLoop.ERROR:\n    437                 gen_log.error(\"got POLLERR event on ZMQStream, which doesn't make sense\")\n    438                 return\n    439             if events & IOLoop.READ:\n--> 440                 self._handle_recv()\n        self._handle_recv = <bound method ZMQStream._handle_recv of <zmq.eventloop.zmqstream.ZMQStream object>>\n    441                 if not self.socket:\n    442                     return\n    443             if events & IOLoop.WRITE:\n    444                 self._handle_send()\n\n...........................................................................\n/Users/smoot/anaconda/lib/python2.7/site-packages/zmq/eventloop/zmqstream.py in _handle_recv(self=<zmq.eventloop.zmqstream.ZMQStream object>)\n    467                 gen_log.error(\"RECV Error: %s\"%zmq.strerror(e.errno))\n    468         else:\n    469             if self._recv_callback:\n    470                 callback = self._recv_callback\n    471                 # self._recv_callback = None\n--> 472                 self._run_callback(callback, msg)\n        self._run_callback = <bound method ZMQStream._run_callback of <zmq.eventloop.zmqstream.ZMQStream object>>\n        callback = <function null_wrapper>\n        msg = [<zmq.sugar.frame.Frame object>, <zmq.sugar.frame.Frame object>, <zmq.sugar.frame.Frame object>, <zmq.sugar.frame.Frame object>, <zmq.sugar.frame.Frame object>, <zmq.sugar.frame.Frame object>, <zmq.sugar.frame.Frame object>]\n    473                 \n    474         # self.update_state()\n    475         \n    476 \n\n...........................................................................\n/Users/smoot/anaconda/lib/python2.7/site-packages/zmq/eventloop/zmqstream.py in _run_callback(self=<zmq.eventloop.zmqstream.ZMQStream object>, callback=<function null_wrapper>, *args=([<zmq.sugar.frame.Frame object>, <zmq.sugar.frame.Frame object>, <zmq.sugar.frame.Frame object>, <zmq.sugar.frame.Frame object>, <zmq.sugar.frame.Frame object>, <zmq.sugar.frame.Frame object>, <zmq.sugar.frame.Frame object>],), **kwargs={})\n    409         close our socket.\"\"\"\n    410         try:\n    411             # Use a NullContext to ensure that all StackContexts are run\n    412             # inside our blanket exception handler rather than outside.\n    413             with stack_context.NullContext():\n--> 414                 callback(*args, **kwargs)\n        callback = <function null_wrapper>\n        args = ([<zmq.sugar.frame.Frame object>, <zmq.sugar.frame.Frame object>, <zmq.sugar.frame.Frame object>, <zmq.sugar.frame.Frame object>, <zmq.sugar.frame.Frame object>, <zmq.sugar.frame.Frame object>, <zmq.sugar.frame.Frame object>],)\n        kwargs = {}\n    415         except:\n    416             gen_log.error(\"Uncaught exception, closing connection.\",\n    417                           exc_info=True)\n    418             # Close the socket on an uncaught exception from a user callback\n\n...........................................................................\n/Users/smoot/anaconda/lib/python2.7/site-packages/tornado/stack_context.py in null_wrapper(*args=([<zmq.sugar.frame.Frame object>, <zmq.sugar.frame.Frame object>, <zmq.sugar.frame.Frame object>, <zmq.sugar.frame.Frame object>, <zmq.sugar.frame.Frame object>, <zmq.sugar.frame.Frame object>, <zmq.sugar.frame.Frame object>],), **kwargs={})\n    270         # Fast path when there are no active contexts.\n    271         def null_wrapper(*args, **kwargs):\n    272             try:\n    273                 current_state = _state.contexts\n    274                 _state.contexts = cap_contexts[0]\n--> 275                 return fn(*args, **kwargs)\n        args = ([<zmq.sugar.frame.Frame object>, <zmq.sugar.frame.Frame object>, <zmq.sugar.frame.Frame object>, <zmq.sugar.frame.Frame object>, <zmq.sugar.frame.Frame object>, <zmq.sugar.frame.Frame object>, <zmq.sugar.frame.Frame object>],)\n        kwargs = {}\n    276             finally:\n    277                 _state.contexts = current_state\n    278         null_wrapper._wrapped = True\n    279         return null_wrapper\n\n...........................................................................\n/Users/smoot/anaconda/lib/python2.7/site-packages/ipykernel/kernelbase.py in dispatcher(msg=[<zmq.sugar.frame.Frame object>, <zmq.sugar.frame.Frame object>, <zmq.sugar.frame.Frame object>, <zmq.sugar.frame.Frame object>, <zmq.sugar.frame.Frame object>, <zmq.sugar.frame.Frame object>, <zmq.sugar.frame.Frame object>])\n    271         if self.control_stream:\n    272             self.control_stream.on_recv(self.dispatch_control, copy=False)\n    273 \n    274         def make_dispatcher(stream):\n    275             def dispatcher(msg):\n--> 276                 return self.dispatch_shell(stream, msg)\n        msg = [<zmq.sugar.frame.Frame object>, <zmq.sugar.frame.Frame object>, <zmq.sugar.frame.Frame object>, <zmq.sugar.frame.Frame object>, <zmq.sugar.frame.Frame object>, <zmq.sugar.frame.Frame object>, <zmq.sugar.frame.Frame object>]\n    277             return dispatcher\n    278 \n    279         for s in self.shell_streams:\n    280             s.on_recv(make_dispatcher(s), copy=False)\n\n...........................................................................\n/Users/smoot/anaconda/lib/python2.7/site-packages/ipykernel/kernelbase.py in dispatch_shell(self=<ipykernel.ipkernel.IPythonKernel object>, stream=<zmq.eventloop.zmqstream.ZMQStream object>, msg={'buffers': [], 'content': {u'allow_stdin': True, u'code': u\"bagging_params = {\\n    'n_estimators': [10, 2...fit(X_train, y_train)\\ncsg.score(X_test, y_test)\", u'silent': False, u'stop_on_error': True, u'store_history': True, u'user_expressions': {}}, 'header': {'date': '2016-07-13T17:06:49.590980', u'msg_id': u'64D94238A6394EC89AAB267327E810CD', u'msg_type': u'execute_request', u'session': u'DFDDC2FCAF7A4FF3870CF115EBD76854', u'username': u'username', u'version': u'5.0'}, 'metadata': {}, 'msg_id': u'64D94238A6394EC89AAB267327E810CD', 'msg_type': u'execute_request', 'parent_header': {}})\n    223             self.log.error(\"UNKNOWN MESSAGE TYPE: %r\", msg_type)\n    224         else:\n    225             self.log.debug(\"%s: %s\", msg_type, msg)\n    226             self.pre_handler_hook()\n    227             try:\n--> 228                 handler(stream, idents, msg)\n        handler = <bound method IPythonKernel.execute_request of <ipykernel.ipkernel.IPythonKernel object>>\n        stream = <zmq.eventloop.zmqstream.ZMQStream object>\n        idents = ['DFDDC2FCAF7A4FF3870CF115EBD76854']\n        msg = {'buffers': [], 'content': {u'allow_stdin': True, u'code': u\"bagging_params = {\\n    'n_estimators': [10, 2...fit(X_train, y_train)\\ncsg.score(X_test, y_test)\", u'silent': False, u'stop_on_error': True, u'store_history': True, u'user_expressions': {}}, 'header': {'date': '2016-07-13T17:06:49.590980', u'msg_id': u'64D94238A6394EC89AAB267327E810CD', u'msg_type': u'execute_request', u'session': u'DFDDC2FCAF7A4FF3870CF115EBD76854', u'username': u'username', u'version': u'5.0'}, 'metadata': {}, 'msg_id': u'64D94238A6394EC89AAB267327E810CD', 'msg_type': u'execute_request', 'parent_header': {}}\n    229             except Exception:\n    230                 self.log.error(\"Exception in message handler:\", exc_info=True)\n    231             finally:\n    232                 self.post_handler_hook()\n\n...........................................................................\n/Users/smoot/anaconda/lib/python2.7/site-packages/ipykernel/kernelbase.py in execute_request(self=<ipykernel.ipkernel.IPythonKernel object>, stream=<zmq.eventloop.zmqstream.ZMQStream object>, ident=['DFDDC2FCAF7A4FF3870CF115EBD76854'], parent={'buffers': [], 'content': {u'allow_stdin': True, u'code': u\"bagging_params = {\\n    'n_estimators': [10, 2...fit(X_train, y_train)\\ncsg.score(X_test, y_test)\", u'silent': False, u'stop_on_error': True, u'store_history': True, u'user_expressions': {}}, 'header': {'date': '2016-07-13T17:06:49.590980', u'msg_id': u'64D94238A6394EC89AAB267327E810CD', u'msg_type': u'execute_request', u'session': u'DFDDC2FCAF7A4FF3870CF115EBD76854', u'username': u'username', u'version': u'5.0'}, 'metadata': {}, 'msg_id': u'64D94238A6394EC89AAB267327E810CD', 'msg_type': u'execute_request', 'parent_header': {}})\n    386         if not silent:\n    387             self.execution_count += 1\n    388             self._publish_execute_input(code, parent, self.execution_count)\n    389 \n    390         reply_content = self.do_execute(code, silent, store_history,\n--> 391                                         user_expressions, allow_stdin)\n        user_expressions = {}\n        allow_stdin = True\n    392 \n    393         # Flush output before sending the reply.\n    394         sys.stdout.flush()\n    395         sys.stderr.flush()\n\n...........................................................................\n/Users/smoot/anaconda/lib/python2.7/site-packages/ipykernel/ipkernel.py in do_execute(self=<ipykernel.ipkernel.IPythonKernel object>, code=u\"bagging_params = {\\n    'n_estimators': [10, 2...fit(X_train, y_train)\\ncsg.score(X_test, y_test)\", silent=False, store_history=True, user_expressions={}, allow_stdin=True)\n    194 \n    195         reply_content = {}\n    196         # FIXME: the shell calls the exception handler itself.\n    197         shell._reply_content = None\n    198         try:\n--> 199             shell.run_cell(code, store_history=store_history, silent=silent)\n        shell.run_cell = <bound method ZMQInteractiveShell.run_cell of <ipykernel.zmqshell.ZMQInteractiveShell object>>\n        code = u\"bagging_params = {\\n    'n_estimators': [10, 2...fit(X_train, y_train)\\ncsg.score(X_test, y_test)\"\n        store_history = True\n        silent = False\n    200         except:\n    201             status = u'error'\n    202             # FIXME: this code right now isn't being used yet by default,\n    203             # because the run_cell() call above directly fires off exception\n\n...........................................................................\n/Users/smoot/anaconda/lib/python2.7/site-packages/IPython/core/interactiveshell.py in run_cell(self=<ipykernel.zmqshell.ZMQInteractiveShell object>, raw_cell=u\"bagging_params = {\\n    'n_estimators': [10, 2...fit(X_train, y_train)\\ncsg.score(X_test, y_test)\", store_history=True, silent=False, shell_futures=True)\n   2718                 self.displayhook.exec_result = result\n   2719 \n   2720                 # Execute the user code\n   2721                 interactivity = \"none\" if silent else self.ast_node_interactivity\n   2722                 self.run_ast_nodes(code_ast.body, cell_name,\n-> 2723                    interactivity=interactivity, compiler=compiler, result=result)\n        interactivity = 'last_expr'\n        compiler = <IPython.core.compilerop.CachingCompiler instance>\n   2724 \n   2725                 # Reset this so later displayed values do not modify the\n   2726                 # ExecutionResult\n   2727                 self.displayhook.exec_result = None\n\n...........................................................................\n/Users/smoot/anaconda/lib/python2.7/site-packages/IPython/core/interactiveshell.py in run_ast_nodes(self=<ipykernel.zmqshell.ZMQInteractiveShell object>, nodelist=[<_ast.Assign object>, <_ast.Assign object>, <_ast.Expr object>, <_ast.Expr object>], cell_name='<ipython-input-109-eed6b82662c7>', interactivity='last', compiler=<IPython.core.compilerop.CachingCompiler instance>, result=<IPython.core.interactiveshell.ExecutionResult object>)\n   2820 \n   2821         try:\n   2822             for i, node in enumerate(to_run_exec):\n   2823                 mod = ast.Module([node])\n   2824                 code = compiler(mod, cell_name, \"exec\")\n-> 2825                 if self.run_code(code, result):\n        self.run_code = <bound method ZMQInteractiveShell.run_code of <ipykernel.zmqshell.ZMQInteractiveShell object>>\n        code = <code object <module> at 0x11bf4f730, file \"<ipython-input-109-eed6b82662c7>\", line 8>\n        result = <IPython.core.interactiveshell.ExecutionResult object>\n   2826                     return True\n   2827 \n   2828             for i, node in enumerate(to_run_interactive):\n   2829                 mod = ast.Interactive([node])\n\n...........................................................................\n/Users/smoot/anaconda/lib/python2.7/site-packages/IPython/core/interactiveshell.py in run_code(self=<ipykernel.zmqshell.ZMQInteractiveShell object>, code_obj=<code object <module> at 0x11bf4f730, file \"<ipython-input-109-eed6b82662c7>\", line 8>, result=<IPython.core.interactiveshell.ExecutionResult object>)\n   2880         outflag = 1  # happens in more places, so it's easier as default\n   2881         try:\n   2882             try:\n   2883                 self.hooks.pre_run_code_hook()\n   2884                 #rprint('Running code', repr(code_obj)) # dbg\n-> 2885                 exec(code_obj, self.user_global_ns, self.user_ns)\n        code_obj = <code object <module> at 0x11bf4f730, file \"<ipython-input-109-eed6b82662c7>\", line 8>\n        self.user_global_ns = {'BaggingClassifier': <class 'sklearn.ensemble.bagging.BaggingClassifier'>, 'BaggingRegressor': <class 'sklearn.ensemble.bagging.BaggingRegressor'>, 'BaseEstimator': <class 'sklearn.base.BaseEstimator'>, 'BeautifulSoup': <class 'bs4.BeautifulSoup'>, 'By': <class 'selenium.webdriver.common.by.By'>, 'DecisionTreeClassifier': <class 'sklearn.tree.tree.DecisionTreeClassifier'>, 'DecisionTreeRegressor': <class 'sklearn.tree.tree.DecisionTreeRegressor'>, 'ExtraTreesClassifier': <class 'sklearn.ensemble.forest.ExtraTreesClassifier'>, 'GradientBoostingRegressor': <class 'sklearn.ensemble.gradient_boosting.GradientBoostingRegressor'>, 'GridSearchCV': <class 'sklearn.grid_search.GridSearchCV'>, ...}\n        self.user_ns = {'BaggingClassifier': <class 'sklearn.ensemble.bagging.BaggingClassifier'>, 'BaggingRegressor': <class 'sklearn.ensemble.bagging.BaggingRegressor'>, 'BaseEstimator': <class 'sklearn.base.BaseEstimator'>, 'BeautifulSoup': <class 'bs4.BeautifulSoup'>, 'By': <class 'selenium.webdriver.common.by.By'>, 'DecisionTreeClassifier': <class 'sklearn.tree.tree.DecisionTreeClassifier'>, 'DecisionTreeRegressor': <class 'sklearn.tree.tree.DecisionTreeRegressor'>, 'ExtraTreesClassifier': <class 'sklearn.ensemble.forest.ExtraTreesClassifier'>, 'GradientBoostingRegressor': <class 'sklearn.ensemble.gradient_boosting.GradientBoostingRegressor'>, 'GridSearchCV': <class 'sklearn.grid_search.GridSearchCV'>, ...}\n   2886             finally:\n   2887                 # Reset our crash handler in place\n   2888                 sys.excepthook = old_excepthook\n   2889         except SystemExit as e:\n\n...........................................................................\n/Users/smoot/Desktop/ga/DSI_SM_01/curriculum/week-06/3.4-lab/code/starter-code/<ipython-input-109-eed6b82662c7> in <module>()\n      3     'max_samples' : [0.7, 1.0],\n      4     'max_features': [0.7, 1.0],\n      5     'bootstrap_features': [True, False]\n      6 }\n      7 csg = GridSearchCV(knn_bag, bagging_params, n_jobs = -1, cv=KFold(len(y), shuffle=True))\n----> 8 csg.fit(X_train, y_train)\n      9 csg.score(X_test, y_test)\n     10 \n     11 \n     12 \n\n...........................................................................\n/Users/smoot/anaconda/lib/python2.7/site-packages/sklearn/grid_search.py in fit(self=GridSearchCV(cv=sklearn.cross_validation.KFold(n...='2*n_jobs', refit=True, scoring=None, verbose=0), X=      buying_high  buying_low  buying_med  buyin...      0.0         0.0  \n\n[1158 rows x 21 columns], y=array([2, 2, 2, ..., 2, 2, 2]))\n    799         y : array-like, shape = [n_samples] or [n_samples, n_output], optional\n    800             Target relative to X for classification or regression;\n    801             None for unsupervised learning.\n    802 \n    803         \"\"\"\n--> 804         return self._fit(X, y, ParameterGrid(self.param_grid))\n        self._fit = <bound method GridSearchCV._fit of GridSearchCV(...'2*n_jobs', refit=True, scoring=None, verbose=0)>\n        X =       buying_high  buying_low  buying_med  buyin...      0.0         0.0  \n\n[1158 rows x 21 columns]\n        y = array([2, 2, 2, ..., 2, 2, 2])\n        self.param_grid = {'bootstrap_features': [True, False], 'max_features': [0.7, 1.0], 'max_samples': [0.7, 1.0], 'n_estimators': [10, 20]}\n    805 \n    806 \n    807 class RandomizedSearchCV(BaseSearchCV):\n    808     \"\"\"Randomized search on hyper parameters.\n\n...........................................................................\n/Users/smoot/anaconda/lib/python2.7/site-packages/sklearn/grid_search.py in _fit(self=GridSearchCV(cv=sklearn.cross_validation.KFold(n...='2*n_jobs', refit=True, scoring=None, verbose=0), X=      buying_high  buying_low  buying_med  buyin...      0.0         0.0  \n\n[1158 rows x 21 columns], y=array([2, 2, 2, ..., 2, 2, 2]), parameter_iterable=<sklearn.grid_search.ParameterGrid object>)\n    548         )(\n    549             delayed(_fit_and_score)(clone(base_estimator), X, y, self.scorer_,\n    550                                     train, test, self.verbose, parameters,\n    551                                     self.fit_params, return_parameters=True,\n    552                                     error_score=self.error_score)\n--> 553                 for parameters in parameter_iterable\n        parameters = undefined\n        parameter_iterable = <sklearn.grid_search.ParameterGrid object>\n    554                 for train, test in cv)\n    555 \n    556         # Out is a list of triplet: score, estimator, n_test_samples\n    557         n_fits = len(out)\n\n...........................................................................\n/Users/smoot/anaconda/lib/python2.7/site-packages/sklearn/externals/joblib/parallel.py in __call__(self=Parallel(n_jobs=-1), iterable=<generator object <genexpr>>)\n    805             if pre_dispatch == \"all\" or n_jobs == 1:\n    806                 # The iterable was consumed all at once by the above for loop.\n    807                 # No need to wait for async callbacks to trigger to\n    808                 # consumption.\n    809                 self._iterating = False\n--> 810             self.retrieve()\n        self.retrieve = <bound method Parallel.retrieve of Parallel(n_jobs=-1)>\n    811             # Make sure that we get a last message telling us we are done\n    812             elapsed_time = time.time() - self._start_time\n    813             self._print('Done %3i out of %3i | elapsed: %s finished',\n    814                         (len(self._output), len(self._output),\n\n---------------------------------------------------------------------------\nSub-process traceback:\n---------------------------------------------------------------------------\nIndexError                                         Wed Jul 13 17:06:49 2016\nPID: 95318                  Python 2.7.11: /Users/smoot/anaconda/bin/python\n...........................................................................\n/Users/smoot/anaconda/lib/python2.7/site-packages/sklearn/externals/joblib/parallel.py in __call__(self=<sklearn.externals.joblib.parallel.BatchedCalls object>)\n     67     def __init__(self, iterator_slice):\n     68         self.items = list(iterator_slice)\n     69         self._size = len(self.items)\n     70 \n     71     def __call__(self):\n---> 72         return [func(*args, **kwargs) for func, args, kwargs in self.items]\n        func = <function _fit_and_score>\n        args = (BaggingClassifier(base_estimator=KNeighborsClass...  random_state=None, verbose=0, warm_start=False),       buying_high  buying_low  buying_med  buyin...      0.0         0.0  \n\n[1158 rows x 21 columns], array([2, 2, 2, ..., 2, 2, 2]), <function _passthrough_scorer>, array([   0,    4,    5, ..., 1722, 1723, 1724]), array([   1,    2,    3,    7,    8,   10,   12,...1709, 1710, 1717,\n       1720, 1725, 1726, 1727]), 0, {'bootstrap_features': True, 'max_features': 0.7, 'max_samples': 0.7, 'n_estimators': 10}, {})\n        kwargs = {'error_score': 'raise', 'return_parameters': True}\n        self.items = [(<function _fit_and_score>, (BaggingClassifier(base_estimator=KNeighborsClass...  random_state=None, verbose=0, warm_start=False),       buying_high  buying_low  buying_med  buyin...      0.0         0.0  \n\n[1158 rows x 21 columns], array([2, 2, 2, ..., 2, 2, 2]), <function _passthrough_scorer>, array([   0,    4,    5, ..., 1722, 1723, 1724]), array([   1,    2,    3,    7,    8,   10,   12,...1709, 1710, 1717,\n       1720, 1725, 1726, 1727]), 0, {'bootstrap_features': True, 'max_features': 0.7, 'max_samples': 0.7, 'n_estimators': 10}, {}), {'error_score': 'raise', 'return_parameters': True})]\n     73 \n     74     def __len__(self):\n     75         return self._size\n     76 \n\n...........................................................................\n/Users/smoot/anaconda/lib/python2.7/site-packages/sklearn/cross_validation.py in _fit_and_score(estimator=BaggingClassifier(base_estimator=KNeighborsClass...  random_state=None, verbose=0, warm_start=False), X=      buying_high  buying_low  buying_med  buyin...      0.0         0.0  \n\n[1158 rows x 21 columns], y=array([2, 2, 2, ..., 2, 2, 2]), scorer=<function _passthrough_scorer>, train=array([   0,    4,    5, ..., 1722, 1723, 1724]), test=array([   1,    2,    3,    7,    8,   10,   12,...1709, 1710, 1717,\n       1720, 1725, 1726, 1727]), verbose=0, parameters={'bootstrap_features': True, 'max_features': 0.7, 'max_samples': 0.7, 'n_estimators': 10}, fit_params={}, return_train_score=False, return_parameters=True, error_score='raise')\n   1519     if parameters is not None:\n   1520         estimator.set_params(**parameters)\n   1521 \n   1522     start_time = time.time()\n   1523 \n-> 1524     X_train, y_train = _safe_split(estimator, X, y, train)\n        X_train = undefined\n        y_train = undefined\n        estimator = BaggingClassifier(base_estimator=KNeighborsClass...  random_state=None, verbose=0, warm_start=False)\n        X =       buying_high  buying_low  buying_med  buyin...      0.0         0.0  \n\n[1158 rows x 21 columns]\n        y = array([2, 2, 2, ..., 2, 2, 2])\n        train = array([   0,    4,    5, ..., 1722, 1723, 1724])\n   1525     X_test, y_test = _safe_split(estimator, X, y, test, train)\n   1526 \n   1527     try:\n   1528         if y_train is None:\n\n...........................................................................\n/Users/smoot/anaconda/lib/python2.7/site-packages/sklearn/cross_validation.py in _safe_split(estimator=BaggingClassifier(base_estimator=KNeighborsClass...  random_state=None, verbose=0, warm_start=False), X=      buying_high  buying_low  buying_med  buyin...      0.0         0.0  \n\n[1158 rows x 21 columns], y=array([2, 2, 2, ..., 2, 2, 2]), indices=array([   0,    4,    5, ..., 1722, 1723, 1724]), train_indices=None)\n   1586             if train_indices is None:\n   1587                 X_subset = X[np.ix_(indices, indices)]\n   1588             else:\n   1589                 X_subset = X[np.ix_(indices, train_indices)]\n   1590         else:\n-> 1591             X_subset = safe_indexing(X, indices)\n        X_subset = undefined\n        X =       buying_high  buying_low  buying_med  buyin...      0.0         0.0  \n\n[1158 rows x 21 columns]\n        indices = array([   0,    4,    5, ..., 1722, 1723, 1724])\n   1592 \n   1593     if y is not None:\n   1594         y_subset = safe_indexing(y, indices)\n   1595     else:\n\n...........................................................................\n/Users/smoot/anaconda/lib/python2.7/site-packages/sklearn/utils/__init__.py in safe_indexing(X=      buying_high  buying_low  buying_med  buyin...      0.0         0.0  \n\n[1158 rows x 21 columns], indices=array([   0,    4,    5, ..., 1722, 1723, 1724]))\n    147         Indices according to which X will be subsampled.\n    148     \"\"\"\n    149     if hasattr(X, \"iloc\"):\n    150         # Pandas Dataframes and Series\n    151         try:\n--> 152             return X.iloc[indices]\n        X.iloc = <pandas.core.indexing._iLocIndexer object>\n        indices = array([   0,    4,    5, ..., 1722, 1723, 1724])\n    153         except ValueError:\n    154             # Cython typed memoryviews internally used in pandas do not support\n    155             # readonly buffers.\n    156             warnings.warn(\"Copying input dataframe for slicing.\",\n\n...........................................................................\n/Users/smoot/anaconda/lib/python2.7/site-packages/pandas/core/indexing.py in __getitem__(self=<pandas.core.indexing._iLocIndexer object>, key=array([   0,    4,    5, ..., 1722, 1723, 1724]))\n   1281 \n   1282     def __getitem__(self, key):\n   1283         if type(key) is tuple:\n   1284             return self._getitem_tuple(key)\n   1285         else:\n-> 1286             return self._getitem_axis(key, axis=0)\n        self._getitem_axis = <bound method _iLocIndexer._getitem_axis of <pandas.core.indexing._iLocIndexer object>>\n        key = array([   0,    4,    5, ..., 1722, 1723, 1724])\n   1287 \n   1288     def _getitem_axis(self, key, axis=0):\n   1289         raise NotImplementedError()\n   1290 \n\n...........................................................................\n/Users/smoot/anaconda/lib/python2.7/site-packages/pandas/core/indexing.py in _getitem_axis(self=<pandas.core.indexing._iLocIndexer object>, key=array([   0,    4,    5, ..., 1722, 1723, 1724]), axis=0)\n   1555         else:\n   1556 \n   1557             if is_list_like_indexer(key):\n   1558 \n   1559                 # validate list bounds\n-> 1560                 self._is_valid_list_like(key, axis)\n        self._is_valid_list_like = <bound method _iLocIndexer._is_valid_list_like of <pandas.core.indexing._iLocIndexer object>>\n        key = array([   0,    4,    5, ..., 1722, 1723, 1724])\n        axis = 0\n   1561 \n   1562                 # force an actual list\n   1563                 key = list(key)\n   1564 \n\n...........................................................................\n/Users/smoot/anaconda/lib/python2.7/site-packages/pandas/core/indexing.py in _is_valid_list_like(self=<pandas.core.indexing._iLocIndexer object>, key=array([   0,    4,    5, ..., 1722, 1723, 1724]), axis=0)\n   1494         # coerce the key to not exceed the maximum size of the index\n   1495         arr = np.array(key)\n   1496         ax = self.obj._get_axis(axis)\n   1497         l = len(ax)\n   1498         if len(arr) and (arr.max() >= l or arr.min() < -l):\n-> 1499             raise IndexError(\"positional indexers are out-of-bounds\")\n   1500 \n   1501         return True\n   1502 \n   1503     def _getitem_tuple(self, tup):\n\nIndexError: positional indexers are out-of-bounds\n___________________________________________________________________________"
     ]
    }
   ],
   "source": [
    "bagging_params = {\n",
    "    'n_estimators': [10, 20],\n",
    "    'max_samples' : [0.7, 1.0],\n",
    "    'max_features': [0.7, 1.0],\n",
    "    'bootstrap_features': [True, False]\n",
    "}\n",
    "csg = GridSearchCV(knn_bag, bagging_params, n_jobs = -1, cv=KFold(len(y), shuffle=True))\n",
    "csg.fit(X_train, y_train)\n",
    "csg.score(X_test, y_test)"
   ]
  },
  {
   "cell_type": "code",
   "execution_count": 112,
   "metadata": {
    "collapsed": false
   },
   "outputs": [],
   "source": [
    "import xgboost as xgb\n"
   ]
  },
  {
   "cell_type": "code",
   "execution_count": 110,
   "metadata": {
    "collapsed": false
   },
   "outputs": [
    {
     "name": "stdout",
     "output_type": "stream",
     "text": [
      "             precision    recall  f1-score   support\n",
      "\n",
      "          0       0.84      0.81      0.83       127\n",
      "          1       0.85      0.48      0.61        23\n",
      "          2       0.94      0.99      0.97       399\n",
      "          3       0.89      0.76      0.82        21\n",
      "\n",
      "avg / total       0.92      0.92      0.92       570\n",
      "\n"
     ]
    }
   ],
   "source": [
    "print classification_report(y_test, bag_p)"
   ]
  },
  {
   "cell_type": "code",
   "execution_count": 55,
   "metadata": {
    "collapsed": false
   },
   "outputs": [
    {
     "data": {
      "text/plain": [
       "array([[ 92,   1,  32,   2],\n",
       "       [ 17,   2,   2,   2],\n",
       "       [ 19,   2, 378,   0],\n",
       "       [  7,   1,   5,   8]])"
      ]
     },
     "execution_count": 55,
     "metadata": {},
     "output_type": "execute_result"
    }
   ],
   "source": [
    "confusion_matrix(y_test, bag_p)"
   ]
  },
  {
   "cell_type": "code",
   "execution_count": 57,
   "metadata": {
    "collapsed": false
   },
   "outputs": [
    {
     "data": {
      "text/plain": [
       "0.87368421052631584"
      ]
     },
     "execution_count": 57,
     "metadata": {},
     "output_type": "execute_result"
    }
   ],
   "source": [
    "lr = LogisticRegression()\n",
    "lr.fit(X_test, y_test)\n",
    "lry_pred = lr.predict(X_test)\n",
    "lr.score(X_test, y_test)"
   ]
  },
  {
   "cell_type": "markdown",
   "metadata": {},
   "source": [
    "## 4. Logistic Regression\n",
    "\n",
    "Let's see if logistic regression performs better\n",
    "\n",
    "1. Initialize LR and test on Train/Test set\n",
    "- Find optimal params with Grid Search\n",
    "- See if Bagging improves the score"
   ]
  },
  {
   "cell_type": "code",
   "execution_count": 58,
   "metadata": {
    "collapsed": false
   },
   "outputs": [
    {
     "data": {
      "text/plain": [
       "0.86491228070175441"
      ]
     },
     "execution_count": 58,
     "metadata": {},
     "output_type": "execute_result"
    }
   ],
   "source": [
    "lr_bag = BaggingClassifier(lr)\n",
    "lr_bag.fit(X_train, y_train)\n",
    "lr_bag_p = lr_bag.predict(X_test)\n",
    "lr_bag.score(X_test, y_test)"
   ]
  },
  {
   "cell_type": "code",
   "execution_count": 59,
   "metadata": {
    "collapsed": false
   },
   "outputs": [
    {
     "name": "stdout",
     "output_type": "stream",
     "text": [
      "             precision    recall  f1-score   support\n",
      "\n",
      "          0       0.66      0.84      0.74       127\n",
      "          1       0.50      0.13      0.21        23\n",
      "          2       0.95      0.95      0.95       399\n",
      "          3       0.71      0.24      0.36        21\n",
      "\n",
      "avg / total       0.86      0.86      0.85       570\n",
      "\n"
     ]
    }
   ],
   "source": [
    "print classification_report(y_test, lr_bag_p)"
   ]
  },
  {
   "cell_type": "code",
   "execution_count": 61,
   "metadata": {
    "collapsed": false
   },
   "outputs": [
    {
     "data": {
      "text/plain": [
       "array([[107,   2,  18,   0],\n",
       "       [ 18,   3,   0,   2],\n",
       "       [ 20,   1, 378,   0],\n",
       "       [ 16,   0,   0,   5]])"
      ]
     },
     "execution_count": 61,
     "metadata": {},
     "output_type": "execute_result"
    }
   ],
   "source": [
    "confusion_matrix(y_test, lr_bag_p)"
   ]
  },
  {
   "cell_type": "markdown",
   "metadata": {},
   "source": [
    "## 5. Decision Trees\n",
    "\n",
    "Let's see if Decision Trees perform better\n",
    "\n",
    "1. Initialize DT and test on Train/Test set\n",
    "- Find optimal params with Grid Search\n",
    "- See if Bagging improves the score"
   ]
  },
  {
   "cell_type": "code",
   "execution_count": 63,
   "metadata": {
    "collapsed": false
   },
   "outputs": [
    {
     "data": {
      "text/plain": [
       "0.89473684210526316"
      ]
     },
     "execution_count": 63,
     "metadata": {},
     "output_type": "execute_result"
    }
   ],
   "source": [
    "dt = DecisionTreeClassifier()\n",
    "dt.fit(X_train, y_train)\n",
    "dec_t_p = dt.predict(X_test)\n",
    "dt.score(X_test, y_test)"
   ]
  },
  {
   "cell_type": "code",
   "execution_count": 64,
   "metadata": {
    "collapsed": false
   },
   "outputs": [
    {
     "data": {
      "text/plain": [
       "0.9140350877192982"
      ]
     },
     "execution_count": 64,
     "metadata": {},
     "output_type": "execute_result"
    }
   ],
   "source": [
    "dt_bag = BaggingClassifier(DecisionTreeClassifier())\n",
    "dt_bag.fit(X_train, y_train)\n",
    "dec_t_p = dt_bag.predict(X_test)\n",
    "dt_bag.score(X_test, y_test)"
   ]
  },
  {
   "cell_type": "markdown",
   "metadata": {},
   "source": [
    "## 6. Support Vector Machines\n",
    "\n",
    "Let's see if SVM perform better\n",
    "\n",
    "1. Initialize SVM and test on Train/Test set\n",
    "- Find optimal params with Grid Search\n",
    "- See if Bagging improves the score"
   ]
  },
  {
   "cell_type": "code",
   "execution_count": 67,
   "metadata": {
    "collapsed": false
   },
   "outputs": [
    {
     "data": {
      "text/plain": [
       "0.85964912280701755"
      ]
     },
     "execution_count": 67,
     "metadata": {},
     "output_type": "execute_result"
    }
   ],
   "source": [
    "sv = svm.SVC()\n",
    "sv.fit(X_train, y_train)\n",
    "sv_p = sv.predict(X_test)\n",
    "sv.score(X_test, y_test)"
   ]
  },
  {
   "cell_type": "code",
   "execution_count": 71,
   "metadata": {
    "collapsed": false
   },
   "outputs": [
    {
     "data": {
      "text/plain": [
       "0.85964912280701755"
      ]
     },
     "execution_count": 71,
     "metadata": {},
     "output_type": "execute_result"
    }
   ],
   "source": [
    "sv_bag = svm.SVC()\n",
    "sv_bag.fit(X_train, y_train)\n",
    "sv_bag_p = sv_bag.predict(X_test)\n",
    "sv_bag.score(X_test, y_test)"
   ]
  },
  {
   "cell_type": "code",
   "execution_count": 80,
   "metadata": {
    "collapsed": false
   },
   "outputs": [
    {
     "name": "stdout",
     "output_type": "stream",
     "text": [
      "svm model:  0.859649122807\n",
      "svm with bagging:  0.859649122807\n",
      "knn model:  0.861403508772\n",
      "knn with bagging model:  0.842105263158\n",
      "decision tree:  0.894736842105\n",
      "decision tree with bagging:  0.914035087719\n",
      "logitstic regression:  0.873684210526\n",
      "logistic regression with bagging:  0.864912280702\n",
      "random forest:  0.875438596491\n",
      "extra trees:  0.878947368421\n"
     ]
    }
   ],
   "source": [
    "print 'svm model: ', sv.score(X_test, y_test)\n",
    "print 'svm with bagging: ', sv_bag.score(X_test, y_test)\n",
    "print 'knn model: ', knn.score(X_test, y_test)\n",
    "print 'knn with bagging model: ', knn_bag.score(X_test, y_test)\n",
    "print 'decision tree: ', dt.score(X_test, y_test)\n",
    "print 'decision tree with bagging: ', dt_bag.score(X_test, y_test)\n",
    "print 'logitstic regression: ', lr.score(X_test, y_test)\n",
    "print 'logistic regression with bagging: ', lr_bag.score(X_test, y_test)\n",
    "print 'random forest: ', rf.score(X_test, y_test)\n",
    "print 'extra trees: ', rf_e.score(X_test, y_test)"
   ]
  },
  {
   "cell_type": "markdown",
   "metadata": {},
   "source": [
    "## 7. Random Forest & Extra Trees\n",
    "\n",
    "Let's see if Random Forest and Extra Trees perform better\n",
    "\n",
    "1. Initialize RF and ET and test on Train/Test set\n",
    "- Find optimal params with Grid Search"
   ]
  },
  {
   "cell_type": "code",
   "execution_count": 75,
   "metadata": {
    "collapsed": false
   },
   "outputs": [
    {
     "data": {
      "text/plain": [
       "0.87543859649122802"
      ]
     },
     "execution_count": 75,
     "metadata": {},
     "output_type": "execute_result"
    }
   ],
   "source": [
    "rf = RandomForestClassifier()\n",
    "rf.fit(X_train, y_train)\n",
    "rf_p = rf.predict(X_test)\n",
    "rf.score(X_test, y_test)"
   ]
  },
  {
   "cell_type": "code",
   "execution_count": 79,
   "metadata": {
    "collapsed": false
   },
   "outputs": [
    {
     "data": {
      "text/plain": [
       "0.87894736842105259"
      ]
     },
     "execution_count": 79,
     "metadata": {},
     "output_type": "execute_result"
    }
   ],
   "source": [
    "rf_e = ExtraTreesClassifier()\n",
    "rf_e.fit(X_train, y_train)\n",
    "rf_p_e = rf_e.predict(X_test)\n",
    "rf_e.score(X_test, y_test)"
   ]
  },
  {
   "cell_type": "code",
   "execution_count": 81,
   "metadata": {
    "collapsed": true
   },
   "outputs": [],
   "source": [
    "from sklearn.cross_validation import train_test_split, KFold\n",
    "from sklearn.metrics import accuracy_score, precision_score, recall_score, confusion_matrix, classification_report\n",
    "\n",
    "X_train, X_test, y_train, y_test = train_test_split(X, y, test_size=0.3, random_state=42, stratify=y)\n",
    "\n",
    "def evaluate_model(model):\n",
    "    model.fit(X_train, y_train)\n",
    "    y_pred = model.predict(X_test)\n",
    "    \n",
    "    a = accuracy_score(y_test, y_pred)\n",
    "    \n",
    "    cm = confusion_matrix(y_test, y_pred)\n",
    "    cr = classification_report(y_test, y_pred)\n",
    "    \n",
    "    print cm\n",
    "    print cr\n",
    "    \n",
    "    return a\n",
    "\n",
    "all_models = {}"
   ]
  },
  {
   "cell_type": "markdown",
   "metadata": {},
   "source": [
    "## 8. Model comparison\n",
    "\n",
    "Let's compare the scores of the various models.\n",
    "\n",
    "1. Do a bar chart of the scores of the best models. Who's the winner on the train/test split?\n",
    "- Re-test all the models using a 3 fold stratified shuffled cross validation\n",
    "- Do a bar chart with errorbars of the cross validation average scores. is the winner the same?\n"
   ]
  },
  {
   "cell_type": "code",
   "execution_count": null,
   "metadata": {
    "collapsed": false
   },
   "outputs": [],
   "source": []
  },
  {
   "cell_type": "markdown",
   "metadata": {},
   "source": [
    "## Bonus\n",
    "\n",
    "We have encoded the data using a map that preserves the scale.\n",
    "Would our results have changed if we had encoded the categorical data using `pd.get_dummies` or `OneHotEncoder`  to encode them as binary variables instead?\n",
    "\n",
    "1. Repeat the analysis for this scenario. Is it better?\n",
    "- Experiment with other models or other parameters, can you beat your classmates best score?"
   ]
  },
  {
   "cell_type": "code",
   "execution_count": null,
   "metadata": {
    "collapsed": false
   },
   "outputs": [],
   "source": []
  }
 ],
 "metadata": {
  "kernelspec": {
   "display_name": "Python 2",
   "language": "python",
   "name": "python2"
  },
  "language_info": {
   "codemirror_mode": {
    "name": "ipython",
    "version": 2
   },
   "file_extension": ".py",
   "mimetype": "text/x-python",
   "name": "python",
   "nbconvert_exporter": "python",
   "pygments_lexer": "ipython2",
   "version": "2.7.11"
  }
 },
 "nbformat": 4,
 "nbformat_minor": 0
}
