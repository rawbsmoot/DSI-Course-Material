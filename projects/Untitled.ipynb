{
 "cells": [
  {
   "cell_type": "code",
   "execution_count": 2,
   "metadata": {
    "collapsed": true
   },
   "outputs": [],
   "source": [
    "import selenium\n",
    "\n",
    "import os\n",
    "from selenium import webdriver\n",
    "from selenium.webdriver.common.keys import Keys\n",
    "from selenium.webdriver.common.by import By\n",
    "\n",
    "chromedriver = '/Users/smoot/Desktop/chromedriver'\n",
    "os.environ['webdriver.chrome.driver'] = chromedriver\n",
    "driver = webdriver.Chrome(chromedriver)\n",
    "driver.get(\"http://www.cfbstats.com/2015/team/732/rushing/index.html\")"
   ]
  },
  {
   "cell_type": "code",
   "execution_count": 19,
   "metadata": {
    "collapsed": false
   },
   "outputs": [
    {
     "name": "stdout",
     "output_type": "stream",
     "text": [
      "Name Yr Pos G Att Yards Avg. TD Att/G Yards/G\n",
      "1 Devontae Booker SR RB 10 268 1261 4.71 11 26.80 126.10\n",
      "2 Travis Wilson SR QB 12 140 490 3.50 7 11.67 40.83\n",
      "3 Joe Williams JR RB 10 104 477 4.59 3 10.40 47.70\n",
      "4 Kendal Thompson SR QB 4 19 55 2.89 2 4.75 13.75\n",
      "5 Tom Hackett SR P 13 2 54 27.00 0 0.15 4.15\n",
      "6 Chase Hansen FR QB 10 4 31 7.75 0 0.40 3.10\n",
      "7 Bubba Poole SR WR 13 9 26 2.89 1 0.69 2.00\n",
      "8 Marcus Sanders-Williams JR RB 11 2 4 2.00 0 0.18 0.36\n",
      "9 Britain Covey FR WR 12 6 4 0.67 0 0.50 0.33\n",
      "10 Wallace Gonzalez FR TE 1 1 1 1.00 0 1.00 1.00\n",
      "11 Kyle Fulks SO WR 7 1 0 0.00 0 0.14 0.00\n",
      "12 Delshawn McClellon JR WR 13 1 -3 -3.00 0 0.08 -0.23\n",
      "13 Team 8 14 -21 -1.50 0 1.75 -2.63\n",
      "Total 13 571 2379 4.17 24 43.92 183.00\n",
      "Opponents 13 430 1412 3.28 11 33.08 108.62\n"
     ]
    }
   ],
   "source": [
    "utah = driver.find_elements(By.XPATH, '//*[@id=\"content\"]/div[2]')\n",
    "for i in utah:\n",
    "    print i.text"
   ]
  },
  {
   "cell_type": "code",
   "execution_count": null,
   "metadata": {
    "collapsed": true
   },
   "outputs": [],
   "source": []
  }
 ],
 "metadata": {
  "kernelspec": {
   "display_name": "Python 2",
   "language": "python",
   "name": "python2"
  },
  "language_info": {
   "codemirror_mode": {
    "name": "ipython",
    "version": 2
   },
   "file_extension": ".py",
   "mimetype": "text/x-python",
   "name": "python",
   "nbconvert_exporter": "python",
   "pygments_lexer": "ipython2",
   "version": "2.7.11"
  }
 },
 "nbformat": 4,
 "nbformat_minor": 0
}
