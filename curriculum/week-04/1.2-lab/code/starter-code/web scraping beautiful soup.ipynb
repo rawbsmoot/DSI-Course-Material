{
 "cells": [
  {
   "cell_type": "code",
   "execution_count": 8,
   "metadata": {
    "collapsed": true
   },
   "outputs": [],
   "source": [
    "import requests\n",
    "from bs4 import BeautifulSoup"
   ]
  },
  {
   "cell_type": "code",
   "execution_count": 9,
   "metadata": {
    "collapsed": true
   },
   "outputs": [],
   "source": [
    "YELP_URL = 'http://www.yelp.com/biz/general-assembly-santa-monica-santa-monica'"
   ]
  },
  {
   "cell_type": "code",
   "execution_count": 10,
   "metadata": {
    "collapsed": false
   },
   "outputs": [],
   "source": [
    "r = requests.get(YELP_URL)"
   ]
  },
  {
   "cell_type": "code",
   "execution_count": 12,
   "metadata": {
    "collapsed": false
   },
   "outputs": [],
   "source": [
    "bs = BeautifulSoup(r.text, \"lxml\")\n",
    "\n",
    "page = {}"
   ]
  },
  {
   "cell_type": "code",
   "execution_count": null,
   "metadata": {
    "collapsed": true
   },
   "outputs": [],
   "source": [
    "c = urllib2.urlopen(url)\n",
    "contents = c.read()\n",
    "soup = BeautifulSoup(contents)\n",
    "links = soup.find_all(a):"
   ]
  },
  {
   "cell_type": "code",
   "execution_count": 15,
   "metadata": {
    "collapsed": false
   },
   "outputs": [
    {
     "data": {
      "text/plain": [
       "u'General Assembly Santa Monica'"
      ]
     },
     "execution_count": 15,
     "metadata": {},
     "output_type": "execute_result"
    }
   ],
   "source": [
    "title_tag = bs.select('h1.biz-page-title')\n",
    "title = title_tag[0].text.strip()\n",
    "page[\"title\"] = title"
   ]
  },
  {
   "cell_type": "code",
   "execution_count": 19,
   "metadata": {
    "collapsed": false
   },
   "outputs": [
    {
     "data": {
      "text/plain": [
       "u\"Kim Cruickshanks [Fuze Branding] was a spectacular instructor for GA's 'Adobe Illustrator Workshop' in Santa Monica (10AM - 5PM)! She provided all the material necessary to give students a comprehensive, baseline understanding of Illustrator's fundamental tools, best practices, shortcuts, theory & applied strategy.While it'd take years of practice to develop expertise using the program -- like any professional software -- Kim's workshop offers all of the necessary information to quickly grasp the basic essentials early-on. The gratification that comes from grasping the basics early-on, as a result, empowers & encourages students to build those expert skills later-on through practice (ALOT), heuristics, and trial-and-error.Kim hones in on the program's most salient information, straying away from the more complex features that can bewilder & frustrate users in their developmental stages. [Sidenote: those complex features aren't used that frequently anyway].Topping it all of was Kim's exuberance & enthusiasm -- her pep & vitality made the 7-hour workshop delightful and super easy-to-follow!Any creative workshop led by Kim is not one to miss!\""
      ]
     },
     "execution_count": 19,
     "metadata": {},
     "output_type": "execute_result"
    }
   ],
   "source": [
    "reviews = bs.select('p[itemprop=\"description\"]')\n",
    "reviews[0].text"
   ]
  },
  {
   "cell_type": "code",
   "execution_count": 27,
   "metadata": {
    "collapsed": false
   },
   "outputs": [
    {
     "data": {
      "text/plain": [
       "4.5476190476190474"
      ]
     },
     "execution_count": 27,
     "metadata": {},
     "output_type": "execute_result"
    }
   ],
   "source": [
    "user_ratings = bs.select('meta[itemprop=\"ratingValue\"]')\n",
    "user_ratings\n",
    "# this returns a 4.5 rating which isn't part of the user reviews.  Below, what we used only gave us user reviews.\n",
    "\n",
    "all_ratings = [float(x.attrs['content']) for x in user_ratings]\n",
    "sum(all_ratings) / len(all_ratings)\n",
    "# for rating in user_ratings:\n",
    "#     print[rating.attrs['content']]"
   ]
  },
  {
   "cell_type": "code",
   "execution_count": 21,
   "metadata": {
    "collapsed": true
   },
   "outputs": [],
   "source": [
    "user_ratings = bs.select('div.review-list meta[itemprop=\"ratingValue\"]')"
   ]
  },
  {
   "cell_type": "code",
   "execution_count": 22,
   "metadata": {
    "collapsed": false
   },
   "outputs": [
    {
     "data": {
      "text/plain": [
       "[<meta content=\"5.0\" itemprop=\"ratingValue\"/>,\n",
       " <meta content=\"5.0\" itemprop=\"ratingValue\"/>,\n",
       " <meta content=\"5.0\" itemprop=\"ratingValue\"/>,\n",
       " <meta content=\"5.0\" itemprop=\"ratingValue\"/>,\n",
       " <meta content=\"5.0\" itemprop=\"ratingValue\"/>,\n",
       " <meta content=\"5.0\" itemprop=\"ratingValue\"/>,\n",
       " <meta content=\"5.0\" itemprop=\"ratingValue\"/>,\n",
       " <meta content=\"1.0\" itemprop=\"ratingValue\"/>,\n",
       " <meta content=\"5.0\" itemprop=\"ratingValue\"/>,\n",
       " <meta content=\"5.0\" itemprop=\"ratingValue\"/>,\n",
       " <meta content=\"5.0\" itemprop=\"ratingValue\"/>,\n",
       " <meta content=\"5.0\" itemprop=\"ratingValue\"/>,\n",
       " <meta content=\"4.0\" itemprop=\"ratingValue\"/>,\n",
       " <meta content=\"5.0\" itemprop=\"ratingValue\"/>,\n",
       " <meta content=\"5.0\" itemprop=\"ratingValue\"/>,\n",
       " <meta content=\"5.0\" itemprop=\"ratingValue\"/>,\n",
       " <meta content=\"5.0\" itemprop=\"ratingValue\"/>,\n",
       " <meta content=\"5.0\" itemprop=\"ratingValue\"/>,\n",
       " <meta content=\"5.0\" itemprop=\"ratingValue\"/>,\n",
       " <meta content=\"1.0\" itemprop=\"ratingValue\"/>]"
      ]
     },
     "execution_count": 22,
     "metadata": {},
     "output_type": "execute_result"
    }
   ],
   "source": [
    "user_ratings"
   ]
  },
  {
   "cell_type": "code",
   "execution_count": null,
   "metadata": {
    "collapsed": true
   },
   "outputs": [],
   "source": []
  }
 ],
 "metadata": {
  "kernelspec": {
   "display_name": "Python 2",
   "language": "python",
   "name": "python2"
  },
  "language_info": {
   "codemirror_mode": {
    "name": "ipython",
    "version": 2
   },
   "file_extension": ".py",
   "mimetype": "text/x-python",
   "name": "python",
   "nbconvert_exporter": "python",
   "pygments_lexer": "ipython2",
   "version": "2.7.11"
  }
 },
 "nbformat": 4,
 "nbformat_minor": 0
}
