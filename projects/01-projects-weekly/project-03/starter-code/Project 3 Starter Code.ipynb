{
 "cells": [
  {
   "cell_type": "markdown",
   "metadata": {},
   "source": [
    "# Getting started\n",
    "\n",
    "Once you've chosen your scenario, download the data from [the Iowa website](https://data.iowa.gov/Economy/Iowa-Liquor-Sales/m3tr-qhgy) in csv format. Start by loading the data with pandas. You may need to parse the date columns appropriately."
   ]
  },
  {
   "cell_type": "code",
   "execution_count": 11,
   "metadata": {
    "collapsed": false
   },
   "outputs": [
    {
     "data": {
      "text/plain": [
       "County\n",
       "Adair              43503\n",
       "Adams              10173\n",
       "Allamakee          74610\n",
       "Appanoose          81618\n",
       "Audubon            18552\n",
       "Benton             70228\n",
       "Black Hawk       1735197\n",
       "Boone             165546\n",
       "Bremer            159127\n",
       "Buchanan          123349\n",
       "Buena Vista       161063\n",
       "Butler             31640\n",
       "Calhoun            35132\n",
       "Carroll           195754\n",
       "Cass              102118\n",
       "Cedar              58073\n",
       "Cerro Gordo       550337\n",
       "Cherokee           77312\n",
       "Chickasaw          34750\n",
       "Clarke             54796\n",
       "Clay              144791\n",
       "Clayton            61565\n",
       "Clinton           341921\n",
       "Crawford          108825\n",
       "Dallas            374922\n",
       "Davis               9429\n",
       "Decatur            18002\n",
       "Delaware           79036\n",
       "Des Moines        380273\n",
       "Dickinson         327118\n",
       "                  ...   \n",
       "Muscatine         287563\n",
       "O'Brien           115457\n",
       "Osceola            23603\n",
       "Page              102998\n",
       "Palo Alto          54930\n",
       "Plymouth          134579\n",
       "Pocahontas         33223\n",
       "Polk             5818078\n",
       "Pottawattamie     951506\n",
       "Poweshiek         123644\n",
       "Ringgold           12769\n",
       "Sac                50493\n",
       "Scott            2045563\n",
       "Shelby             71154\n",
       "Sioux             123365\n",
       "Story             770265\n",
       "Tama               66956\n",
       "Taylor             12147\n",
       "Union              87278\n",
       "Van Buren          16229\n",
       "Wapello           261318\n",
       "Warren            227618\n",
       "Washington        131416\n",
       "Wayne              10113\n",
       "Webster           331808\n",
       "Winnebago          73223\n",
       "Winneshiek        114224\n",
       "Woodbury          939206\n",
       "Worth              26480\n",
       "Wright             60986\n",
       "Name: Bottles Sold, dtype: int64"
      ]
     },
     "execution_count": 11,
     "metadata": {},
     "output_type": "execute_result"
    }
   ],
   "source": [
    "import pandas as pd\n",
    "\n",
    "data_file = \"/Users/mikeludwig/Downloads/Iowa_Liquor_Sales_reduced.csv\"\n",
    "## Load the data into a DataFrame\n",
    "# pd.read_csv()\n",
    "df = pd.read_csv(data_file)\n",
    "\n",
    "# df.head(20)\n",
    "df.groupby('County')['Bottles Sold'].sum()\n",
    "\n",
    "\n",
    "\n",
    "## Transform the dates if needed, e.g.\n",
    "# df[\"Date\"] = pd.to_datetime(df[\"Date\"], format=\"%m-%d-%y\")"
   ]
  },
  {
   "cell_type": "markdown",
   "metadata": {},
   "source": [
    "# Explore the data\n",
    "\n",
    "Perform some exploratory statistical analysis and make some plots, such as histograms of transaction totals, bottles sold, etc."
   ]
  },
  {
   "cell_type": "code",
   "execution_count": 4,
   "metadata": {
    "collapsed": true
   },
   "outputs": [],
   "source": [
    "import seaborn as sns\n",
    "import matplotlib.pyplot as plt"
   ]
  },
  {
   "cell_type": "markdown",
   "metadata": {},
   "source": [
    "## Record your findings\n",
    "\n",
    "Be sure to write out anything observations from your exploratory analysis."
   ]
  },
  {
   "cell_type": "markdown",
   "metadata": {},
   "source": [
    "# Mine the data\n",
    "Now you are ready to compute the variables you will use for your regression from the data. For example, you may want to\n",
    "compute total sales per store from Jan to March of 2015, mean price per bottle, etc. Refer to the readme for more ideas appropriate to your scenario.\n",
    "\n",
    "Pandas is your friend for this task. Take a look at the operations [here](http://pandas.pydata.org/pandas-docs/stable/groupby.html) for ideas on how to make the best use of pandas and feel free to search for blog and Stack Overflow posts to help you group data by certain variables and compute sums, means, etc. You may find it useful to create a new data frame to house this summary data."
   ]
  },
  {
   "cell_type": "markdown",
   "metadata": {},
   "source": [
    "# Refine the data\n",
    "Look for any statistical relationships, correlations, or other relevant properties of the dataset."
   ]
  },
  {
   "cell_type": "code",
   "execution_count": null,
   "metadata": {
    "collapsed": true
   },
   "outputs": [],
   "source": []
  },
  {
   "cell_type": "markdown",
   "metadata": {},
   "source": [
    "# Build your models\n",
    "\n",
    "Using scikit-learn or statsmodels, build the necessary models for your scenario. Evaluate model fit."
   ]
  },
  {
   "cell_type": "code",
   "execution_count": 6,
   "metadata": {
    "collapsed": true
   },
   "outputs": [],
   "source": [
    "from sklearn import linear_model\n"
   ]
  },
  {
   "cell_type": "markdown",
   "metadata": {},
   "source": [
    "## Plot your results\n",
    "\n",
    "Again make sure that you record any valuable information. For example, in the tax scenario, did you find the sales from the first three months of the year to be a good predictor of the total sales for the year? Plot the predictions versus the true values and discuss the successes and limitations of your models"
   ]
  },
  {
   "cell_type": "code",
   "execution_count": null,
   "metadata": {
    "collapsed": true
   },
   "outputs": [],
   "source": []
  },
  {
   "cell_type": "markdown",
   "metadata": {},
   "source": [
    "# Present the Results\n",
    "\n",
    "Present your conclusions and results. If you have more than one interesting model feel free to include more than one along with a discussion. Use your work in this notebook to prepare your write-up."
   ]
  },
  {
   "cell_type": "code",
   "execution_count": null,
   "metadata": {
    "collapsed": true
   },
   "outputs": [],
   "source": []
  }
 ],
 "metadata": {
  "kernelspec": {
   "display_name": "Python 2",
   "language": "python",
   "name": "python2"
  },
  "language_info": {
   "codemirror_mode": {
    "name": "ipython",
    "version": 2
   },
   "file_extension": ".py",
   "mimetype": "text/x-python",
   "name": "python",
   "nbconvert_exporter": "python",
   "pygments_lexer": "ipython2",
   "version": "2.7.11"
  }
 },
 "nbformat": 4,
 "nbformat_minor": 0
}
