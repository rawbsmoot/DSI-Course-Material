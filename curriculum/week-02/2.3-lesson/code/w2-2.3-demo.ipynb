{
 "cells": [
  {
   "cell_type": "code",
   "execution_count": 1,
   "metadata": {
    "collapsed": true
   },
   "outputs": [],
   "source": [
    "import pandas as pd\n",
    "import numpy as np"
   ]
  },
  {
   "cell_type": "code",
   "execution_count": 42,
   "metadata": {
    "collapsed": false
   },
   "outputs": [
    {
     "data": {
      "text/html": [
       "<div>\n",
       "<table border=\"1\" class=\"dataframe\">\n",
       "  <thead>\n",
       "    <tr style=\"text-align: right;\">\n",
       "      <th></th>\n",
       "      <th>A</th>\n",
       "      <th>B</th>\n",
       "      <th>C</th>\n",
       "      <th>D</th>\n",
       "      <th>E</th>\n",
       "      <th>F</th>\n",
       "      <th>G</th>\n",
       "    </tr>\n",
       "  </thead>\n",
       "  <tbody>\n",
       "    <tr>\n",
       "      <th>0</th>\n",
       "      <td>0.687514</td>\n",
       "      <td>1</td>\n",
       "      <td>foo</td>\n",
       "      <td>2001-01-02</td>\n",
       "      <td>1.0</td>\n",
       "      <td>False</td>\n",
       "      <td>1</td>\n",
       "    </tr>\n",
       "    <tr>\n",
       "      <th>1</th>\n",
       "      <td>0.357147</td>\n",
       "      <td>1</td>\n",
       "      <td>foo</td>\n",
       "      <td>2001-01-02</td>\n",
       "      <td>1.0</td>\n",
       "      <td>False</td>\n",
       "      <td>1</td>\n",
       "    </tr>\n",
       "    <tr>\n",
       "      <th>2</th>\n",
       "      <td>0.602409</td>\n",
       "      <td>1</td>\n",
       "      <td>foo</td>\n",
       "      <td>2001-01-02</td>\n",
       "      <td>1.0</td>\n",
       "      <td>False</td>\n",
       "      <td>1</td>\n",
       "    </tr>\n",
       "  </tbody>\n",
       "</table>\n",
       "</div>"
      ],
      "text/plain": [
       "          A  B    C          D    E      F  G\n",
       "0  0.687514  1  foo 2001-01-02  1.0  False  1\n",
       "1  0.357147  1  foo 2001-01-02  1.0  False  1\n",
       "2  0.602409  1  foo 2001-01-02  1.0  False  1"
      ]
     },
     "execution_count": 42,
     "metadata": {},
     "output_type": "execute_result"
    }
   ],
   "source": [
    "# create a small dictionary with different data types\n",
    "\n",
    "dft = pd.DataFrame(dict(A = np.random.rand(3),\n",
    "                        B = 1,\n",
    "                        C = 'foo',\n",
    "                        D = pd.Timestamp('20010102'),\n",
    "                        E = pd.Series([1.0]*3).astype('float32'),\n",
    "                                F = False,\n",
    "                                G = pd.Series([1]*3,dtype='int8')))\n",
    "\n",
    "df"
   ]
  },
  {
   "cell_type": "code",
   "execution_count": 122,
   "metadata": {
    "collapsed": false
   },
   "outputs": [
    {
     "data": {
      "text/html": [
       "<div>\n",
       "<table border=\"1\" class=\"dataframe\">\n",
       "  <thead>\n",
       "    <tr style=\"text-align: right;\">\n",
       "      <th></th>\n",
       "      <th>a</th>\n",
       "      <th>b</th>\n",
       "      <th>c</th>\n",
       "      <th>d</th>\n",
       "      <th>h</th>\n",
       "    </tr>\n",
       "  </thead>\n",
       "  <tbody>\n",
       "    <tr>\n",
       "      <th>0</th>\n",
       "      <td>0.088654</td>\n",
       "      <td>-0.717973</td>\n",
       "      <td>-0.350589</td>\n",
       "      <td>1.610712</td>\n",
       "      <td>6</td>\n",
       "    </tr>\n",
       "    <tr>\n",
       "      <th>1</th>\n",
       "      <td>0.338653</td>\n",
       "      <td>-0.067284</td>\n",
       "      <td>-1.382781</td>\n",
       "      <td>-0.700844</td>\n",
       "      <td>6</td>\n",
       "    </tr>\n",
       "    <tr>\n",
       "      <th>2</th>\n",
       "      <td>2.953183</td>\n",
       "      <td>1.403213</td>\n",
       "      <td>0.265085</td>\n",
       "      <td>0.945102</td>\n",
       "      <td>6</td>\n",
       "    </tr>\n",
       "    <tr>\n",
       "      <th>3</th>\n",
       "      <td>-0.483310</td>\n",
       "      <td>0.821644</td>\n",
       "      <td>-0.382954</td>\n",
       "      <td>-0.726837</td>\n",
       "      <td>6</td>\n",
       "    </tr>\n",
       "    <tr>\n",
       "      <th>4</th>\n",
       "      <td>-2.373561</td>\n",
       "      <td>0.510135</td>\n",
       "      <td>0.603101</td>\n",
       "      <td>0.229302</td>\n",
       "      <td>6</td>\n",
       "    </tr>\n",
       "  </tbody>\n",
       "</table>\n",
       "</div>"
      ],
      "text/plain": [
       "          a         b         c         d  h\n",
       "0  0.088654 -0.717973 -0.350589  1.610712  6\n",
       "1  0.338653 -0.067284 -1.382781 -0.700844  6\n",
       "2  2.953183  1.403213  0.265085  0.945102  6\n",
       "3 -0.483310  0.821644 -0.382954 -0.726837  6\n",
       "4 -2.373561  0.510135  0.603101  0.229302  6"
      ]
     },
     "execution_count": 122,
     "metadata": {},
     "output_type": "execute_result"
    }
   ],
   "source": [
    "\n",
    "df['h'] = '6'\n",
    "df"
   ]
  },
  {
   "cell_type": "code",
   "execution_count": 3,
   "metadata": {
    "collapsed": false
   },
   "outputs": [
    {
     "data": {
      "text/plain": [
       "A           float64\n",
       "B             int64\n",
       "C            object\n",
       "D    datetime64[ns]\n",
       "E           float32\n",
       "F              bool\n",
       "G              int8\n",
       "dtype: object"
      ]
     },
     "execution_count": 3,
     "metadata": {},
     "output_type": "execute_result"
    }
   ],
   "source": [
    "# There is a really easy way to see what kind of dtypes \n",
    "# are in each column. \n",
    "\n",
    "dft.dtypes"
   ]
  },
  {
   "cell_type": "code",
   "execution_count": 10,
   "metadata": {
    "collapsed": false
   },
   "outputs": [
    {
     "data": {
      "text/plain": [
       "0    1\n",
       "1    2\n",
       "2    3\n",
       "3    4\n",
       "4    5\n",
       "5    6\n",
       "dtype: float64"
      ]
     },
     "execution_count": 10,
     "metadata": {},
     "output_type": "execute_result"
    }
   ],
   "source": [
    "# If a pandas object contains data multiple dtypes IN A \n",
    "# SINGLE COLUMN, the dtype of the column will be chosen \n",
    "# to accommodate all of the data types (object is the \n",
    "# most general).\n",
    "# these ints are coerced to floats\n",
    "\n",
    "pd.Series([1, 2, 3, 4, 5, 6.])"
   ]
  },
  {
   "cell_type": "code",
   "execution_count": 11,
   "metadata": {
    "collapsed": false
   },
   "outputs": [
    {
     "data": {
      "text/plain": [
       "0      1\n",
       "1      2\n",
       "2      3\n",
       "3      6\n",
       "4    foo\n",
       "dtype: object"
      ]
     },
     "execution_count": 11,
     "metadata": {},
     "output_type": "execute_result"
    }
   ],
   "source": [
    "# string data forces an ``object`` dtype\n",
    "\n",
    "pd.Series([1, 2, 3, 6., 'foo'])"
   ]
  },
  {
   "cell_type": "code",
   "execution_count": 46,
   "metadata": {
    "collapsed": false
   },
   "outputs": [
    {
     "data": {
      "text/plain": [
       "bool              1\n",
       "datetime64[ns]    1\n",
       "float32           1\n",
       "float64           1\n",
       "int64             1\n",
       "int8              1\n",
       "object            1\n",
       "dtype: int64"
      ]
     },
     "execution_count": 46,
     "metadata": {},
     "output_type": "execute_result"
    }
   ],
   "source": [
    "# The method get_dtype_counts() will return the number \n",
    "# of columns of each type in a DataFrame:\n",
    "\n",
    "dft.get_dtype_counts()"
   ]
  },
  {
   "cell_type": "code",
   "execution_count": 50,
   "metadata": {
    "collapsed": false
   },
   "outputs": [
    {
     "data": {
      "text/html": [
       "<div>\n",
       "<table border=\"1\" class=\"dataframe\">\n",
       "  <thead>\n",
       "    <tr style=\"text-align: right;\">\n",
       "      <th></th>\n",
       "      <th>a</th>\n",
       "      <th>b</th>\n",
       "      <th>c</th>\n",
       "      <th>d</th>\n",
       "    </tr>\n",
       "  </thead>\n",
       "  <tbody>\n",
       "    <tr>\n",
       "      <th>0</th>\n",
       "      <td>0.088654</td>\n",
       "      <td>-0.717973</td>\n",
       "      <td>-0.350589</td>\n",
       "      <td>1.610712</td>\n",
       "    </tr>\n",
       "    <tr>\n",
       "      <th>1</th>\n",
       "      <td>0.338653</td>\n",
       "      <td>-0.067284</td>\n",
       "      <td>-1.382781</td>\n",
       "      <td>-0.700844</td>\n",
       "    </tr>\n",
       "    <tr>\n",
       "      <th>2</th>\n",
       "      <td>2.953183</td>\n",
       "      <td>1.403213</td>\n",
       "      <td>0.265085</td>\n",
       "      <td>0.945102</td>\n",
       "    </tr>\n",
       "    <tr>\n",
       "      <th>3</th>\n",
       "      <td>-0.483310</td>\n",
       "      <td>0.821644</td>\n",
       "      <td>-0.382954</td>\n",
       "      <td>-0.726837</td>\n",
       "    </tr>\n",
       "    <tr>\n",
       "      <th>4</th>\n",
       "      <td>-2.373561</td>\n",
       "      <td>0.510135</td>\n",
       "      <td>0.603101</td>\n",
       "      <td>0.229302</td>\n",
       "    </tr>\n",
       "  </tbody>\n",
       "</table>\n",
       "</div>"
      ],
      "text/plain": [
       "          a         b         c         d\n",
       "0  0.088654 -0.717973 -0.350589  1.610712\n",
       "1  0.338653 -0.067284 -1.382781 -0.700844\n",
       "2  2.953183  1.403213  0.265085  0.945102\n",
       "3 -0.483310  0.821644 -0.382954 -0.726837\n",
       "4 -2.373561  0.510135  0.603101  0.229302"
      ]
     },
     "execution_count": 50,
     "metadata": {},
     "output_type": "execute_result"
    }
   ],
   "source": [
    "# create a small data frame. \n",
    "\n",
    "df = pd.DataFrame(np.random.randn(5, 4), columns=['a', 'b', 'c', 'd'])\n",
    "df"
   ]
  },
  {
   "cell_type": "code",
   "execution_count": 51,
   "metadata": {
    "collapsed": false
   },
   "outputs": [
    {
     "data": {
      "text/html": [
       "<div>\n",
       "<table border=\"1\" class=\"dataframe\">\n",
       "  <thead>\n",
       "    <tr style=\"text-align: right;\">\n",
       "      <th></th>\n",
       "      <th>a</th>\n",
       "      <th>b</th>\n",
       "      <th>c</th>\n",
       "      <th>d</th>\n",
       "    </tr>\n",
       "  </thead>\n",
       "  <tbody>\n",
       "    <tr>\n",
       "      <th>0</th>\n",
       "      <td>0.297748</td>\n",
       "      <td>NaN</td>\n",
       "      <td>NaN</td>\n",
       "      <td>1.269138</td>\n",
       "    </tr>\n",
       "    <tr>\n",
       "      <th>1</th>\n",
       "      <td>0.581939</td>\n",
       "      <td>NaN</td>\n",
       "      <td>NaN</td>\n",
       "      <td>NaN</td>\n",
       "    </tr>\n",
       "    <tr>\n",
       "      <th>2</th>\n",
       "      <td>1.718483</td>\n",
       "      <td>1.184573</td>\n",
       "      <td>0.514864</td>\n",
       "      <td>0.972164</td>\n",
       "    </tr>\n",
       "    <tr>\n",
       "      <th>3</th>\n",
       "      <td>NaN</td>\n",
       "      <td>0.906446</td>\n",
       "      <td>NaN</td>\n",
       "      <td>NaN</td>\n",
       "    </tr>\n",
       "    <tr>\n",
       "      <th>4</th>\n",
       "      <td>NaN</td>\n",
       "      <td>0.714237</td>\n",
       "      <td>0.776596</td>\n",
       "      <td>0.478855</td>\n",
       "    </tr>\n",
       "  </tbody>\n",
       "</table>\n",
       "</div>"
      ],
      "text/plain": [
       "          a         b         c         d\n",
       "0  0.297748       NaN       NaN  1.269138\n",
       "1  0.581939       NaN       NaN       NaN\n",
       "2  1.718483  1.184573  0.514864  0.972164\n",
       "3       NaN  0.906446       NaN       NaN\n",
       "4       NaN  0.714237  0.776596  0.478855"
      ]
     },
     "execution_count": 51,
     "metadata": {},
     "output_type": "execute_result"
    }
   ],
   "source": [
    "# Use df.apply to find the square root of all the values. \n",
    "# NaN means not a number\n",
    "\n",
    "df.apply(np.sqrt)\n"
   ]
  },
  {
   "cell_type": "code",
   "execution_count": 58,
   "metadata": {
    "collapsed": false
   },
   "outputs": [
    {
     "data": {
      "text/html": [
       "<div>\n",
       "<table border=\"1\" class=\"dataframe\">\n",
       "  <thead>\n",
       "    <tr style=\"text-align: right;\">\n",
       "      <th></th>\n",
       "      <th>a</th>\n",
       "      <th>b</th>\n",
       "      <th>c</th>\n",
       "      <th>d</th>\n",
       "    </tr>\n",
       "  </thead>\n",
       "  <tbody>\n",
       "    <tr>\n",
       "      <th>0</th>\n",
       "      <td>0.088654</td>\n",
       "      <td>-0.717973</td>\n",
       "      <td>-0.350589</td>\n",
       "      <td>1.610712</td>\n",
       "    </tr>\n",
       "    <tr>\n",
       "      <th>1</th>\n",
       "      <td>0.338653</td>\n",
       "      <td>-0.067284</td>\n",
       "      <td>-1.382781</td>\n",
       "      <td>-0.700844</td>\n",
       "    </tr>\n",
       "    <tr>\n",
       "      <th>2</th>\n",
       "      <td>2.953183</td>\n",
       "      <td>1.403213</td>\n",
       "      <td>0.265085</td>\n",
       "      <td>0.945102</td>\n",
       "    </tr>\n",
       "    <tr>\n",
       "      <th>3</th>\n",
       "      <td>-0.483310</td>\n",
       "      <td>0.821644</td>\n",
       "      <td>-0.382954</td>\n",
       "      <td>-0.726837</td>\n",
       "    </tr>\n",
       "    <tr>\n",
       "      <th>4</th>\n",
       "      <td>-2.373561</td>\n",
       "      <td>0.510135</td>\n",
       "      <td>0.603101</td>\n",
       "      <td>0.229302</td>\n",
       "    </tr>\n",
       "  </tbody>\n",
       "</table>\n",
       "</div>"
      ],
      "text/plain": [
       "          a         b         c         d\n",
       "0  0.088654 -0.717973 -0.350589  1.610712\n",
       "1  0.338653 -0.067284 -1.382781 -0.700844\n",
       "2  2.953183  1.403213  0.265085  0.945102\n",
       "3 -0.483310  0.821644 -0.382954 -0.726837\n",
       "4 -2.373561  0.510135  0.603101  0.229302"
      ]
     },
     "execution_count": 58,
     "metadata": {},
     "output_type": "execute_result"
    }
   ],
   "source": [
    "\n",
    "df.apply(np.mean, axis=0)"
   ]
  },
  {
   "cell_type": "code",
   "execution_count": 72,
   "metadata": {
    "collapsed": false
   },
   "outputs": [
    {
     "data": {
      "text/plain": [
       "a    1.712097\n",
       "b    0.729940\n",
       "c    0.678834\n",
       "d    0.915548\n",
       "dtype: float64"
      ]
     },
     "execution_count": 72,
     "metadata": {},
     "output_type": "execute_result"
    }
   ],
   "source": [
    "# find the mean of all of the columns\n",
    "\n",
    "df.apply(np.std, axis=0)"
   ]
  },
  {
   "cell_type": "code",
   "execution_count": 68,
   "metadata": {
    "collapsed": false
   },
   "outputs": [
    {
     "data": {
      "text/plain": [
       "a    0.104724\n",
       "b    0.389947\n",
       "c   -0.249628\n",
       "d    0.271487\n",
       "dtype: float64"
      ]
     },
     "execution_count": 68,
     "metadata": {},
     "output_type": "execute_result"
    }
   ],
   "source": [
    "# find the mean of all of the rows\n",
    "\n",
    "df.apply(np.mean)"
   ]
  },
  {
   "cell_type": "code",
   "execution_count": 74,
   "metadata": {
    "collapsed": false
   },
   "outputs": [
    {
     "data": {
      "text/plain": [
       "array([3, 2, 1, 1, 0, 0, 4, 4, 3, 1, 6, 2, 4, 1, 5, 2, 4, 1, 5, 0, 3, 5, 4,\n",
       "       5, 3, 3, 3, 5, 1, 5, 4, 4, 6, 1, 4, 1, 3, 2, 2, 5, 4, 1, 6, 6, 4, 5,\n",
       "       3, 0, 2, 0])"
      ]
     },
     "execution_count": 74,
     "metadata": {},
     "output_type": "execute_result"
    }
   ],
   "source": [
    "# Let's create a random array with 50 numbers, ranging \n",
    "# from 0 to 7.\n",
    "\n",
    "data = np.random.randint(0, 7, size = 50)\n",
    "data"
   ]
  },
  {
   "cell_type": "code",
   "execution_count": 77,
   "metadata": {
    "collapsed": false
   },
   "outputs": [],
   "source": [
    "# convert the array into a series\n",
    "\n",
    "s = pd.Series(data)\n"
   ]
  },
  {
   "cell_type": "code",
   "execution_count": 86,
   "metadata": {
    "collapsed": false
   },
   "outputs": [
    {
     "data": {
      "text/plain": [
       "5    5\n",
       "4    3\n",
       "3    3\n",
       "1    3\n",
       "2    2\n",
       "6    1\n",
       "dtype: int64"
      ]
     },
     "execution_count": 86,
     "metadata": {},
     "output_type": "execute_result"
    }
   ],
   "source": [
    "# How many of each number is there in the series? Enter \n",
    "# value_counts()\n",
    "\n",
    "pd.value_counts(s[::3])"
   ]
  },
  {
   "cell_type": "code",
   "execution_count": 93,
   "metadata": {
    "collapsed": false
   },
   "outputs": [
    {
     "data": {
      "image/png": "[encoded data removed]",
      "text/plain": [
       "<matplotlib.figure.Figure at 0x114f9fb50>"
      ]
     },
     "metadata": {},
     "output_type": "display_data"
    }
   ],
   "source": [
    "import matplotlib.pyplot as plt\n",
    "%matplotlib inline\n",
    "\n",
    "plt.hist(s)\n",
    "plt.show()"
   ]
  },
  {
   "cell_type": "code",
   "execution_count": 97,
   "metadata": {
    "collapsed": false
   },
   "outputs": [
    {
     "data": {
      "text/html": [
       "<div>\n",
       "<table border=\"1\" class=\"dataframe\">\n",
       "  <thead>\n",
       "    <tr style=\"text-align: right;\">\n",
       "      <th></th>\n",
       "      <th>volume_sold</th>\n",
       "      <th>2015_margin</th>\n",
       "      <th>2015_q1_sales</th>\n",
       "      <th>2016_q1_sales</th>\n",
       "    </tr>\n",
       "  </thead>\n",
       "  <tbody>\n",
       "    <tr>\n",
       "      <th>0</th>\n",
       "      <td>18.420760</td>\n",
       "      <td>93.802281</td>\n",
       "      <td>337166.53</td>\n",
       "      <td>337804.05</td>\n",
       "    </tr>\n",
       "    <tr>\n",
       "      <th>1</th>\n",
       "      <td>4.776510</td>\n",
       "      <td>21.082425</td>\n",
       "      <td>22351.86</td>\n",
       "      <td>21736.63</td>\n",
       "    </tr>\n",
       "    <tr>\n",
       "      <th>2</th>\n",
       "      <td>16.602401</td>\n",
       "      <td>93.612494</td>\n",
       "      <td>277764.46</td>\n",
       "      <td>306942.27</td>\n",
       "    </tr>\n",
       "    <tr>\n",
       "      <th>3</th>\n",
       "      <td>4.296111</td>\n",
       "      <td>16.824704</td>\n",
       "      <td>16805.11</td>\n",
       "      <td>9307.75</td>\n",
       "    </tr>\n",
       "    <tr>\n",
       "      <th>4</th>\n",
       "      <td>8.156023</td>\n",
       "      <td>35.011457</td>\n",
       "      <td>54411.42</td>\n",
       "      <td>58939.90</td>\n",
       "    </tr>\n",
       "  </tbody>\n",
       "</table>\n",
       "</div>"
      ],
      "text/plain": [
       "   volume_sold  2015_margin  2015_q1_sales  2016_q1_sales\n",
       "0    18.420760    93.802281      337166.53      337804.05\n",
       "1     4.776510    21.082425       22351.86       21736.63\n",
       "2    16.602401    93.612494      277764.46      306942.27\n",
       "3     4.296111    16.824704       16805.11        9307.75\n",
       "4     8.156023    35.011457       54411.42       58939.90"
      ]
     },
     "execution_count": 97,
     "metadata": {},
     "output_type": "execute_result"
    }
   ],
   "source": [
    "rs = pd.read_csv('/Users/smoot/Desktop/ga/sales_info.csv')\n",
    "rs.head()"
   ]
  },
  {
   "cell_type": "code",
   "execution_count": 132,
   "metadata": {
    "collapsed": false
   },
   "outputs": [
    {
     "data": {
      "text/html": [
       "<div>\n",
       "<table border=\"1\" class=\"dataframe\">\n",
       "  <thead>\n",
       "    <tr style=\"text-align: right;\">\n",
       "      <th></th>\n",
       "      <th>a</th>\n",
       "      <th>b</th>\n",
       "      <th>c</th>\n",
       "      <th>d</th>\n",
       "      <th>h</th>\n",
       "    </tr>\n",
       "  </thead>\n",
       "  <tbody>\n",
       "    <tr>\n",
       "      <th>0</th>\n",
       "      <td>2.088654</td>\n",
       "      <td>0.282027</td>\n",
       "      <td>-0.350589</td>\n",
       "      <td>1.610712</td>\n",
       "      <td>6</td>\n",
       "    </tr>\n",
       "    <tr>\n",
       "      <th>1</th>\n",
       "      <td>2.338653</td>\n",
       "      <td>0.932716</td>\n",
       "      <td>-1.382781</td>\n",
       "      <td>-0.700844</td>\n",
       "      <td>6</td>\n",
       "    </tr>\n",
       "    <tr>\n",
       "      <th>2</th>\n",
       "      <td>4.953183</td>\n",
       "      <td>2.403213</td>\n",
       "      <td>0.265085</td>\n",
       "      <td>0.945102</td>\n",
       "      <td>6</td>\n",
       "    </tr>\n",
       "    <tr>\n",
       "      <th>3</th>\n",
       "      <td>1.516690</td>\n",
       "      <td>1.821644</td>\n",
       "      <td>-0.382954</td>\n",
       "      <td>-0.726837</td>\n",
       "      <td>6</td>\n",
       "    </tr>\n",
       "    <tr>\n",
       "      <th>4</th>\n",
       "      <td>-0.373561</td>\n",
       "      <td>1.510135</td>\n",
       "      <td>0.603101</td>\n",
       "      <td>0.229302</td>\n",
       "      <td>6</td>\n",
       "    </tr>\n",
       "  </tbody>\n",
       "</table>\n",
       "</div>"
      ],
      "text/plain": [
       "          a         b         c         d  h\n",
       "0  2.088654  0.282027 -0.350589  1.610712  6\n",
       "1  2.338653  0.932716 -1.382781 -0.700844  6\n",
       "2  4.953183  2.403213  0.265085  0.945102  6\n",
       "3  1.516690  1.821644 -0.382954 -0.726837  6\n",
       "4 -0.373561  1.510135  0.603101  0.229302  6"
      ]
     },
     "execution_count": 132,
     "metadata": {},
     "output_type": "execute_result"
    }
   ],
   "source": [
    "df.a.apply(lambda a: a + 1)\n",
    "df\n",
    "df.b = df.b+1\n",
    "df"
   ]
  },
  {
   "cell_type": "code",
   "execution_count": 100,
   "metadata": {
    "collapsed": false
   },
   "outputs": [
    {
     "data": {
      "text/plain": [
       "volume_sold          10.018684\n",
       "2015_margin          46.858895\n",
       "2015_q1_sales    154631.668200\n",
       "2016_q1_sales    154699.178750\n",
       "dtype: float64"
      ]
     },
     "execution_count": 100,
     "metadata": {},
     "output_type": "execute_result"
    }
   ],
   "source": [
    "rs.apply(np.mean)"
   ]
  },
  {
   "cell_type": "code",
   "execution_count": 102,
   "metadata": {
    "collapsed": false
   },
   "outputs": [],
   "source": [
    "rs1 = rs.copy()"
   ]
  },
  {
   "cell_type": "code",
   "execution_count": 125,
   "metadata": {
    "collapsed": false
   },
   "outputs": [
    {
     "name": "stderr",
     "output_type": "stream",
     "text": [
      "/Users/smoot/anaconda/lib/python2.7/site-packages/ipykernel/__main__.py:1: FutureWarning: eval expressions containing an assignment currentlydefault to operating inplace.\n",
      "This will change in a future version of pandas, use inplace=True to avoid this warning.\n",
      "  if __name__ == '__main__':\n",
      "/Users/smoot/anaconda/lib/python2.7/site-packages/ipykernel/__main__.py:2: FutureWarning: eval expressions containing an assignment currentlydefault to operating inplace.\n",
      "This will change in a future version of pandas, use inplace=True to avoid this warning.\n",
      "  from ipykernel import kernelapp as app\n"
     ]
    },
    {
     "data": {
      "text/html": [
       "<div>\n",
       "<table border=\"1\" class=\"dataframe\">\n",
       "  <thead>\n",
       "    <tr style=\"text-align: right;\">\n",
       "      <th></th>\n",
       "      <th>volume_sold</th>\n",
       "      <th>2015_margin</th>\n",
       "      <th>2015_q1_sales</th>\n",
       "      <th>2016_q1_sales</th>\n",
       "      <th>bonus</th>\n",
       "    </tr>\n",
       "  </thead>\n",
       "  <tbody>\n",
       "    <tr>\n",
       "      <th>0</th>\n",
       "      <td>29.420760</td>\n",
       "      <td>93.802281</td>\n",
       "      <td>337166.53</td>\n",
       "      <td>337804.05</td>\n",
       "      <td>smoot</td>\n",
       "    </tr>\n",
       "    <tr>\n",
       "      <th>1</th>\n",
       "      <td>15.776510</td>\n",
       "      <td>21.082425</td>\n",
       "      <td>22351.86</td>\n",
       "      <td>21736.63</td>\n",
       "      <td>smoot</td>\n",
       "    </tr>\n",
       "    <tr>\n",
       "      <th>2</th>\n",
       "      <td>27.602401</td>\n",
       "      <td>93.612494</td>\n",
       "      <td>277764.46</td>\n",
       "      <td>306942.27</td>\n",
       "      <td>smoot</td>\n",
       "    </tr>\n",
       "    <tr>\n",
       "      <th>3</th>\n",
       "      <td>15.296111</td>\n",
       "      <td>16.824704</td>\n",
       "      <td>16805.11</td>\n",
       "      <td>9307.75</td>\n",
       "      <td>smoot</td>\n",
       "    </tr>\n",
       "    <tr>\n",
       "      <th>4</th>\n",
       "      <td>19.156023</td>\n",
       "      <td>35.011457</td>\n",
       "      <td>54411.42</td>\n",
       "      <td>58939.90</td>\n",
       "      <td>smoot</td>\n",
       "    </tr>\n",
       "    <tr>\n",
       "      <th>5</th>\n",
       "      <td>16.005122</td>\n",
       "      <td>31.877437</td>\n",
       "      <td>255939.81</td>\n",
       "      <td>332979.03</td>\n",
       "      <td>smoot</td>\n",
       "    </tr>\n",
       "    <tr>\n",
       "      <th>6</th>\n",
       "      <td>25.606750</td>\n",
       "      <td>76.518973</td>\n",
       "      <td>319020.69</td>\n",
       "      <td>302592.88</td>\n",
       "      <td>smoot</td>\n",
       "    </tr>\n",
       "    <tr>\n",
       "      <th>7</th>\n",
       "      <td>15.456466</td>\n",
       "      <td>19.337345</td>\n",
       "      <td>45340.33</td>\n",
       "      <td>55315.23</td>\n",
       "      <td>smoot</td>\n",
       "    </tr>\n",
       "    <tr>\n",
       "      <th>8</th>\n",
       "      <td>16.047530</td>\n",
       "      <td>26.142470</td>\n",
       "      <td>57849.23</td>\n",
       "      <td>42398.57</td>\n",
       "      <td>smoot</td>\n",
       "    </tr>\n",
       "    <tr>\n",
       "      <th>9</th>\n",
       "      <td>16.388070</td>\n",
       "      <td>22.427024</td>\n",
       "      <td>51031.04</td>\n",
       "      <td>56241.57</td>\n",
       "      <td>smoot</td>\n",
       "    </tr>\n",
       "    <tr>\n",
       "      <th>10</th>\n",
       "      <td>20.347349</td>\n",
       "      <td>41.892133</td>\n",
       "      <td>68657.91</td>\n",
       "      <td>3536.14</td>\n",
       "      <td>smoot</td>\n",
       "    </tr>\n",
       "    <tr>\n",
       "      <th>11</th>\n",
       "      <td>21.930398</td>\n",
       "      <td>66.403049</td>\n",
       "      <td>4151.93</td>\n",
       "      <td>137416.93</td>\n",
       "      <td>smoot</td>\n",
       "    </tr>\n",
       "    <tr>\n",
       "      <th>12</th>\n",
       "      <td>17.270209</td>\n",
       "      <td>47.869324</td>\n",
       "      <td>121837.56</td>\n",
       "      <td>158476.55</td>\n",
       "      <td>smoot</td>\n",
       "    </tr>\n",
       "    <tr>\n",
       "      <th>13</th>\n",
       "      <td>23.395919</td>\n",
       "      <td>86.760150</td>\n",
       "      <td>146725.31</td>\n",
       "      <td>125731.51</td>\n",
       "      <td>smoot</td>\n",
       "    </tr>\n",
       "    <tr>\n",
       "      <th>14</th>\n",
       "      <td>15.557712</td>\n",
       "      <td>22.948176</td>\n",
       "      <td>119287.76</td>\n",
       "      <td>21834.49</td>\n",
       "      <td>smoot</td>\n",
       "    </tr>\n",
       "    <tr>\n",
       "      <th>15</th>\n",
       "      <td>15.200122</td>\n",
       "      <td>18.706055</td>\n",
       "      <td>20335.03</td>\n",
       "      <td>39609.55</td>\n",
       "      <td>smoot</td>\n",
       "    </tr>\n",
       "    <tr>\n",
       "      <th>16</th>\n",
       "      <td>21.252870</td>\n",
       "      <td>44.041177</td>\n",
       "      <td>110552.94</td>\n",
       "      <td>204038.87</td>\n",
       "      <td>smoot</td>\n",
       "    </tr>\n",
       "    <tr>\n",
       "      <th>17</th>\n",
       "      <td>23.076785</td>\n",
       "      <td>62.199004</td>\n",
       "      <td>204237.78</td>\n",
       "      <td>15689.80</td>\n",
       "      <td>smoot</td>\n",
       "    </tr>\n",
       "    <tr>\n",
       "      <th>18</th>\n",
       "      <td>14.725095</td>\n",
       "      <td>14.251810</td>\n",
       "      <td>16939.15</td>\n",
       "      <td>48545.69</td>\n",
       "      <td>smoot</td>\n",
       "    </tr>\n",
       "    <tr>\n",
       "      <th>19</th>\n",
       "      <td>14.210727</td>\n",
       "      <td>16.043269</td>\n",
       "      <td>55498.12</td>\n",
       "      <td>16320.74</td>\n",
       "      <td>smoot</td>\n",
       "    </tr>\n",
       "    <tr>\n",
       "      <th>20</th>\n",
       "      <td>17.290971</td>\n",
       "      <td>25.191171</td>\n",
       "      <td>15983.98</td>\n",
       "      <td>53182.55</td>\n",
       "      <td>smoot</td>\n",
       "    </tr>\n",
       "    <tr>\n",
       "      <th>21</th>\n",
       "      <td>18.434821</td>\n",
       "      <td>31.753066</td>\n",
       "      <td>71758.66</td>\n",
       "      <td>30402.43</td>\n",
       "      <td>smoot</td>\n",
       "    </tr>\n",
       "    <tr>\n",
       "      <th>22</th>\n",
       "      <td>15.376225</td>\n",
       "      <td>23.161451</td>\n",
       "      <td>62988.17</td>\n",
       "      <td>47217.40</td>\n",
       "      <td>smoot</td>\n",
       "    </tr>\n",
       "    <tr>\n",
       "      <th>23</th>\n",
       "      <td>23.988913</td>\n",
       "      <td>48.820741</td>\n",
       "      <td>29637.75</td>\n",
       "      <td>6367.76</td>\n",
       "      <td>smoot</td>\n",
       "    </tr>\n",
       "    <tr>\n",
       "      <th>24</th>\n",
       "      <td>22.697456</td>\n",
       "      <td>73.231504</td>\n",
       "      <td>48759.71</td>\n",
       "      <td>329252.09</td>\n",
       "      <td>smoot</td>\n",
       "    </tr>\n",
       "    <tr>\n",
       "      <th>25</th>\n",
       "      <td>16.965175</td>\n",
       "      <td>23.450334</td>\n",
       "      <td>89736.70</td>\n",
       "      <td>332976.05</td>\n",
       "      <td>smoot</td>\n",
       "    </tr>\n",
       "    <tr>\n",
       "      <th>26</th>\n",
       "      <td>14.945223</td>\n",
       "      <td>14.144793</td>\n",
       "      <td>5577.61</td>\n",
       "      <td>234926.02</td>\n",
       "      <td>smoot</td>\n",
       "    </tr>\n",
       "    <tr>\n",
       "      <th>27</th>\n",
       "      <td>18.369585</td>\n",
       "      <td>36.408528</td>\n",
       "      <td>310035.66</td>\n",
       "      <td>151934.45</td>\n",
       "      <td>smoot</td>\n",
       "    </tr>\n",
       "    <tr>\n",
       "      <th>28</th>\n",
       "      <td>18.343509</td>\n",
       "      <td>36.171862</td>\n",
       "      <td>310718.21</td>\n",
       "      <td>314068.92</td>\n",
       "      <td>smoot</td>\n",
       "    </tr>\n",
       "    <tr>\n",
       "      <th>29</th>\n",
       "      <td>23.350027</td>\n",
       "      <td>59.893478</td>\n",
       "      <td>258284.84</td>\n",
       "      <td>61847.52</td>\n",
       "      <td>smoot</td>\n",
       "    </tr>\n",
       "    <tr>\n",
       "      <th>...</th>\n",
       "      <td>...</td>\n",
       "      <td>...</td>\n",
       "      <td>...</td>\n",
       "      <td>...</td>\n",
       "      <td>...</td>\n",
       "    </tr>\n",
       "    <tr>\n",
       "      <th>170</th>\n",
       "      <td>19.443932</td>\n",
       "      <td>37.407112</td>\n",
       "      <td>17232.45</td>\n",
       "      <td>19203.82</td>\n",
       "      <td>smoot</td>\n",
       "    </tr>\n",
       "    <tr>\n",
       "      <th>171</th>\n",
       "      <td>16.151964</td>\n",
       "      <td>20.698042</td>\n",
       "      <td>21340.78</td>\n",
       "      <td>25302.92</td>\n",
       "      <td>smoot</td>\n",
       "    </tr>\n",
       "    <tr>\n",
       "      <th>172</th>\n",
       "      <td>17.537069</td>\n",
       "      <td>22.888219</td>\n",
       "      <td>16617.85</td>\n",
       "      <td>18650.96</td>\n",
       "      <td>smoot</td>\n",
       "    </tr>\n",
       "    <tr>\n",
       "      <th>173</th>\n",
       "      <td>19.500445</td>\n",
       "      <td>27.507729</td>\n",
       "      <td>21711.71</td>\n",
       "      <td>14626.29</td>\n",
       "      <td>smoot</td>\n",
       "    </tr>\n",
       "    <tr>\n",
       "      <th>174</th>\n",
       "      <td>14.931543</td>\n",
       "      <td>21.811659</td>\n",
       "      <td>28128.95</td>\n",
       "      <td>46323.73</td>\n",
       "      <td>smoot</td>\n",
       "    </tr>\n",
       "    <tr>\n",
       "      <th>175</th>\n",
       "      <td>17.163689</td>\n",
       "      <td>25.428521</td>\n",
       "      <td>21803.20</td>\n",
       "      <td>535381.86</td>\n",
       "      <td>smoot</td>\n",
       "    </tr>\n",
       "    <tr>\n",
       "      <th>176</th>\n",
       "      <td>15.904447</td>\n",
       "      <td>19.568317</td>\n",
       "      <td>12517.29</td>\n",
       "      <td>812011.78</td>\n",
       "      <td>smoot</td>\n",
       "    </tr>\n",
       "    <tr>\n",
       "      <th>177</th>\n",
       "      <td>18.402413</td>\n",
       "      <td>26.935335</td>\n",
       "      <td>53988.92</td>\n",
       "      <td>206247.57</td>\n",
       "      <td>smoot</td>\n",
       "    </tr>\n",
       "    <tr>\n",
       "      <th>178</th>\n",
       "      <td>58.503269</td>\n",
       "      <td>235.730678</td>\n",
       "      <td>555707.40</td>\n",
       "      <td>6402.78</td>\n",
       "      <td>smoot</td>\n",
       "    </tr>\n",
       "    <tr>\n",
       "      <th>179</th>\n",
       "      <td>66.739180</td>\n",
       "      <td>268.869600</td>\n",
       "      <td>1082136.01</td>\n",
       "      <td>100765.67</td>\n",
       "      <td>smoot</td>\n",
       "    </tr>\n",
       "    <tr>\n",
       "      <th>180</th>\n",
       "      <td>22.840780</td>\n",
       "      <td>56.433388</td>\n",
       "      <td>192089.46</td>\n",
       "      <td>20098.61</td>\n",
       "      <td>smoot</td>\n",
       "    </tr>\n",
       "    <tr>\n",
       "      <th>181</th>\n",
       "      <td>18.002294</td>\n",
       "      <td>26.440917</td>\n",
       "      <td>5574.99</td>\n",
       "      <td>68230.36</td>\n",
       "      <td>smoot</td>\n",
       "    </tr>\n",
       "    <tr>\n",
       "      <th>182</th>\n",
       "      <td>19.753142</td>\n",
       "      <td>45.293847</td>\n",
       "      <td>80241.27</td>\n",
       "      <td>596063.00</td>\n",
       "      <td>smoot</td>\n",
       "    </tr>\n",
       "    <tr>\n",
       "      <th>183</th>\n",
       "      <td>14.147741</td>\n",
       "      <td>15.594552</td>\n",
       "      <td>27043.54</td>\n",
       "      <td>87471.43</td>\n",
       "      <td>smoot</td>\n",
       "    </tr>\n",
       "    <tr>\n",
       "      <th>184</th>\n",
       "      <td>18.196779</td>\n",
       "      <td>27.288652</td>\n",
       "      <td>61977.54</td>\n",
       "      <td>431990.70</td>\n",
       "      <td>smoot</td>\n",
       "    </tr>\n",
       "    <tr>\n",
       "      <th>185</th>\n",
       "      <td>87.203692</td>\n",
       "      <td>367.225653</td>\n",
       "      <td>977772.62</td>\n",
       "      <td>136717.57</td>\n",
       "      <td>smoot</td>\n",
       "    </tr>\n",
       "    <tr>\n",
       "      <th>186</th>\n",
       "      <td>21.804337</td>\n",
       "      <td>42.031199</td>\n",
       "      <td>41905.18</td>\n",
       "      <td>30008.81</td>\n",
       "      <td>smoot</td>\n",
       "    </tr>\n",
       "    <tr>\n",
       "      <th>187</th>\n",
       "      <td>21.705327</td>\n",
       "      <td>45.891477</td>\n",
       "      <td>87839.45</td>\n",
       "      <td>19420.34</td>\n",
       "      <td>smoot</td>\n",
       "    </tr>\n",
       "    <tr>\n",
       "      <th>188</th>\n",
       "      <td>62.800686</td>\n",
       "      <td>255.153235</td>\n",
       "      <td>445058.32</td>\n",
       "      <td>274752.60</td>\n",
       "      <td>smoot</td>\n",
       "    </tr>\n",
       "    <tr>\n",
       "      <th>189</th>\n",
       "      <td>16.882779</td>\n",
       "      <td>27.512271</td>\n",
       "      <td>127495.18</td>\n",
       "      <td>10315.35</td>\n",
       "      <td>smoot</td>\n",
       "    </tr>\n",
       "    <tr>\n",
       "      <th>190</th>\n",
       "      <td>17.686406</td>\n",
       "      <td>26.103097</td>\n",
       "      <td>23874.67</td>\n",
       "      <td>45252.42</td>\n",
       "      <td>smoot</td>\n",
       "    </tr>\n",
       "    <tr>\n",
       "      <th>191</th>\n",
       "      <td>16.833355</td>\n",
       "      <td>23.741603</td>\n",
       "      <td>21535.87</td>\n",
       "      <td>433832.28</td>\n",
       "      <td>smoot</td>\n",
       "    </tr>\n",
       "    <tr>\n",
       "      <th>192</th>\n",
       "      <td>56.556096</td>\n",
       "      <td>218.008350</td>\n",
       "      <td>276096.18</td>\n",
       "      <td>74215.43</td>\n",
       "      <td>smoot</td>\n",
       "    </tr>\n",
       "    <tr>\n",
       "      <th>193</th>\n",
       "      <td>16.172606</td>\n",
       "      <td>21.548782</td>\n",
       "      <td>8506.79</td>\n",
       "      <td>78137.29</td>\n",
       "      <td>smoot</td>\n",
       "    </tr>\n",
       "    <tr>\n",
       "      <th>194</th>\n",
       "      <td>21.118018</td>\n",
       "      <td>46.700709</td>\n",
       "      <td>49163.01</td>\n",
       "      <td>83915.72</td>\n",
       "      <td>smoot</td>\n",
       "    </tr>\n",
       "    <tr>\n",
       "      <th>195</th>\n",
       "      <td>62.675537</td>\n",
       "      <td>233.533189</td>\n",
       "      <td>434110.57</td>\n",
       "      <td>372240.72</td>\n",
       "      <td>smoot</td>\n",
       "    </tr>\n",
       "    <tr>\n",
       "      <th>196</th>\n",
       "      <td>13.794631</td>\n",
       "      <td>11.996118</td>\n",
       "      <td>73789.38</td>\n",
       "      <td>148021.90</td>\n",
       "      <td>smoot</td>\n",
       "    </tr>\n",
       "    <tr>\n",
       "      <th>197</th>\n",
       "      <td>18.611698</td>\n",
       "      <td>38.809973</td>\n",
       "      <td>88006.84</td>\n",
       "      <td>31184.18</td>\n",
       "      <td>smoot</td>\n",
       "    </tr>\n",
       "    <tr>\n",
       "      <th>198</th>\n",
       "      <td>26.697651</td>\n",
       "      <td>105.035207</td>\n",
       "      <td>117958.96</td>\n",
       "      <td>33324.36</td>\n",
       "      <td>smoot</td>\n",
       "    </tr>\n",
       "    <tr>\n",
       "      <th>199</th>\n",
       "      <td>61.275893</td>\n",
       "      <td>225.055138</td>\n",
       "      <td>407738.79</td>\n",
       "      <td>32079.13</td>\n",
       "      <td>smoot</td>\n",
       "    </tr>\n",
       "  </tbody>\n",
       "</table>\n",
       "<p>200 rows × 5 columns</p>\n",
       "</div>"
      ],
      "text/plain": [
       "     volume_sold  2015_margin  2015_q1_sales  2016_q1_sales  bonus\n",
       "0      29.420760    93.802281      337166.53      337804.05  smoot\n",
       "1      15.776510    21.082425       22351.86       21736.63  smoot\n",
       "2      27.602401    93.612494      277764.46      306942.27  smoot\n",
       "3      15.296111    16.824704       16805.11        9307.75  smoot\n",
       "4      19.156023    35.011457       54411.42       58939.90  smoot\n",
       "5      16.005122    31.877437      255939.81      332979.03  smoot\n",
       "6      25.606750    76.518973      319020.69      302592.88  smoot\n",
       "7      15.456466    19.337345       45340.33       55315.23  smoot\n",
       "8      16.047530    26.142470       57849.23       42398.57  smoot\n",
       "9      16.388070    22.427024       51031.04       56241.57  smoot\n",
       "10     20.347349    41.892133       68657.91        3536.14  smoot\n",
       "11     21.930398    66.403049        4151.93      137416.93  smoot\n",
       "12     17.270209    47.869324      121837.56      158476.55  smoot\n",
       "13     23.395919    86.760150      146725.31      125731.51  smoot\n",
       "14     15.557712    22.948176      119287.76       21834.49  smoot\n",
       "15     15.200122    18.706055       20335.03       39609.55  smoot\n",
       "16     21.252870    44.041177      110552.94      204038.87  smoot\n",
       "17     23.076785    62.199004      204237.78       15689.80  smoot\n",
       "18     14.725095    14.251810       16939.15       48545.69  smoot\n",
       "19     14.210727    16.043269       55498.12       16320.74  smoot\n",
       "20     17.290971    25.191171       15983.98       53182.55  smoot\n",
       "21     18.434821    31.753066       71758.66       30402.43  smoot\n",
       "22     15.376225    23.161451       62988.17       47217.40  smoot\n",
       "23     23.988913    48.820741       29637.75        6367.76  smoot\n",
       "24     22.697456    73.231504       48759.71      329252.09  smoot\n",
       "25     16.965175    23.450334       89736.70      332976.05  smoot\n",
       "26     14.945223    14.144793        5577.61      234926.02  smoot\n",
       "27     18.369585    36.408528      310035.66      151934.45  smoot\n",
       "28     18.343509    36.171862      310718.21      314068.92  smoot\n",
       "29     23.350027    59.893478      258284.84       61847.52  smoot\n",
       "..           ...          ...            ...            ...    ...\n",
       "170    19.443932    37.407112       17232.45       19203.82  smoot\n",
       "171    16.151964    20.698042       21340.78       25302.92  smoot\n",
       "172    17.537069    22.888219       16617.85       18650.96  smoot\n",
       "173    19.500445    27.507729       21711.71       14626.29  smoot\n",
       "174    14.931543    21.811659       28128.95       46323.73  smoot\n",
       "175    17.163689    25.428521       21803.20      535381.86  smoot\n",
       "176    15.904447    19.568317       12517.29      812011.78  smoot\n",
       "177    18.402413    26.935335       53988.92      206247.57  smoot\n",
       "178    58.503269   235.730678      555707.40        6402.78  smoot\n",
       "179    66.739180   268.869600     1082136.01      100765.67  smoot\n",
       "180    22.840780    56.433388      192089.46       20098.61  smoot\n",
       "181    18.002294    26.440917        5574.99       68230.36  smoot\n",
       "182    19.753142    45.293847       80241.27      596063.00  smoot\n",
       "183    14.147741    15.594552       27043.54       87471.43  smoot\n",
       "184    18.196779    27.288652       61977.54      431990.70  smoot\n",
       "185    87.203692   367.225653      977772.62      136717.57  smoot\n",
       "186    21.804337    42.031199       41905.18       30008.81  smoot\n",
       "187    21.705327    45.891477       87839.45       19420.34  smoot\n",
       "188    62.800686   255.153235      445058.32      274752.60  smoot\n",
       "189    16.882779    27.512271      127495.18       10315.35  smoot\n",
       "190    17.686406    26.103097       23874.67       45252.42  smoot\n",
       "191    16.833355    23.741603       21535.87      433832.28  smoot\n",
       "192    56.556096   218.008350      276096.18       74215.43  smoot\n",
       "193    16.172606    21.548782        8506.79       78137.29  smoot\n",
       "194    21.118018    46.700709       49163.01       83915.72  smoot\n",
       "195    62.675537   233.533189      434110.57      372240.72  smoot\n",
       "196    13.794631    11.996118       73789.38      148021.90  smoot\n",
       "197    18.611698    38.809973       88006.84       31184.18  smoot\n",
       "198    26.697651   105.035207      117958.96       33324.36  smoot\n",
       "199    61.275893   225.055138      407738.79       32079.13  smoot\n",
       "\n",
       "[200 rows x 5 columns]"
      ]
     },
     "execution_count": 125,
     "metadata": {},
     "output_type": "execute_result"
    }
   ],
   "source": [
    "rs1.eval('volume_sold = volume_sold+1')\n",
    "rs1.eval('volume_sold = volume_sold+3')\n",
    "rs1"
   ]
  },
  {
   "cell_type": "code",
   "execution_count": 133,
   "metadata": {
    "collapsed": false
   },
   "outputs": [
    {
     "data": {
      "text/plain": [
       "array([[<matplotlib.axes._subplots.AxesSubplot object at 0x1180aec90>,\n",
       "        <matplotlib.axes._subplots.AxesSubplot object at 0x1181c1690>],\n",
       "       [<matplotlib.axes._subplots.AxesSubplot object at 0x1182496d0>,\n",
       "        <matplotlib.axes._subplots.AxesSubplot object at 0x1182cb550>]], dtype=object)"
      ]
     },
     "execution_count": 133,
     "metadata": {},
     "output_type": "execute_result"
    },
    {
     "data": {
      "image/png": "[encoded data removed]",
      "text/plain": [
       "<matplotlib.figure.Figure at 0x11582ea90>"
      ]
     },
     "metadata": {},
     "output_type": "display_data"
    }
   ],
   "source": [
    "df.hist()"
   ]
  },
  {
   "cell_type": "code",
   "execution_count": null,
   "metadata": {
    "collapsed": true
   },
   "outputs": [],
   "source": []
  }
 ],
 "metadata": {
  "kernelspec": {
   "display_name": "Python 2",
   "language": "python",
   "name": "python2"
  },
  "language_info": {
   "codemirror_mode": {
    "name": "ipython",
    "version": 2
   },
   "file_extension": ".py",
   "mimetype": "text/x-python",
   "name": "python",
   "nbconvert_exporter": "python",
   "pygments_lexer": "ipython2",
   "version": "2.7.11"
  }
 },
 "nbformat": 4,
 "nbformat_minor": 0
}
