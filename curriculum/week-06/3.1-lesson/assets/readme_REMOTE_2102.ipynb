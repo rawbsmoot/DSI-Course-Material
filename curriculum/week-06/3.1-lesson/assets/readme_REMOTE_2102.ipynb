{
 "cells": [
  {
   "cell_type": "markdown",
   "metadata": {},
   "source": [
    "---\n",
    "title: Ensemble Methods - Random Forests and Boosting\n",
    "duration: \"1:25\"\n",
    "creator:\n",
    "    name: Francesco Mosconi\n",
    "    city: SF\n",
    "---"
   ]
  },
  {
   "cell_type": "markdown",
   "metadata": {},
   "source": [
    "# ![](https://ga-dash.s3.amazonaws.com/production/assets/logo-9f88ae6c9c3871690e33280fcf557f33.png) Ensemble Methods - Random Forests and Boosting\n",
    "Week 6| Lesson 3.1"
   ]
  },
  {
   "cell_type": "markdown",
   "metadata": {},
   "source": [
    "### LEARNING OBJECTIVES\n",
    "*After this lesson, you will be able to:*\n",
    "- Explain what Random Forest is and how it is different from Bagging of Decision trees\n",
    "- Explain what Extra Trees models are\n",
    "- Apply both techniques to classification\n",
    "- Describe Boosting and how it differs from Bagging\n",
    "- Apply Adaboost and Gradient Boosting to classification problems"
   ]
  },
  {
   "cell_type": "markdown",
   "metadata": {},
   "source": [
    "### STUDENT PRE-WORK\n",
    "*Before this lesson, you should already be able to:*\n",
    "- perform a classification using decision trees\n",
    "- describe how bagging works and use it in scikit learn"
   ]
  },
  {
   "cell_type": "markdown",
   "metadata": {},
   "source": [
    "### INSTRUCTOR PREP\n",
    "*Before this lesson, instructors will need to:*\n",
    "- Read in / Review any dataset(s) & starter/solution code\n",
    "- Generate a brief slide deck\n",
    "- Prepare any specific materials\n",
    "- Provide students with additional resources"
   ]
  },
  {
   "cell_type": "markdown",
   "metadata": {},
   "source": [
    "### LESSON GUIDE\n",
    "| TIMING  | TYPE  | TOPIC  |\n",
    "|:-:|---|---|\n",
    "| 5 min | [Opening](#opening) | Opening |\n",
    "| 25 min | [Introduction](#introduction) | Intro to Random Forest |\n",
    "| 20 min | [Guided-practice](#guided-practice) | Guided Practice: Random Forest and ExtraTrees in Scikit Learn |\n",
    "| 15 min | [Introduction](#introduction_2) | Intro to Boosting |\n",
    "| 15 min | [Ind-practice](#ind-practice) | Independent Practice: Ada Boost and Gradient Boosting Classifier |\n",
    "| 5 min | [Conclusion](#conclusion) | Conclusion |"
   ]
  },
  {
   "cell_type": "markdown",
   "metadata": {},
   "source": [
    "<a name=\"opening\"></a>\n",
    "## Opening (5 mins)\n",
    "**Check:** What happens when you combine bagging with decision trees? Recall some observations from the past labs and lessons.\n",
    "> Answer: generally perfomance improves\n",
    "\n",
    "Today we will learn about random forests, which are essentially a variation of the bagging + decision tree model.\n",
    "We will also learn about a different ensemble technique called _boosting_ and we will compare it with _bagging_."
   ]
  },
  {
   "cell_type": "markdown",
   "metadata": {},
   "source": [
    "<a name=\"introduction\"></a>\n",
    "## Intro to Random Forest (25 min)\n",
    "\n",
    "Random Forests are some of the most widespread classifiers used.  They are relatively simple to use because they require very few parameters to set and they perform pretty well.\n",
    "\n",
    "As we have see, Decision Trees are very powerful machine learning models.\n",
    "\n",
    "**Check:** What are the main advantages of decision trees?\n",
    "> Answer:\n",
    "- fast\n",
    "- non parametric\n",
    "- scale independent\n",
    "- ...\n",
    "\n",
    "On the other hand Decision Trees have some limitations, in particular, trees that are grown very deep tend to learn highly irregular patterns: they overfit their training sets. Bagging helps mitigate this problem by exposing different trees to different sub-samples of the whole training set.\n",
    "\n",
    "Random forests are a further way of averaging multiple deep decision trees, trained on different parts of the same training set, with the goal of reducing the variance. This comes at the expense of a small increase in the bias and some loss of interpretability, but generally greatly boosts the performance of the final model.\n",
    "\n",
    "![www.cse.buffalo.edu/~jing/sdm10ensemble.htm](../assets/images/Ensemble.png)\n",
    "\n",
    "**Check:** Describe how the bagging algorithm works:\n",
    "> Answer:\n",
    "- sub sample with replacement\n",
    "- train base models on subsamples\n",
    "- combine prediction by average or majority vote\n",
    "\n",
    "_Random forests_ differ from bagging decision tree in only one way: they use a modified tree learning algorithm that selects, at each candidate split in the learning process, a **random subset of the features**. This process is sometimes called \"feature bagging\". The reason for doing this is the correlation of the trees in an ordinary bootstrap sample: if one or a few features are very strong predictors for the response variable (target output), these features will be selected in many of the bagging base trees, causing them to become correlated. By selecting a random subset of the features at each split, we counter this correlation between base trees, strengthening the overall model.\n",
    "\n",
    "**Check:** recall what are the two properties base models must satisfy in order for bagging to work well.\n",
    "> Answer: base models must be:\n",
    "- accurate: better than random guessing\n",
    "- diverse: uncorrelated between one another\n",
    "\n",
    "Typically, for a classification problem with $p$ features, $\\sqrt{p}$ (rounded down) features are used in each split. For regression problems the inventors recommend $p/3$ (rounded down) with a minimum node size of 5 as the default.\n",
    "\n",
    "\n",
    "### Extremely Randomized Trees\n",
    "Adding one further step of randomization yields extremely randomized trees, or _ExtraTrees_. These are trained using bagging and the random subspace method, like in an ordinary random forest, but an additional layer of randomness is introduced. Instead of computing the locally optimal feature/split combination (based on, e.g., information gain or the Gini impurity), for each feature under consideration, a random value is selected for the split. This value is selected from the feature's empirical range (in the tree's training set, i.e., the bootstrap sample), in other words, the top-down splitting in the tree learner is randomized."
   ]
  },
  {
   "cell_type": "markdown",
   "metadata": {},
   "source": [
    "<a name=\"guided-practice\"></a>\n",
    "## Guided Practice: Random Forest and ExtraTrees in Scikit Learn (20 min)\n",
    "\n",
    "Scikit Learn implements both random forest and extra trees methods as part of the `ensemble` module.\n",
    "\n",
    "Have a look at the documentation here: http://scikit-learn.org/stable/modules/ensemble.html#forest (5 min).\n",
    "\n",
    "**Check:** what parameters did you notice? Any questions on those?\n",
    "\n",
    "\n",
    "Let's load the [car dataset](https://archive.ics.uci.edu/ml/machine-learning-databases/car/), we are familiar with it by now."
   ]
  },
  {
   "cell_type": "code",
   "execution_count": 1,
   "metadata": {
    "collapsed": false
   },
   "outputs": [
    {
     "data": {
      "text/html": [
       "<div>\n",
       "<table border=\"1\" class=\"dataframe\">\n",
       "  <thead>\n",
       "    <tr style=\"text-align: right;\">\n",
       "      <th></th>\n",
       "      <th>buying</th>\n",
       "      <th>maint</th>\n",
       "      <th>doors</th>\n",
       "      <th>persons</th>\n",
       "      <th>lug_boot</th>\n",
       "      <th>safety</th>\n",
       "      <th>acceptability</th>\n",
       "    </tr>\n",
       "  </thead>\n",
       "  <tbody>\n",
       "    <tr>\n",
       "      <th>0</th>\n",
       "      <td>vhigh</td>\n",
       "      <td>vhigh</td>\n",
       "      <td>2</td>\n",
       "      <td>2</td>\n",
       "      <td>small</td>\n",
       "      <td>low</td>\n",
       "      <td>unacc</td>\n",
       "    </tr>\n",
       "    <tr>\n",
       "      <th>1</th>\n",
       "      <td>vhigh</td>\n",
       "      <td>vhigh</td>\n",
       "      <td>2</td>\n",
       "      <td>2</td>\n",
       "      <td>small</td>\n",
       "      <td>med</td>\n",
       "      <td>unacc</td>\n",
       "    </tr>\n",
       "    <tr>\n",
       "      <th>2</th>\n",
       "      <td>vhigh</td>\n",
       "      <td>vhigh</td>\n",
       "      <td>2</td>\n",
       "      <td>2</td>\n",
       "      <td>small</td>\n",
       "      <td>high</td>\n",
       "      <td>unacc</td>\n",
       "    </tr>\n",
       "    <tr>\n",
       "      <th>3</th>\n",
       "      <td>vhigh</td>\n",
       "      <td>vhigh</td>\n",
       "      <td>2</td>\n",
       "      <td>2</td>\n",
       "      <td>med</td>\n",
       "      <td>low</td>\n",
       "      <td>unacc</td>\n",
       "    </tr>\n",
       "    <tr>\n",
       "      <th>4</th>\n",
       "      <td>vhigh</td>\n",
       "      <td>vhigh</td>\n",
       "      <td>2</td>\n",
       "      <td>2</td>\n",
       "      <td>med</td>\n",
       "      <td>med</td>\n",
       "      <td>unacc</td>\n",
       "    </tr>\n",
       "  </tbody>\n",
       "</table>\n",
       "</div>"
      ],
      "text/plain": [
       "  buying  maint doors persons lug_boot safety acceptability\n",
       "0  vhigh  vhigh     2       2    small    low         unacc\n",
       "1  vhigh  vhigh     2       2    small    med         unacc\n",
       "2  vhigh  vhigh     2       2    small   high         unacc\n",
       "3  vhigh  vhigh     2       2      med    low         unacc\n",
       "4  vhigh  vhigh     2       2      med    med         unacc"
      ]
     },
     "execution_count": 1,
     "metadata": {},
     "output_type": "execute_result"
    }
   ],
   "source": [
    "import pandas as pd\n",
    "df = pd.read_csv('../assets/datasets/car.csv')\n",
    "df.head()"
   ]
  },
  {
   "cell_type": "markdown",
   "metadata": {},
   "source": [
    "This time we will encode the features using a One Hot encoding scheme, i.e. we will consider them as categorical variables. We also need to encode the label using the `LabelEncoder`."
   ]
  },
  {
   "cell_type": "code",
   "execution_count": 2,
   "metadata": {
    "collapsed": false
   },
   "outputs": [
    {
     "name": "stdout",
     "output_type": "stream",
     "text": [
      "   buying_high  buying_low  buying_med  buying_vhigh  maint_high  maint_low  \\\n",
      "0          0.0         0.0         0.0           1.0         0.0        0.0   \n",
      "1          0.0         0.0         0.0           1.0         0.0        0.0   \n",
      "2          0.0         0.0         0.0           1.0         0.0        0.0   \n",
      "3          0.0         0.0         0.0           1.0         0.0        0.0   \n",
      "4          0.0         0.0         0.0           1.0         0.0        0.0   \n",
      "\n",
      "   maint_med  maint_vhigh  doors_2  doors_3     ...      doors_5more  \\\n",
      "0        0.0          1.0      1.0      0.0     ...              0.0   \n",
      "1        0.0          1.0      1.0      0.0     ...              0.0   \n",
      "2        0.0          1.0      1.0      0.0     ...              0.0   \n",
      "3        0.0          1.0      1.0      0.0     ...              0.0   \n",
      "4        0.0          1.0      1.0      0.0     ...              0.0   \n",
      "\n",
      "   persons_2  persons_4  persons_more  lug_boot_big  lug_boot_med  \\\n",
      "0        1.0        0.0           0.0           0.0           0.0   \n",
      "1        1.0        0.0           0.0           0.0           0.0   \n",
      "2        1.0        0.0           0.0           0.0           0.0   \n",
      "3        1.0        0.0           0.0           0.0           1.0   \n",
      "4        1.0        0.0           0.0           0.0           1.0   \n",
      "\n",
      "   lug_boot_small  safety_high  safety_low  safety_med  \n",
      "0             1.0          0.0         1.0         0.0  \n",
      "1             1.0          0.0         0.0         1.0  \n",
      "2             1.0          1.0         0.0         0.0  \n",
      "3             0.0          0.0         1.0         0.0  \n",
      "4             0.0          0.0         0.0         1.0  \n",
      "\n",
      "[5 rows x 21 columns]\n"
     ]
    }
   ],
   "source": [
    "from sklearn.preprocessing import LabelEncoder\n",
    "y = LabelEncoder().fit_transform(df['acceptability'])\n",
    "X = pd.get_dummies(df.drop('acceptability', axis=1))\n",
    "print X.head()"
   ]
  },
  {
   "cell_type": "markdown",
   "metadata": {},
   "source": [
    "We would like to compare the performance of the following 4 algorithms:\n",
    "\n",
    "- Decision Trees\n",
    "- Bagging + Decision Trees\n",
    "- Random Forest\n",
    "- Extra Trees\n",
    "\n",
    "Note that in order for our results to be consistent we have to expose the models to exactly the same Cross Validation scheme. Let's start initializing that."
   ]
  },
  {
   "cell_type": "code",
   "execution_count": 3,
   "metadata": {
    "collapsed": false
   },
   "outputs": [
    {
     "name": "stdout",
     "output_type": "stream",
     "text": [
      "sklearn.cross_validation.StratifiedKFold(labels=[2 2 2 ..., 2 1 3], n_folds=3, shuffle=True, random_state=41)\n"
     ]
    }
   ],
   "source": [
    "from sklearn.cross_validation import cross_val_score, StratifiedKFold\n",
    "from sklearn.tree import DecisionTreeClassifier\n",
    "from sklearn.ensemble import RandomForestClassifier, ExtraTreesClassifier, BaggingClassifier\n",
    "\n",
    "cv = StratifiedKFold(y, n_folds=3, shuffle=True, random_state=41)\n",
    "print cv"
   ]
  },
  {
   "cell_type": "markdown",
   "metadata": {},
   "source": [
    "Now let's initialize a Decision Tree Classifier and evaluate its performance:"
   ]
  },
  {
   "cell_type": "code",
   "execution_count": 12,
   "metadata": {
    "collapsed": false
   },
   "outputs": [
    {
     "name": "stdout",
     "output_type": "stream",
     "text": [
      "('TRAIN:', array([   0,    2,    3, ..., 1723, 1725, 1727]), 'TEST:', array([   1,    5,    7,    8,    9,   10,   15,   16,   21,   22,   23,\n",
      "         24,   25,   26,   29,   31,   35,   37,   39,   42,   44,   51,\n",
      "         52,   53,   55,   56,   57,   60,   67,   69,   70,   78,   79,\n",
      "         81,   85,   86,   87,   88,   90,   93,   99,  104,  105,  116,\n",
      "        117,  120,  122,  127,  129,  135,  141,  145,  146,  149,  152,\n",
      "        154,  171,  172,  174,  180,  186,  187,  189,  190,  200,  202,\n",
      "        206,  208,  214,  215,  220,  223,  225,  233,  249,  259,  266,\n",
      "        268,  273,  279,  281,  282,  287,  288,  294,  296,  304,  306,\n",
      "        308,  310,  312,  313,  315,  316,  318,  323,  329,  332,  333,\n",
      "        335,  336,  337,  343,  350,  351,  352,  356,  357,  358,  364,\n",
      "        367,  374,  377,  378,  384,  386,  387,  390,  392,  393,  395,\n",
      "        397,  400,  402,  403,  410,  412,  413,  417,  418,  420,  423,\n",
      "        430,  436,  437,  439,  442,  443,  447,  448,  449,  450,  454,\n",
      "        455,  459,  460,  467,  468,  472,  474,  475,  476,  479,  480,\n",
      "        481,  485,  486,  487,  488,  495,  497,  499,  504,  512,  514,\n",
      "        517,  518,  523,  524,  529,  530,  535,  540,  544,  546,  548,\n",
      "        550,  551,  558,  559,  568,  569,  571,  572,  574,  576,  584,\n",
      "        586,  590,  591,  592,  593,  595,  596,  599,  602,  606,  617,\n",
      "        618,  622,  630,  632,  633,  634,  645,  649,  650,  655,  657,\n",
      "        658,  659,  663,  664,  668,  669,  681,  683,  689,  690,  692,\n",
      "        693,  694,  696,  697,  701,  702,  703,  706,  707,  709,  710,\n",
      "        713,  714,  720,  728,  734,  736,  737,  738,  740,  745,  748,\n",
      "        749,  751,  754,  755,  760,  763,  766,  772,  774,  776,  778,\n",
      "        786,  787,  791,  792,  793,  797,  802,  803,  804,  805,  807,\n",
      "        808,  810,  814,  815,  818,  820,  822,  825,  828,  830,  832,\n",
      "        836,  842,  846,  848,  860,  861,  864,  874,  876,  879,  883,\n",
      "        885,  889,  893,  898,  899,  900,  904,  909,  910,  911,  912,\n",
      "        913,  915,  919,  922,  926,  931,  933,  935,  939,  942,  943,\n",
      "        947,  954,  960,  969,  970,  972,  975,  976,  979,  983,  985,\n",
      "        989,  991,  993,  997, 1003, 1006, 1007, 1010, 1012, 1013, 1015,\n",
      "       1021, 1023, 1025, 1030, 1034, 1036, 1039, 1040, 1046, 1048, 1052,\n",
      "       1059, 1061, 1064, 1068, 1071, 1072, 1073, 1077, 1079, 1080, 1082,\n",
      "       1085, 1087, 1089, 1090, 1091, 1092, 1093, 1094, 1095, 1098, 1099,\n",
      "       1100, 1103, 1105, 1108, 1125, 1126, 1129, 1136, 1138, 1139, 1142,\n",
      "       1145, 1146, 1148, 1149, 1150, 1153, 1154, 1159, 1160, 1162, 1163,\n",
      "       1169, 1174, 1175, 1176, 1177, 1180, 1184, 1189, 1190, 1193, 1194,\n",
      "       1195, 1196, 1203, 1205, 1209, 1210, 1212, 1213, 1214, 1216, 1220,\n",
      "       1221, 1222, 1229, 1230, 1237, 1238, 1243, 1244, 1245, 1255, 1257,\n",
      "       1264, 1266, 1272, 1273, 1274, 1278, 1279, 1281, 1284, 1285, 1286,\n",
      "       1288, 1289, 1292, 1293, 1297, 1302, 1305, 1306, 1308, 1311, 1315,\n",
      "       1316, 1320, 1322, 1323, 1324, 1326, 1329, 1332, 1335, 1340, 1347,\n",
      "       1349, 1350, 1352, 1354, 1358, 1363, 1364, 1368, 1373, 1381, 1382,\n",
      "       1383, 1386, 1389, 1394, 1395, 1396, 1397, 1399, 1400, 1403, 1407,\n",
      "       1417, 1418, 1420, 1424, 1429, 1432, 1433, 1434, 1439, 1442, 1443,\n",
      "       1444, 1447, 1448, 1451, 1458, 1459, 1460, 1462, 1464, 1467, 1470,\n",
      "       1474, 1475, 1484, 1488, 1491, 1492, 1493, 1498, 1501, 1502, 1505,\n",
      "       1517, 1520, 1522, 1526, 1527, 1528, 1529, 1530, 1531, 1534, 1535,\n",
      "       1536, 1543, 1545, 1548, 1551, 1558, 1560, 1565, 1568, 1575, 1577,\n",
      "       1579, 1580, 1581, 1582, 1583, 1594, 1595, 1596, 1599, 1601, 1606,\n",
      "       1607, 1608, 1609, 1611, 1612, 1615, 1617, 1620, 1629, 1631, 1635,\n",
      "       1636, 1638, 1641, 1642, 1644, 1645, 1662, 1664, 1666, 1669, 1673,\n",
      "       1675, 1679, 1683, 1684, 1687, 1689, 1693, 1696, 1698, 1706, 1709,\n",
      "       1715, 1720, 1722, 1724, 1726]))\n"
     ]
    },
    {
     "ename": "IndexError",
     "evalue": "indices are out-of-bounds",
     "output_type": "error",
     "traceback": [
      "\u001b[1;31m---------------------------------------------------------------------------\u001b[0m",
      "\u001b[1;31mIndexError\u001b[0m                                Traceback (most recent call last)",
      "\u001b[1;32m<ipython-input-12-c28a4154cb3b>\u001b[0m in \u001b[0;36m<module>\u001b[1;34m()\u001b[0m\n\u001b[0;32m      1\u001b[0m \u001b[1;32mfor\u001b[0m \u001b[0mtrain_index\u001b[0m\u001b[1;33m,\u001b[0m \u001b[0mtest_index\u001b[0m \u001b[1;32min\u001b[0m \u001b[0mcv\u001b[0m\u001b[1;33m:\u001b[0m\u001b[1;33m\u001b[0m\u001b[0m\n\u001b[0;32m      2\u001b[0m     \u001b[1;32mprint\u001b[0m\u001b[1;33m(\u001b[0m\u001b[1;34m\"TRAIN:\"\u001b[0m\u001b[1;33m,\u001b[0m \u001b[0mtrain_index\u001b[0m\u001b[1;33m,\u001b[0m \u001b[1;34m\"TEST:\"\u001b[0m\u001b[1;33m,\u001b[0m \u001b[0mtest_index\u001b[0m\u001b[1;33m)\u001b[0m\u001b[1;33m\u001b[0m\u001b[0m\n\u001b[1;32m----> 3\u001b[1;33m     \u001b[0mX_train\u001b[0m\u001b[1;33m,\u001b[0m \u001b[0mX_test\u001b[0m \u001b[1;33m=\u001b[0m \u001b[0mX\u001b[0m\u001b[1;33m[\u001b[0m\u001b[0mtrain_index\u001b[0m\u001b[1;33m]\u001b[0m\u001b[1;33m,\u001b[0m \u001b[0mX\u001b[0m\u001b[1;33m[\u001b[0m\u001b[0mtest_index\u001b[0m\u001b[1;33m]\u001b[0m\u001b[1;33m\u001b[0m\u001b[0m\n\u001b[0m\u001b[0;32m      4\u001b[0m     \u001b[0my_train\u001b[0m\u001b[1;33m,\u001b[0m \u001b[0my_test\u001b[0m \u001b[1;33m=\u001b[0m \u001b[0my\u001b[0m\u001b[1;33m[\u001b[0m\u001b[0mtrain_index\u001b[0m\u001b[1;33m]\u001b[0m\u001b[1;33m,\u001b[0m \u001b[0my\u001b[0m\u001b[1;33m[\u001b[0m\u001b[0mtest_index\u001b[0m\u001b[1;33m]\u001b[0m\u001b[1;33m\u001b[0m\u001b[0m\n",
      "\u001b[1;32m/home/ubuntu/anaconda2/lib/python2.7/site-packages/pandas/core/frame.pyc\u001b[0m in \u001b[0;36m__getitem__\u001b[1;34m(self, key)\u001b[0m\n\u001b[0;32m   1984\u001b[0m         \u001b[1;32mif\u001b[0m \u001b[0misinstance\u001b[0m\u001b[1;33m(\u001b[0m\u001b[0mkey\u001b[0m\u001b[1;33m,\u001b[0m \u001b[1;33m(\u001b[0m\u001b[0mSeries\u001b[0m\u001b[1;33m,\u001b[0m \u001b[0mnp\u001b[0m\u001b[1;33m.\u001b[0m\u001b[0mndarray\u001b[0m\u001b[1;33m,\u001b[0m \u001b[0mIndex\u001b[0m\u001b[1;33m,\u001b[0m \u001b[0mlist\u001b[0m\u001b[1;33m)\u001b[0m\u001b[1;33m)\u001b[0m\u001b[1;33m:\u001b[0m\u001b[1;33m\u001b[0m\u001b[0m\n\u001b[0;32m   1985\u001b[0m             \u001b[1;31m# either boolean or fancy integer index\u001b[0m\u001b[1;33m\u001b[0m\u001b[1;33m\u001b[0m\u001b[0m\n\u001b[1;32m-> 1986\u001b[1;33m             \u001b[1;32mreturn\u001b[0m \u001b[0mself\u001b[0m\u001b[1;33m.\u001b[0m\u001b[0m_getitem_array\u001b[0m\u001b[1;33m(\u001b[0m\u001b[0mkey\u001b[0m\u001b[1;33m)\u001b[0m\u001b[1;33m\u001b[0m\u001b[0m\n\u001b[0m\u001b[0;32m   1987\u001b[0m         \u001b[1;32melif\u001b[0m \u001b[0misinstance\u001b[0m\u001b[1;33m(\u001b[0m\u001b[0mkey\u001b[0m\u001b[1;33m,\u001b[0m \u001b[0mDataFrame\u001b[0m\u001b[1;33m)\u001b[0m\u001b[1;33m:\u001b[0m\u001b[1;33m\u001b[0m\u001b[0m\n\u001b[0;32m   1988\u001b[0m             \u001b[1;32mreturn\u001b[0m \u001b[0mself\u001b[0m\u001b[1;33m.\u001b[0m\u001b[0m_getitem_frame\u001b[0m\u001b[1;33m(\u001b[0m\u001b[0mkey\u001b[0m\u001b[1;33m)\u001b[0m\u001b[1;33m\u001b[0m\u001b[0m\n",
      "\u001b[1;32m/home/ubuntu/anaconda2/lib/python2.7/site-packages/pandas/core/frame.pyc\u001b[0m in \u001b[0;36m_getitem_array\u001b[1;34m(self, key)\u001b[0m\n\u001b[0;32m   2029\u001b[0m         \u001b[1;32melse\u001b[0m\u001b[1;33m:\u001b[0m\u001b[1;33m\u001b[0m\u001b[0m\n\u001b[0;32m   2030\u001b[0m             \u001b[0mindexer\u001b[0m \u001b[1;33m=\u001b[0m \u001b[0mself\u001b[0m\u001b[1;33m.\u001b[0m\u001b[0mix\u001b[0m\u001b[1;33m.\u001b[0m\u001b[0m_convert_to_indexer\u001b[0m\u001b[1;33m(\u001b[0m\u001b[0mkey\u001b[0m\u001b[1;33m,\u001b[0m \u001b[0maxis\u001b[0m\u001b[1;33m=\u001b[0m\u001b[1;36m1\u001b[0m\u001b[1;33m)\u001b[0m\u001b[1;33m\u001b[0m\u001b[0m\n\u001b[1;32m-> 2031\u001b[1;33m             \u001b[1;32mreturn\u001b[0m \u001b[0mself\u001b[0m\u001b[1;33m.\u001b[0m\u001b[0mtake\u001b[0m\u001b[1;33m(\u001b[0m\u001b[0mindexer\u001b[0m\u001b[1;33m,\u001b[0m \u001b[0maxis\u001b[0m\u001b[1;33m=\u001b[0m\u001b[1;36m1\u001b[0m\u001b[1;33m,\u001b[0m \u001b[0mconvert\u001b[0m\u001b[1;33m=\u001b[0m\u001b[0mTrue\u001b[0m\u001b[1;33m)\u001b[0m\u001b[1;33m\u001b[0m\u001b[0m\n\u001b[0m\u001b[0;32m   2032\u001b[0m \u001b[1;33m\u001b[0m\u001b[0m\n\u001b[0;32m   2033\u001b[0m     \u001b[1;32mdef\u001b[0m \u001b[0m_getitem_multilevel\u001b[0m\u001b[1;33m(\u001b[0m\u001b[0mself\u001b[0m\u001b[1;33m,\u001b[0m \u001b[0mkey\u001b[0m\u001b[1;33m)\u001b[0m\u001b[1;33m:\u001b[0m\u001b[1;33m\u001b[0m\u001b[0m\n",
      "\u001b[1;32m/home/ubuntu/anaconda2/lib/python2.7/site-packages/pandas/core/generic.pyc\u001b[0m in \u001b[0;36mtake\u001b[1;34m(self, indices, axis, convert, is_copy)\u001b[0m\n\u001b[0;32m   1626\u001b[0m         new_data = self._data.take(indices,\n\u001b[0;32m   1627\u001b[0m                                    \u001b[0maxis\u001b[0m\u001b[1;33m=\u001b[0m\u001b[0mself\u001b[0m\u001b[1;33m.\u001b[0m\u001b[0m_get_block_manager_axis\u001b[0m\u001b[1;33m(\u001b[0m\u001b[0maxis\u001b[0m\u001b[1;33m)\u001b[0m\u001b[1;33m,\u001b[0m\u001b[1;33m\u001b[0m\u001b[0m\n\u001b[1;32m-> 1628\u001b[1;33m                                    convert=True, verify=True)\n\u001b[0m\u001b[0;32m   1629\u001b[0m         \u001b[0mresult\u001b[0m \u001b[1;33m=\u001b[0m \u001b[0mself\u001b[0m\u001b[1;33m.\u001b[0m\u001b[0m_constructor\u001b[0m\u001b[1;33m(\u001b[0m\u001b[0mnew_data\u001b[0m\u001b[1;33m)\u001b[0m\u001b[1;33m.\u001b[0m\u001b[0m__finalize__\u001b[0m\u001b[1;33m(\u001b[0m\u001b[0mself\u001b[0m\u001b[1;33m)\u001b[0m\u001b[1;33m\u001b[0m\u001b[0m\n\u001b[0;32m   1630\u001b[0m \u001b[1;33m\u001b[0m\u001b[0m\n",
      "\u001b[1;32m/home/ubuntu/anaconda2/lib/python2.7/site-packages/pandas/core/internals.pyc\u001b[0m in \u001b[0;36mtake\u001b[1;34m(self, indexer, axis, verify, convert)\u001b[0m\n\u001b[0;32m   3635\u001b[0m         \u001b[0mn\u001b[0m \u001b[1;33m=\u001b[0m \u001b[0mself\u001b[0m\u001b[1;33m.\u001b[0m\u001b[0mshape\u001b[0m\u001b[1;33m[\u001b[0m\u001b[0maxis\u001b[0m\u001b[1;33m]\u001b[0m\u001b[1;33m\u001b[0m\u001b[0m\n\u001b[0;32m   3636\u001b[0m         \u001b[1;32mif\u001b[0m \u001b[0mconvert\u001b[0m\u001b[1;33m:\u001b[0m\u001b[1;33m\u001b[0m\u001b[0m\n\u001b[1;32m-> 3637\u001b[1;33m             \u001b[0mindexer\u001b[0m \u001b[1;33m=\u001b[0m \u001b[0mmaybe_convert_indices\u001b[0m\u001b[1;33m(\u001b[0m\u001b[0mindexer\u001b[0m\u001b[1;33m,\u001b[0m \u001b[0mn\u001b[0m\u001b[1;33m)\u001b[0m\u001b[1;33m\u001b[0m\u001b[0m\n\u001b[0m\u001b[0;32m   3638\u001b[0m \u001b[1;33m\u001b[0m\u001b[0m\n\u001b[0;32m   3639\u001b[0m         \u001b[1;32mif\u001b[0m \u001b[0mverify\u001b[0m\u001b[1;33m:\u001b[0m\u001b[1;33m\u001b[0m\u001b[0m\n",
      "\u001b[1;32m/home/ubuntu/anaconda2/lib/python2.7/site-packages/pandas/core/indexing.pyc\u001b[0m in \u001b[0;36mmaybe_convert_indices\u001b[1;34m(indices, n)\u001b[0m\n\u001b[0;32m   1808\u001b[0m     \u001b[0mmask\u001b[0m \u001b[1;33m=\u001b[0m \u001b[1;33m(\u001b[0m\u001b[0mindices\u001b[0m \u001b[1;33m>=\u001b[0m \u001b[0mn\u001b[0m\u001b[1;33m)\u001b[0m \u001b[1;33m|\u001b[0m \u001b[1;33m(\u001b[0m\u001b[0mindices\u001b[0m \u001b[1;33m<\u001b[0m \u001b[1;36m0\u001b[0m\u001b[1;33m)\u001b[0m\u001b[1;33m\u001b[0m\u001b[0m\n\u001b[0;32m   1809\u001b[0m     \u001b[1;32mif\u001b[0m \u001b[0mmask\u001b[0m\u001b[1;33m.\u001b[0m\u001b[0many\u001b[0m\u001b[1;33m(\u001b[0m\u001b[1;33m)\u001b[0m\u001b[1;33m:\u001b[0m\u001b[1;33m\u001b[0m\u001b[0m\n\u001b[1;32m-> 1810\u001b[1;33m         \u001b[1;32mraise\u001b[0m \u001b[0mIndexError\u001b[0m\u001b[1;33m(\u001b[0m\u001b[1;34m\"indices are out-of-bounds\"\u001b[0m\u001b[1;33m)\u001b[0m\u001b[1;33m\u001b[0m\u001b[0m\n\u001b[0m\u001b[0;32m   1811\u001b[0m     \u001b[1;32mreturn\u001b[0m \u001b[0mindices\u001b[0m\u001b[1;33m\u001b[0m\u001b[0m\n\u001b[0;32m   1812\u001b[0m \u001b[1;33m\u001b[0m\u001b[0m\n",
      "\u001b[1;31mIndexError\u001b[0m: indices are out-of-bounds"
     ]
    }
   ],
   "source": [
    "for train_index, test_index in cv:\n",
    "    \n",
    "    print(\"TRAIN:\", train_index, \"TEST:\", test_index)\n",
    "    X_train, X_test = X[train_index], X[test_index]\n",
    "    y_train, y_test = y[train_index], y[test_index]\n",
    "    \n",
    "    "
   ]
  },
  {
   "cell_type": "code",
   "execution_count": 4,
   "metadata": {
    "collapsed": false
   },
   "outputs": [
    {
     "name": "stdout",
     "output_type": "stream",
     "text": [
      "Decision Tree Score:\t0.963 ± 0.009\n"
     ]
    }
   ],
   "source": [
    "dt = DecisionTreeClassifier(class_weight='balanced')\n",
    "#dt.fit(X,y)\n",
    "\n",
    "s = cross_val_score(dt, X, y, cv=cv, n_jobs=-1) #dt fit with the data\n",
    "\n",
    "print \"{} Score:\\t{:0.3} ± {:0.3}\".format(\"Decision Tree\", s.mean().round(3), s.std().round(3))"
   ]
  },
  {
   "cell_type": "code",
   "execution_count": 5,
   "metadata": {
    "collapsed": false
   },
   "outputs": [],
   "source": [
    "dt.tree_"
   ]
  },
  {
   "cell_type": "markdown",
   "metadata": {},
   "source": [
    "### Your turn now:\n",
    "\n",
    "Initialize the following models and check their performance:\n",
    "- Bagging + Decision Trees\n",
    "- Random Forest\n",
    "- Extra Trees\n",
    "\n",
    "You can also create a function to speed up your work...\n",
    "\n",
    "> Answer:\n",
    ">\n",
    "    bdt = BaggingClassifier(DecisionTreeClassifier())\n",
    "    rf = RandomForestClassifier(class_weight='balanced', n_jobs=-1)\n",
    "    et = ExtraTreesClassifier(class_weight='balanced', n_jobs=-1)\n",
    ">\n",
    "    def score(model, name):\n",
    "        s = cross_val_score(model, X, y, cv=cv, n_jobs=-1)\n",
    "        print \"{} Score:\\t{:0.3} ± {:0.3}\".format(name, s.mean().round(3), s.std().round(3))\n",
    ">\n",
    "    score(dt, \"Decision Tree\")\n",
    "    score(bdt, \"Bagging DT\")\n",
    "    score(rf, \"Random Forest\")\n",
    "    score(et, \"Extra Trees\")\n",
    ">\n",
    "    Decision Tree Score:\t0.962 ± 0.008\n",
    "    Bagging DT Score:\t0.966 ± 0.004\n",
    "    Random Forest Score:\t0.948 ± 0.009\n",
    "    Extra Trees Score:\t0.955 ± 0.004\n",
    "> In this case the Bagging Decision tree seems to still be performing better than the other models, although the scores are compatible within the error.\n",
    ">  With other datasets the Random Forest and the Extra Trees model could be performing better and thus are worth testing."
   ]
  },
  {
   "cell_type": "markdown",
   "metadata": {},
   "source": [
    "<a name=\"introduction_2\"></a>\n",
    "## Intro to Boosting (15 min)\n",
    "\n",
    "With bagging and random forests we tran models on separate subsets and then combine their prediction. In a sense we are parallelizing the training and then combining (like a map-reduce...).\n",
    "\n",
    "_Boosting_ is a different ensemble technique that is sequential.\n",
    "\n",
    "![BoostingBagging](../assets/images/BoostingVSBagging.png)\n",
    "\n",
    "Boosting is an iterative procedure that adaptively changes the sampling distribution of training records at each iteration, in order to correct the errors of the previous iteration of models. The first iteration uses uniform weights (like bagging) for all samples. In subsequent iterations, the weights are adjusted to emphasize records that were misclassified in previous iterations. The final prediction is constructed by a weighted vote (where the weights for a base classifier depends on its training error).\n",
    "\n",
    "Since the base classifier's focus more and more closely on records that are difficult to classify as the sequence of iterations progresses, they are faced with progressively more difficult learning problems.\n",
    "\n",
    "Boosting takes a base _weak_ learner and tries to make it a _strong_ learner by re-training it on the misclassified samples.\n",
    "\n",
    "There are several algorithms for boosting, in particular we will mention `AdaBoost`, `GradientBoostingClassifier` that are implemented in scikit learn.\n",
    "\n",
    "\n",
    "### AdaBoost\n",
    "\n",
    "`AdaBoost` refers to a particular method of training a boosted classifier. A boost classifier is a classifier in the formula\n",
    "$$\n",
    "F_T(x) = \\sum_{t=1}^T f_t(x)\n",
    "$$\n",
    "where each $f_t$ is a weak learner that takes an object $x$ as input and returns a real valued result indicating the class of the object.\n",
    "\n",
    "Each weak learner produces an output, hypothesis $h(x_i)$, for each sample in the training set. At each iteration $t$, a weak learner is selected and assigned a coefficient \\alpha_t such that the sum training error E_t of the resulting t-stage boost classifier is minimized.\n",
    "\n",
    "$$\n",
    "E_t = \\sum_i E[F_{t-1}(x_i) + \\alpha_t h(x_i)]\n",
    "$$\n",
    "\n",
    "Here $F_{t-1}(x)$ is the boosted classifier that has been built up to the previous stage of training, $E(F)$ is some error function and $f_t(x) = \\alpha_t h(x)$ is the weak learner that is being considered for addition to the final classifier.\n",
    "\n",
    "At each iteration of the training process, a weight is assigned to each sample in the training set equal to the current error $E(F_{t-1}(x_i))$ on that sample. These weights can be used to inform the training of the weak learner, for instance, decision trees can be grown that favor splitting sets of samples with high weights.\n",
    "\n",
    "### Gradient Boosting Classifier\n",
    "\n",
    "Gradient Boosting is a generalization of boosting to arbitrary differentiable loss functions. GBRT is an accurate and effective off-the-shelf procedure that can be used for both regression and classification problems. Gradient Tree Boosting models are used in a variety of areas including Web search ranking and ecology.\n",
    "\n",
    "The advantages of GBRT are:\n",
    "- Natural handling of data of mixed type (= heterogeneous features)\n",
    "- Predictive power\n",
    "- Robustness to outliers in output space (via robust loss functions)\n",
    "\n",
    "The disadvantages of GBRT are:\n",
    "- Scalability, due to the sequential nature of boosting it can hardly be parallelized."
   ]
  },
  {
   "cell_type": "markdown",
   "metadata": {},
   "source": [
    "<a name=\"ind-practice\"></a>\n",
    "## Independent Practice: Ada Boost and Gradient Boosting Classifier (15 min)\n",
    "\n",
    "Test the performance of the `AdaBoost` and `GradientBoostingClassifier` models on the car dataset. Use the code you developed above as a starter code.\n",
    "\n",
    "> Solution:\n",
    ">\n",
    "```python\n",
    "    from sklearn.ensemble import AdaBoostClassifier, GradientBoostingClassifier\n",
    "    ab = AdaBoostClassifier()\n",
    "    gb = GradientBoostingClassifier()\n",
    "    score(ab, \"AdaBoost\")\n",
    "    score(gb, \"Gradient Boosting Classifier\")\n",
    "    # AdaBoost Score:\t0.811 ± 0.002\n",
    "    # GBoost Score:\t0.982 ± 0.006\n",
    "```"
   ]
  },
  {
   "cell_type": "markdown",
   "metadata": {},
   "source": [
    "<a name=\"conclusion\"></a>\n",
    "## Conclusion (5 min)\n",
    "\n",
    "In this class we learned about Random Forest, Extremely randomized trees and Boosting. They are different ways to improve the performance of a weak learner.\n",
    "\n",
    "Some of these methods will perform better in some cases, some better in other cases. For example, Decision Trees are more nimble and easier to communicate, but have a tendency to overfit. On the other hand Ensemble methods perform better in more complex scenarios, but may become very complicated and harder to explain.\n",
    "Have a look [here](https://www.wise.io/resources) for a couple of examples from real world startup Wise.io.\n",
    "\n",
    "**Check:** Can you think of what could be limitations of these methods?\n",
    "> Answer:\n",
    "- They don't scale very well to large datasets, Boosting in particular\n",
    "- They are black boxes"
   ]
  },
  {
   "cell_type": "markdown",
   "metadata": {},
   "source": [
    "### ADDITIONAL RESOURCES\n",
    "\n",
    "- [Random Forest on wikipedia](https://en.wikipedia.org/wiki/Random_forest)\n",
    "- [Quora question on Random Forest](https://www.quora.com/How-does-randomization-in-a-random-forest-work?redirected_qid=212859)\n",
    "- [Scikit Learn Ensemble Methods](http://scikit-learn.org/stable/modules/ensemble.html)\n",
    "- [Scikit Learn Random Forest Classifier](http://scikit-learn.org/stable/modules/generated/sklearn.ensemble.RandomForestClassifier.html)"
   ]
  }
 ],
 "metadata": {
  "kernelspec": {
   "display_name": "Python 2",
   "language": "python",
   "name": "python2"
  },
  "language_info": {
   "codemirror_mode": {
    "name": "ipython",
    "version": 2
   },
   "file_extension": ".py",
   "mimetype": "text/x-python",
   "name": "python",
   "nbconvert_exporter": "python",
   "pygments_lexer": "ipython2",
   "version": "2.7.11"
  }
 },
 "nbformat": 4,
 "nbformat_minor": 0
}
