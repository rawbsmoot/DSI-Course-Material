{
 "cells": [
  {
   "cell_type": "markdown",
   "metadata": {},
   "source": [
    "---\n",
    "title: Intro to SQL\n",
    "duration: \"1:25\"\n",
    "creator:\n",
    "    name: Francesco Mosconi\n",
    "    city: SF\n",
    "---"
   ]
  },
  {
   "cell_type": "markdown",
   "metadata": {},
   "source": [
    "# ![](https://ga-dash.s3.amazonaws.com/production/assets/logo-9f88ae6c9c3871690e33280fcf557f33.png) More SQL\n",
    "Week 5 | Lesson 1.2"
   ]
  },
  {
   "cell_type": "markdown",
   "metadata": {},
   "source": [
    "### LEARNING OBJECTIVES\n",
    "*After this lesson, you will be able to:*\n",
    "- Connect to a local or remote database using Python or Pandas\n",
    "- Connect to a local or remote database using SQLite Manager (for SQLite) or Postico(for POSTGRES)\n",
    "- Perform queries using SELECT\n",
    "- Perform simple aggregations COUNT, MAX/MIN/SUM"
   ]
  },
  {
   "cell_type": "markdown",
   "metadata": {},
   "source": [
    "### STUDENT PRE-WORK\n",
    "*Before this lesson, you should already be able to:*\n",
    "- connect to SQLite from command line\n",
    "- connect to PostgreSQL from command line\n",
    "- load data in Pandas"
   ]
  },
  {
   "cell_type": "markdown",
   "metadata": {},
   "source": [
    "### INSTRUCTOR PREP\n",
    "*Before this lesson, instructors will need to:*\n",
    "- Read in / Review any dataset(s) & starter/solution code\n",
    "- Generate a brief slide deck\n",
    "- Prepare any specific materials\n",
    "- Provide students with additional resources"
   ]
  },
  {
   "cell_type": "markdown",
   "metadata": {},
   "source": [
    "### LESSON GUIDE\n",
    "| TIMING  | TYPE  | TOPIC  |\n",
    "|:-:|---|---|\n",
    "| 5 mins | [Opening](#opening) | Opening |\n",
    "| 30 min | [Demo](#demo) | Interacting with SQLite from Python |\n",
    "| 30 mins | [Guided-practice](#guided-practice) | SQL Syntax |\n",
    "| 20 minutes | [Ind-practice](#ind-practice) | Querying a Local Database |\n",
    "| 5 mins | [Conclusion](#conclusion) | Conclusion |"
   ]
  },
  {
   "cell_type": "markdown",
   "metadata": {},
   "source": [
    "<a name=\"opening\"></a>\n",
    "## Opening (5 mins)\n",
    "We have seen how to connect to a local sqlite database and to a remote postgresql database.\n",
    "\n",
    "**Check:** What SQL commands have we learnt so far?\n",
    "\n",
    "> Answer:\n",
    "- CREATE\n",
    "- INSERT\n",
    "- DELETE\n",
    "- UPDATE\n",
    "- SELECT\n",
    "\n",
    "**Check:** What different commands have we learnt for SQLite and PostgreSQL?\n",
    "\n",
    "> Answer:\n",
    "- how to list schema and tables\n"
   ]
  },
  {
   "cell_type": "markdown",
   "metadata": {},
   "source": [
    "<a name=\"demo\"></a>\n",
    "## Interacting with SQLite from Python (30 min)\n",
    "\n",
    "### The `sqlite3` package\n",
    "\n",
    "The command line utility can be useful for basic SQL tasks, but since we're using python for the rest of code it will often be easier to access sqlite directly from within python.  We can use the python [`sqlite3`](https://docs.python.org/2.7/library/sqlite3.html) package for just this purpose.\n",
    "\n",
    "Open a connection to an SQLite database file.  As before, if the file does not already exist it will automatically be created."
   ]
  },
  {
   "cell_type": "code",
   "execution_count": 1,
   "metadata": {
    "collapsed": false
   },
   "outputs": [],
   "source": [
    "import sqlite3\n",
    "sqlite_db = 'test_db.sqlite'\n",
    "conn = sqlite3.connect(sqlite_db) \n",
    "c = conn.cursor()"
   ]
  },
  {
   "cell_type": "markdown",
   "metadata": {},
   "source": [
    "The syntax to create a table is similar to the console, only now we use the `execute` method of the cursor object `c` that we just created:"
   ]
  },
  {
   "cell_type": "code",
   "execution_count": 2,
   "metadata": {
    "collapsed": false
   },
   "outputs": [
    {
     "ename": "OperationalError",
     "evalue": "table houses already exists",
     "output_type": "error",
     "traceback": [
      "\u001b[0;31m---------------------------------------------------------------------------\u001b[0m",
      "\u001b[0;31mOperationalError\u001b[0m                          Traceback (most recent call last)",
      "\u001b[0;32m<ipython-input-2-93183ef240d9>\u001b[0m in \u001b[0;36m<module>\u001b[0;34m()\u001b[0m\n\u001b[0;32m----> 1\u001b[0;31m \u001b[0mc\u001b[0m\u001b[0;34m.\u001b[0m\u001b[0mexecute\u001b[0m\u001b[0;34m(\u001b[0m\u001b[0;34m'CREATE TABLE houses (field1 INTEGER PRIMARY KEY,                                 sqft INTEGER, bdrms INTEGER, age INTEGER, price INTEGER);'\u001b[0m\u001b[0;34m)\u001b[0m\u001b[0;34m\u001b[0m\u001b[0m\n\u001b[0m\u001b[1;32m      2\u001b[0m \u001b[0;34m\u001b[0m\u001b[0m\n\u001b[1;32m      3\u001b[0m \u001b[0;31m# Save (commit) the changes\u001b[0m\u001b[0;34m\u001b[0m\u001b[0;34m\u001b[0m\u001b[0m\n\u001b[1;32m      4\u001b[0m \u001b[0mconn\u001b[0m\u001b[0;34m.\u001b[0m\u001b[0mcommit\u001b[0m\u001b[0;34m(\u001b[0m\u001b[0;34m)\u001b[0m\u001b[0;34m\u001b[0m\u001b[0m\n",
      "\u001b[0;31mOperationalError\u001b[0m: table houses already exists"
     ]
    }
   ],
   "source": [
    "c.execute('CREATE TABLE houses (field1 INTEGER PRIMARY KEY, \\\n",
    "                                sqft INTEGER, bdrms INTEGER, age INTEGER, price INTEGER);')\n",
    "\n",
    "# Save (commit) the changes\n",
    "conn.commit()"
   ]
  },
  {
   "cell_type": "markdown",
   "metadata": {},
   "source": [
    "With the database saved the table should now be viewable using SQLite Manager.\n",
    "\n",
    "#### Adding data\n",
    "\n",
    "Since we're back in python, we can now use regular programming techniques in conjunction with the sqlite connection.  In particular, the cursor's `execute()` method supports value substitutionusing the `?` character, which makes adding multiple records a bit easier.  See the [docs](https://docs.python.org/2.7/library/sqlite3.html) for more details."
   ]
  },
  {
   "cell_type": "code",
   "execution_count": 3,
   "metadata": {
    "collapsed": true
   },
   "outputs": [],
   "source": [
    "last_sale = (None, 4000, 5, 22, 619000)\n",
    "c.execute('INSERT INTO houses VALUES (?,?,?,?,?)',last_sale)\n",
    "\n",
    "# Remember to commit the changes\n",
    "conn.commit()"
   ]
  },
  {
   "cell_type": "markdown",
   "metadata": {},
   "source": [
    "Notice that in this syntax we use the python `None` value, rather than `NULL`, to trigger SQLite to auto-increment the Primary Key. \n",
    "\n",
    "There is a related cursor method `executemany()` which takes an array of tuples and loops through them, substituting one tuple at a time."
   ]
  },
  {
   "cell_type": "code",
   "execution_count": 4,
   "metadata": {
    "collapsed": true
   },
   "outputs": [],
   "source": [
    "recent_sales = [\n",
    "  (None, 2390, 4, 34, 319000),\n",
    "  (None, 1870, 3, 14, 289000),\n",
    "  (None, 1505, 3, 90, 269000),\n",
    "]\n",
    "\n",
    "c.executemany('INSERT INTO houses VALUES (?, ?, ?, ?, ?)', recent_sales)\n",
    "\n",
    "conn.commit()"
   ]
  },
  {
   "cell_type": "markdown",
   "metadata": {},
   "source": [
    "Once again, use SQLite Manager to verify the database contents. \n",
    "\n",
    "\n",
    "![SQLite Manager](./assets/images/SQLiteManager.png)\n",
    "\n",
    "#### Adding data from a csv file\n",
    "Next let's load our housing.csv data into an array, and then `INSERT` those records into the database.  In this example we'll use the numpy `genfromtxt` function to read the file and parse the contents. "
   ]
  },
  {
   "cell_type": "code",
   "execution_count": 5,
   "metadata": {
    "collapsed": false
   },
   "outputs": [],
   "source": [
    "from numpy import genfromtxt\n",
    "\n",
    "# import into nparray of ints, then convert to list of lists\n",
    "data = (genfromtxt('datasets/housing-data.csv', dtype='i8', \n",
    "                    delimiter=',', skip_header=1)).tolist()\n",
    "\n",
    "# append a None value to beginning of each sub-list\n",
    "for d in data:\n",
    "    d.insert(0, None)"
   ]
  },
  {
   "cell_type": "code",
   "execution_count": 6,
   "metadata": {
    "collapsed": false
   },
   "outputs": [
    {
     "data": {
      "text/plain": [
       "[[None, 2104, 3, 70, 399900],\n",
       " [None, 1600, 3, 28, 329900],\n",
       " [None, 2400, 3, 44, 369000]]"
      ]
     },
     "execution_count": 6,
     "metadata": {},
     "output_type": "execute_result"
    }
   ],
   "source": [
    "#lol\n",
    "data[0:3]"
   ]
  },
  {
   "cell_type": "code",
   "execution_count": 7,
   "metadata": {
    "collapsed": true
   },
   "outputs": [],
   "source": [
    "# loop through data, running an INSERT on each record (i.e. sublist)\n",
    "for d in data:\n",
    "    c.execute('INSERT INTO houses VALUES (?, ?, ?, ?, ?)', d)\n",
    "\n",
    "conn.commit()"
   ]
  },
  {
   "cell_type": "code",
   "execution_count": 8,
   "metadata": {
    "collapsed": false
   },
   "outputs": [],
   "source": [
    "c.executemany('INSERT INTO houses VALUES (?, ?, ?, ?, ?)', data)\n",
    "\n",
    "conn.commit()"
   ]
  },
  {
   "cell_type": "code",
   "execution_count": 9,
   "metadata": {
    "collapsed": false
   },
   "outputs": [],
   "source": [
    "c.execute(\"DELETE FROM houses WHERE bdrms = 2\")\n",
    "\n",
    "conn.commit()"
   ]
  },
  {
   "cell_type": "markdown",
   "metadata": {},
   "source": [
    "A reason for this example - remember that all elements in a numpy array must be the same data type, so if we want to 'add a None' to each row, we need to work around this.  Lists can contain mixed types, so that is one approach.\n",
    "\n",
    "Still, in this case the value we're adding is the same for all records, so we could have simply used a 'None' in the INSERT statement directly.\n",
    "\n",
    "**Check**: How do you delete data?"
   ]
  },
  {
   "cell_type": "code",
   "execution_count": 10,
   "metadata": {
    "collapsed": false
   },
   "outputs": [
    {
     "data": {
      "text/plain": [
       "[(2, 2390, 4, 34, 319000),\n",
       " (9, 3000, 4, 75, 539900),\n",
       " (10, 1985, 4, 61, 299900),\n",
       " (15, 1940, 4, 7, 239999),\n",
       " (20, 2300, 4, 77, 449900),\n",
       " (23, 2609, 4, 5, 499998),\n",
       " (24, 3031, 4, 21, 599000),\n",
       " (28, 1962, 4, 53, 259900),\n",
       " (37, 2040, 4, 75, 314900),\n",
       " (39, 1811, 4, 24, 285900),\n",
       " (42, 2132, 4, 28, 345000),\n",
       " (43, 4215, 4, 66, 549000),\n",
       " (44, 2162, 4, 43, 287000),\n",
       " (47, 2567, 4, 57, 314000),\n",
       " (50, 1852, 4, 64, 299900),\n",
       " (52, 2390, 4, 34, 319000),\n",
       " (59, 3000, 4, 75, 539900),\n",
       " (60, 1985, 4, 61, 299900),\n",
       " (65, 1940, 4, 7, 239999),\n",
       " (70, 2300, 4, 77, 449900),\n",
       " (73, 2609, 4, 5, 499998),\n",
       " (74, 3031, 4, 21, 599000),\n",
       " (78, 1962, 4, 53, 259900),\n",
       " (87, 2040, 4, 75, 314900),\n",
       " (89, 1811, 4, 24, 285900),\n",
       " (92, 2132, 4, 28, 345000),\n",
       " (93, 4215, 4, 66, 549000),\n",
       " (94, 2162, 4, 43, 287000),\n",
       " (97, 2567, 4, 57, 314000),\n",
       " (100, 1852, 4, 64, 299900),\n",
       " (106, 3000, 4, 75, 539900),\n",
       " (107, 1985, 4, 61, 299900),\n",
       " (112, 1940, 4, 7, 239999),\n",
       " (117, 2300, 4, 77, 449900),\n",
       " (120, 2609, 4, 5, 499998),\n",
       " (121, 3031, 4, 21, 599000),\n",
       " (125, 1962, 4, 53, 259900),\n",
       " (134, 2040, 4, 75, 314900),\n",
       " (136, 1811, 4, 24, 285900),\n",
       " (139, 2132, 4, 28, 345000),\n",
       " (140, 4215, 4, 66, 549000),\n",
       " (141, 2162, 4, 43, 287000),\n",
       " (144, 2567, 4, 57, 314000),\n",
       " (147, 1852, 4, 64, 299900),\n",
       " (150, 2390, 4, 34, 319000),\n",
       " (157, 3000, 4, 75, 539900),\n",
       " (158, 1985, 4, 61, 299900),\n",
       " (163, 1940, 4, 7, 239999),\n",
       " (168, 2300, 4, 77, 449900),\n",
       " (171, 2609, 4, 5, 499998),\n",
       " (172, 3031, 4, 21, 599000),\n",
       " (176, 1962, 4, 53, 259900),\n",
       " (185, 2040, 4, 75, 314900),\n",
       " (187, 1811, 4, 24, 285900),\n",
       " (190, 2132, 4, 28, 345000),\n",
       " (191, 4215, 4, 66, 549000),\n",
       " (192, 2162, 4, 43, 287000),\n",
       " (195, 2567, 4, 57, 314000),\n",
       " (198, 1852, 4, 64, 299900),\n",
       " (204, 3000, 4, 75, 539900),\n",
       " (205, 1985, 4, 61, 299900),\n",
       " (210, 1940, 4, 7, 239999),\n",
       " (215, 2300, 4, 77, 449900),\n",
       " (218, 2609, 4, 5, 499998),\n",
       " (219, 3031, 4, 21, 599000),\n",
       " (223, 1962, 4, 53, 259900),\n",
       " (232, 2040, 4, 75, 314900),\n",
       " (234, 1811, 4, 24, 285900),\n",
       " (237, 2132, 4, 28, 345000),\n",
       " (238, 4215, 4, 66, 549000),\n",
       " (239, 2162, 4, 43, 287000),\n",
       " (242, 2567, 4, 57, 314000),\n",
       " (245, 1852, 4, 64, 299900)]"
      ]
     },
     "execution_count": 10,
     "metadata": {},
     "output_type": "execute_result"
    }
   ],
   "source": [
    "# similar syntax as before\n",
    "results = c.execute(\"SELECT * FROM houses WHERE bdrms = 4\")\n",
    "\n",
    "# here results is a cursor object - use fetchall() to extract a list\n",
    "results.fetchall()"
   ]
  },
  {
   "cell_type": "markdown",
   "metadata": {},
   "source": [
    "### Pandas connector\n",
    "\n",
    "While databases provide many analytical capabilities, often it's useful to pull the data back into Python for more flexible programming. Large, fixed operations would be more efficient in a database, but Pandas allows for interactive processing.\n",
    "\n",
    "For example, if you want to aggregate nightly log-ins or sales to present a report or dashboard, this operation is likely not changing and operating on a large dataset. This can run very efficiently in a database rather than by connecting to it with Python.\n",
    "\n",
    "However, if we want to investigate login or sales data further and ask more interactive questions, then Python would be more practical."
   ]
  },
  {
   "cell_type": "code",
   "execution_count": 11,
   "metadata": {
    "collapsed": true
   },
   "outputs": [],
   "source": [
    "import pandas as pd\n",
    "from pandas.io import sql"
   ]
  },
  {
   "cell_type": "markdown",
   "metadata": {},
   "source": [
    "Pandas can connect to most relational databases. In this demonstration, we will create and connect to a SQLite database.\n",
    "\n",
    "SQLite creates portable SQL databases saved in a single file. These databases are stored in a very efficient manner and allow fast querying, making them ideal for small databases or databases that need to be moved across machines."
   ]
  },
  {
   "cell_type": "markdown",
   "metadata": {},
   "source": [
    "### Writing data into a database\n",
    "\n",
    "Data in Pandas can be loaded into a relational database. For the most part, Pandas can use column information to infer the schema for the table it creates. For the next demo we will use the Rossmann stores dataset."
   ]
  },
  {
   "cell_type": "code",
   "execution_count": 12,
   "metadata": {
    "collapsed": false
   },
   "outputs": [
    {
     "data": {
      "text/html": [
       "<div style=\"max-height:1000px;max-width:1500px;overflow:auto;\">\n",
       "<table border=\"1\" class=\"dataframe\">\n",
       "  <thead>\n",
       "    <tr style=\"text-align: right;\">\n",
       "      <th></th>\n",
       "      <th>sqft</th>\n",
       "      <th>bdrms</th>\n",
       "      <th>age</th>\n",
       "      <th>price</th>\n",
       "    </tr>\n",
       "  </thead>\n",
       "  <tbody>\n",
       "    <tr>\n",
       "      <th>0</th>\n",
       "      <td> 2104</td>\n",
       "      <td> 3</td>\n",
       "      <td> 70</td>\n",
       "      <td> 399900</td>\n",
       "    </tr>\n",
       "    <tr>\n",
       "      <th>1</th>\n",
       "      <td> 1600</td>\n",
       "      <td> 3</td>\n",
       "      <td> 28</td>\n",
       "      <td> 329900</td>\n",
       "    </tr>\n",
       "    <tr>\n",
       "      <th>2</th>\n",
       "      <td> 2400</td>\n",
       "      <td> 3</td>\n",
       "      <td> 44</td>\n",
       "      <td> 369000</td>\n",
       "    </tr>\n",
       "    <tr>\n",
       "      <th>3</th>\n",
       "      <td> 1416</td>\n",
       "      <td> 2</td>\n",
       "      <td> 49</td>\n",
       "      <td> 232000</td>\n",
       "    </tr>\n",
       "    <tr>\n",
       "      <th>4</th>\n",
       "      <td> 3000</td>\n",
       "      <td> 4</td>\n",
       "      <td> 75</td>\n",
       "      <td> 539900</td>\n",
       "    </tr>\n",
       "  </tbody>\n",
       "</table>\n",
       "</div>"
      ],
      "text/plain": [
       "   sqft  bdrms  age   price\n",
       "0  2104      3   70  399900\n",
       "1  1600      3   28  329900\n",
       "2  2400      3   44  369000\n",
       "3  1416      2   49  232000\n",
       "4  3000      4   75  539900"
      ]
     },
     "execution_count": 12,
     "metadata": {},
     "output_type": "execute_result"
    }
   ],
   "source": [
    "import pandas as pd\n",
    "\n",
    "data = pd.read_csv('datasets/housing-data.csv', low_memory=False)\n",
    "data.head()"
   ]
  },
  {
   "cell_type": "markdown",
   "metadata": {},
   "source": [
    "Data is moved to the database through the `to_sql` command, similar to the `to_csv` command.\n",
    "\n",
    "`to_sql` takes as arguments:\n",
    "    - `name`, the table name to create\n",
    "    - `con`, a connection to a database\n",
    "    - `index`, whether to input the index column\n",
    "    - `schema`, if we want to write a custom schema for the new table\n",
    "    - `if_exists`, what to do if the table already exists. We can overwrite it, add to it, or fail"
   ]
  },
  {
   "cell_type": "code",
   "execution_count": 13,
   "metadata": {
    "collapsed": false
   },
   "outputs": [],
   "source": [
    "data.to_sql('houses_pandas',\n",
    "            con=conn,\n",
    "            if_exists='replace',\n",
    "            index=False)"
   ]
  },
  {
   "cell_type": "markdown",
   "metadata": {},
   "source": [
    "### Reading data from a database\n",
    "\n",
    "If we already have data in our database, we can use Pandas to query it. Querying is done through the `read_sql` command in the `sql` module."
   ]
  },
  {
   "cell_type": "code",
   "execution_count": 14,
   "metadata": {
    "collapsed": false
   },
   "outputs": [
    {
     "data": {
      "text/html": [
       "<div style=\"max-height:1000px;max-width:1500px;overflow:auto;\">\n",
       "<table border=\"1\" class=\"dataframe\">\n",
       "  <thead>\n",
       "    <tr style=\"text-align: right;\">\n",
       "      <th></th>\n",
       "      <th>sqft</th>\n",
       "      <th>bdrms</th>\n",
       "      <th>age</th>\n",
       "      <th>price</th>\n",
       "    </tr>\n",
       "  </thead>\n",
       "  <tbody>\n",
       "    <tr>\n",
       "      <th>0</th>\n",
       "      <td> 2104</td>\n",
       "      <td> 3</td>\n",
       "      <td> 70</td>\n",
       "      <td> 399900</td>\n",
       "    </tr>\n",
       "    <tr>\n",
       "      <th>1</th>\n",
       "      <td> 1600</td>\n",
       "      <td> 3</td>\n",
       "      <td> 28</td>\n",
       "      <td> 329900</td>\n",
       "    </tr>\n",
       "    <tr>\n",
       "      <th>2</th>\n",
       "      <td> 2400</td>\n",
       "      <td> 3</td>\n",
       "      <td> 44</td>\n",
       "      <td> 369000</td>\n",
       "    </tr>\n",
       "    <tr>\n",
       "      <th>3</th>\n",
       "      <td> 1416</td>\n",
       "      <td> 2</td>\n",
       "      <td> 49</td>\n",
       "      <td> 232000</td>\n",
       "    </tr>\n",
       "    <tr>\n",
       "      <th>4</th>\n",
       "      <td> 3000</td>\n",
       "      <td> 4</td>\n",
       "      <td> 75</td>\n",
       "      <td> 539900</td>\n",
       "    </tr>\n",
       "    <tr>\n",
       "      <th>5</th>\n",
       "      <td> 1985</td>\n",
       "      <td> 4</td>\n",
       "      <td> 61</td>\n",
       "      <td> 299900</td>\n",
       "    </tr>\n",
       "    <tr>\n",
       "      <th>6</th>\n",
       "      <td> 1534</td>\n",
       "      <td> 3</td>\n",
       "      <td> 12</td>\n",
       "      <td> 314900</td>\n",
       "    </tr>\n",
       "    <tr>\n",
       "      <th>7</th>\n",
       "      <td> 1427</td>\n",
       "      <td> 3</td>\n",
       "      <td> 57</td>\n",
       "      <td> 198999</td>\n",
       "    </tr>\n",
       "    <tr>\n",
       "      <th>8</th>\n",
       "      <td> 1380</td>\n",
       "      <td> 3</td>\n",
       "      <td> 14</td>\n",
       "      <td> 212000</td>\n",
       "    </tr>\n",
       "    <tr>\n",
       "      <th>9</th>\n",
       "      <td> 1494</td>\n",
       "      <td> 3</td>\n",
       "      <td> 15</td>\n",
       "      <td> 242500</td>\n",
       "    </tr>\n",
       "  </tbody>\n",
       "</table>\n",
       "</div>"
      ],
      "text/plain": [
       "   sqft  bdrms  age   price\n",
       "0  2104      3   70  399900\n",
       "1  1600      3   28  329900\n",
       "2  2400      3   44  369000\n",
       "3  1416      2   49  232000\n",
       "4  3000      4   75  539900\n",
       "5  1985      4   61  299900\n",
       "6  1534      3   12  314900\n",
       "7  1427      3   57  198999\n",
       "8  1380      3   14  212000\n",
       "9  1494      3   15  242500"
      ]
     },
     "execution_count": 14,
     "metadata": {},
     "output_type": "execute_result"
    }
   ],
   "source": [
    "sql.read_sql('select * from houses_pandas limit 10', con=conn)"
   ]
  },
  {
   "cell_type": "markdown",
   "metadata": {},
   "source": [
    "<a name=\"guided-practice\"></a>\n",
    "## SQL Syntax (30 mins)\n",
    "\n",
    "### SQL Operators\n",
    "> Instructor Note: Each of the following can be demoed in pandas using the data we've setup above. A demo and check are included for each, but it is up to the instructor whether to do these simultaneously or go through them one at a time.\n",
    "\n",
    "#### SELECT\n",
    "Every query should start with `SELECT`.  `SELECT` is followed by the names of the columns in the output.\n",
    "\n",
    "`SELECT` is always paired with `FROM`, and `FROM` identifies the table to retrieve data from.\n",
    "\n",
    "```sql\n",
    "SELECT\n",
    "<columns>\n",
    "FROM\n",
    "<table>\n",
    "```\n",
    "\n",
    "`SELECT *` denotes returns *all* of the columns.\n",
    "\n",
    "Housing Data example:\n",
    "```sql\n",
    "SELECT\n",
    "sqft, bdrms\n",
    "FROM houses_pandas;\n",
    "```\n",
    "\n",
    "**Check:** Write a query that returns the `sqft`, `bdrms` and `price`.\n",
    ">\n",
    "```sql\n",
    "SELECT\n",
    "sqft, bdrms, price\n",
    "FROM houses_pandas;\n",
    "```\n",
    "\n",
    "#### WHERE\n",
    "`WHERE` is used to filter table to a specific criteria and follows the `FROM` clause.\n",
    "\n",
    "```sql\n",
    "SELECT\n",
    "<columns>\n",
    "FROM\n",
    "<table>\n",
    "WHERE\n",
    "<condition>\n",
    "```\n",
    "Example:\n",
    "```sql\n",
    "SELECT\n",
    "sqft, bdrms, age, price\n",
    "FROM houses_pandas\n",
    "WHERE bdrms = 2 and price < 250000;\n",
    "```\n",
    "\n",
    "The condition is some filter applied to the rows, where rows that match the condition will be in the output.\n",
    "\n",
    "**Check:** Write a query that returns the `sqft`, `bdrms`, `age` for when houses older than 60 years.\n",
    ">```sql\n",
    "SELECT\n",
    "sqft, bdrms, age\n",
    "FROM houses_pandas\n",
    "WHERE age > 60;\n",
    "```"
   ]
  },
  {
   "cell_type": "markdown",
   "metadata": {},
   "source": [
    "### AGGREGATIONS\n",
    "\n",
    "Aggregations (or aggregate functions) are functions where the values of multiple rows are grouped together as input on certain criteria to form a single value of more significant meaning or measurement such as a set, a bag or a list.\n",
    "\n",
    "Examples of aggregate funtions:\n",
    "\n",
    "- Average (i.e., arithmetic mean)\n",
    "- Count\n",
    "- Maximum\n",
    "- Minimum\n",
    "- Median\n",
    "- Mode\n",
    "- Sum\n",
    "\n",
    "In SQL they are performed in a `SELECT` statement as follows.\n",
    "\n",
    "```sql\n",
    "SELECT COUNT(price)\n",
    "FROM houses_pandas;\n",
    "```\n",
    "\n",
    "```sql\n",
    "SELECT AVG(sqft), MIN(price), MAX(price)\n",
    "FROM houses_pandas\n",
    "WHERE bdrms = 2;\n",
    "```"
   ]
  },
  {
   "cell_type": "markdown",
   "metadata": {},
   "source": [
    "<a name=\"ind-practice\"></a>\n",
    "## Querying a Database (20 minutes)\n",
    "\n",
    "Practice querying the SQLite database we've created using any of the methods you've learnt so far:\n",
    "\n",
    "- console connection\n",
    "- python `sqlite3` package\n",
    "- pandas\n",
    "- firefox browser extension [SQLite Manager](https://addons.mozilla.org/en-US/firefox/addon/sqlite-manager/?src)\n",
    "\n",
    "Practice querying the PostgreSQL database you can find at:\n",
    "\n",
    "    url: dsi.c20gkj5cvu3l.us-east-1.rds.amazonaws.com\n",
    "    port: 5432\n",
    "    database: dsi\n",
    "    user: dsi_student\n",
    "    password: gastudents\n",
    "    \n",
    "using:\n",
    "- console connection\n",
    "- python `sqlalchemy` package\n",
    "- pandas\n",
    "- [Postico](https://eggerapps.at/postico/)\n",
    "\n",
    "\n",
    "Questions:\n",
    "1. What's the average price per room for 1 bedroom apartments?\n",
    "1. What's the average price per room for 2 bedrooms apartments?\n",
    "1. What's the most frequent apartment size (in terms of bedrooms)?\n",
    "1. How many are there of that apartment kind?\n",
    "1. What fraction of the total number are of that kind?\n",
    "1. How old is the oldest 3 bedrooms apartment?\n",
    "1. How old is the youngest apartment?\n",
    "1. What's the average age for the whole dataset?\n",
    "1. What's the average age for each bedroom size?\n",
    "\n",
    "Try to answer all these in SQL.\n",
    "\n",
    "If you finish, try completing the first sections of [SQL zoo](http://www.sqlzoo.net)."
   ]
  },
  {
   "cell_type": "code",
   "execution_count": null,
   "metadata": {
    "collapsed": true
   },
   "outputs": [],
   "source": [
    "from sqlalchemy import create_engine\n",
    "#engine = create_engine('postgresql+pw://user@localhost:5432/mydb') #sample remote \n",
    "#engine = create_engine('postgresql+pw://dsi_student@dsi.c20gkj5cvu3l.us-east-1.rds.amazonaws.com:5432/dsi') "
   ]
  },
  {
   "cell_type": "code",
   "execution_count": 4,
   "metadata": {
    "collapsed": false
   },
   "outputs": [],
   "source": [
    "#Connect to the remote database with paramaters provided\n",
    "import pandas as pd\n",
    "import psycopg2  \n",
    "\n",
    "params = {\n",
    "  'dbname': 'dsi',\n",
    "  'user': 'dsi_student',\n",
    "  'password': 'gastudents',\n",
    "  'host': 'dsi.c20gkj5cvu3l.us-east-1.rds.amazonaws.com',\n",
    "  'port': 5432\n",
    "}\n",
    "\n",
    "conn = psycopg2.connect(**params)"
   ]
  },
  {
   "cell_type": "code",
   "execution_count": 11,
   "metadata": {
    "collapsed": false
   },
   "outputs": [
    {
     "data": {
      "text/html": [
       "<div style=\"max-height:1000px;max-width:1500px;overflow:auto;\">\n",
       "<table border=\"1\" class=\"dataframe\">\n",
       "  <thead>\n",
       "    <tr style=\"text-align: right;\">\n",
       "      <th></th>\n",
       "      <th>table_schema</th>\n",
       "      <th>table_name</th>\n",
       "    </tr>\n",
       "  </thead>\n",
       "  <tbody>\n",
       "    <tr>\n",
       "      <th>0</th>\n",
       "      <td> information_schema</td>\n",
       "      <td> administrable_role_authorizations</td>\n",
       "    </tr>\n",
       "    <tr>\n",
       "      <th>1</th>\n",
       "      <td> information_schema</td>\n",
       "      <td>                  applicable_roles</td>\n",
       "    </tr>\n",
       "    <tr>\n",
       "      <th>2</th>\n",
       "      <td> information_schema</td>\n",
       "      <td>                        attributes</td>\n",
       "    </tr>\n",
       "    <tr>\n",
       "      <th>3</th>\n",
       "      <td> information_schema</td>\n",
       "      <td>                    character_sets</td>\n",
       "    </tr>\n",
       "    <tr>\n",
       "      <th>4</th>\n",
       "      <td> information_schema</td>\n",
       "      <td>    check_constraint_routine_usage</td>\n",
       "    </tr>\n",
       "  </tbody>\n",
       "</table>\n",
       "</div>"
      ],
      "text/plain": [
       "         table_schema                         table_name\n",
       "0  information_schema  administrable_role_authorizations\n",
       "1  information_schema                   applicable_roles\n",
       "2  information_schema                         attributes\n",
       "3  information_schema                     character_sets\n",
       "4  information_schema     check_constraint_routine_usage"
      ]
     },
     "execution_count": 11,
     "metadata": {},
     "output_type": "execute_result"
    }
   ],
   "source": [
    "pd.read_sql_query('SELECT table_schema,table_name FROM information_schema.tables\\\n",
    "                          ORDER BY table_schema,table_name;',con=conn).head()\n"
   ]
  },
  {
   "cell_type": "code",
   "execution_count": 14,
   "metadata": {
    "collapsed": false
   },
   "outputs": [
    {
     "data": {
      "text/html": [
       "<div style=\"max-height:1000px;max-width:1500px;overflow:auto;\">\n",
       "<table border=\"1\" class=\"dataframe\">\n",
       "  <thead>\n",
       "    <tr style=\"text-align: right;\">\n",
       "      <th></th>\n",
       "      <th>table_name</th>\n",
       "    </tr>\n",
       "  </thead>\n",
       "  <tbody>\n",
       "    <tr>\n",
       "      <th>0</th>\n",
       "      <td>  pg_type</td>\n",
       "    </tr>\n",
       "    <tr>\n",
       "      <th>1</th>\n",
       "      <td>  housing</td>\n",
       "    </tr>\n",
       "    <tr>\n",
       "      <th>2</th>\n",
       "      <td> pg_roles</td>\n",
       "    </tr>\n",
       "    <tr>\n",
       "      <th>3</th>\n",
       "      <td> pg_group</td>\n",
       "    </tr>\n",
       "    <tr>\n",
       "      <th>4</th>\n",
       "      <td>  pg_user</td>\n",
       "    </tr>\n",
       "  </tbody>\n",
       "</table>\n",
       "</div>"
      ],
      "text/plain": [
       "  table_name\n",
       "0    pg_type\n",
       "1    housing\n",
       "2   pg_roles\n",
       "3   pg_group\n",
       "4    pg_user"
      ]
     },
     "execution_count": 14,
     "metadata": {},
     "output_type": "execute_result"
    }
   ],
   "source": [
    "pd.read_sql_query('SELECT table_name FROM information_schema.tables;', \n",
    "                                con=conn).head()"
   ]
  },
  {
   "cell_type": "code",
   "execution_count": 53,
   "metadata": {
    "collapsed": false
   },
   "outputs": [
    {
     "name": "stdout",
     "output_type": "stream",
     "text": [
      "Index([u'table_name'], dtype='object')\n",
      "Empty DataFrame\n",
      "Columns: [table_name]\n",
      "Index: []\n"
     ]
    }
   ],
   "source": [
    "#print table_names2.head()\n",
    "print table_names2.columns\n",
    "print table_names2[table_names2['table_name'] == 'public']"
   ]
  },
  {
   "cell_type": "code",
   "execution_count": 57,
   "metadata": {
    "collapsed": false
   },
   "outputs": [
    {
     "name": "stdout",
     "output_type": "stream",
     "text": [
      "   index  sqft  bdrms  age   price\n",
      "0      0  2104      3   70  399900\n",
      "1      1  1600      3   28  329900\n",
      "2      2  2400      3   44  369000\n",
      "3      3  1416      2   49  232000\n",
      "4      4  3000      4   75  539900\n",
      "<class 'pandas.core.frame.DataFrame'>\n"
     ]
    }
   ],
   "source": [
    "houses = pd.read_sql_query('SELECT * FROM housing LIMIT 100', con=conn)\n",
    "print houses.head()\n",
    "print type(houses)"
   ]
  },
  {
   "cell_type": "markdown",
   "metadata": {},
   "source": [
    "Questions:\n",
    "1. What's the average price per room for 1 bedroom apartments?\n",
    "2. What's the average price per room for 2 bedrooms apartments?\n",
    "3. What's the most frequent apartment size (in terms of bedrooms)?\n",
    "4. How many are there of that apartment kind?\n",
    "5. What fraction of the total number are of that kind?\n",
    "6. How old is the oldest 3 bedrooms apartment?\n",
    "7. How old is the youngest apartment?\n",
    "8. What's the average age for the whole dataset?\n",
    "9.What's the average age for each bedroom size?"
   ]
  },
  {
   "cell_type": "code",
   "execution_count": 106,
   "metadata": {
    "collapsed": false
   },
   "outputs": [
    {
     "data": {
      "text/html": [
       "<div style=\"max-height:1000px;max-width:1500px;overflow:auto;\">\n",
       "<table border=\"1\" class=\"dataframe\">\n",
       "  <thead>\n",
       "    <tr style=\"text-align: right;\">\n",
       "      <th></th>\n",
       "      <th>index</th>\n",
       "      <th>sqft</th>\n",
       "      <th>bdrms</th>\n",
       "      <th>age</th>\n",
       "      <th>price</th>\n",
       "    </tr>\n",
       "  </thead>\n",
       "  <tbody>\n",
       "    <tr>\n",
       "      <th>0</th>\n",
       "      <td> 0</td>\n",
       "      <td> 2104</td>\n",
       "      <td> 3</td>\n",
       "      <td> 70</td>\n",
       "      <td> 399900</td>\n",
       "    </tr>\n",
       "    <tr>\n",
       "      <th>1</th>\n",
       "      <td> 1</td>\n",
       "      <td> 1600</td>\n",
       "      <td> 3</td>\n",
       "      <td> 28</td>\n",
       "      <td> 329900</td>\n",
       "    </tr>\n",
       "    <tr>\n",
       "      <th>2</th>\n",
       "      <td> 2</td>\n",
       "      <td> 2400</td>\n",
       "      <td> 3</td>\n",
       "      <td> 44</td>\n",
       "      <td> 369000</td>\n",
       "    </tr>\n",
       "    <tr>\n",
       "      <th>3</th>\n",
       "      <td> 3</td>\n",
       "      <td> 1416</td>\n",
       "      <td> 2</td>\n",
       "      <td> 49</td>\n",
       "      <td> 232000</td>\n",
       "    </tr>\n",
       "    <tr>\n",
       "      <th>4</th>\n",
       "      <td> 4</td>\n",
       "      <td> 3000</td>\n",
       "      <td> 4</td>\n",
       "      <td> 75</td>\n",
       "      <td> 539900</td>\n",
       "    </tr>\n",
       "    <tr>\n",
       "      <th>5</th>\n",
       "      <td> 5</td>\n",
       "      <td> 1985</td>\n",
       "      <td> 4</td>\n",
       "      <td> 61</td>\n",
       "      <td> 299900</td>\n",
       "    </tr>\n",
       "    <tr>\n",
       "      <th>6</th>\n",
       "      <td> 6</td>\n",
       "      <td> 1534</td>\n",
       "      <td> 3</td>\n",
       "      <td> 12</td>\n",
       "      <td> 314900</td>\n",
       "    </tr>\n",
       "    <tr>\n",
       "      <th>7</th>\n",
       "      <td> 7</td>\n",
       "      <td> 1427</td>\n",
       "      <td> 3</td>\n",
       "      <td> 57</td>\n",
       "      <td> 198999</td>\n",
       "    </tr>\n",
       "    <tr>\n",
       "      <th>8</th>\n",
       "      <td> 8</td>\n",
       "      <td> 1380</td>\n",
       "      <td> 3</td>\n",
       "      <td> 14</td>\n",
       "      <td> 212000</td>\n",
       "    </tr>\n",
       "    <tr>\n",
       "      <th>9</th>\n",
       "      <td> 9</td>\n",
       "      <td> 1494</td>\n",
       "      <td> 3</td>\n",
       "      <td> 15</td>\n",
       "      <td> 242500</td>\n",
       "    </tr>\n",
       "  </tbody>\n",
       "</table>\n",
       "</div>"
      ],
      "text/plain": [
       "   index  sqft  bdrms  age   price\n",
       "0      0  2104      3   70  399900\n",
       "1      1  1600      3   28  329900\n",
       "2      2  2400      3   44  369000\n",
       "3      3  1416      2   49  232000\n",
       "4      4  3000      4   75  539900\n",
       "5      5  1985      4   61  299900\n",
       "6      6  1534      3   12  314900\n",
       "7      7  1427      3   57  198999\n",
       "8      8  1380      3   14  212000\n",
       "9      9  1494      3   15  242500"
      ]
     },
     "execution_count": 106,
     "metadata": {},
     "output_type": "execute_result"
    }
   ],
   "source": [
    "#Checking for the variables and columns of the table\n",
    "pd.read_sql_query('SELECT * FROM housing LIMIT 10;', con=conn)"
   ]
  },
  {
   "cell_type": "code",
   "execution_count": 58,
   "metadata": {
    "collapsed": false
   },
   "outputs": [
    {
     "data": {
      "text/html": [
       "<div style=\"max-height:1000px;max-width:1500px;overflow:auto;\">\n",
       "<table border=\"1\" class=\"dataframe\">\n",
       "  <thead>\n",
       "    <tr style=\"text-align: right;\">\n",
       "      <th></th>\n",
       "      <th>avg</th>\n",
       "    </tr>\n",
       "  </thead>\n",
       "  <tbody>\n",
       "    <tr>\n",
       "      <th>0</th>\n",
       "      <td> 169900</td>\n",
       "    </tr>\n",
       "  </tbody>\n",
       "</table>\n",
       "</div>"
      ],
      "text/plain": [
       "      avg\n",
       "0  169900"
      ]
     },
     "execution_count": 58,
     "metadata": {},
     "output_type": "execute_result"
    }
   ],
   "source": [
    "# 1. What's the average price per room for 1 bedroom apartments?\n",
    "pd.read_sql_query('SELECT AVG(price) FROM housing WHERE bdrms=1;', con=conn)"
   ]
  },
  {
   "cell_type": "code",
   "execution_count": 71,
   "metadata": {
    "collapsed": false
   },
   "outputs": [
    {
     "name": "stdout",
     "output_type": "stream",
     "text": [
      "Index([u'avgpriceperbdrm'], dtype='object')\n"
     ]
    }
   ],
   "source": [
    "# 2. What's the average price per room for 2 bedroom apartments?\n",
    "#pd.read_sql_query('SELECT AVG(price)/2 FROM housing WHERE bdrms=2;', con=conn)\n",
    "\n",
    "tmp= pd.read_sql_query('SELECT AVG(price)/2 AS AvgPricePerBdrm FROM housing WHERE bdrms=2;', con=conn)\n",
    "print tmp.columns"
   ]
  },
  {
   "cell_type": "code",
   "execution_count": 107,
   "metadata": {
    "collapsed": false
   },
   "outputs": [],
   "source": [
    "# 3. What's the most frequent apartment size (in terms of bedrooms)?\n",
    "# pd.read_sql_query('SELECT bdrms, \\\n",
    "#                           count(bdrms) AS count_brdrms \\\n",
    "#                     FROM housing \\\n",
    "#                     GROUP BY bdrms ORDER BY 2 ;', con=conn)\n",
    "\n",
    "\n",
    "v = pd.read_sql_query('SELECT bdrms, \\\n",
    "                      AVG(price)/bdrms AS AvgPricePerBdrm, \\\n",
    "                      MIN(price)/bdrms AS MinPricePerBdrm \\\n",
    "                      FROM housing \\\n",
    "                  GROUP BY bdrms \\\n",
    "                  ORDER BY bdrms ASC;', con=conn)\n",
    "\n",
    "# pd.read_sql_query('SELECT bdrms, \\\n",
    "#                       AVG(price)/bdrms AS AvgPricePerBdrm \\\n",
    "#                       MIN(price)/bdrms AS MinPricePerBdrm \\\n",
    "#                       FROM housing \\\n",
    "#                   GROUP BY bdrms \\\n",
    "#                   ORDER BY bdrms ASC;', con=conn)"
   ]
  },
  {
   "cell_type": "code",
   "execution_count": 108,
   "metadata": {
    "collapsed": false
   },
   "outputs": [
    {
     "data": {
      "text/html": [
       "<div style=\"max-height:1000px;max-width:1500px;overflow:auto;\">\n",
       "<table border=\"1\" class=\"dataframe\">\n",
       "  <thead>\n",
       "    <tr style=\"text-align: right;\">\n",
       "      <th></th>\n",
       "      <th>bdrms</th>\n",
       "      <th>avgpriceperbdrm</th>\n",
       "      <th>minpriceperbdrm</th>\n",
       "    </tr>\n",
       "  </thead>\n",
       "  <tbody>\n",
       "    <tr>\n",
       "      <th>3</th>\n",
       "      <td> 4</td>\n",
       "      <td> 94362.446429</td>\n",
       "      <td> 59999</td>\n",
       "    </tr>\n",
       "  </tbody>\n",
       "</table>\n",
       "</div>"
      ],
      "text/plain": [
       "   bdrms  avgpriceperbdrm  minpriceperbdrm\n",
       "3      4     94362.446429            59999"
      ]
     },
     "execution_count": 108,
     "metadata": {},
     "output_type": "execute_result"
    }
   ],
   "source": [
    "#now we want to select 4 bedrooms from the df created above\n",
    "v[v['bdrms'] == 4]"
   ]
  },
  {
   "cell_type": "code",
   "execution_count": 88,
   "metadata": {
    "collapsed": false
   },
   "outputs": [
    {
     "data": {
      "text/html": [
       "<div style=\"max-height:1000px;max-width:1500px;overflow:auto;\">\n",
       "<table border=\"1\" class=\"dataframe\">\n",
       "  <thead>\n",
       "    <tr style=\"text-align: right;\">\n",
       "      <th></th>\n",
       "      <th>fraction</th>\n",
       "    </tr>\n",
       "  </thead>\n",
       "  <tbody>\n",
       "    <tr>\n",
       "      <th>0</th>\n",
       "      <td> 0.531915</td>\n",
       "    </tr>\n",
       "  </tbody>\n",
       "</table>\n",
       "</div>"
      ],
      "text/plain": [
       "   fraction\n",
       "0  0.531915"
      ]
     },
     "execution_count": 88,
     "metadata": {},
     "output_type": "execute_result"
    }
   ],
   "source": [
    "# 5. What fraction of the total number are of that kind?\n",
    "pd.read_sql('SELECT \\\n",
    "                ((SELECT COUNT(bdrms) FROM housing WHERE bdrms=3)*1.0)/COUNT(bdrms) AS fraction \\\n",
    "            FROM housing',con=conn)"
   ]
  },
  {
   "cell_type": "code",
   "execution_count": 93,
   "metadata": {
    "collapsed": false
   },
   "outputs": [
    {
     "data": {
      "text/html": [
       "<div style=\"max-height:1000px;max-width:1500px;overflow:auto;\">\n",
       "<table border=\"1\" class=\"dataframe\">\n",
       "  <thead>\n",
       "    <tr style=\"text-align: right;\">\n",
       "      <th></th>\n",
       "      <th>bdrms</th>\n",
       "      <th>years_old</th>\n",
       "    </tr>\n",
       "  </thead>\n",
       "  <tbody>\n",
       "    <tr>\n",
       "      <th>0</th>\n",
       "      <td> 3</td>\n",
       "      <td> 78</td>\n",
       "    </tr>\n",
       "  </tbody>\n",
       "</table>\n",
       "</div>"
      ],
      "text/plain": [
       "   bdrms  years_old\n",
       "0      3         78"
      ]
     },
     "execution_count": 93,
     "metadata": {},
     "output_type": "execute_result"
    }
   ],
   "source": [
    "#6. How old is the oldest 3 bedrooms apartment?\n",
    "pd.read_sql_query('SELECT bdrms, \\\n",
    "                          MAX(age) AS years_old \\\n",
    "                   FROM housing \\\n",
    "                   WHERE bdrms = 3 \\\n",
    "                   GROUP BY bdrms ORDER BY bdrms ASC', con=conn)\n"
   ]
  },
  {
   "cell_type": "code",
   "execution_count": 94,
   "metadata": {
    "collapsed": false
   },
   "outputs": [
    {
     "data": {
      "text/html": [
       "<div style=\"max-height:1000px;max-width:1500px;overflow:auto;\">\n",
       "<table border=\"1\" class=\"dataframe\">\n",
       "  <thead>\n",
       "    <tr style=\"text-align: right;\">\n",
       "      <th></th>\n",
       "      <th>bdrms</th>\n",
       "      <th>years_old</th>\n",
       "    </tr>\n",
       "  </thead>\n",
       "  <tbody>\n",
       "    <tr>\n",
       "      <th>0</th>\n",
       "      <td> 1</td>\n",
       "      <td>  5</td>\n",
       "    </tr>\n",
       "    <tr>\n",
       "      <th>1</th>\n",
       "      <td> 4</td>\n",
       "      <td>  5</td>\n",
       "    </tr>\n",
       "    <tr>\n",
       "      <th>2</th>\n",
       "      <td> 3</td>\n",
       "      <td> 11</td>\n",
       "    </tr>\n",
       "    <tr>\n",
       "      <th>3</th>\n",
       "      <td> 2</td>\n",
       "      <td> 40</td>\n",
       "    </tr>\n",
       "    <tr>\n",
       "      <th>4</th>\n",
       "      <td> 5</td>\n",
       "      <td> 49</td>\n",
       "    </tr>\n",
       "  </tbody>\n",
       "</table>\n",
       "</div>"
      ],
      "text/plain": [
       "   bdrms  years_old\n",
       "0      1          5\n",
       "1      4          5\n",
       "2      3         11\n",
       "3      2         40\n",
       "4      5         49"
      ]
     },
     "execution_count": 94,
     "metadata": {},
     "output_type": "execute_result"
    }
   ],
   "source": [
    "#7. How old is the youngest apartment?\n",
    "pd.read_sql_query('SELECT bdrms, \\\n",
    "                          MIN(age) AS years_old\\\n",
    "                   FROM housing \\\n",
    "                   GROUP BY bdrms ORDER BY 2 ASC', con=conn)"
   ]
  },
  {
   "cell_type": "code",
   "execution_count": 96,
   "metadata": {
    "collapsed": false
   },
   "outputs": [
    {
     "data": {
      "text/html": [
       "<div style=\"max-height:1000px;max-width:1500px;overflow:auto;\">\n",
       "<table border=\"1\" class=\"dataframe\">\n",
       "  <thead>\n",
       "    <tr style=\"text-align: right;\">\n",
       "      <th></th>\n",
       "      <th>avg</th>\n",
       "    </tr>\n",
       "  </thead>\n",
       "  <tbody>\n",
       "    <tr>\n",
       "      <th>0</th>\n",
       "      <td> 42.744681</td>\n",
       "    </tr>\n",
       "  </tbody>\n",
       "</table>\n",
       "</div>"
      ],
      "text/plain": [
       "         avg\n",
       "0  42.744681"
      ]
     },
     "execution_count": 96,
     "metadata": {},
     "output_type": "execute_result"
    }
   ],
   "source": [
    "#8. What's the average age for the whole dataset?\n",
    "pd.read_sql_query('select avg(age) from housing', con=conn)"
   ]
  },
  {
   "cell_type": "code",
   "execution_count": 109,
   "metadata": {
    "collapsed": false
   },
   "outputs": [
    {
     "data": {
      "text/html": [
       "<div style=\"max-height:1000px;max-width:1500px;overflow:auto;\">\n",
       "<table border=\"1\" class=\"dataframe\">\n",
       "  <thead>\n",
       "    <tr style=\"text-align: right;\">\n",
       "      <th></th>\n",
       "      <th>bdrms</th>\n",
       "      <th>avg</th>\n",
       "    </tr>\n",
       "  </thead>\n",
       "  <tbody>\n",
       "    <tr>\n",
       "      <th>0</th>\n",
       "      <td> 1</td>\n",
       "      <td>  5.000000</td>\n",
       "    </tr>\n",
       "    <tr>\n",
       "      <th>1</th>\n",
       "      <td> 2</td>\n",
       "      <td> 56.666667</td>\n",
       "    </tr>\n",
       "    <tr>\n",
       "      <th>2</th>\n",
       "      <td> 3</td>\n",
       "      <td> 38.360000</td>\n",
       "    </tr>\n",
       "    <tr>\n",
       "      <th>3</th>\n",
       "      <td> 4</td>\n",
       "      <td> 46.857143</td>\n",
       "    </tr>\n",
       "    <tr>\n",
       "      <th>4</th>\n",
       "      <td> 5</td>\n",
       "      <td> 49.000000</td>\n",
       "    </tr>\n",
       "  </tbody>\n",
       "</table>\n",
       "</div>"
      ],
      "text/plain": [
       "   bdrms        avg\n",
       "0      1   5.000000\n",
       "1      2  56.666667\n",
       "2      3  38.360000\n",
       "3      4  46.857143\n",
       "4      5  49.000000"
      ]
     },
     "execution_count": 109,
     "metadata": {},
     "output_type": "execute_result"
    }
   ],
   "source": [
    "#9. What's the average age for each bedroom size?\n",
    "pd.read_sql_query('select bdrms, avg(age)  \\\n",
    "                   from housing group by bdrms order by 1;', con=conn)"
   ]
  },
  {
   "cell_type": "code",
   "execution_count": 110,
   "metadata": {
    "collapsed": false
   },
   "outputs": [
    {
     "data": {
      "text/html": [
       "<div style=\"max-height:1000px;max-width:1500px;overflow:auto;\">\n",
       "<table border=\"1\" class=\"dataframe\">\n",
       "  <thead>\n",
       "    <tr style=\"text-align: right;\">\n",
       "      <th></th>\n",
       "      <th>max</th>\n",
       "    </tr>\n",
       "  </thead>\n",
       "  <tbody>\n",
       "    <tr>\n",
       "      <th>0</th>\n",
       "      <td> 25</td>\n",
       "    </tr>\n",
       "  </tbody>\n",
       "</table>\n",
       "</div>"
      ],
      "text/plain": [
       "   max\n",
       "0   25"
      ]
     },
     "execution_count": 110,
     "metadata": {},
     "output_type": "execute_result"
    }
   ],
   "source": [
    "# Example of nested SELECT statement\n",
    "pd.read_sql_query('SELECT MAX(poop.count_bdrms)\\\n",
    "FROM (select bdrms , \\\n",
    "                      count(bdrms) AS count_bdrms \\\n",
    "                      FROM housing \\\n",
    "                      group by bdrms \\\n",
    "                      order by 1) AS poop;', con=conn)"
   ]
  },
  {
   "cell_type": "markdown",
   "metadata": {},
   "source": [
    "<a name=\"conclusion\"></a>\n",
    "## Conclusion (5 mins)\n",
    "We have learnt how to connect to a local database and how to execute simple queries."
   ]
  },
  {
   "cell_type": "markdown",
   "metadata": {},
   "source": [
    "***\n",
    "### ADDITIONAL RESOURCES\n",
    "\n",
    "- [sqlite3 home](http://www.sqlite.org)  \n",
    "- [SQLite - Python tutorial](http://sebastianraschka.com/Articles/2014_sqlite_in_python_tutorial.html)  \n",
    "- [SQL zoo](http://www.sqlzoo.net)"
   ]
  }
 ],
 "metadata": {
  "kernelspec": {
   "display_name": "Python 2",
   "language": "python",
   "name": "python2"
  },
  "language_info": {
   "codemirror_mode": {
    "name": "ipython",
    "version": 2
   },
   "file_extension": ".py",
   "mimetype": "text/x-python",
   "name": "python",
   "nbconvert_exporter": "python",
   "pygments_lexer": "ipython2",
   "version": "2.7.5"
  }
 },
 "nbformat": 4,
 "nbformat_minor": 0
}
