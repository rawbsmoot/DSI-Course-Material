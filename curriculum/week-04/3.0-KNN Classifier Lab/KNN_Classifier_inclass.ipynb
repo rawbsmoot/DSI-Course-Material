{
 "cells": [
  {
   "cell_type": "code",
   "execution_count": 1,
   "metadata": {
    "collapsed": true
   },
   "outputs": [],
   "source": [
    "import math\n",
    "import sys\n",
    "import csv\n",
    "import pandas as pd\n",
    "\n",
    "from collections import Counter"
   ]
  },
  {
   "cell_type": "code",
   "execution_count": 2,
   "metadata": {
    "collapsed": true
   },
   "outputs": [],
   "source": [
    "#Path to file used in this script\n",
    "ATHLETES_FILE = './datasets/athletes.csv'"
   ]
  },
  {
   "cell_type": "code",
   "execution_count": 3,
   "metadata": {
    "collapsed": true
   },
   "outputs": [],
   "source": [
    "# Original column indices\n",
    "AGE_COL    = 2\n",
    "HEIGHT_COL = 3\n",
    "WEIGHT_COL = 4\n",
    "GENDER_COL = 5\n",
    "SPORT_COL  = 12\n",
    "EVENTS_COL = 13\n",
    "\n",
    "# Added-on scaled column indices \n",
    "#   (assumes events were condensed into a single column)\n",
    "SCALED_AGE_COL = 14\n",
    "SCALED_HEIGHT_COL = 15\n",
    "SCALED_WEIGHT_COL = 16\n",
    "\n",
    "# These column indices define a point\n",
    "POINT_COLS = [AGE_COL, HEIGHT_COL, WEIGHT_COL]\n",
    "SCALED_POINT_COLS = [SCALED_AGE_COL, SCALED_HEIGHT_COL, SCALED_WEIGHT_COL]"
   ]
  },
  {
   "cell_type": "code",
   "execution_count": 4,
   "metadata": {
    "collapsed": false
   },
   "outputs": [],
   "source": [
    "def load_athletes_lazy(filename): \n",
    "    \n",
    "    df = pd.read_csv(filename)\n",
    "    df[['age', 'height', 'weight']]\n",
    "    \n",
    "    return df"
   ]
  },
  {
   "cell_type": "code",
   "execution_count": 5,
   "metadata": {
    "collapsed": true
   },
   "outputs": [],
   "source": [
    "def get_input():\n",
    "    \"\"\"\n",
    "    Prompts user for an age, height, and weight.\n",
    "    \"\"\"\n",
    "\n",
    "    age = input(\"Age (years)? \")\n",
    "    height = input(\"Height (cm)? \")\n",
    "    weight = input(\"Weight (kg)? \")\n",
    "\n",
    "    return (age, height, weight)"
   ]
  },
  {
   "cell_type": "code",
   "execution_count": 6,
   "metadata": {
    "collapsed": true
   },
   "outputs": [],
   "source": [
    "def load_athletes(filename):\n",
    "    \"\"\"\n",
    "    Loads athlete data from 'filename' into a list of tuples.\n",
    "    Returns a list of tuples of each athlete's attributes, where\n",
    "      the last element of each tuple is a list of events the athlete\n",
    "      competed in.\n",
    "      (age, height, weight) \n",
    "    The header line is skipped, and rows are removed if missing a value\n",
    "      for the age, height, or weight.\n",
    "    For example:\n",
    "    [...,\n",
    "     ['Zhaoxu Zhang', \"People's Republic of China\", \n",
    "      '24', '221', '110', 'M', '11/18/1987', \n",
    "      '', '0', '0', '0', '0', \n",
    "      'Basketball', [\"Men's Basketball\"]],\n",
    "     ...\n",
    "    ]\n",
    "    \"\"\"\n",
    "    #Testing approach to account errors\n",
    "    assert(type(filename) == str and len(filename) > 0)\n",
    "\n",
    "    athletes = []\n",
    "\n",
    "    #read in data with csv module\n",
    "    with open(filename, 'r') as fin:\n",
    "        \n",
    "        reader = csv.reader(fin)\n",
    "        \n",
    "        next(reader)            # Skip the header\n",
    "         \n",
    "        # Places all athletes into a list\n",
    "        athletes = list(reader)\n",
    "        \n",
    "        # Remove rows with empty age/height/weight\n",
    "        # NOTE: Could alternatively replace empty values with the column mean\n",
    "        athletes = [row for row in athletes if (all(field != '' for field in row[2:5]))]\n",
    "\n",
    "        # Place all events in one list in column 'EVENTS_COL'\n",
    "        athletes = [row[:EVENTS_COL] + [row[EVENTS_COL:]] for row in athletes]\n",
    "\n",
    "        print athletes[0]\n",
    "\n",
    "    return athletes"
   ]
  },
  {
   "cell_type": "code",
   "execution_count": 7,
   "metadata": {
    "collapsed": false
   },
   "outputs": [],
   "source": [
    "def dist(x, y):\n",
    "    \"\"\" \n",
    "    Euclidean distance between vectors x and y. \n",
    "    Each element of x and y must be numeric or a numeric string.\n",
    "    Requires that len(x) == len(y).\n",
    "    For example: \n",
    "        (age, height, weight) \n",
    "        dist((0, 0, 0), (0, 5, 0)) == 5.0\n",
    "        dist((1, 1, 1), (2, 2, 2)) == 1.7320508075688772\n",
    "        dist(('1', '1', '1'), ('2', '2', '2')) == 1.7320508075688772\n",
    "    \"\"\"\n",
    "    #testing \n",
    "    assert(len(x) == len(y))\n",
    "    \n",
    "    sq_distances = ((float(x[index]) - float(y[index]))**2 for index in range(len(x)))\n",
    "    \n",
    "    return math.sqrt(sum(sq_distances)) \n",
    "\n",
    "#print dist((0, 0, 0), (0, 5, 0))"
   ]
  },
  {
   "cell_type": "code",
   "execution_count": 8,
   "metadata": {
    "collapsed": false
   },
   "outputs": [],
   "source": [
    "def nearest_athletes(point, athletes, k = 1):\n",
    "    \"\"\"\n",
    "    Returns the 'k' athletes closest to 'point'.\n",
    "    Sorts the athletes based on distance to 'point', then return the closest.\n",
    "    \"\"\"\n",
    "    \n",
    "    # calculate the distance between test_point with every athlete\n",
    "    # sort the list of distances\n",
    "    \n",
    "    nearest = sorted(athletes, key=lambda athlete: dist(point, athlete[2:5]))\n",
    "    \n",
    "    return nearest[:k]\n"
   ]
  },
  {
   "cell_type": "code",
   "execution_count": 9,
   "metadata": {
    "collapsed": true
   },
   "outputs": [],
   "source": [
    "def most_common_event(athletes):\n",
    "    \"\"\"\n",
    "    Returns the most frequently occuring event in all 'athletes'.\n",
    "    Consider using Counter.\n",
    "    \"\"\"\n",
    "    events_list = []\n",
    "    \n",
    "    for event in athletes:\n",
    "        events_list.append(event[EVENTS_COL][0])\n",
    "    \n",
    "    events_count = Counter(events_list)\n",
    "\n",
    "    return events_count.most_common(1)[0][0]\n"
   ]
  },
  {
   "cell_type": "code",
   "execution_count": 10,
   "metadata": {
    "collapsed": false
   },
   "outputs": [],
   "source": [
    "# for event in athletes[:3]:\n",
    "# print event[EVENTS_COL][0]\n",
    "    \n",
    "#print athletes[0][EVENTS_COL]\n",
    "\n",
    "# events = Counter(event[-1] for athlete in athletes for event in athletes[0][EVENTS_COL])\n",
    "# events"
   ]
  },
  {
   "cell_type": "code",
   "execution_count": 11,
   "metadata": {
    "collapsed": true
   },
   "outputs": [],
   "source": [
    "#MAIN IMPLEMENTATION AREA"
   ]
  },
  {
   "cell_type": "code",
   "execution_count": 12,
   "metadata": {
    "collapsed": false
   },
   "outputs": [
    {
     "name": "stdout",
     "output_type": "stream",
     "text": [
      "['Lamusi A', \"People's Republic of China\", '23', '170', '60', 'M', '6/2/1989', 'NEIMONGGOL (CHN)', '0', '0', '0', '0', 'Judo', [\"Men's -60kg\"]]\n"
     ]
    }
   ],
   "source": [
    "# load in the file, prints the first record as a sample\n",
    "athletes = load_athletes(ATHLETES_FILE)"
   ]
  },
  {
   "cell_type": "code",
   "execution_count": 13,
   "metadata": {
    "collapsed": false
   },
   "outputs": [
    {
     "name": "stdout",
     "output_type": "stream",
     "text": [
      "TEST POINT:  (24, 150, 65)\n"
     ]
    }
   ],
   "source": [
    "#add any test point that you want\n",
    "test_point = (24, 150, 65) #age, height cm, weight kg\n",
    "print \"TEST POINT: \", test_point"
   ]
  },
  {
   "cell_type": "code",
   "execution_count": 14,
   "metadata": {
    "collapsed": false
   },
   "outputs": [
    {
     "name": "stdout",
     "output_type": "stream",
     "text": [
      "NEAREST ATHLETE(S):  [['Jillian Tyler', 'Canada', '23', '152', '65', 'F', '9/5/1988', 'DIDSBURY (CAN)', '0', '0', '0', '0', 'Swimming', [\"Women's 100m Breaststroke\"]], ['Ogho-Oghene Egwero', 'Nigeria', '23', '152', '64', 'M', '11/26/1988', 'EGBO', '0', '0', '0', '0', 'Athletics', [\"Men's 100m\"]], ['Lisa Dahlkvist', 'Sweden', '25', '147', '68', 'F', '2/6/1987', '', '0', '0', '0', '0', 'Football', [\"Women's Football\"]], ['Mira Suhonen', 'Finland', '27', '153', '63', 'F', '7/9/1985', 'KUORTANE (FIN)', '0', '0', '0', '0', 'Shooting', [\"Women's 10m Air Pistol\"]], ['Geraldine Lee', 'Singapore', '25', '154', '62', 'F', '6/19/1987', '', '0', '0', '0', '0', 'Canoe Sprint', [\"Women's Kayak Single (K1) 200m, Women's Kayak Single (K1) 500m\"]]]\n",
      "('RECOMMENDED EVENT: ', \"Women's 100m Breaststroke\")\n"
     ]
    }
   ],
   "source": [
    "#Perform KNN\n",
    "nearest = nearest_athletes(test_point, athletes, k=5)\n",
    "\n",
    "print \"NEAREST ATHLETE(S): \", nearest\n",
    "\n",
    "# Find the most common event of the nearest athletes\n",
    "event = most_common_event(nearest)\n",
    "print(\"RECOMMENDED EVENT: \", event)"
   ]
  },
  {
   "cell_type": "code",
   "execution_count": 37,
   "metadata": {
    "collapsed": false
   },
   "outputs": [
    {
     "name": "stdout",
     "output_type": "stream",
     "text": [
      "[\"Men's -60kg\" \"Men's Hammer Throw\" \"Men's 1500m\" ..., \"Men's Handball\"\n",
      " \"Women's 400m Hurdles, Women's 4 x 400m Relay\" \"Men's Basketball\"]\n"
     ]
    }
   ],
   "source": [
    "targets = []\n",
    "for i in athletes: \n",
    "    targets.append(i[-1][0])\n",
    "    \n",
    "print np.array(targets)"
   ]
  },
  {
   "cell_type": "code",
   "execution_count": 31,
   "metadata": {
    "collapsed": false
   },
   "outputs": [
    {
     "ename": "ValueError",
     "evalue": "cannot set an array element with a sequence",
     "output_type": "error",
     "traceback": [
      "\u001b[0;31m---------------------------------------------------------------------------\u001b[0m",
      "\u001b[0;31mValueError\u001b[0m                                Traceback (most recent call last)",
      "\u001b[0;32m<ipython-input-31-9b3fa5c6f8b2>\u001b[0m in \u001b[0;36m<module>\u001b[0;34m()\u001b[0m\n\u001b[1;32m      5\u001b[0m \u001b[0;34m\u001b[0m\u001b[0m\n\u001b[1;32m      6\u001b[0m \u001b[0mknn\u001b[0m \u001b[0;34m=\u001b[0m \u001b[0mneighbors\u001b[0m\u001b[0;34m.\u001b[0m\u001b[0mKNeighborsClassifier\u001b[0m\u001b[0;34m(\u001b[0m\u001b[0mn_neighbors\u001b[0m\u001b[0;34m=\u001b[0m\u001b[0;36m5\u001b[0m\u001b[0;34m,\u001b[0m \u001b[0mweights\u001b[0m\u001b[0;34m=\u001b[0m\u001b[0;34m'uniform'\u001b[0m\u001b[0;34m)\u001b[0m \u001b[0;31m# add in the weights parameter here\u001b[0m\u001b[0;34m\u001b[0m\u001b[0m\n\u001b[0;32m----> 7\u001b[0;31m \u001b[0mknn\u001b[0m\u001b[0;34m.\u001b[0m\u001b[0mfit\u001b[0m\u001b[0;34m(\u001b[0m\u001b[0mathletes\u001b[0m\u001b[0;34m[\u001b[0m\u001b[0;36m2\u001b[0m\u001b[0;34m:\u001b[0m\u001b[0;36m5\u001b[0m\u001b[0;34m]\u001b[0m\u001b[0;34m,\u001b[0m \u001b[0mnp\u001b[0m\u001b[0;34m.\u001b[0m\u001b[0marray\u001b[0m\u001b[0;34m(\u001b[0m\u001b[0mtargets\u001b[0m\u001b[0;34m)\u001b[0m\u001b[0;34m)\u001b[0m\u001b[0;34m\u001b[0m\u001b[0m\n\u001b[0m\u001b[1;32m      8\u001b[0m \u001b[0;32mprint\u001b[0m \u001b[0mknn\u001b[0m\u001b[0;34m.\u001b[0m\u001b[0mpredict\u001b[0m\u001b[0;34m(\u001b[0m\u001b[0mathletes\u001b[0m\u001b[0;34m[\u001b[0m\u001b[0;36m2\u001b[0m\u001b[0;34m:\u001b[0m\u001b[0;36m5\u001b[0m\u001b[0;34m]\u001b[0m\u001b[0;34m)\u001b[0m\u001b[0;34m\u001b[0m\u001b[0m\n",
      "\u001b[0;32m/Users/powchow/.virtualenvs/gatech-ml/lib/python2.7/site-packages/sklearn/neighbors/base.pyc\u001b[0m in \u001b[0;36mfit\u001b[0;34m(self, X, y)\u001b[0m\n\u001b[1;32m    776\u001b[0m         \"\"\"\n\u001b[1;32m    777\u001b[0m         \u001b[0;32mif\u001b[0m \u001b[0;32mnot\u001b[0m \u001b[0misinstance\u001b[0m\u001b[0;34m(\u001b[0m\u001b[0mX\u001b[0m\u001b[0;34m,\u001b[0m \u001b[0;34m(\u001b[0m\u001b[0mKDTree\u001b[0m\u001b[0;34m,\u001b[0m \u001b[0mBallTree\u001b[0m\u001b[0;34m)\u001b[0m\u001b[0;34m)\u001b[0m\u001b[0;34m:\u001b[0m\u001b[0;34m\u001b[0m\u001b[0m\n\u001b[0;32m--> 778\u001b[0;31m             \u001b[0mX\u001b[0m\u001b[0;34m,\u001b[0m \u001b[0my\u001b[0m \u001b[0;34m=\u001b[0m \u001b[0mcheck_X_y\u001b[0m\u001b[0;34m(\u001b[0m\u001b[0mX\u001b[0m\u001b[0;34m,\u001b[0m \u001b[0my\u001b[0m\u001b[0;34m,\u001b[0m \u001b[0;34m\"csr\"\u001b[0m\u001b[0;34m,\u001b[0m \u001b[0mmulti_output\u001b[0m\u001b[0;34m=\u001b[0m\u001b[0mTrue\u001b[0m\u001b[0;34m)\u001b[0m\u001b[0;34m\u001b[0m\u001b[0m\n\u001b[0m\u001b[1;32m    779\u001b[0m \u001b[0;34m\u001b[0m\u001b[0m\n\u001b[1;32m    780\u001b[0m         \u001b[0;32mif\u001b[0m \u001b[0my\u001b[0m\u001b[0;34m.\u001b[0m\u001b[0mndim\u001b[0m \u001b[0;34m==\u001b[0m \u001b[0;36m1\u001b[0m \u001b[0;32mor\u001b[0m \u001b[0my\u001b[0m\u001b[0;34m.\u001b[0m\u001b[0mndim\u001b[0m \u001b[0;34m==\u001b[0m \u001b[0;36m2\u001b[0m \u001b[0;32mand\u001b[0m \u001b[0my\u001b[0m\u001b[0;34m.\u001b[0m\u001b[0mshape\u001b[0m\u001b[0;34m[\u001b[0m\u001b[0;36m1\u001b[0m\u001b[0;34m]\u001b[0m \u001b[0;34m==\u001b[0m \u001b[0;36m1\u001b[0m\u001b[0;34m:\u001b[0m\u001b[0;34m\u001b[0m\u001b[0m\n",
      "\u001b[0;32m/Users/powchow/.virtualenvs/gatech-ml/lib/python2.7/site-packages/sklearn/utils/validation.pyc\u001b[0m in \u001b[0;36mcheck_X_y\u001b[0;34m(X, y, accept_sparse, dtype, order, copy, force_all_finite, ensure_2d, allow_nd, multi_output, ensure_min_samples, ensure_min_features, y_numeric, warn_on_dtype, estimator)\u001b[0m\n\u001b[1;32m    508\u001b[0m     X = check_array(X, accept_sparse, dtype, order, copy, force_all_finite,\n\u001b[1;32m    509\u001b[0m                     \u001b[0mensure_2d\u001b[0m\u001b[0;34m,\u001b[0m \u001b[0mallow_nd\u001b[0m\u001b[0;34m,\u001b[0m \u001b[0mensure_min_samples\u001b[0m\u001b[0;34m,\u001b[0m\u001b[0;34m\u001b[0m\u001b[0m\n\u001b[0;32m--> 510\u001b[0;31m                     ensure_min_features, warn_on_dtype, estimator)\n\u001b[0m\u001b[1;32m    511\u001b[0m     \u001b[0;32mif\u001b[0m \u001b[0mmulti_output\u001b[0m\u001b[0;34m:\u001b[0m\u001b[0;34m\u001b[0m\u001b[0m\n\u001b[1;32m    512\u001b[0m         y = check_array(y, 'csr', force_all_finite=True, ensure_2d=False,\n",
      "\u001b[0;32m/Users/powchow/.virtualenvs/gatech-ml/lib/python2.7/site-packages/sklearn/utils/validation.pyc\u001b[0m in \u001b[0;36mcheck_array\u001b[0;34m(array, accept_sparse, dtype, order, copy, force_all_finite, ensure_2d, allow_nd, ensure_min_samples, ensure_min_features, warn_on_dtype, estimator)\u001b[0m\n\u001b[1;32m    371\u001b[0m                                       force_all_finite)\n\u001b[1;32m    372\u001b[0m     \u001b[0;32melse\u001b[0m\u001b[0;34m:\u001b[0m\u001b[0;34m\u001b[0m\u001b[0m\n\u001b[0;32m--> 373\u001b[0;31m         \u001b[0marray\u001b[0m \u001b[0;34m=\u001b[0m \u001b[0mnp\u001b[0m\u001b[0;34m.\u001b[0m\u001b[0marray\u001b[0m\u001b[0;34m(\u001b[0m\u001b[0marray\u001b[0m\u001b[0;34m,\u001b[0m \u001b[0mdtype\u001b[0m\u001b[0;34m=\u001b[0m\u001b[0mdtype\u001b[0m\u001b[0;34m,\u001b[0m \u001b[0morder\u001b[0m\u001b[0;34m=\u001b[0m\u001b[0morder\u001b[0m\u001b[0;34m,\u001b[0m \u001b[0mcopy\u001b[0m\u001b[0;34m=\u001b[0m\u001b[0mcopy\u001b[0m\u001b[0;34m)\u001b[0m\u001b[0;34m\u001b[0m\u001b[0m\n\u001b[0m\u001b[1;32m    374\u001b[0m \u001b[0;34m\u001b[0m\u001b[0m\n\u001b[1;32m    375\u001b[0m         \u001b[0;32mif\u001b[0m \u001b[0mensure_2d\u001b[0m\u001b[0;34m:\u001b[0m\u001b[0;34m\u001b[0m\u001b[0m\n",
      "\u001b[0;31mValueError\u001b[0m: cannot set an array element with a sequence"
     ]
    }
   ],
   "source": [
    "###Using KNN appplication to this dataset\n",
    "from sklearn import datasets, neighbors, metrics\n",
    "import pandas as pd\n",
    "import numpy as np\n",
    "\n",
    "knn = neighbors.KNeighborsClassifier(n_neighbors=5, weights='uniform') # add in the weights parameter here\n",
    "knn.fit(athletes[2:5], np.array(targets))\n",
    "print knn.predict(athletes[2:5])"
   ]
  },
  {
   "cell_type": "code",
   "execution_count": null,
   "metadata": {
    "collapsed": true
   },
   "outputs": [],
   "source": []
  }
 ],
 "metadata": {
  "kernelspec": {
   "display_name": "Python 2",
   "language": "python",
   "name": "python2"
  },
  "language_info": {
   "codemirror_mode": {
    "name": "ipython",
    "version": 2
   },
   "file_extension": ".py",
   "mimetype": "text/x-python",
   "name": "python",
   "nbconvert_exporter": "python",
   "pygments_lexer": "ipython2",
   "version": "2.7.5"
  }
 },
 "nbformat": 4,
 "nbformat_minor": 0
}
