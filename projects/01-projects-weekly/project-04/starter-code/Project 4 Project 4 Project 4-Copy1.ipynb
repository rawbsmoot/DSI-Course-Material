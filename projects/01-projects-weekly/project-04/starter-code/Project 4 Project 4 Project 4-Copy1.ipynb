{
 "cells": [
  {
   "cell_type": "markdown",
   "metadata": {},
   "source": [
    "# Project 4 -- Predicting Salaries for DS Job Seekers"
   ]
  },
  {
   "cell_type": "code",
   "execution_count": 68,
   "metadata": {
    "collapsed": true
   },
   "outputs": [],
   "source": [
    "import requests\n",
    "import numpy as np\n",
    "import pandas as pd\n",
    "from lxml import html\n",
    "import bs4\n",
    "from bs4 import BeautifulSoup\n",
    "import urllib2\n",
    "import re\n",
    "import patsy \n",
    "from sklearn.linear_model import LogisticRegression\n",
    "from sklearn.cross_validation import train_test_split, cross_val_score\n",
    "import math\n",
    "from sklearn import preprocessing\n",
    "%matplotlib inline"
   ]
  },
  {
   "cell_type": "code",
   "execution_count": 69,
   "metadata": {
    "collapsed": false
   },
   "outputs": [
    {
     "data": {
      "text/plain": [
       "(4791, 6)"
      ]
     },
     "execution_count": 69,
     "metadata": {},
     "output_type": "execute_result"
    }
   ],
   "source": [
    "# Reading in the file and having a look at the how many rows and columns it contains.\n",
    "df = pd.read_csv('/Users/smoot/Desktop/indeed-scraped-job-postings.csv')\n",
    "df.shape"
   ]
  },
  {
   "cell_type": "code",
   "execution_count": 70,
   "metadata": {
    "collapsed": false
   },
   "outputs": [
    {
     "data": {
      "text/html": [
       "<div>\n",
       "<table border=\"1\" class=\"dataframe\">\n",
       "  <thead>\n",
       "    <tr style=\"text-align: right;\">\n",
       "      <th></th>\n",
       "      <th>city</th>\n",
       "      <th>company</th>\n",
       "      <th>salary</th>\n",
       "      <th>summary</th>\n",
       "      <th>title</th>\n",
       "      <th>parsed_salary</th>\n",
       "    </tr>\n",
       "  </thead>\n",
       "  <tbody>\n",
       "    <tr>\n",
       "      <th>0</th>\n",
       "      <td>San+Francisco</td>\n",
       "      <td>MarkMonitor</td>\n",
       "      <td>$180,000 a year</td>\n",
       "      <td>Data skills (SQL, Hive, Pig). Applying machine...</td>\n",
       "      <td>Data Scientist</td>\n",
       "      <td>180000.0</td>\n",
       "    </tr>\n",
       "    <tr>\n",
       "      <th>1</th>\n",
       "      <td>San+Francisco</td>\n",
       "      <td>Workbridge Associates</td>\n",
       "      <td>$130,000 - $180,000 a year</td>\n",
       "      <td>3+ years of industry experience in a data scie...</td>\n",
       "      <td>Senior Data Scientist</td>\n",
       "      <td>155000.0</td>\n",
       "    </tr>\n",
       "    <tr>\n",
       "      <th>2</th>\n",
       "      <td>San+Francisco</td>\n",
       "      <td>Mines.io</td>\n",
       "      <td>$80,000 - $120,000 a year</td>\n",
       "      <td>We are looking for a data scientist/developer ...</td>\n",
       "      <td>Full-Stack Data Scientist</td>\n",
       "      <td>100000.0</td>\n",
       "    </tr>\n",
       "  </tbody>\n",
       "</table>\n",
       "</div>"
      ],
      "text/plain": [
       "            city                company                      salary  \\\n",
       "0  San+Francisco            MarkMonitor             $180,000 a year   \n",
       "1  San+Francisco  Workbridge Associates  $130,000 - $180,000 a year   \n",
       "2  San+Francisco               Mines.io   $80,000 - $120,000 a year   \n",
       "\n",
       "                                             summary  \\\n",
       "0  Data skills (SQL, Hive, Pig). Applying machine...   \n",
       "1  3+ years of industry experience in a data scie...   \n",
       "2  We are looking for a data scientist/developer ...   \n",
       "\n",
       "                       title  parsed_salary  \n",
       "0             Data Scientist       180000.0  \n",
       "1      Senior Data Scientist       155000.0  \n",
       "2  Full-Stack Data Scientist       100000.0  "
      ]
     },
     "execution_count": 70,
     "metadata": {},
     "output_type": "execute_result"
    }
   ],
   "source": [
    "# Looking at the first few rows to see what the data set looks like.\n",
    "df.head(3)"
   ]
  },
  {
   "cell_type": "code",
   "execution_count": 71,
   "metadata": {
    "collapsed": false
   },
   "outputs": [
    {
     "name": "stdout",
     "output_type": "stream",
     "text": [
      "['San+Francisco' 'New+York' 'Austin' 'Seattle' 'Chicago']\n",
      "Austin           2681\n",
      "Chicago          1175\n",
      "New+York          441\n",
      "San+Francisco     405\n",
      "Seattle            89\n",
      "Name: city, dtype: int64\n"
     ]
    }
   ],
   "source": [
    "'''''Looking for how many unique cities are in the data set.  There are five cities: San Francisco, New York, Chicago,\n",
    "Austin and Seattle.  We can also see which city has the most job postings.  We must be aware, in our case, that there\n",
    "are many duplicate rows and these numbers may not be a real indicator of a city having a large surplus of data\n",
    "science jobs.'''''\n",
    "\n",
    "print df['city'].unique()\n",
    "print df.city.value_counts()"
   ]
  },
  {
   "cell_type": "code",
   "execution_count": 72,
   "metadata": {
    "collapsed": false
   },
   "outputs": [],
   "source": [
    "# Looks like there is a '+' between two-word city names.  Lets remove that and add a space.\n",
    "# df['city'] = df['city'].str.replace('+', ' ')"
   ]
  },
  {
   "cell_type": "code",
   "execution_count": 73,
   "metadata": {
    "collapsed": false
   },
   "outputs": [],
   "source": [
    "# Looking at the unique companies in the data set.  Looks like there are a lot of jobs at the University of Austin.\n",
    "# print pd.unique(df['company'].ravel())\n",
    "# print df.company.value_counts()"
   ]
  },
  {
   "cell_type": "code",
   "execution_count": 74,
   "metadata": {
    "collapsed": false
   },
   "outputs": [
    {
     "data": {
      "text/html": [
       "<div>\n",
       "<table border=\"1\" class=\"dataframe\">\n",
       "  <thead>\n",
       "    <tr style=\"text-align: right;\">\n",
       "      <th></th>\n",
       "      <th>city</th>\n",
       "      <th>company</th>\n",
       "      <th>salary</th>\n",
       "      <th>summary</th>\n",
       "      <th>title</th>\n",
       "      <th>parsed_salary</th>\n",
       "    </tr>\n",
       "  </thead>\n",
       "  <tbody>\n",
       "    <tr>\n",
       "      <th>438</th>\n",
       "      <td>New+York</td>\n",
       "      <td>Selby Jennings</td>\n",
       "      <td>$650 - $900 a day</td>\n",
       "      <td>Senior Quantitative Developer/Machine Learning...</td>\n",
       "      <td>Senior Quantitative/Machine Learning - Contract</td>\n",
       "      <td>NaN</td>\n",
       "    </tr>\n",
       "    <tr>\n",
       "      <th>456</th>\n",
       "      <td>New+York</td>\n",
       "      <td>Selby Jennings</td>\n",
       "      <td>$650 - $900 a day</td>\n",
       "      <td>Senior Quantitative Developer/Machine Learning...</td>\n",
       "      <td>Senior Quantitative/Machine Learning - Contract</td>\n",
       "      <td>NaN</td>\n",
       "    </tr>\n",
       "  </tbody>\n",
       "</table>\n",
       "</div>"
      ],
      "text/plain": [
       "         city         company             salary  \\\n",
       "438  New+York  Selby Jennings  $650 - $900 a day   \n",
       "456  New+York  Selby Jennings  $650 - $900 a day   \n",
       "\n",
       "                                               summary  \\\n",
       "438  Senior Quantitative Developer/Machine Learning...   \n",
       "456  Senior Quantitative Developer/Machine Learning...   \n",
       "\n",
       "                                               title  parsed_salary  \n",
       "438  Senior Quantitative/Machine Learning - Contract            NaN  \n",
       "456  Senior Quantitative/Machine Learning - Contract            NaN  "
      ]
     },
     "execution_count": 74,
     "metadata": {},
     "output_type": "execute_result"
    }
   ],
   "source": [
    "'''''Looking over unique salary values.  We will need to multiply some salaries by 12 since they are listed with a per\n",
    "month wage.  Also it appears that there is an entry where the salary is listed a per day wage.  This row was had one\n",
    "duplicate.  I decided there was no straight forward way of converting this into a yearly salary so I decided to \n",
    "remove this entry and it's duplicate from the data set. '''''\n",
    "\n",
    "# pd.unique(df.salary.ravel())\n",
    "# df.salary.unique().ravel()\n",
    "df[df.isnull().any(axis=1)]"
   ]
  },
  {
   "cell_type": "code",
   "execution_count": 75,
   "metadata": {
    "collapsed": false
   },
   "outputs": [],
   "source": [
    "# Looking at the unique summaries.  Looks like there are several summaries that repeat many times.  We have decided\n",
    "# to leave these duplicate entries in our data set.\n",
    "# pd.unique(df['summary'].ravel())\n",
    "# print df['summary'].value_counts()"
   ]
  },
  {
   "cell_type": "code",
   "execution_count": 78,
   "metadata": {
    "collapsed": false
   },
   "outputs": [],
   "source": [
    "# Looking at the unique entries in title.  They appear to match the amount of duplicates in other columns.\n",
    "# print df.title.value_counts()\n",
    "# pd.unique(df.title.ravel())"
   ]
  },
  {
   "cell_type": "code",
   "execution_count": 81,
   "metadata": {
    "collapsed": false
   },
   "outputs": [
    {
     "name": "stdout",
     "output_type": "stream",
     "text": [
      "5950.0      788\n",
      "3210.0      783\n",
      "8541.5      699\n",
      "85000.0     396\n",
      "170000.0    393\n",
      "82329.0     389\n",
      "130000.0    369\n",
      "137500.0    357\n",
      "150000.0    347\n",
      "5098.0       35\n",
      "120000.0     15\n",
      "76941.5      14\n",
      "140000.0     13\n",
      "200000.0      8\n",
      "100000.0      7\n",
      "65000.0       7\n",
      "145000.0      6\n",
      "64055.5       5\n",
      "185000.0      5\n",
      "160000.0      5\n",
      "135000.0      5\n",
      "75000.0       5\n",
      "190000.0      4\n",
      "3438.5        4\n",
      "180000.0      4\n",
      "175000.0      4\n",
      "125000.0      4\n",
      "90000.0       4\n",
      "3611.0        3\n",
      "8124.5        3\n",
      "           ... \n",
      "59984.5       1\n",
      "8333.0        1\n",
      "41000.0       1\n",
      "3524.5        1\n",
      "57500.0       1\n",
      "6388.0        1\n",
      "47406.0       1\n",
      "51363.0       1\n",
      "71000.0       1\n",
      "4966.0        1\n",
      "53875.0       1\n",
      "4714.0        1\n",
      "4459.0        1\n",
      "71568.0       1\n",
      "250000.0      1\n",
      "49012.0       1\n",
      "47799.5       1\n",
      "45000.0       1\n",
      "55200.0       1\n",
      "225000.0      1\n",
      "76897.5       1\n",
      "110000.0      1\n",
      "3466.0        1\n",
      "49222.5       1\n",
      "3361.0        1\n",
      "52500.0       1\n",
      "80000.0       1\n",
      "60000.0       1\n",
      "2500.0        1\n",
      "97866.5       1\n",
      "Name: parsed_salary, dtype: int64\n",
      "[ 180000.   155000.   100000.   165000.   140000.   300000.   125000.\n",
      "  130000.   160000.   162500.     3850.   150000.    47406.   120000.\n",
      "  145000.   170000.    74550.    65000.   227500.    55200.   152500.\n",
      "  135000.   175000.   200000.     2500.    49012.   137500.   122500.\n",
      "   97866.5   59984.5  105000.   115000.    75000.    76941.5   80000.\n",
      "  215000.   250000.        nan   53875.   225000.    88331.    61500.\n",
      "   64055.5   74119.5   85000.    83500.    76897.5   51363.    57969.\n",
      "   71568.    69749.    55000.    64000.    52500.    57500.    45000.\n",
      "   47799.5   47000.   185000.    82065.5    8333.     8541.5    6806.\n",
      "    8124.5    5950.     4714.     4966.    35000.     2333.     6388.\n",
      "    4459.    41000.     3210.   190000.     3611.    60000.     2549.5\n",
      "    2749.5    3139.5    2846.     4178.    81078.     3072.5    3438.5\n",
      "    5098.     5619.5   87313.5    3524.5   49222.5    3699.5    3466.\n",
      "    3361.    40000.     5686.5    4949.5   71000.    95000.    90000.\n",
      "  110000.   132500.    82329. ]\n"
     ]
    }
   ],
   "source": [
    "''''We already know there are two null values.  We can also see that the values in this column are not consistent. \n",
    "If the 'salary' column had a clear cut salary listed it went nicely into 'parsed_salary.'  If it was a range, it was \n",
    "split and that is the value that ended up in 'parsed_salary.'  If it was a salary by month it is likely to be below\n",
    "$10,000.  We can simply multiply such values by 12 to get something resembling a annual salary.  We do not know how \n",
    "benefits will be calculated in such cases but we have decided to treat them the same. '''''\n",
    "print df.parsed_salary.value_counts()\n",
    "print pd.unique(df.parsed_salary)"
   ]
  },
  {
   "cell_type": "code",
   "execution_count": 83,
   "metadata": {
    "collapsed": false
   },
   "outputs": [],
   "source": [
    "# Let's get rid of the null values in our 'parsed_salary' column.\n",
    "df.isnull().sum()\n",
    "df.dropna(inplace = True)"
   ]
  },
  {
   "cell_type": "code",
   "execution_count": 85,
   "metadata": {
    "collapsed": false
   },
   "outputs": [],
   "source": [
    "''''Now that we have gotten all the value we can from our 'salary' column, let's replace it with the 'parsed_salary'\n",
    "column.'''\n",
    "\n",
    "df['salary'] = df['parsed_salary']\n",
    "del df['parsed_salary']"
   ]
  },
  {
   "cell_type": "code",
   "execution_count": 91,
   "metadata": {
    "collapsed": false
   },
   "outputs": [],
   "source": [
    "# Now lets multiply any value that we've deemed to be a monthly salary by 12 in order to make it an annual salary. \n",
    "df['salary'] = df['salary'].apply(lambda x: x*12 if (x < 10000) else x)"
   ]
  },
  {
   "cell_type": "code",
   "execution_count": 92,
   "metadata": {
    "collapsed": false
   },
   "outputs": [
    {
     "data": {
      "text/plain": [
       "27996.0"
      ]
     },
     "execution_count": 92,
     "metadata": {},
     "output_type": "execute_result"
    }
   ],
   "source": [
    "# Checking the minimum $ amount in salary\n",
    "df.salary.min()"
   ]
  },
  {
   "cell_type": "code",
   "execution_count": 93,
   "metadata": {
    "collapsed": false
   },
   "outputs": [
    {
     "data": {
      "text/plain": [
       "85000.0"
      ]
     },
     "execution_count": 93,
     "metadata": {},
     "output_type": "execute_result"
    }
   ],
   "source": [
    "# Now we are going to calculate the mean of our 'salary' column.  We will use this value to split our salaries in half.\n",
    "np.median(df.salary)"
   ]
  },
  {
   "cell_type": "code",
   "execution_count": 94,
   "metadata": {
    "collapsed": false
   },
   "outputs": [
    {
     "data": {
      "text/html": [
       "<div>\n",
       "<table border=\"1\" class=\"dataframe\">\n",
       "  <thead>\n",
       "    <tr style=\"text-align: right;\">\n",
       "      <th></th>\n",
       "      <th>city</th>\n",
       "      <th>company</th>\n",
       "      <th>salary</th>\n",
       "      <th>summary</th>\n",
       "      <th>title</th>\n",
       "      <th>salary_b</th>\n",
       "    </tr>\n",
       "  </thead>\n",
       "  <tbody>\n",
       "    <tr>\n",
       "      <th>0</th>\n",
       "      <td>San+Francisco</td>\n",
       "      <td>MarkMonitor</td>\n",
       "      <td>180000.0</td>\n",
       "      <td>Data skills (SQL, Hive, Pig). Applying machine...</td>\n",
       "      <td>Data Scientist</td>\n",
       "      <td>1</td>\n",
       "    </tr>\n",
       "  </tbody>\n",
       "</table>\n",
       "</div>"
      ],
      "text/plain": [
       "            city      company    salary  \\\n",
       "0  San+Francisco  MarkMonitor  180000.0   \n",
       "\n",
       "                                             summary           title  salary_b  \n",
       "0  Data skills (SQL, Hive, Pig). Applying machine...  Data Scientist         1  "
      ]
     },
     "execution_count": 94,
     "metadata": {},
     "output_type": "execute_result"
    }
   ],
   "source": [
    "df['salary_b'] = [0 if i < 85000  else 1 for i in df.salary]\n",
    "df.head(1)"
   ]
  },
  {
   "cell_type": "code",
   "execution_count": 54,
   "metadata": {
    "collapsed": false
   },
   "outputs": [
    {
     "data": {
      "text/html": [
       "<div>\n",
       "<table border=\"1\" class=\"dataframe\">\n",
       "  <thead>\n",
       "    <tr style=\"text-align: right;\">\n",
       "      <th></th>\n",
       "      <th>city</th>\n",
       "      <th>company</th>\n",
       "      <th>salary</th>\n",
       "      <th>summary</th>\n",
       "      <th>title</th>\n",
       "      <th>salary_b</th>\n",
       "    </tr>\n",
       "  </thead>\n",
       "  <tbody>\n",
       "    <tr>\n",
       "      <th>0</th>\n",
       "      <td>San Francisco</td>\n",
       "      <td>MarkMonitor</td>\n",
       "      <td>180000.0</td>\n",
       "      <td>Data skills (SQL, Hive, Pig). Applying machine...</td>\n",
       "      <td>Data Scientist</td>\n",
       "      <td>1</td>\n",
       "    </tr>\n",
       "    <tr>\n",
       "      <th>1</th>\n",
       "      <td>San Francisco</td>\n",
       "      <td>Workbridge Associates</td>\n",
       "      <td>155000.0</td>\n",
       "      <td>3+ years of industry experience in a data scie...</td>\n",
       "      <td>Senior Data Scientist</td>\n",
       "      <td>1</td>\n",
       "    </tr>\n",
       "    <tr>\n",
       "      <th>2</th>\n",
       "      <td>San Francisco</td>\n",
       "      <td>Mines.io</td>\n",
       "      <td>100000.0</td>\n",
       "      <td>We are looking for a data scientist/developer ...</td>\n",
       "      <td>Full-Stack Data Scientist</td>\n",
       "      <td>1</td>\n",
       "    </tr>\n",
       "    <tr>\n",
       "      <th>3</th>\n",
       "      <td>San Francisco</td>\n",
       "      <td>Workbridge Associates</td>\n",
       "      <td>165000.0</td>\n",
       "      <td>In this position you will share programming an...</td>\n",
       "      <td>Data Scientist</td>\n",
       "      <td>1</td>\n",
       "    </tr>\n",
       "    <tr>\n",
       "      <th>4</th>\n",
       "      <td>San Francisco</td>\n",
       "      <td>Smith Hanley Associates</td>\n",
       "      <td>140000.0</td>\n",
       "      <td>This person will recruit, build and lead a tea...</td>\n",
       "      <td>Data Scientist</td>\n",
       "      <td>1</td>\n",
       "    </tr>\n",
       "  </tbody>\n",
       "</table>\n",
       "</div>"
      ],
      "text/plain": [
       "            city                  company    salary  \\\n",
       "0  San Francisco              MarkMonitor  180000.0   \n",
       "1  San Francisco    Workbridge Associates  155000.0   \n",
       "2  San Francisco                 Mines.io  100000.0   \n",
       "3  San Francisco    Workbridge Associates  165000.0   \n",
       "4  San Francisco  Smith Hanley Associates  140000.0   \n",
       "\n",
       "                                             summary  \\\n",
       "0  Data skills (SQL, Hive, Pig). Applying machine...   \n",
       "1  3+ years of industry experience in a data scie...   \n",
       "2  We are looking for a data scientist/developer ...   \n",
       "3  In this position you will share programming an...   \n",
       "4  This person will recruit, build and lead a tea...   \n",
       "\n",
       "                       title  salary_b  \n",
       "0             Data Scientist         1  \n",
       "1      Senior Data Scientist         1  \n",
       "2  Full-Stack Data Scientist         1  \n",
       "3             Data Scientist         1  \n",
       "4             Data Scientist         1  "
      ]
     },
     "execution_count": 54,
     "metadata": {},
     "output_type": "execute_result"
    }
   ],
   "source": [
    "# Potential issue: matching column lengths after we have changed the variables into a binary format.\n",
    "df.head()"
   ]
  },
  {
   "cell_type": "markdown",
   "metadata": {},
   "source": [
    "# Response Variable as 0, 1"
   ]
  },
  {
   "cell_type": "code",
   "execution_count": 55,
   "metadata": {
    "collapsed": false
   },
   "outputs": [],
   "source": [
    "# I need to create a new column with salary as a 1, 2, 3. 1 = 0 - 65,000, 66,000 - 125,000, 126,000 +\n",
    "X = patsy.dmatrix('city -1', df)\n",
    "y = df['salary_b']"
   ]
  },
  {
   "cell_type": "code",
   "execution_count": 56,
   "metadata": {
    "collapsed": false
   },
   "outputs": [],
   "source": [
    "lm = LogisticRegression()\n",
    "logit = lm.fit(X, y)"
   ]
  },
  {
   "cell_type": "code",
   "execution_count": 57,
   "metadata": {
    "collapsed": false
   },
   "outputs": [],
   "source": [
    "X_train, X_test, y_train, y_test = train_test_split(X, y, test_size=0.33, stratify = y, random_state = 7)"
   ]
  },
  {
   "cell_type": "code",
   "execution_count": 58,
   "metadata": {
    "collapsed": false
   },
   "outputs": [
    {
     "data": {
      "text/plain": [
       "LogisticRegression(C=1.0, class_weight=None, dual=False, fit_intercept=True,\n",
       "          intercept_scaling=1, max_iter=100, multi_class='ovr', n_jobs=1,\n",
       "          penalty='l2', random_state=None, solver='liblinear', tol=0.0001,\n",
       "          verbose=0, warm_start=False)"
      ]
     },
     "execution_count": 58,
     "metadata": {},
     "output_type": "execute_result"
    }
   ],
   "source": [
    "logit.fit(X_train, y_train)"
   ]
  },
  {
   "cell_type": "code",
   "execution_count": 59,
   "metadata": {
    "collapsed": false
   },
   "outputs": [
    {
     "name": "stdout",
     "output_type": "stream",
     "text": [
      "[[-3.01889335  3.60195876  1.07368977  2.02618187 -2.36508424]]\n"
     ]
    }
   ],
   "source": [
    "predictions = logit.predict(X_test)\n",
    "print lm.coef_\n",
    "# print np.exp(lm.intercept_)"
   ]
  },
  {
   "cell_type": "code",
   "execution_count": 19,
   "metadata": {
    "collapsed": false
   },
   "outputs": [
    {
     "name": "stdout",
     "output_type": "stream",
     "text": [
      "0.909550917141\n"
     ]
    }
   ],
   "source": [
    "# I would definitely like to discuss this more -- interpreting and making sure it works as you'd expect.\n",
    "print lm.score(X_test, y_test)\n",
    "# print lm.score(X_train, y_train)\n",
    "# print lm.score(X, y)\n"
   ]
  },
  {
   "cell_type": "code",
   "execution_count": 20,
   "metadata": {
    "collapsed": false
   },
   "outputs": [
    {
     "data": {
      "text/plain": [
       "array([ 0.91167192,  0.92088608,  0.91455696,  0.88924051,  0.91139241])"
      ]
     },
     "execution_count": 20,
     "metadata": {},
     "output_type": "execute_result"
    }
   ],
   "source": [
    "score = cross_val_score(logit, X_test, y_test, cv = 5)\n",
    "score"
   ]
  },
  {
   "cell_type": "markdown",
   "metadata": {},
   "source": [
    "# Response Variable as 0, 1, 2"
   ]
  },
  {
   "cell_type": "code",
   "execution_count": 21,
   "metadata": {
    "collapsed": false
   },
   "outputs": [
    {
     "data": {
      "text/html": [
       "<div>\n",
       "<table border=\"1\" class=\"dataframe\">\n",
       "  <thead>\n",
       "    <tr style=\"text-align: right;\">\n",
       "      <th></th>\n",
       "      <th>city</th>\n",
       "      <th>company</th>\n",
       "      <th>salary</th>\n",
       "      <th>summary</th>\n",
       "      <th>title</th>\n",
       "      <th>salary_b</th>\n",
       "      <th>salary_m</th>\n",
       "    </tr>\n",
       "  </thead>\n",
       "  <tbody>\n",
       "    <tr>\n",
       "      <th>0</th>\n",
       "      <td>San Francisco</td>\n",
       "      <td>MarkMonitor</td>\n",
       "      <td>180000.0</td>\n",
       "      <td>Data skills (SQL, Hive, Pig). Applying machine...</td>\n",
       "      <td>Data Scientist</td>\n",
       "      <td>1</td>\n",
       "      <td>2</td>\n",
       "    </tr>\n",
       "  </tbody>\n",
       "</table>\n",
       "</div>"
      ],
      "text/plain": [
       "            city      company    salary  \\\n",
       "0  San Francisco  MarkMonitor  180000.0   \n",
       "\n",
       "                                             summary           title  \\\n",
       "0  Data skills (SQL, Hive, Pig). Applying machine...  Data Scientist   \n",
       "\n",
       "   salary_b  salary_m  \n",
       "0         1         2  "
      ]
     },
     "execution_count": 21,
     "metadata": {},
     "output_type": "execute_result"
    }
   ],
   "source": [
    "# This is making our dependent variable into 3 categories.\n",
    "df['salary_m'] = [0 if i < 65000 else 2 if i > 125000  else 1 for i in df.salary]\n",
    "df.head(1)"
   ]
  },
  {
   "cell_type": "code",
   "execution_count": 22,
   "metadata": {
    "collapsed": false
   },
   "outputs": [],
   "source": [
    "le = preprocessing.LabelEncoder()\n",
    "le.fit(df['salary_m'])\n",
    "# df['salary_m'] \n",
    "Y = df['salary_m']"
   ]
  },
  {
   "cell_type": "code",
   "execution_count": 23,
   "metadata": {
    "collapsed": true
   },
   "outputs": [],
   "source": [
    "X_train, X_test, Y_train, Y_test = train_test_split(X, Y, test_size=0.33, stratify = Y, random_state = 42)"
   ]
  },
  {
   "cell_type": "code",
   "execution_count": 24,
   "metadata": {
    "collapsed": false
   },
   "outputs": [],
   "source": [
    "logit_one = lm.fit(X, Y)"
   ]
  },
  {
   "cell_type": "code",
   "execution_count": 25,
   "metadata": {
    "collapsed": false
   },
   "outputs": [
    {
     "data": {
      "text/plain": [
       "LogisticRegression(C=1.0, class_weight=None, dual=False, fit_intercept=True,\n",
       "          intercept_scaling=1, max_iter=100, multi_class='ovr', n_jobs=1,\n",
       "          penalty='l2', random_state=None, solver='liblinear', tol=0.0001,\n",
       "          verbose=0, warm_start=False)"
      ]
     },
     "execution_count": 25,
     "metadata": {},
     "output_type": "execute_result"
    }
   ],
   "source": [
    "logit_one"
   ]
  },
  {
   "cell_type": "code",
   "execution_count": 26,
   "metadata": {
    "collapsed": true
   },
   "outputs": [],
   "source": [
    "predictions_one = logit_one.predict(X_test)"
   ]
  },
  {
   "cell_type": "code",
   "execution_count": 27,
   "metadata": {
    "collapsed": false
   },
   "outputs": [
    {
     "data": {
      "text/plain": [
       "array([2, 0, 2, ..., 0, 2, 2])"
      ]
     },
     "execution_count": 27,
     "metadata": {},
     "output_type": "execute_result"
    }
   ],
   "source": [
    "predictions_one"
   ]
  },
  {
   "cell_type": "code",
   "execution_count": 28,
   "metadata": {
    "collapsed": false
   },
   "outputs": [
    {
     "name": "stdout",
     "output_type": "stream",
     "text": [
      "0.641366223909\n"
     ]
    }
   ],
   "source": [
    "print lm.score(X_test, Y_test)"
   ]
  },
  {
   "cell_type": "markdown",
   "metadata": {},
   "source": [
    "# Multinomial Logistic Regression"
   ]
  },
  {
   "cell_type": "code",
   "execution_count": 29,
   "metadata": {
    "collapsed": false
   },
   "outputs": [
    {
     "data": {
      "text/html": [
       "<div>\n",
       "<table border=\"1\" class=\"dataframe\">\n",
       "  <thead>\n",
       "    <tr style=\"text-align: right;\">\n",
       "      <th></th>\n",
       "      <th>city</th>\n",
       "      <th>company</th>\n",
       "      <th>salary</th>\n",
       "      <th>summary</th>\n",
       "      <th>title</th>\n",
       "      <th>salary_b</th>\n",
       "      <th>salary_m</th>\n",
       "      <th>position_level</th>\n",
       "    </tr>\n",
       "  </thead>\n",
       "  <tbody>\n",
       "    <tr>\n",
       "      <th>0</th>\n",
       "      <td>San Francisco</td>\n",
       "      <td>MarkMonitor</td>\n",
       "      <td>180000.0</td>\n",
       "      <td>Data skills (SQL, Hive, Pig). Applying machine...</td>\n",
       "      <td>Data Scientist</td>\n",
       "      <td>1</td>\n",
       "      <td>2</td>\n",
       "      <td>other</td>\n",
       "    </tr>\n",
       "    <tr>\n",
       "      <th>1</th>\n",
       "      <td>San Francisco</td>\n",
       "      <td>Workbridge Associates</td>\n",
       "      <td>155000.0</td>\n",
       "      <td>3+ years of industry experience in a data scie...</td>\n",
       "      <td>Senior Data Scientist</td>\n",
       "      <td>1</td>\n",
       "      <td>2</td>\n",
       "      <td>senior</td>\n",
       "    </tr>\n",
       "    <tr>\n",
       "      <th>2</th>\n",
       "      <td>San Francisco</td>\n",
       "      <td>Mines.io</td>\n",
       "      <td>100000.0</td>\n",
       "      <td>We are looking for a data scientist/developer ...</td>\n",
       "      <td>Full-Stack Data Scientist</td>\n",
       "      <td>1</td>\n",
       "      <td>1</td>\n",
       "      <td>other</td>\n",
       "    </tr>\n",
       "    <tr>\n",
       "      <th>3</th>\n",
       "      <td>San Francisco</td>\n",
       "      <td>Workbridge Associates</td>\n",
       "      <td>165000.0</td>\n",
       "      <td>In this position you will share programming an...</td>\n",
       "      <td>Data Scientist</td>\n",
       "      <td>1</td>\n",
       "      <td>2</td>\n",
       "      <td>other</td>\n",
       "    </tr>\n",
       "    <tr>\n",
       "      <th>4</th>\n",
       "      <td>San Francisco</td>\n",
       "      <td>Smith Hanley Associates</td>\n",
       "      <td>140000.0</td>\n",
       "      <td>This person will recruit, build and lead a tea...</td>\n",
       "      <td>Data Scientist</td>\n",
       "      <td>1</td>\n",
       "      <td>2</td>\n",
       "      <td>other</td>\n",
       "    </tr>\n",
       "  </tbody>\n",
       "</table>\n",
       "</div>"
      ],
      "text/plain": [
       "            city                  company    salary  \\\n",
       "0  San Francisco              MarkMonitor  180000.0   \n",
       "1  San Francisco    Workbridge Associates  155000.0   \n",
       "2  San Francisco                 Mines.io  100000.0   \n",
       "3  San Francisco    Workbridge Associates  165000.0   \n",
       "4  San Francisco  Smith Hanley Associates  140000.0   \n",
       "\n",
       "                                             summary  \\\n",
       "0  Data skills (SQL, Hive, Pig). Applying machine...   \n",
       "1  3+ years of industry experience in a data scie...   \n",
       "2  We are looking for a data scientist/developer ...   \n",
       "3  In this position you will share programming an...   \n",
       "4  This person will recruit, build and lead a tea...   \n",
       "\n",
       "                       title  salary_b  salary_m position_level  \n",
       "0             Data Scientist         1         2          other  \n",
       "1      Senior Data Scientist         1         2         senior  \n",
       "2  Full-Stack Data Scientist         1         1          other  \n",
       "3             Data Scientist         1         2          other  \n",
       "4             Data Scientist         1         2          other  "
      ]
     },
     "execution_count": 29,
     "metadata": {},
     "output_type": "execute_result"
    }
   ],
   "source": [
    "# Create a position_level column which will contain categorized data for the Title.\n",
    "def generatePositionLevel(title):\n",
    "    title = title.lower()\n",
    "    if (title.find('manager',0,len(title)) >= 0) or (title.find('management',0,len(title)) >= 0):\n",
    "        return 'manager'\n",
    "    elif (title.find('senior',0,len(title)) >= 0) or (title.find('vp',0,len(title)) >= 0) or (title.find('director',0,len(title)) >= 0):\n",
    "        return 'senior'\n",
    "    return 'other'\n",
    "    \n",
    "df['position_level'] = df['title'].apply(generatePositionLevel)\n",
    "df.head()"
   ]
  },
  {
   "cell_type": "code",
   "execution_count": 30,
   "metadata": {
    "collapsed": false
   },
   "outputs": [],
   "source": [
    "# Setting my features and my dependent variable.\n",
    "Xs = patsy.dmatrix('city + position_level -1', df)\n",
    "Ys = Y"
   ]
  },
  {
   "cell_type": "code",
   "execution_count": 31,
   "metadata": {
    "collapsed": false
   },
   "outputs": [],
   "source": [
    "# Fitting my data to my model.\n",
    "logit_two = lm.fit(Xs, Ys)"
   ]
  },
  {
   "cell_type": "code",
   "execution_count": 32,
   "metadata": {
    "collapsed": false
   },
   "outputs": [],
   "source": [
    "# Seperating my data into test/train.  \n",
    "Xs_train, Xs_test, Ys_train, Ys_test = train_test_split(Xs, Ys, test_size=0.33, stratify = Ys, random_state = 7)"
   ]
  },
  {
   "cell_type": "code",
   "execution_count": 33,
   "metadata": {
    "collapsed": false
   },
   "outputs": [
    {
     "data": {
      "text/plain": [
       "LogisticRegression(C=1.0, class_weight=None, dual=False, fit_intercept=True,\n",
       "          intercept_scaling=1, max_iter=100, multi_class='ovr', n_jobs=1,\n",
       "          penalty='l2', random_state=None, solver='liblinear', tol=0.0001,\n",
       "          verbose=0, warm_start=False)"
      ]
     },
     "execution_count": 33,
     "metadata": {},
     "output_type": "execute_result"
    }
   ],
   "source": [
    "# Fitting my training set to my model.\n",
    "logit_two.fit(Xs_train, Ys_train)"
   ]
  },
  {
   "cell_type": "code",
   "execution_count": 34,
   "metadata": {
    "collapsed": false
   },
   "outputs": [
    {
     "name": "stdout",
     "output_type": "stream",
     "text": [
      "[1 2 2 ..., 1 2 1]\n"
     ]
    }
   ],
   "source": [
    "# Predicting the fit of my model to my test data\n",
    "predictions_two = logit_two.predict(Xs_test)\n",
    "print predictions_two"
   ]
  },
  {
   "cell_type": "code",
   "execution_count": 35,
   "metadata": {
    "collapsed": false
   },
   "outputs": [
    {
     "name": "stdout",
     "output_type": "stream",
     "text": [
      "[ 0.69343066  0.62734864  0.62839248  0.73876698  0.74190178]\n"
     ]
    }
   ],
   "source": [
    "score = cross_val_score(logit_two, Xs, Ys, cv = 5)\n",
    "print score"
   ]
  },
  {
   "cell_type": "code",
   "execution_count": 36,
   "metadata": {
    "collapsed": false
   },
   "outputs": [
    {
     "name": "stdout",
     "output_type": "stream",
     "text": [
      "0.750790638836\n"
     ]
    }
   ],
   "source": [
    "print lm.score(Xs_test, Ys_test)"
   ]
  },
  {
   "cell_type": "code",
   "execution_count": 41,
   "metadata": {
    "collapsed": false
   },
   "outputs": [
    {
     "data": {
      "text/html": [
       "<div>\n",
       "<table border=\"1\" class=\"dataframe\">\n",
       "  <thead>\n",
       "    <tr style=\"text-align: right;\">\n",
       "      <th></th>\n",
       "      <th>city</th>\n",
       "      <th>company</th>\n",
       "      <th>salary</th>\n",
       "      <th>summary</th>\n",
       "      <th>title</th>\n",
       "      <th>salary_b</th>\n",
       "      <th>salary_m</th>\n",
       "      <th>position_level</th>\n",
       "      <th>skill_python</th>\n",
       "      <th>skill_sql</th>\n",
       "      <th>skill_machine_learning</th>\n",
       "    </tr>\n",
       "  </thead>\n",
       "  <tbody>\n",
       "    <tr>\n",
       "      <th>0</th>\n",
       "      <td>San Francisco</td>\n",
       "      <td>MarkMonitor</td>\n",
       "      <td>180000.0</td>\n",
       "      <td>Data skills (SQL, Hive, Pig). Applying machine...</td>\n",
       "      <td>Data Scientist</td>\n",
       "      <td>1</td>\n",
       "      <td>2</td>\n",
       "      <td>other</td>\n",
       "      <td>0</td>\n",
       "      <td>1</td>\n",
       "      <td>1</td>\n",
       "    </tr>\n",
       "  </tbody>\n",
       "</table>\n",
       "</div>"
      ],
      "text/plain": [
       "            city      company    salary  \\\n",
       "0  San Francisco  MarkMonitor  180000.0   \n",
       "\n",
       "                                             summary           title  \\\n",
       "0  Data skills (SQL, Hive, Pig). Applying machine...  Data Scientist   \n",
       "\n",
       "   salary_b  salary_m position_level  skill_python  skill_sql  \\\n",
       "0         1         2          other             0          1   \n",
       "\n",
       "   skill_machine_learning  \n",
       "0                       1  "
      ]
     },
     "execution_count": 41,
     "metadata": {},
     "output_type": "execute_result"
    }
   ],
   "source": [
    "# Create skill columns which will contain binary data for the Skills.\n",
    "def generateSkills(jobDescription, skill):\n",
    "    jobDescription = jobDescription.lower()\n",
    "    skill = skill.lower()\n",
    "    if jobDescription.find(skill) >= 0:\n",
    "        return 1\n",
    "    return 0\n",
    "\n",
    "# We limited the skills columns to python, sql and machine learning\n",
    "df['skill_python'] = [generateSkills(x,'python') for x in df.summary]\n",
    "df['skill_sql'] = [generateSkills(x,'sql') for x in df.summary]\n",
    "df['skill_machine_learning'] = [generateSkills(x,'machine learning') for x in df.summary]\n",
    "df.head(1)"
   ]
  },
  {
   "cell_type": "code",
   "execution_count": 38,
   "metadata": {
    "collapsed": true
   },
   "outputs": [],
   "source": [
    "from sklearn import datasets, neighbors, metrics\n",
    "import pandas as pd"
   ]
  },
  {
   "cell_type": "code",
   "execution_count": 39,
   "metadata": {
    "collapsed": true
   },
   "outputs": [],
   "source": [
    "Xss_train, Xss_test, Yss_train, Yss_test = train_test_split(Xs, Ys, test_size=0.33, stratify = Ys, random_state = 7)"
   ]
  },
  {
   "cell_type": "code",
   "execution_count": 40,
   "metadata": {
    "collapsed": false
   },
   "outputs": [
    {
     "name": "stdout",
     "output_type": "stream",
     "text": [
      "[1 2 2 ..., 1 2 1]\n",
      "0.750790638836\n"
     ]
    }
   ],
   "source": [
    "knn = neighbors.KNeighborsClassifier(n_neighbors=5, weights='uniform')\n",
    "knn.fit(Xss_train, Yss_train)\n",
    "\n",
    "print knn.predict(Xss_test)\n",
    "print knn.score(Xss_test, Yss_test)"
   ]
  },
  {
   "cell_type": "markdown",
   "metadata": {},
   "source": [
    "# End of Group Stuff"
   ]
  },
  {
   "cell_type": "code",
   "execution_count": null,
   "metadata": {
    "collapsed": true
   },
   "outputs": [],
   "source": [
    "# maybe go back and clean the data up more.  Definitely add visualizations of the EDA. Do a confusion matrix and\n",
    "# ROC curve, grid search and anything else I can think of."
   ]
  },
  {
   "cell_type": "code",
   "execution_count": null,
   "metadata": {
    "collapsed": true
   },
   "outputs": [],
   "source": []
  },
  {
   "cell_type": "code",
   "execution_count": null,
   "metadata": {
    "collapsed": true
   },
   "outputs": [],
   "source": []
  },
  {
   "cell_type": "code",
   "execution_count": null,
   "metadata": {
    "collapsed": true
   },
   "outputs": [],
   "source": []
  },
  {
   "cell_type": "code",
   "execution_count": null,
   "metadata": {
    "collapsed": true
   },
   "outputs": [],
   "source": []
  },
  {
   "cell_type": "code",
   "execution_count": null,
   "metadata": {
    "collapsed": true
   },
   "outputs": [],
   "source": []
  },
  {
   "cell_type": "code",
   "execution_count": 282,
   "metadata": {
    "collapsed": true
   },
   "outputs": [],
   "source": [
    "# cmap = {'0': 'r', '1': 'g', '2': 'b' }\n",
    "# Ys = irisdf.target.apply(lambda x: cmap[str(x)])"
   ]
  },
  {
   "cell_type": "code",
   "execution_count": 270,
   "metadata": {
    "collapsed": true
   },
   "outputs": [],
   "source": [
    "# df.plot('petal length (cm)', 'petal width (cm)', kind='scatter', c=irisdf.ctarget)\n",
    "# print irisdf.plot('petal length (cm)', 'petal width (cm)', kind='scatter', c=irisdf.ctar"
   ]
  },
  {
   "cell_type": "code",
   "execution_count": null,
   "metadata": {
    "collapsed": true
   },
   "outputs": [],
   "source": []
  },
  {
   "cell_type": "code",
   "execution_count": null,
   "metadata": {
    "collapsed": true
   },
   "outputs": [],
   "source": []
  },
  {
   "cell_type": "code",
   "execution_count": null,
   "metadata": {
    "collapsed": true
   },
   "outputs": [],
   "source": []
  },
  {
   "cell_type": "code",
   "execution_count": null,
   "metadata": {
    "collapsed": true
   },
   "outputs": [],
   "source": []
  },
  {
   "cell_type": "code",
   "execution_count": null,
   "metadata": {
    "collapsed": true
   },
   "outputs": [],
   "source": []
  },
  {
   "cell_type": "code",
   "execution_count": null,
   "metadata": {
    "collapsed": true
   },
   "outputs": [],
   "source": []
  },
  {
   "cell_type": "code",
   "execution_count": null,
   "metadata": {
    "collapsed": true
   },
   "outputs": [],
   "source": []
  },
  {
   "cell_type": "code",
   "execution_count": 387,
   "metadata": {
    "collapsed": true
   },
   "outputs": [],
   "source": [
    "# df['salaryBins'] = []\n",
    "# if i in df.salary <= 75000:\n",
    "#     df.append()\n",
    "#     elif:\n",
    "#         i in df.salary \n",
    "# 1 for i in df.salary if df.salary <= 75000"
   ]
  },
  {
   "cell_type": "code",
   "execution_count": null,
   "metadata": {
    "collapsed": false
   },
   "outputs": [],
   "source": []
  },
  {
   "cell_type": "code",
   "execution_count": 245,
   "metadata": {
    "collapsed": false
   },
   "outputs": [
    {
     "name": "stdout",
     "output_type": "stream",
     "text": [
      "[[ 1.          0.9997348   0.99985247 ...,  0.99975169  0.99982538\n",
      "   0.984179  ]\n",
      " [ 0.9997348   1.          0.99996466 ...,  0.99953791  0.99990988\n",
      "   0.98141087]\n",
      " [ 0.99985247  0.99996466  1.         ...,  0.99975481  0.99998275\n",
      "   0.98296805]\n",
      " ..., \n",
      " [ 0.99975169  0.99953791  0.99975481 ...,  1.          0.99985158\n",
      "   0.98679025]\n",
      " [ 0.99982538  0.99990988  0.99998275 ...,  0.99985158  1.          0.9838677 ]\n",
      " [ 0.984179    0.98141087  0.98296805 ...,  0.98679025  0.9838677   1.        ]]\n"
     ]
    }
   ],
   "source": [
    "# This is a way to calculate your coefficients for your target and features.\n",
    "import numpy as np\n",
    "import pandas as pd\n",
    "\n",
    "#Read in Breast Cancer Dataset\n",
    "# df = pd.read_csv(\"https://archive.ics.uci.edu/ml/machine-learning-databases/breast-cancer-wisconsin/wdbc.data\", header=None)\n",
    "\n",
    "#Obtain the first 10 features, which are the mean figures in the dataset\n",
    "data_df   = df[list(df.columns[2:12])]\n",
    "target_df = df[1]\n",
    "\n",
    "#Convert DataFrame to Numpy Array\n",
    "data = data_df.as_matrix(columns=None)\n",
    "\n",
    "#Perform Pearson correlation coefficients using Numpy\n",
    "print(np.corrcoef(data))\n"
   ]
  },
  {
   "cell_type": "code",
   "execution_count": 333,
   "metadata": {
    "collapsed": false
   },
   "outputs": [
    {
     "data": {
      "text/plain": [
       "66183.78555021925"
      ]
     },
     "execution_count": 333,
     "metadata": {},
     "output_type": "execute_result"
    }
   ],
   "source": [
    "np.mean(df['salary'])"
   ]
  },
  {
   "cell_type": "code",
   "execution_count": 176,
   "metadata": {
    "collapsed": false,
    "scrolled": false
   },
   "outputs": [],
   "source": [
    "# df['summary'].unique()"
   ]
  },
  {
   "cell_type": "code",
   "execution_count": 177,
   "metadata": {
    "collapsed": false
   },
   "outputs": [],
   "source": [
    "# df.shape"
   ]
  },
  {
   "cell_type": "code",
   "execution_count": 175,
   "metadata": {
    "collapsed": false
   },
   "outputs": [
    {
     "data": {
      "text/html": [
       "<div>\n",
       "<table border=\"1\" class=\"dataframe\">\n",
       "  <thead>\n",
       "    <tr style=\"text-align: right;\">\n",
       "      <th></th>\n",
       "      <th>city</th>\n",
       "      <th>company</th>\n",
       "      <th>salary</th>\n",
       "      <th>summary</th>\n",
       "      <th>title</th>\n",
       "    </tr>\n",
       "  </thead>\n",
       "  <tbody>\n",
       "    <tr>\n",
       "      <th>0</th>\n",
       "      <td>San+Francisco</td>\n",
       "      <td>MarkMonitor</td>\n",
       "      <td>180000.0</td>\n",
       "      <td>Data skills (SQL, Hive, Pig). Applying machine...</td>\n",
       "      <td>Data Scientist</td>\n",
       "    </tr>\n",
       "    <tr>\n",
       "      <th>1</th>\n",
       "      <td>San+Francisco</td>\n",
       "      <td>Workbridge Associates</td>\n",
       "      <td>155000.0</td>\n",
       "      <td>3+ years of industry experience in a data scie...</td>\n",
       "      <td>Senior Data Scientist</td>\n",
       "    </tr>\n",
       "    <tr>\n",
       "      <th>2</th>\n",
       "      <td>San+Francisco</td>\n",
       "      <td>Mines.io</td>\n",
       "      <td>100000.0</td>\n",
       "      <td>We are looking for a data scientist/developer ...</td>\n",
       "      <td>Full-Stack Data Scientist</td>\n",
       "    </tr>\n",
       "    <tr>\n",
       "      <th>3</th>\n",
       "      <td>San+Francisco</td>\n",
       "      <td>Workbridge Associates</td>\n",
       "      <td>165000.0</td>\n",
       "      <td>In this position you will share programming an...</td>\n",
       "      <td>Data Scientist</td>\n",
       "    </tr>\n",
       "    <tr>\n",
       "      <th>4</th>\n",
       "      <td>San+Francisco</td>\n",
       "      <td>Smith Hanley Associates</td>\n",
       "      <td>140000.0</td>\n",
       "      <td>This person will recruit, build and lead a tea...</td>\n",
       "      <td>Data Scientist</td>\n",
       "    </tr>\n",
       "  </tbody>\n",
       "</table>\n",
       "</div>"
      ],
      "text/plain": [
       "            city                  company    salary  \\\n",
       "0  San+Francisco              MarkMonitor  180000.0   \n",
       "1  San+Francisco    Workbridge Associates  155000.0   \n",
       "2  San+Francisco                 Mines.io  100000.0   \n",
       "3  San+Francisco    Workbridge Associates  165000.0   \n",
       "4  San+Francisco  Smith Hanley Associates  140000.0   \n",
       "\n",
       "                                             summary  \\\n",
       "0  Data skills (SQL, Hive, Pig). Applying machine...   \n",
       "1  3+ years of industry experience in a data scie...   \n",
       "2  We are looking for a data scientist/developer ...   \n",
       "3  In this position you will share programming an...   \n",
       "4  This person will recruit, build and lead a tea...   \n",
       "\n",
       "                       title  \n",
       "0             Data Scientist  \n",
       "1      Senior Data Scientist  \n",
       "2  Full-Stack Data Scientist  \n",
       "3             Data Scientist  \n",
       "4             Data Scientist  "
      ]
     },
     "execution_count": 175,
     "metadata": {},
     "output_type": "execute_result"
    }
   ],
   "source": [
    "df.head()"
   ]
  },
  {
   "cell_type": "code",
   "execution_count": null,
   "metadata": {
    "collapsed": false
   },
   "outputs": [],
   "source": []
  },
  {
   "cell_type": "code",
   "execution_count": 154,
   "metadata": {
    "collapsed": false
   },
   "outputs": [],
   "source": []
  },
  {
   "cell_type": "markdown",
   "metadata": {
    "focus": false,
    "id": "f1eddb90-4ba8-483c-a229-77e93aa53119"
   },
   "source": [
    "### Write 4 functions to extract each item: location, company, job, and salary.\n",
    "\n",
    "example: \n",
    "```python\n",
    "def extract_location_from_result(result):\n",
    "    return result.find ...\n",
    "```\n",
    "\n",
    "\n",
    "- Make sure these functions are robust and can handle cases where the data/field may not be available.\n",
    "- Test the functions on the results above"
   ]
  },
  {
   "cell_type": "code",
   "execution_count": 2,
   "metadata": {
    "collapsed": true,
    "focus": false,
    "id": "a1af53c9-9090-494f-b82e-cadb60a54909"
   },
   "outputs": [],
   "source": [
    "## YOUR CODE HERE"
   ]
  },
  {
   "cell_type": "markdown",
   "metadata": {
    "focus": false,
    "id": "34070e89-9521-4b45-90c8-57a6599aac68"
   },
   "source": [
    "Now, to scale up our scraping, we need to accumulate more results. We can do this by examining the URL above.\n",
    "\n",
    "- \"http://www.indeed.com/jobs?q=data+scientist+%2420%2C000&l=New+York&start=10\"\n",
    "\n",
    "There are two query parameters here we can alter to collect more results, the `l=New+York` and the `start=10`. The first controls the location of the results (so we can try a different city). The second controls where in the results to start and gives 10 results (thus, we can keep incrementing by 10 to go further in the list)."
   ]
  },
  {
   "cell_type": "markdown",
   "metadata": {
    "focus": false,
    "id": "e8beed7c-3e42-40c0-810f-5f67f8f885a0"
   },
   "source": [
    "#### Complete the following code to collect results from multiple cities and starting points. \n",
    "- Enter your city below to add it to the search\n",
    "- Remember to convert your salary to U.S. Dollars to match the other cities if the currency is different"
   ]
  },
  {
   "cell_type": "code",
   "execution_count": 5,
   "metadata": {
    "collapsed": true,
    "focus": false,
    "id": "a9aa87ec-3575-4a01-a986-eb684f2c47d0"
   },
   "outputs": [],
   "source": [
    "YOUR_CITY = ''"
   ]
  },
  {
   "cell_type": "code",
   "execution_count": 6,
   "metadata": {
    "collapsed": false,
    "focus": false,
    "id": "04b0f9af-540e-402f-8292-81748707c676"
   },
   "outputs": [],
   "source": [
    "url_template = \"http://www.indeed.com/jobs?q=data+scientist+%2420%2C000&l={}&start={}\"\n",
    "max_results_per_city = 100\n",
    "\n",
    "results = []\n",
    "\n",
    "for city in set(['New+York', 'Chicago', 'San+Francisco', 'Austin', YOUR_CITY]):\n",
    "    for start in range(0, max_results_per_city, 10):\n",
    "        # Grab the results from the request (as above)\n",
    "        # Append to the full set of results\n",
    "        pass"
   ]
  },
  {
   "cell_type": "markdown",
   "metadata": {
    "focus": false,
    "id": "20339c09-5032-4e27-91be-286e9b46cd13"
   },
   "source": [
    "#### Use the functions you wrote above to parse out the 4 fields - location, title, company and salary. Create a dataframe from the results with those 4 columns."
   ]
  },
  {
   "cell_type": "code",
   "execution_count": 7,
   "metadata": {
    "collapsed": false,
    "focus": false,
    "id": "6e259594-1c52-436b-ab9e-527e071941c1"
   },
   "outputs": [],
   "source": [
    "## YOUR CODE HERE"
   ]
  },
  {
   "cell_type": "markdown",
   "metadata": {
    "focus": false,
    "id": "ff98ce64-78a7-441f-a675-63464e32c834"
   },
   "source": [
    "Lastly, we need to clean up salary data. \n",
    "1. Some of the salaries are not yearly but hourly, these will be useful to us for now\n",
    "2. The salaries are given as text and usually with ranges.\n",
    "\n",
    "#### Filter out the salaries that are not yearly (filter those that refer to hour)"
   ]
  },
  {
   "cell_type": "code",
   "execution_count": 8,
   "metadata": {
    "collapsed": false,
    "focus": false,
    "id": "58533e57-f86b-494a-b841-e7b59c6229c6"
   },
   "outputs": [],
   "source": [
    "## YOUR CODE HERE"
   ]
  },
  {
   "cell_type": "markdown",
   "metadata": {
    "focus": false,
    "id": "7d4bc860-b214-4f75-9cd0-b234830b1ec2"
   },
   "source": [
    "#### Write a function that takes a salary string and converts it to a number, averaging a salary range if necessary"
   ]
  },
  {
   "cell_type": "code",
   "execution_count": 9,
   "metadata": {
    "collapsed": true,
    "focus": false,
    "id": "a0f701e0-80bd-40ba-9101-4535860c0968"
   },
   "outputs": [],
   "source": [
    "## YOUR CODE HERE"
   ]
  },
  {
   "cell_type": "markdown",
   "metadata": {
    "collapsed": false,
    "focus": false,
    "id": "43e71edd-210e-42b1-9336-70a931f048af"
   },
   "source": [
    "### Save your results as a CSV"
   ]
  },
  {
   "cell_type": "code",
   "execution_count": 14,
   "metadata": {
    "collapsed": true,
    "focus": false,
    "id": "783fd153-28ac-47ab-bfca-27e7c1de95b4"
   },
   "outputs": [],
   "source": [
    "## YOUR CODE HERE"
   ]
  },
  {
   "cell_type": "markdown",
   "metadata": {
    "focus": false,
    "id": "04563b69-f7b6-466f-9d65-fc62c9ddee6a"
   },
   "source": [
    "## Predicting salaries using Logistic Regression"
   ]
  },
  {
   "cell_type": "markdown",
   "metadata": {
    "focus": false,
    "id": "243e949e-2742-40af-872e-fec475fd306c"
   },
   "source": [
    "#### Load in the the data of scraped salaries"
   ]
  },
  {
   "cell_type": "code",
   "execution_count": 12,
   "metadata": {
    "collapsed": false,
    "focus": false,
    "id": "588f9845-6143-4bcc-bfd1-85d45b79303d"
   },
   "outputs": [],
   "source": [
    "## YOUR CODE HERE"
   ]
  },
  {
   "cell_type": "markdown",
   "metadata": {
    "focus": false,
    "id": "c7631f51-07f2-4c79-a093-3e9bc7849a48"
   },
   "source": [
    "#### We want to predict a binary variable - whether the salary was low or high. Compute the median salary and create a new binary variable that is true when the salary is high (above the median)"
   ]
  },
  {
   "cell_type": "code",
   "execution_count": 15,
   "metadata": {
    "collapsed": true,
    "focus": false,
    "id": "c20d2498-151c-44c3-a453-3a333c79a0ac"
   },
   "outputs": [],
   "source": [
    "## YOUR CODE HERE"
   ]
  },
  {
   "cell_type": "markdown",
   "metadata": {
    "focus": false,
    "id": "a7afb2c0-d41e-4779-8216-91cd8dd4473f"
   },
   "source": [
    "#### Thought experiment: What is the baseline accuracy for this model?"
   ]
  },
  {
   "cell_type": "code",
   "execution_count": 16,
   "metadata": {
    "collapsed": true,
    "focus": false,
    "id": "87a17d3d-b7f4-4747-9f75-f9af1d18a174"
   },
   "outputs": [],
   "source": [
    "## YOUR CODE HERE"
   ]
  },
  {
   "cell_type": "markdown",
   "metadata": {
    "focus": false,
    "id": "4fb29de2-5b98-474c-a4ad-5170b72b9aea"
   },
   "source": [
    "#### Create a Logistic Regression model to predict High/Low salary using statsmodel. Start by ONLY using the location as a feature. Display the coefficients and write a short summary of what they mean."
   ]
  },
  {
   "cell_type": "code",
   "execution_count": 17,
   "metadata": {
    "collapsed": false,
    "focus": false,
    "id": "ddbc6159-6854-4ca7-857f-bfecdaf6d9c2"
   },
   "outputs": [],
   "source": [
    "## YOUR CODE HERE"
   ]
  },
  {
   "cell_type": "markdown",
   "metadata": {
    "focus": false,
    "id": "0ef04f32-419c-4bf2-baf7-48201f03df89"
   },
   "source": [
    "#### Create a few new variables in your dataframe to represent interesting features of a job title.\n",
    "- For example, create a feature that represents whether 'Senior' is in the title \n",
    "- or whether 'Manager' is in the title. \n",
    "- Then build a new Logistic Regression model with these features. Do they add any value? \n"
   ]
  },
  {
   "cell_type": "code",
   "execution_count": 18,
   "metadata": {
    "collapsed": false,
    "focus": false,
    "id": "068dc1cf-7fd7-4f27-a1f1-7f0a5a221d29"
   },
   "outputs": [],
   "source": [
    "## YOUR CODE HERE"
   ]
  },
  {
   "cell_type": "markdown",
   "metadata": {
    "focus": false,
    "id": "9c9274ef-c9f5-4d56-b286-ecc8709eff9f"
   },
   "source": [
    "#### Rebuild this model with scikit-learn.\n",
    "- You can either create the dummy features manually or use the `dmatrix` function from `patsy`\n",
    "- Remember to scale the feature variables as well!\n"
   ]
  },
  {
   "cell_type": "code",
   "execution_count": 19,
   "metadata": {
    "collapsed": false,
    "focus": false,
    "id": "b76f65cd-cd3a-4e91-af55-12880be7b057"
   },
   "outputs": [],
   "source": [
    "## YOUR CODE HERE"
   ]
  },
  {
   "cell_type": "markdown",
   "metadata": {
    "focus": false,
    "id": "9367beff-72ba-4768-a0ba-a50b335de61d"
   },
   "source": [
    "#### Use cross-validation in scikit-learn to evaluate the model above. \n",
    "- Evaluate the accuracy, AUC, precision and recall of the model. \n",
    "- Discuss the differences and explain when you want a high-recall or a high-precision model in this scenario."
   ]
  },
  {
   "cell_type": "code",
   "execution_count": 20,
   "metadata": {
    "collapsed": false,
    "focus": false,
    "id": "269b9e7c-60b5-4a06-8255-881d7395bc1b"
   },
   "outputs": [],
   "source": [
    "## YOUR CODE HERE"
   ]
  },
  {
   "cell_type": "markdown",
   "metadata": {
    "focus": false,
    "id": "8c22664b-92e4-4fc2-b7ac-fbac865845d3"
   },
   "source": [
    "#### Compare L1 and L2 regularization for this logistic regression model. What effect does this have on the coefficients learned?"
   ]
  },
  {
   "cell_type": "code",
   "execution_count": 21,
   "metadata": {
    "collapsed": false,
    "focus": false,
    "id": "172fd952-5012-4630-81f4-1206da6eb820"
   },
   "outputs": [],
   "source": [
    "## YOUR CODE HERE"
   ]
  },
  {
   "cell_type": "code",
   "execution_count": 22,
   "metadata": {
    "collapsed": false,
    "focus": false,
    "id": "56cc8854-d722-411d-a6c7-e86310710f67"
   },
   "outputs": [],
   "source": [
    "## YOUR CODE HERE"
   ]
  },
  {
   "cell_type": "markdown",
   "metadata": {
    "focus": false,
    "id": "fead9b5b-7316-405d-87fd-e144dff0cbeb"
   },
   "source": [
    "#### Continue to incorporate other text features from the title or summary that you believe will predict the salary and examine their coefficients"
   ]
  },
  {
   "cell_type": "markdown",
   "metadata": {
    "focus": false,
    "id": "12d5edeb-a272-43a0-9977-d951f12fedfb"
   },
   "source": [
    "#### Take ~100 scraped entries with salaries. Convert them to use with your model and predict the salary - which entries have the highest predicted salaries?"
   ]
  },
  {
   "cell_type": "markdown",
   "metadata": {
    "focus": false,
    "id": "3be94357-e551-4094-b784-2df039216d33"
   },
   "source": [
    "### BONUS "
   ]
  },
  {
   "cell_type": "markdown",
   "metadata": {
    "focus": false,
    "id": "db045898-1d2d-4af2-8e79-437c4c7546b4"
   },
   "source": [
    "#### Bonus: Use Count Vectorizer from scikit-learn to create features from the text summaries. \n",
    "- Examine using count or binary features in the model\n",
    "- Re-evaluate the logistic regression model using these. Does this improve the model performance? \n",
    "- What text features are the most valuable? "
   ]
  },
  {
   "cell_type": "code",
   "execution_count": 23,
   "metadata": {
    "collapsed": false,
    "focus": false,
    "id": "4239e458-28bd-4675-8db3-c1d9c02b9854"
   },
   "outputs": [],
   "source": [
    "## YOUR CODE HERE"
   ]
  },
  {
   "cell_type": "code",
   "execution_count": 24,
   "metadata": {
    "collapsed": false,
    "focus": false,
    "id": "fec80936-37bc-4922-89bd-b5d615566c9c"
   },
   "outputs": [],
   "source": [
    "## YOUR CODE HERE"
   ]
  },
  {
   "cell_type": "markdown",
   "metadata": {
    "focus": false,
    "id": "d42b9fd8-39d5-416a-b40b-7410e6396c11"
   },
   "source": [
    "#### Re-test L1 and L2 regularization. You can use LogisticRegressionCV to find the optimal reguarlization parameters. \n",
    "- Re-test what text features are most valuable.  \n",
    "- How do L1 and L2 change the coefficients?"
   ]
  },
  {
   "cell_type": "code",
   "execution_count": 25,
   "metadata": {
    "collapsed": false,
    "focus": false,
    "id": "7570e237-c8cc-4e26-b569-7aee10627e79"
   },
   "outputs": [],
   "source": [
    "## YOUR CODE HERE"
   ]
  },
  {
   "cell_type": "code",
   "execution_count": null,
   "metadata": {
    "collapsed": true
   },
   "outputs": [],
   "source": []
  },
  {
   "cell_type": "code",
   "execution_count": null,
   "metadata": {
    "collapsed": true
   },
   "outputs": [],
   "source": []
  },
  {
   "cell_type": "code",
   "execution_count": null,
   "metadata": {
    "collapsed": true
   },
   "outputs": [],
   "source": []
  },
  {
   "cell_type": "code",
   "execution_count": null,
   "metadata": {
    "collapsed": true
   },
   "outputs": [],
   "source": []
  },
  {
   "cell_type": "code",
   "execution_count": null,
   "metadata": {
    "collapsed": true
   },
   "outputs": [],
   "source": []
  },
  {
   "cell_type": "code",
   "execution_count": null,
   "metadata": {
    "collapsed": true
   },
   "outputs": [],
   "source": []
  },
  {
   "cell_type": "code",
   "execution_count": null,
   "metadata": {
    "collapsed": true
   },
   "outputs": [],
   "source": []
  },
  {
   "cell_type": "code",
   "execution_count": null,
   "metadata": {
    "collapsed": true
   },
   "outputs": [],
   "source": []
  },
  {
   "cell_type": "raw",
   "metadata": {},
   "source": [
    "This was all at the top of the project starter"
   ]
  },
  {
   "cell_type": "markdown",
   "metadata": {
    "focus": false,
    "id": "69b9a648-bcc7-490d-9f9b-ea244d156bd6"
   },
   "source": [
    "# Web Scraping for Indeed.com & Predicting Salaries"
   ]
  },
  {
   "cell_type": "markdown",
   "metadata": {
    "focus": false,
    "id": "34681254-c802-462f-829d-8894d0772d08"
   },
   "source": [
    "In this project, we will practice two major skills: collecting data by scraping a website and then building a binary predictor with Logistic Regression.\n",
    "\n",
    "We are going to collect salary information on data science jobs in a variety of markets. Then using the location, title and summary of the job we will attempt to predict the salary of the job. For job posting sites, this would be extraordinarily useful. While most listings DO NOT come with salary information (as you will see in this exercise), being to able extrapolate or predict the expected salaries from other listings can help guide negotiations.\n",
    "\n",
    "Normally, we could use regression for this task; however, we will convert this problem into classification and use Logistic Regression.\n",
    "\n",
    "- Question: Why would we want this to be a classification problem?\n",
    "- Answer: While more precision may be better, there is a fair amount of natural variance in job salaries - predicting a range be may be useful.\n",
    "\n",
    "Therefore, the first part of the assignment will be focused on scraping Indeed.com. In the second, we'll focus on using listings with salary information to build a model and predict additional salaries."
   ]
  },
  {
   "cell_type": "code",
   "execution_count": null,
   "metadata": {
    "collapsed": true,
    "focus": false,
    "id": "e3a0c83d-e3b8-4bed-b864-7e795b34a3d4"
   },
   "outputs": [],
   "source": []
  },
  {
   "cell_type": "markdown",
   "metadata": {
    "focus": true,
    "id": "7203e0c9-e437-4802-a6ad-7dc464f94436"
   },
   "source": [
    "We will be scraping job listings from Indeed.com using BeautifulSoup. Luckily, Indeed.com is a simple text page where we can easily find relevant entries.\n",
    "\n",
    "First, look at the source of an Indeed.com page: (http://www.indeed.com/jobs?q=data+scientist+%2420%2C000&l=New+York&start=10\")\n",
    "\n",
    "Notice, each job listing is underneath a `div` tag with a class name of `result`. We can use BeautifulSoup to extract those. "
   ]
  }
 ],
 "metadata": {
  "kernelspec": {
   "display_name": "Python 2",
   "language": "python",
   "name": "python2"
  },
  "language_info": {
   "codemirror_mode": {
    "name": "ipython",
    "version": 2
   },
   "file_extension": ".py",
   "mimetype": "text/x-python",
   "name": "python",
   "nbconvert_exporter": "python",
   "pygments_lexer": "ipython2",
   "version": "2.7.11"
  }
 },
 "nbformat": 4,
 "nbformat_minor": 0
}
